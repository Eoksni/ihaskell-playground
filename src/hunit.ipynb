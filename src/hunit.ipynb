{
 "cells": [
  {
   "cell_type": "code",
   "execution_count": 17,
   "metadata": {},
   "outputs": [],
   "source": [
    "import Test.HUnit\n",
    "\n",
    "(~~) x y = runTestTT $ x ~=? y\n",
    "assert = (~~)"
   ]
  },
  {
   "cell_type": "code",
   "execution_count": 14,
   "metadata": {},
   "outputs": [
    {
     "data": {
      "text/plain": [
       "\r",
       "Cases: 1  Tried: 0  Errors: 0  Failures: 0\r",
       "                                          \r",
       "### Failure:\n",
       "<interactive>:1\n",
       "expected: (1,2)\n",
       " but got: (2,3)\n",
       "Cases: 1  Tried: 1  Errors: 0  Failures: 1\n",
       "Counts {cases = 1, tried = 1, errors = 0, failures = 1}"
      ]
     },
     "metadata": {},
     "output_type": "display_data"
    }
   ],
   "source": [
    "(1,2) ~~ (2,3)"
   ]
  },
  {
   "cell_type": "code",
   "execution_count": 24,
   "metadata": {},
   "outputs": [
    {
     "data": {
      "text/plain": [
       "\r",
       "Cases: 1  Tried: 0  Errors: 0  Failures: 0\r",
       "                                          \r",
       "### Failure:\n",
       "<interactive>:1\n",
       "expected: (1,2)\n",
       " but got: (2,3)\n",
       "Cases: 1  Tried: 1  Errors: 0  Failures: 1\n",
       "Counts {cases = 1, tried = 1, errors = 0, failures = 1}"
      ]
     },
     "metadata": {},
     "output_type": "display_data"
    }
   ],
   "source": [
    "assert\n",
    "    (1,2)\n",
    "    (2,3)"
   ]
  },
  {
   "cell_type": "code",
   "execution_count": 23,
   "metadata": {},
   "outputs": [
    {
     "data": {
      "text/plain": [
       "\r",
       "Cases: 1  Tried: 0  Errors: 0  Failures: 0\r",
       "                                          \r",
       "Cases: 1  Tried: 1  Errors: 0  Failures: 0\n",
       "Counts {cases = 1, tried = 1, errors = 0, failures = 0}"
      ]
     },
     "metadata": {},
     "output_type": "display_data"
    }
   ],
   "source": [
    "2 ~~ 2"
   ]
  }
 ],
 "metadata": {
  "kernelspec": {
   "display_name": "Haskell",
   "language": "haskell",
   "name": "haskell"
  },
  "language_info": {
   "codemirror_mode": "ihaskell",
   "file_extension": ".hs",
   "name": "haskell",
   "pygments_lexer": "Haskell",
   "version": "8.6.5"
  }
 },
 "nbformat": 4,
 "nbformat_minor": 4
}

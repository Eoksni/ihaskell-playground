{
 "cells": [
  {
   "cell_type": "markdown",
   "metadata": {},
   "source": [
    "# Chapter 21: Traversable"
   ]
  },
  {
   "cell_type": "markdown",
   "metadata": {},
   "source": [
    "## Traversable instances"
   ]
  },
  {
   "cell_type": "code",
   "execution_count": 1,
   "metadata": {},
   "outputs": [
    {
     "data": {},
     "metadata": {},
     "output_type": "display_data"
    },
    {
     "data": {
      "text/html": [
       "<div style='background: rgb(247, 247, 247);'><form><textarea id='code'>class Foldable (t :: * -> *) where\n",
       "  Data.Foldable.fold :: Monoid m => t m -> m\n",
       "  foldMap :: Monoid m => (a -> m) -> t a -> m\n",
       "  foldr :: (a -> b -> b) -> b -> t a -> b\n",
       "  Data.Foldable.foldr' :: (a -> b -> b) -> b -> t a -> b\n",
       "  foldl :: (b -> a -> b) -> b -> t a -> b\n",
       "  Data.Foldable.foldl' :: (b -> a -> b) -> b -> t a -> b\n",
       "  foldr1 :: (a -> a -> a) -> t a -> a\n",
       "  foldl1 :: (a -> a -> a) -> t a -> a\n",
       "  Data.Foldable.toList :: t a -> [a]\n",
       "  null :: t a -> Bool\n",
       "  length :: t a -> Int\n",
       "  elem :: Eq a => a -> t a -> Bool\n",
       "  maximum :: Ord a => t a -> a\n",
       "  minimum :: Ord a => t a -> a\n",
       "  sum :: Num a => t a -> a\n",
       "  product :: Num a => t a -> a\n",
       "  {-# MINIMAL foldMap | foldr #-}\n",
       "  \t-- Defined in ‘Data.Foldable’\n",
       "instance Foldable [] -- Defined in ‘Data.Foldable’\n",
       "instance Foldable Maybe -- Defined in ‘Data.Foldable’\n",
       "instance Foldable (Either a) -- Defined in ‘Data.Foldable’\n",
       "instance Foldable ((,) a) -- Defined in ‘Data.Foldable’\n",
       "</textarea></form></div><script>CodeMirror.fromTextArea(document.getElementById('code'), {mode: 'haskell', readOnly: 'nocursor'});</script>"
      ],
      "text/plain": [
       "class Foldable (t :: * -> *) where\n",
       "  Data.Foldable.fold :: Monoid m => t m -> m\n",
       "  foldMap :: Monoid m => (a -> m) -> t a -> m\n",
       "  foldr :: (a -> b -> b) -> b -> t a -> b\n",
       "  Data.Foldable.foldr' :: (a -> b -> b) -> b -> t a -> b\n",
       "  foldl :: (b -> a -> b) -> b -> t a -> b\n",
       "  Data.Foldable.foldl' :: (b -> a -> b) -> b -> t a -> b\n",
       "  foldr1 :: (a -> a -> a) -> t a -> a\n",
       "  foldl1 :: (a -> a -> a) -> t a -> a\n",
       "  Data.Foldable.toList :: t a -> [a]\n",
       "  null :: t a -> Bool\n",
       "  length :: t a -> Int\n",
       "  elem :: Eq a => a -> t a -> Bool\n",
       "  maximum :: Ord a => t a -> a\n",
       "  minimum :: Ord a => t a -> a\n",
       "  sum :: Num a => t a -> a\n",
       "  product :: Num a => t a -> a\n",
       "  {-# MINIMAL foldMap | foldr #-}\n",
       "  \t-- Defined in ‘Data.Foldable’\n",
       "instance Foldable [] -- Defined in ‘Data.Foldable’\n",
       "instance Foldable Maybe -- Defined in ‘Data.Foldable’\n",
       "instance Foldable (Either a) -- Defined in ‘Data.Foldable’\n",
       "instance Foldable ((,) a) -- Defined in ‘Data.Foldable’"
      ]
     },
     "metadata": {},
     "output_type": "display_data"
    }
   ],
   "source": [
    ":info Foldable"
   ]
  },
  {
   "cell_type": "code",
   "execution_count": 2,
   "metadata": {},
   "outputs": [
    {
     "data": {},
     "metadata": {},
     "output_type": "display_data"
    },
    {
     "data": {
      "text/html": [
       "<div style='background: rgb(247, 247, 247);'><form><textarea id='code'>class (Functor t, Foldable t) => Traversable (t :: * -> *) where\n",
       "  traverse :: Applicative f => (a -> f b) -> t a -> f (t b)\n",
       "  sequenceA :: Applicative f => t (f a) -> f (t a)\n",
       "  mapM :: Monad m => (a -> m b) -> t a -> m (t b)\n",
       "  sequence :: Monad m => t (m a) -> m (t a)\n",
       "  {-# MINIMAL traverse | sequenceA #-}\n",
       "  \t-- Defined in ‘Data.Traversable’\n",
       "instance Traversable [] -- Defined in ‘Data.Traversable’\n",
       "instance Traversable Maybe -- Defined in ‘Data.Traversable’\n",
       "instance Traversable (Either a) -- Defined in ‘Data.Traversable’\n",
       "instance Traversable ((,) a) -- Defined in ‘Data.Traversable’\n",
       "</textarea></form></div><script>CodeMirror.fromTextArea(document.getElementById('code'), {mode: 'haskell', readOnly: 'nocursor'});</script>"
      ],
      "text/plain": [
       "class (Functor t, Foldable t) => Traversable (t :: * -> *) where\n",
       "  traverse :: Applicative f => (a -> f b) -> t a -> f (t b)\n",
       "  sequenceA :: Applicative f => t (f a) -> f (t a)\n",
       "  mapM :: Monad m => (a -> m b) -> t a -> m (t b)\n",
       "  sequence :: Monad m => t (m a) -> m (t a)\n",
       "  {-# MINIMAL traverse | sequenceA #-}\n",
       "  \t-- Defined in ‘Data.Traversable’\n",
       "instance Traversable [] -- Defined in ‘Data.Traversable’\n",
       "instance Traversable Maybe -- Defined in ‘Data.Traversable’\n",
       "instance Traversable (Either a) -- Defined in ‘Data.Traversable’\n",
       "instance Traversable ((,) a) -- Defined in ‘Data.Traversable’"
      ]
     },
     "metadata": {},
     "output_type": "display_data"
    }
   ],
   "source": [
    ":info Traversable"
   ]
  },
  {
   "cell_type": "code",
   "execution_count": 3,
   "metadata": {},
   "outputs": [],
   "source": [
    "newtype Identity a = Identity a deriving (Eq, Ord, Show)\n",
    "\n",
    "instance Functor Identity where\n",
    "    fmap f (Identity a) = Identity (f a)\n",
    "\n",
    "instance Foldable Identity where\n",
    "    foldr ab2b b0 (Identity a) = ab2b a b0\n",
    "\n",
    "instance Traversable Identity where\n",
    "    traverse f (Identity a) = Identity <$> f a"
   ]
  },
  {
   "cell_type": "code",
   "execution_count": 4,
   "metadata": {},
   "outputs": [],
   "source": [
    "newtype Constant a b = Constant { getConstant :: a }\n",
    "\n",
    "instance Functor (Constant a) where\n",
    "    fmap _ (Constant a) = Constant a\n",
    "    \n",
    "instance Foldable (Constant a) where\n",
    "    foldr _ c0 _ = c0\n",
    "    \n",
    "instance Traversable (Constant a) where\n",
    "    traverse _ (Constant a) = pure (Constant a)"
   ]
  },
  {
   "cell_type": "code",
   "execution_count": 5,
   "metadata": {},
   "outputs": [],
   "source": [
    "data Optional a\n",
    "    = Nada\n",
    "    | Yep a\n",
    "    \n",
    "instance Functor Optional where\n",
    "    fmap _ Nada = Nada\n",
    "    fmap a2b (Yep a) = Yep $ a2b a\n",
    "    \n",
    "instance Foldable Optional where\n",
    "    foldr _ b0 Nada = b0\n",
    "    foldr ab2b b0 (Yep a) = ab2b a b0\n",
    "    \n",
    "instance Traversable Optional where\n",
    "    traverse _ Nada = pure Nada\n",
    "    traverse f (Yep a) = Yep <$> f a"
   ]
  },
  {
   "cell_type": "code",
   "execution_count": 6,
   "metadata": {},
   "outputs": [],
   "source": [
    "import Control.Applicative (liftA2)\n",
    "\n",
    "data List a\n",
    "    = Nil\n",
    "    | Cons a (List a)\n",
    "    \n",
    "instance Functor List where\n",
    "    fmap _ Nil = Nil\n",
    "    fmap f (Cons a as) = Cons (f a) (fmap f as)\n",
    "    \n",
    "instance Foldable List where\n",
    "    foldr _ b0 Nil = b0\n",
    "    foldr ab2b b0 (Cons a as) = ab2b a (foldr ab2b b0 as)\n",
    "    \n",
    "instance Traversable List where\n",
    "    traverse _ Nil = pure Nil\n",
    "    traverse f (Cons a as) = liftA2 Cons fa fas where\n",
    "        fa = f a\n",
    "        fas = traverse f as"
   ]
  },
  {
   "cell_type": "code",
   "execution_count": 7,
   "metadata": {},
   "outputs": [],
   "source": [
    "data Three a b c = Three a b c\n",
    "\n",
    "instance Functor (Three a b) where\n",
    "    fmap c2d (Three a b c) = Three a b (c2d c)\n",
    "    \n",
    "instance Foldable (Three a b) where\n",
    "    foldr cd2d d0 (Three _ _ c) = cd2d c d0\n",
    "    \n",
    "instance Traversable (Three a b) where\n",
    "    traverse f (Three a b c) = Three a b <$> f c"
   ]
  },
  {
   "cell_type": "code",
   "execution_count": 8,
   "metadata": {},
   "outputs": [],
   "source": [
    "data Three' a b = Three' a b b\n",
    "\n",
    "instance Functor (Three' a) where\n",
    "    fmap b2c (Three' a b1 b2) = Three' a (b2c b1) (b2c b2)\n",
    "    \n",
    "instance Foldable (Three' a) where\n",
    "    foldr bc2c c0 (Three' _ b1 b2) = bc2c b2 . bc2c b1 $ c0\n",
    "\n",
    "instance Traversable (Three' a) where\n",
    "    traverse f (Three' a b1 b2) = liftA2 (Three' a) (f b1) (f b2)"
   ]
  },
  {
   "cell_type": "code",
   "execution_count": 9,
   "metadata": {},
   "outputs": [],
   "source": [
    "data S n a = S (n a) a\n",
    "\n",
    "instance Functor n => Functor (S n) where\n",
    "    fmap f (S na a) = S (f <$> na) (f a)\n",
    "    \n",
    "instance Foldable n => Foldable (S n) where\n",
    "    foldr ab2b b0 (S na a) = foldr ab2b (ab2b a b0) na\n",
    "    \n",
    "instance Traversable n => Traversable (S n) where\n",
    "    traverse f (S na a) = liftA2 S (traverse f na) (f a)"
   ]
  },
  {
   "cell_type": "markdown",
   "metadata": {},
   "source": [
    "## Instances for Tree"
   ]
  },
  {
   "cell_type": "code",
   "execution_count": 10,
   "metadata": {},
   "outputs": [],
   "source": [
    "import Control.Applicative (liftA3)\n",
    "\n",
    "data Tree a\n",
    "    = Empty\n",
    "    | Leaf a\n",
    "    | Node (Tree a) a (Tree a)\n",
    "    deriving (Eq, Show)\n",
    "    \n",
    "instance Functor Tree where\n",
    "    fmap _ Empty = Empty\n",
    "    fmap a2b (Leaf a) = Leaf $ a2b a\n",
    "    fmap a2b (Node t1 a t2) = Node (fmap a2b t1) (a2b a) (fmap a2b t2)\n",
    "    \n",
    "instance Foldable Tree where\n",
    "    foldMap _ Empty = mempty\n",
    "    foldMap a2m (Leaf a) = a2m a\n",
    "    foldMap a2m (Node t1 a t2) = foldMap a2m t1 <> a2m a <> foldMap a2m t2\n",
    "    \n",
    "instance Traversable Tree where\n",
    "    traverse _ Empty = pure Empty\n",
    "    traverse f (Leaf a) = Leaf <$> f a\n",
    "    traverse f (Node t1 a t2) = liftA3 Node (traverse f t1) (f a) (traverse f t2)"
   ]
  }
 ],
 "metadata": {
  "kernelspec": {
   "display_name": "Haskell",
   "language": "haskell",
   "name": "haskell"
  },
  "language_info": {
   "codemirror_mode": "ihaskell",
   "file_extension": ".hs",
   "name": "haskell",
   "pygments_lexer": "Haskell",
   "version": "8.6.5"
  }
 },
 "nbformat": 4,
 "nbformat_minor": 4
}

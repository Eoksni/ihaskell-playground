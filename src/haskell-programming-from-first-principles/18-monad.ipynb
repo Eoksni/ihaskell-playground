{
 "cells": [
  {
   "cell_type": "markdown",
   "metadata": {},
   "source": [
    "# Chapter 18: Monad"
   ]
  },
  {
   "cell_type": "markdown",
   "metadata": {},
   "source": [
    "## Write `Monad` instances for the following types"
   ]
  },
  {
   "cell_type": "code",
   "execution_count": 3,
   "metadata": {},
   "outputs": [
    {
     "data": {},
     "metadata": {},
     "output_type": "display_data"
    },
    {
     "data": {
      "text/html": [
       "<div style='background: rgb(247, 247, 247);'><form><textarea id='code'>class Applicative m => Monad (m :: * -> *) where\n",
       "  (>>=) :: m a -> (a -> m b) -> m b\n",
       "  (>>) :: m a -> m b -> m b\n",
       "  return :: a -> m a\n",
       "  fail :: String -> m a\n",
       "  {-# MINIMAL (>>=) #-}\n",
       "  \t-- Defined in ‘GHC.Base’\n",
       "instance Monad IHaskellTH.Q -- Defined in ‘Language.Haskell.TH.Syntax’\n",
       "instance Monad (Either e) -- Defined in ‘Data.Either’\n",
       "instance Monad [] -- Defined in ‘GHC.Base’\n",
       "instance Monad Maybe -- Defined in ‘GHC.Base’\n",
       "instance Monad IO -- Defined in ‘GHC.Base’\n",
       "instance Monad ((->) r) -- Defined in ‘GHC.Base’\n",
       "instance Monoid a => Monad ((,) a) -- Defined in ‘GHC.Base’\n",
       "</textarea></form></div><script>CodeMirror.fromTextArea(document.getElementById('code'), {mode: 'haskell', readOnly: 'nocursor'});</script>"
      ],
      "text/plain": [
       "class Applicative m => Monad (m :: * -> *) where\n",
       "  (>>=) :: m a -> (a -> m b) -> m b\n",
       "  (>>) :: m a -> m b -> m b\n",
       "  return :: a -> m a\n",
       "  fail :: String -> m a\n",
       "  {-# MINIMAL (>>=) #-}\n",
       "  \t-- Defined in ‘GHC.Base’\n",
       "instance Monad IHaskellTH.Q -- Defined in ‘Language.Haskell.TH.Syntax’\n",
       "instance Monad (Either e) -- Defined in ‘Data.Either’\n",
       "instance Monad [] -- Defined in ‘GHC.Base’\n",
       "instance Monad Maybe -- Defined in ‘GHC.Base’\n",
       "instance Monad IO -- Defined in ‘GHC.Base’\n",
       "instance Monad ((->) r) -- Defined in ‘GHC.Base’\n",
       "instance Monoid a => Monad ((,) a) -- Defined in ‘GHC.Base’"
      ]
     },
     "metadata": {},
     "output_type": "display_data"
    }
   ],
   "source": [
    ":info Monad"
   ]
  },
  {
   "cell_type": "code",
   "execution_count": 4,
   "metadata": {},
   "outputs": [
    {
     "data": {},
     "metadata": {},
     "output_type": "display_data"
    },
    {
     "data": {
      "text/html": [
       "<div style='background: rgb(247, 247, 247);'><form><textarea id='code'>class Functor f => Applicative (f :: * -> *) where\n",
       "  pure :: a -> f a\n",
       "  (<*>) :: f (a -> b) -> f a -> f b\n",
       "  GHC.Base.liftA2 :: (a -> b -> c) -> f a -> f b -> f c\n",
       "  (*>) :: f a -> f b -> f b\n",
       "  (<*) :: f a -> f b -> f a\n",
       "  {-# MINIMAL pure, ((<*>) | liftA2) #-}\n",
       "  \t-- Defined in ‘GHC.Base’\n",
       "instance Applicative IHaskellTH.Q -- Defined in ‘Language.Haskell.TH.Syntax’\n",
       "instance Applicative (Either e) -- Defined in ‘Data.Either’\n",
       "instance Applicative [] -- Defined in ‘GHC.Base’\n",
       "instance Applicative Maybe -- Defined in ‘GHC.Base’\n",
       "instance Applicative IO -- Defined in ‘GHC.Base’\n",
       "instance Applicative ((->) a) -- Defined in ‘GHC.Base’\n",
       "instance Monoid a => Applicative ((,) a) -- Defined in ‘GHC.Base’\n",
       "</textarea></form></div><script>CodeMirror.fromTextArea(document.getElementById('code'), {mode: 'haskell', readOnly: 'nocursor'});</script>"
      ],
      "text/plain": [
       "class Functor f => Applicative (f :: * -> *) where\n",
       "  pure :: a -> f a\n",
       "  (<*>) :: f (a -> b) -> f a -> f b\n",
       "  GHC.Base.liftA2 :: (a -> b -> c) -> f a -> f b -> f c\n",
       "  (*>) :: f a -> f b -> f b\n",
       "  (<*) :: f a -> f b -> f a\n",
       "  {-# MINIMAL pure, ((<*>) | liftA2) #-}\n",
       "  \t-- Defined in ‘GHC.Base’\n",
       "instance Applicative IHaskellTH.Q -- Defined in ‘Language.Haskell.TH.Syntax’\n",
       "instance Applicative (Either e) -- Defined in ‘Data.Either’\n",
       "instance Applicative [] -- Defined in ‘GHC.Base’\n",
       "instance Applicative Maybe -- Defined in ‘GHC.Base’\n",
       "instance Applicative IO -- Defined in ‘GHC.Base’\n",
       "instance Applicative ((->) a) -- Defined in ‘GHC.Base’\n",
       "instance Monoid a => Applicative ((,) a) -- Defined in ‘GHC.Base’"
      ]
     },
     "metadata": {},
     "output_type": "display_data"
    }
   ],
   "source": [
    ":info Applicative"
   ]
  },
  {
   "cell_type": "code",
   "execution_count": 5,
   "metadata": {},
   "outputs": [
    {
     "data": {},
     "metadata": {},
     "output_type": "display_data"
    },
    {
     "data": {
      "text/html": [
       "<div style='background: rgb(247, 247, 247);'><form><textarea id='code'>class Functor (f :: * -> *) where\n",
       "  fmap :: (a -> b) -> f a -> f b\n",
       "  (<$) :: a -> f b -> f a\n",
       "  {-# MINIMAL fmap #-}\n",
       "  \t-- Defined in ‘GHC.Base’\n",
       "instance Functor IHaskellTH.Q -- Defined in ‘Language.Haskell.TH.Syntax’\n",
       "instance Functor (Either a) -- Defined in ‘Data.Either’\n",
       "instance Functor [] -- Defined in ‘GHC.Base’\n",
       "instance Functor Maybe -- Defined in ‘GHC.Base’\n",
       "instance Functor IO -- Defined in ‘GHC.Base’\n",
       "instance Functor ((->) r) -- Defined in ‘GHC.Base’\n",
       "instance Functor ((,) a) -- Defined in ‘GHC.Base’\n",
       "</textarea></form></div><script>CodeMirror.fromTextArea(document.getElementById('code'), {mode: 'haskell', readOnly: 'nocursor'});</script>"
      ],
      "text/plain": [
       "class Functor (f :: * -> *) where\n",
       "  fmap :: (a -> b) -> f a -> f b\n",
       "  (<$) :: a -> f b -> f a\n",
       "  {-# MINIMAL fmap #-}\n",
       "  \t-- Defined in ‘GHC.Base’\n",
       "instance Functor IHaskellTH.Q -- Defined in ‘Language.Haskell.TH.Syntax’\n",
       "instance Functor (Either a) -- Defined in ‘Data.Either’\n",
       "instance Functor [] -- Defined in ‘GHC.Base’\n",
       "instance Functor Maybe -- Defined in ‘GHC.Base’\n",
       "instance Functor IO -- Defined in ‘GHC.Base’\n",
       "instance Functor ((->) r) -- Defined in ‘GHC.Base’\n",
       "instance Functor ((,) a) -- Defined in ‘GHC.Base’"
      ]
     },
     "metadata": {},
     "output_type": "display_data"
    }
   ],
   "source": [
    ":info Functor"
   ]
  },
  {
   "cell_type": "code",
   "execution_count": 8,
   "metadata": {},
   "outputs": [],
   "source": [
    "data Nope a = NopeDotJpg\n",
    "\n",
    "instance Functor Nope where\n",
    "    fmap f _ = NopeDotJpg\n",
    "\n",
    "instance Applicative Nope where\n",
    "    pure _ = NopeDotJpg\n",
    "\n",
    "instance Monad Nope where\n",
    "    NopeDotJpg >>= f = NopeDotJpg"
   ]
  },
  {
   "cell_type": "code",
   "execution_count": 13,
   "metadata": {},
   "outputs": [],
   "source": [
    "data PhhhbbtttEither b a\n",
    "    = Left a\n",
    "    | Right b\n",
    "    \n",
    "instance Functor (PhhhbbtttEither b) where\n",
    "    fmap a2a' (Left a) = Left (a2a' a)\n",
    "    fmap _ (Right b) = Right b\n",
    "    \n",
    "instance Applicative (PhhhbbtttEither b) where\n",
    "    pure = Left\n",
    "    \n",
    "instance Monad (PhhhbbtttEither b) where\n",
    "    (Right x) >>= _ = Right x\n",
    "    (Left x) >>= f = f x"
   ]
  },
  {
   "cell_type": "code",
   "execution_count": 14,
   "metadata": {},
   "outputs": [],
   "source": [
    "newtype Identity a = Identity a deriving (Eq, Ord, Show)\n",
    "\n",
    "instance Functor Identity where\n",
    "    fmap f (Identity x) = Identity (f x)\n",
    "    \n",
    "instance Applicative Identity where\n",
    "    pure = Identity\n",
    "    \n",
    "instance Monad Identity where\n",
    "    (Identity x) >>= f = f x"
   ]
  },
  {
   "cell_type": "code",
   "execution_count": 20,
   "metadata": {},
   "outputs": [],
   "source": [
    "data List a\n",
    "    = Nil\n",
    "    | Cons a (List a)\n",
    "    \n",
    "instance Functor List where\n",
    "    fmap f Nil = Nil\n",
    "    fmap f (Cons x xs) = Cons (f x) (fmap f xs)\n",
    "    \n",
    "instance Applicative List where\n",
    "    pure x = Cons x Nil\n",
    "    \n",
    "instance Monad List where\n",
    "    Nil >>= _ = Nil\n",
    "    a@(Cons x xs) >>= f = accumulate . fmap f $ a where\n",
    "        accumulate Nil = Nil\n",
    "        accumulate (Cons Nil xs) = accumulate xs\n",
    "        accumulate (Cons (Cons xx xxs) xs) = Cons xx (accumulate (Cons xxs xs))"
   ]
  },
  {
   "cell_type": "markdown",
   "metadata": {},
   "source": [
    "## Write the following functions using the methods provided by Monad and Functor"
   ]
  },
  {
   "cell_type": "code",
   "execution_count": 23,
   "metadata": {},
   "outputs": [],
   "source": [
    "j :: Monad m => m (m a) -> m a\n",
    "j = (>>= id)"
   ]
  },
  {
   "cell_type": "code",
   "execution_count": 25,
   "metadata": {},
   "outputs": [
    {
     "data": {
      "text/plain": [
       "[1,2,3]"
      ]
     },
     "metadata": {},
     "output_type": "display_data"
    }
   ],
   "source": [
    "j [[1, 2], [], [3]]"
   ]
  },
  {
   "cell_type": "code",
   "execution_count": 26,
   "metadata": {},
   "outputs": [
    {
     "data": {
      "text/plain": [
       "Just 1"
      ]
     },
     "metadata": {},
     "output_type": "display_data"
    }
   ],
   "source": [
    "j (Just (Just 1))"
   ]
  },
  {
   "cell_type": "code",
   "execution_count": 27,
   "metadata": {},
   "outputs": [
    {
     "data": {
      "text/plain": [
       "Nothing"
      ]
     },
     "metadata": {},
     "output_type": "display_data"
    }
   ],
   "source": [
    "j (Just Nothing)"
   ]
  },
  {
   "cell_type": "code",
   "execution_count": 29,
   "metadata": {},
   "outputs": [
    {
     "data": {
      "text/plain": [
       "Nothing"
      ]
     },
     "metadata": {},
     "output_type": "display_data"
    }
   ],
   "source": [
    "j Nothing"
   ]
  },
  {
   "cell_type": "code",
   "execution_count": 31,
   "metadata": {},
   "outputs": [],
   "source": [
    "l1 :: Monad m => (a -> b) -> m a -> m b\n",
    "l1 = fmap"
   ]
  },
  {
   "cell_type": "code",
   "execution_count": 52,
   "metadata": {},
   "outputs": [],
   "source": [
    "l2 :: Monad m => (a -> b -> c) -> m a -> m b -> m c\n",
    "l2 f x y = goal where\n",
    "    f' = fmap (fmap . f)\n",
    "    goal = f' x >>= ($ y)"
   ]
  },
  {
   "cell_type": "code",
   "execution_count": 55,
   "metadata": {},
   "outputs": [],
   "source": [
    "a :: Monad m => m a -> m (a -> b) -> m b\n",
    "a x f = f >>= (<$> x)"
   ]
  },
  {
   "cell_type": "code",
   "execution_count": 58,
   "metadata": {},
   "outputs": [],
   "source": [
    "meh :: Monad m => [a] -> (a -> m b) -> m [b]\n",
    "meh [] _ = pure []\n",
    "meh (x:xs) f = goal where\n",
    "    x' = f x\n",
    "    glue = l2 (:)\n",
    "    goal = glue x' (meh xs f)    "
   ]
  },
  {
   "cell_type": "code",
   "execution_count": 59,
   "metadata": {},
   "outputs": [],
   "source": [
    "flipType :: Monad m => [m a] -> m [a]\n",
    "flipType xs = meh xs id"
   ]
  }
 ],
 "metadata": {
  "kernelspec": {
   "display_name": "Haskell",
   "language": "haskell",
   "name": "haskell"
  },
  "language_info": {
   "codemirror_mode": "ihaskell",
   "file_extension": ".hs",
   "name": "haskell",
   "pygments_lexer": "Haskell",
   "version": "8.6.5"
  }
 },
 "nbformat": 4,
 "nbformat_minor": 4
}

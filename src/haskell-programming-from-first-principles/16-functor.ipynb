{
 "cells": [
  {
   "cell_type": "markdown",
   "metadata": {},
   "source": [
    "# Chapter 16: Functor"
   ]
  },
  {
   "cell_type": "code",
   "execution_count": 1,
   "metadata": {},
   "outputs": [
    {
     "data": {},
     "metadata": {},
     "output_type": "display_data"
    },
    {
     "data": {
      "text/html": [
       "<div style='background: rgb(247, 247, 247);'><form><textarea id='code'>class Functor (f :: * -> *) where\n",
       "  fmap :: (a -> b) -> f a -> f b\n",
       "  (<$) :: a -> f b -> f a\n",
       "  {-# MINIMAL fmap #-}\n",
       "  \t-- Defined in ‘GHC.Base’\n",
       "instance Functor (Either a) -- Defined in ‘Data.Either’\n",
       "instance Functor [] -- Defined in ‘GHC.Base’\n",
       "instance Functor Maybe -- Defined in ‘GHC.Base’\n",
       "instance Functor IO -- Defined in ‘GHC.Base’\n",
       "instance Functor ((->) r) -- Defined in ‘GHC.Base’\n",
       "instance Functor ((,) a) -- Defined in ‘GHC.Base’\n",
       "</textarea></form></div><script>CodeMirror.fromTextArea(document.getElementById('code'), {mode: 'haskell', readOnly: 'nocursor'});</script>"
      ],
      "text/plain": [
       "class Functor (f :: * -> *) where\n",
       "  fmap :: (a -> b) -> f a -> f b\n",
       "  (<$) :: a -> f b -> f a\n",
       "  {-# MINIMAL fmap #-}\n",
       "  \t-- Defined in ‘GHC.Base’\n",
       "instance Functor (Either a) -- Defined in ‘Data.Either’\n",
       "instance Functor [] -- Defined in ‘GHC.Base’\n",
       "instance Functor Maybe -- Defined in ‘GHC.Base’\n",
       "instance Functor IO -- Defined in ‘GHC.Base’\n",
       "instance Functor ((->) r) -- Defined in ‘GHC.Base’\n",
       "instance Functor ((,) a) -- Defined in ‘GHC.Base’"
      ]
     },
     "metadata": {},
     "output_type": "display_data"
    }
   ],
   "source": [
    ":info Functor"
   ]
  },
  {
   "cell_type": "code",
   "execution_count": 2,
   "metadata": {},
   "outputs": [],
   "source": [
    "data Bool = False | True\n",
    "-- no functor because it must have kind * -> *"
   ]
  },
  {
   "cell_type": "code",
   "execution_count": 3,
   "metadata": {},
   "outputs": [],
   "source": [
    "data BoolAndSomethingElse a = False' a | True' a\n",
    "\n",
    "instance Functor BoolAndSomethingElse where\n",
    "    fmap f (False' a) = False' (f a)\n",
    "    fmap f (True' a) = True' (f a)"
   ]
  },
  {
   "cell_type": "code",
   "execution_count": 4,
   "metadata": {},
   "outputs": [],
   "source": [
    "data BoolAndMaybeSomethingElse a = Falsish | Truish a\n",
    "\n",
    "instance Functor BoolAndMaybeSomethingElse where\n",
    "    fmap f Falsish = Falsish\n",
    "    fmap f (Truish a) = Truish (f a)"
   ]
  },
  {
   "cell_type": "code",
   "execution_count": 5,
   "metadata": {},
   "outputs": [],
   "source": [
    "newtype Mu f = InF { outF :: f (Mu f) }\n",
    "\n",
    "-- no functor because fmap needs a function which transforms Functor argument\n",
    "-- but here Functor argument (f) is a type constructor\n",
    "-- we cannot have a function that accepts type constructor as an argument\n",
    "-- and returns another type constructor"
   ]
  },
  {
   "cell_type": "code",
   "execution_count": 6,
   "metadata": {},
   "outputs": [],
   "source": [
    "import GHC.Arr\n",
    "\n",
    "data D = D (Array Word Word) Int Int\n",
    "\n",
    "-- no functor because D is a concrete type"
   ]
  },
  {
   "cell_type": "code",
   "execution_count": 7,
   "metadata": {},
   "outputs": [],
   "source": [
    "data Sum b a\n",
    "    = First a\n",
    "    | Second b\n",
    "    \n",
    "instance Functor (Sum e) where\n",
    "    fmap f (First a) = First (f a)\n",
    "    fmap f (Second b) = Second b"
   ]
  },
  {
   "cell_type": "code",
   "execution_count": 8,
   "metadata": {},
   "outputs": [],
   "source": [
    "data Company a c b\n",
    "    = DeepBlue a c\n",
    "    | Something b\n",
    "    \n",
    "instance Functor (Company e e') where\n",
    "    fmap f (Something b) = Something (f b)\n",
    "    fmap _ (DeepBlue a c) = DeepBlue a c"
   ]
  },
  {
   "cell_type": "code",
   "execution_count": 9,
   "metadata": {},
   "outputs": [
    {
     "data": {
      "text/plain": [
       "L 2 2 4"
      ]
     },
     "metadata": {},
     "output_type": "display_data"
    },
    {
     "data": {
      "text/plain": [
       "R 1 3 3"
      ]
     },
     "metadata": {},
     "output_type": "display_data"
    }
   ],
   "source": [
    "data More b a\n",
    "    = L a b a\n",
    "    | R b a b\n",
    "    deriving (Eq, Show)\n",
    "    \n",
    "instance Functor (More x) where\n",
    "    fmap f (L a b a') = L (f a) b (f a')\n",
    "    fmap f (R b a b') = R b (f a) b'\n",
    "    \n",
    "fmap (+1) (L 1 2 3)\n",
    "fmap (+1) (R 1 2 3)"
   ]
  },
  {
   "cell_type": "code",
   "execution_count": 10,
   "metadata": {},
   "outputs": [],
   "source": [
    "data Quant a b\n",
    "    = Finance\n",
    "    | Desk a\n",
    "    | Bloor b\n",
    "    \n",
    "instance Functor (Quant a) where\n",
    "    fmap _ (Desk a) = Desk a\n",
    "    fmap f (Bloor b) = Bloor (f b)"
   ]
  },
  {
   "cell_type": "code",
   "execution_count": 11,
   "metadata": {},
   "outputs": [],
   "source": [
    "newtype K a b = K a\n",
    "\n",
    "instance Functor (K a) where\n",
    "    fmap f (K a) = K a"
   ]
  },
  {
   "cell_type": "code",
   "execution_count": 12,
   "metadata": {},
   "outputs": [],
   "source": [
    "{-# LANGUAGE FlexibleInstances #-}\n",
    "\n",
    "newtype Flip f a b = Flip (f b a) deriving (Eq, Show)\n",
    "\n",
    "instance Functor (Flip K a) where\n",
    "    fmap f (Flip (K b)) = Flip (K $ f b)"
   ]
  },
  {
   "cell_type": "code",
   "execution_count": 13,
   "metadata": {},
   "outputs": [],
   "source": [
    "newtype EvilGoateeConst a b = GoatyConst b\n",
    "\n",
    "instance Functor (EvilGoateeConst a) where\n",
    "    fmap f (GoatyConst b) = GoatyConst $ f b"
   ]
  },
  {
   "cell_type": "code",
   "execution_count": 14,
   "metadata": {},
   "outputs": [],
   "source": [
    "newtype LiftItOut f a = LiftItOut (f a)\n",
    "\n",
    "instance Functor f => Functor (LiftItOut f) where\n",
    "    fmap a2b (LiftItOut fa) = LiftItOut (a2b <$> fa)"
   ]
  },
  {
   "cell_type": "code",
   "execution_count": 15,
   "metadata": {},
   "outputs": [],
   "source": [
    "data Parappa f g a = DaWrappa (f a) (g a)\n",
    "\n",
    "instance (Functor f, Functor g) => Functor (Parappa f g) where\n",
    "    fmap a2b (DaWrappa fa ga) = DaWrappa (a2b <$> fa) (a2b <$> ga)"
   ]
  },
  {
   "cell_type": "code",
   "execution_count": 16,
   "metadata": {},
   "outputs": [],
   "source": [
    "data IgnoreOne f g a b = IgnoringSomething (f a) (g b)\n",
    "\n",
    "instance Functor g => Functor (IgnoreOne f g a) where\n",
    "    fmap b2c (IgnoringSomething fa gb) = IgnoringSomething fa (b2c <$> gb)"
   ]
  },
  {
   "cell_type": "code",
   "execution_count": 17,
   "metadata": {},
   "outputs": [],
   "source": [
    "data Notorious g o a t = Notorious (g o) (g a) (g t)\n",
    "\n",
    "instance Functor g => Functor (Notorious g o a) where\n",
    "    fmap t2t' (Notorious go ga gt) = Notorious go ga gt' where\n",
    "        gt' = t2t' <$> gt"
   ]
  },
  {
   "cell_type": "code",
   "execution_count": 18,
   "metadata": {},
   "outputs": [],
   "source": [
    "data List a\n",
    "    = Nil\n",
    "    | Cons a (List a)\n",
    "    \n",
    "instance Functor List where\n",
    "    fmap _ Nil = Nil\n",
    "    fmap f (Cons a as) = Cons (f a) (f <$> as)"
   ]
  },
  {
   "cell_type": "code",
   "execution_count": 19,
   "metadata": {},
   "outputs": [],
   "source": [
    "data GoatLord a\n",
    "    = NoGoat\n",
    "    | OneGoat a\n",
    "    | MoreGoats (GoatLord a) (GoatLord a) (GoatLord a)\n",
    "    \n",
    "instance Functor GoatLord where\n",
    "    fmap _ NoGoat = NoGoat\n",
    "    fmap f (OneGoat a) = OneGoat (f a)\n",
    "    fmap f (MoreGoats a b c) = MoreGoats (f <$> a) (f <$> b) (f <$> c)    "
   ]
  },
  {
   "cell_type": "code",
   "execution_count": 20,
   "metadata": {},
   "outputs": [],
   "source": [
    "data TalkToMe a\n",
    "    = Halt\n",
    "    | Print String a\n",
    "    | Read (String -> a)\n",
    "    \n",
    "instance Functor TalkToMe where\n",
    "    fmap _ Halt = Halt\n",
    "    fmap f (Print str a) = Print str (f a)\n",
    "    fmap f (Read r) = Read $ f . r"
   ]
  }
 ],
 "metadata": {
  "kernelspec": {
   "display_name": "Haskell",
   "language": "haskell",
   "name": "haskell"
  },
  "language_info": {
   "codemirror_mode": "ihaskell",
   "file_extension": ".hs",
   "name": "haskell",
   "pygments_lexer": "Haskell",
   "version": "8.6.5"
  }
 },
 "nbformat": 4,
 "nbformat_minor": 4
}

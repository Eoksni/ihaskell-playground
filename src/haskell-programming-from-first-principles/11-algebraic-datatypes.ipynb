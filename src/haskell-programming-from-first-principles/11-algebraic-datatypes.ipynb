{
 "cells": [
  {
   "cell_type": "markdown",
   "metadata": {},
   "source": [
    "# Chapter 11: Algebraic datatypes"
   ]
  },
  {
   "cell_type": "markdown",
   "metadata": {},
   "source": [
    "## Multiple choice"
   ]
  },
  {
   "cell_type": "code",
   "execution_count": 1,
   "metadata": {},
   "outputs": [],
   "source": [
    "data Weekday =\n",
    "    Monday\n",
    "    | Tuesday\n",
    "    | Wednesday\n",
    "    | Thursday\n",
    "    | Friday"
   ]
  },
  {
   "cell_type": "markdown",
   "metadata": {},
   "source": [
    "`Weekday` is a type with five data constructors"
   ]
  },
  {
   "cell_type": "code",
   "execution_count": 2,
   "metadata": {},
   "outputs": [
    {
     "data": {
      "text/html": [
       "<style>/* Styles used for the Hoogle display in the pager */\n",
       ".hoogle-doc {\n",
       "display: block;\n",
       "padding-bottom: 1.3em;\n",
       "padding-left: 0.4em;\n",
       "}\n",
       ".hoogle-code {\n",
       "display: block;\n",
       "font-family: monospace;\n",
       "white-space: pre;\n",
       "}\n",
       ".hoogle-text {\n",
       "display: block;\n",
       "}\n",
       ".hoogle-name {\n",
       "color: green;\n",
       "font-weight: bold;\n",
       "}\n",
       ".hoogle-head {\n",
       "font-weight: bold;\n",
       "}\n",
       ".hoogle-sub {\n",
       "display: block;\n",
       "margin-left: 0.4em;\n",
       "}\n",
       ".hoogle-package {\n",
       "font-weight: bold;\n",
       "font-style: italic;\n",
       "}\n",
       ".hoogle-module {\n",
       "font-weight: bold;\n",
       "}\n",
       ".hoogle-class {\n",
       "font-weight: bold;\n",
       "}\n",
       ".get-type {\n",
       "color: green;\n",
       "font-weight: bold;\n",
       "font-family: monospace;\n",
       "display: block;\n",
       "white-space: pre-wrap;\n",
       "}\n",
       ".show-type {\n",
       "color: green;\n",
       "font-weight: bold;\n",
       "font-family: monospace;\n",
       "margin-left: 1em;\n",
       "}\n",
       ".mono {\n",
       "font-family: monospace;\n",
       "display: block;\n",
       "}\n",
       ".err-msg {\n",
       "color: red;\n",
       "font-style: italic;\n",
       "font-family: monospace;\n",
       "white-space: pre;\n",
       "display: block;\n",
       "}\n",
       "#unshowable {\n",
       "color: red;\n",
       "font-weight: bold;\n",
       "}\n",
       ".err-msg.in.collapse {\n",
       "padding-top: 0.7em;\n",
       "}\n",
       ".highlight-code {\n",
       "white-space: pre;\n",
       "font-family: monospace;\n",
       "}\n",
       ".suggestion-warning { \n",
       "font-weight: bold;\n",
       "color: rgb(200, 130, 0);\n",
       "}\n",
       ".suggestion-error { \n",
       "font-weight: bold;\n",
       "color: red;\n",
       "}\n",
       ".suggestion-name {\n",
       "font-weight: bold;\n",
       "}\n",
       "</style><span class='get-type'>f :: Weekday -> [Char]</span>"
      ],
      "text/plain": [
       "f :: Weekday -> [Char]"
      ]
     },
     "metadata": {},
     "output_type": "display_data"
    }
   ],
   "source": [
    "f Friday = \"Miller Time\"\n",
    "\n",
    ":t f\n",
    "-- f :: Weekday -> String"
   ]
  },
  {
   "cell_type": "markdown",
   "metadata": {},
   "source": [
    "Types defined with the `data` keyword must begin with a capital letter."
   ]
  },
  {
   "cell_type": "markdown",
   "metadata": {},
   "source": [
    "The function `g xs = xs !! (length xs - 1)` delivers the final element of `xs`."
   ]
  },
  {
   "cell_type": "markdown",
   "metadata": {},
   "source": [
    "## Ciphers"
   ]
  },
  {
   "cell_type": "markdown",
   "metadata": {},
   "source": [
    "---"
   ]
  },
  {
   "cell_type": "code",
   "execution_count": 3,
   "metadata": {},
   "outputs": [],
   "source": [
    "import Data.Char"
   ]
  },
  {
   "cell_type": "code",
   "execution_count": 4,
   "metadata": {},
   "outputs": [],
   "source": [
    "punctuations = \" \"\n",
    "base = ord 'a'\n",
    "end = ord 'z'\n",
    "size = end - base + 1"
   ]
  },
  {
   "cell_type": "code",
   "execution_count": 5,
   "metadata": {},
   "outputs": [
    {
     "data": {
      "text/plain": [
       "Letter 'd'"
      ]
     },
     "metadata": {},
     "output_type": "display_data"
    }
   ],
   "source": [
    "import Data.Maybe\n",
    "\n",
    "data LetterOrPunctuation = Letter Char | Punctuation Char deriving Show\n",
    "\n",
    "unLetter :: LetterOrPunctuation -> Char\n",
    "unLetter (Letter x) = x\n",
    "unLetter (Punctuation x) = x\n",
    "\n",
    "getLetter :: Char -> Maybe LetterOrPunctuation\n",
    "getLetter x\n",
    "    | x `elem` punctuations = (Just . Punctuation) x\n",
    "    | l < base = Nothing\n",
    "    | l > end = Nothing\n",
    "    | otherwise = (Just . Letter) x\n",
    "    where l = ord x\n",
    "\n",
    "getLetterFromInt :: Int -> Maybe LetterOrPunctuation\n",
    "getLetterFromInt = getLetter . chr\n",
    "\n",
    "unsafeGetLetter :: Char -> LetterOrPunctuation\n",
    "unsafeGetLetter = fromJust . getLetter\n",
    "\n",
    "unsafeGetLetterFromInt :: Int -> LetterOrPunctuation\n",
    "unsafeGetLetterFromInt = fromJust . getLetterFromInt\n",
    "\n",
    "caesarLetter :: Int -> LetterOrPunctuation -> LetterOrPunctuation\n",
    "caesarLetter _ (Punctuation x) = Punctuation x\n",
    "caesarLetter shift (Letter x) = (unsafeGetLetterFromInt . f . ord) x where\n",
    "    f i = (i - base + shift) `mod` size + base\n",
    "    \n",
    "caesarLetter 3 (Letter 'a')"
   ]
  },
  {
   "cell_type": "code",
   "execution_count": 6,
   "metadata": {},
   "outputs": [
    {
     "data": {
      "text/plain": [
       "Just \"tzhu\""
      ]
     },
     "metadata": {},
     "output_type": "display_data"
    },
    {
     "data": {
      "text/plain": [
       "Just \"tz hu\""
      ]
     },
     "metadata": {},
     "output_type": "display_data"
    }
   ],
   "source": [
    "getLetters :: String -> Maybe [LetterOrPunctuation]\n",
    "getLetters = traverse getLetter\n",
    "\n",
    "unsafeGetLetters :: String -> [LetterOrPunctuation]\n",
    "unsafeGetLetters = fromJust . getLetters\n",
    "\n",
    "unLetters :: [LetterOrPunctuation] -> String\n",
    "unLetters = fmap unLetter\n",
    "\n",
    "caesar :: Int -> [LetterOrPunctuation] -> [LetterOrPunctuation]\n",
    "caesar shift = fmap (caesarLetter shift)\n",
    "\n",
    "unLetters <$> caesar 3 <$> getLetters \"qwer\"\n",
    "unLetters <$> caesar 3 <$> getLetters \"qw er\""
   ]
  },
  {
   "cell_type": "code",
   "execution_count": 7,
   "metadata": {},
   "outputs": [
    {
     "data": {
      "text/plain": [
       "Just \"qwer\""
      ]
     },
     "metadata": {},
     "output_type": "display_data"
    },
    {
     "data": {
      "text/plain": [
       "Just \"qw er\""
      ]
     },
     "metadata": {},
     "output_type": "display_data"
    }
   ],
   "source": [
    "uncaesar :: Int -> [LetterOrPunctuation] -> [LetterOrPunctuation]\n",
    "uncaesar shift = caesar (-shift)\n",
    "\n",
    "unLetters . uncaesar 3 <$> caesar 3 <$> getLetters \"qwer\"\n",
    "unLetters . uncaesar 3 <$> caesar 3 <$> getLetters \"qw er\""
   ]
  },
  {
   "cell_type": "markdown",
   "metadata": {},
   "source": [
    "---"
   ]
  },
  {
   "cell_type": "code",
   "execution_count": 8,
   "metadata": {},
   "outputs": [],
   "source": [
    "zipIgnoringPunctuation :: [a] -> [LetterOrPunctuation] -> [(Maybe a, LetterOrPunctuation)]\n",
    "zipIgnoringPunctuation = f where\n",
    "    f [] _ = []\n",
    "    f _ [] = []\n",
    "    f xs (y@(Punctuation _):yt) = (Nothing, y):f xs yt\n",
    "    f (x:xt) (y:yt) = (Just x, y):f xt yt"
   ]
  },
  {
   "cell_type": "code",
   "execution_count": 9,
   "metadata": {},
   "outputs": [
    {
     "data": {
      "text/plain": [
       "Just [(Just 1,Letter 'q'),(Just 2,Letter 'w'),(Just 3,Letter 'e'),(Just 4,Letter 'r')]"
      ]
     },
     "metadata": {},
     "output_type": "display_data"
    },
    {
     "data": {
      "text/plain": [
       "Just [(Just 1,Letter 'q'),(Just 2,Letter 'w'),(Nothing,Punctuation ' '),(Just 3,Letter 'e'),(Just 4,Letter 'r')]"
      ]
     },
     "metadata": {},
     "output_type": "display_data"
    }
   ],
   "source": [
    "zipIgnoringPunctuation [1, 2, 3, 4] <$> getLetters \"qwer\"\n",
    "zipIgnoringPunctuation [1, 2, 3, 4] <$> getLetters \"qw er\""
   ]
  },
  {
   "cell_type": "code",
   "execution_count": 10,
   "metadata": {},
   "outputs": [],
   "source": [
    "toShift :: LetterOrPunctuation -> Maybe Int\n",
    "toShift (Letter x) = Just $ ord x - base\n",
    "toShift (Punctuation _) = Nothing"
   ]
  },
  {
   "cell_type": "code",
   "execution_count": 18,
   "metadata": {},
   "outputs": [],
   "source": [
    "import Control.Monad (join)\n",
    "import Data.Bifunctor (first)\n",
    "\n",
    "vigenere' :: (Int -> Int) -> [LetterOrPunctuation] -> [LetterOrPunctuation] -> [LetterOrPunctuation]\n",
    "vigenere' mapShift word s = encoded where\n",
    "    shifts = cycle . fmap (fmap mapShift . toShift) $ word\n",
    "    dirtyPairs = zipIgnoringPunctuation shifts s\n",
    "    pairs = fmap (first join) dirtyPairs\n",
    "--     f Nothing l = l\n",
    "--     f (Just s) l = caesarLetter s l\n",
    "    f s l = fromMaybe l (caesarLetter <$> s <*> pure l)\n",
    "    encoded = fmap (uncurry f) pairs\n",
    "    \n",
    "vigenere :: [LetterOrPunctuation] -> [LetterOrPunctuation] -> [LetterOrPunctuation]\n",
    "vigenere = vigenere' id"
   ]
  },
  {
   "cell_type": "code",
   "execution_count": 19,
   "metadata": {},
   "outputs": [
    {
     "data": {
      "text/plain": [
       "Just \"mppr ae oywy\""
      ]
     },
     "metadata": {},
     "output_type": "display_data"
    }
   ],
   "source": [
    "unLetters <$> (vigenere <$> getLetters \"ally\" <*> getLetters \"meet at dawn\")"
   ]
  },
  {
   "cell_type": "code",
   "execution_count": 33,
   "metadata": {},
   "outputs": [
    {
     "data": {
      "text/plain": [
       "Just \"meet at dawn\""
      ]
     },
     "metadata": {},
     "output_type": "display_data"
    }
   ],
   "source": [
    "unvigenere :: [LetterOrPunctuation] -> [LetterOrPunctuation] -> [LetterOrPunctuation]\n",
    "unvigenere = vigenere' (*(-1))\n",
    "\n",
    "input = getLetters \"meet at dawn\"\n",
    "keyword = getLetters \"ally\"\n",
    "\n",
    "code = (vigenere <$> keyword <*>)\n",
    "uncode = (unvigenere <$> keyword <*>)\n",
    "\n",
    "coded = code input\n",
    "uncoded = uncode coded\n",
    "\n",
    "unLetters <$> uncoded"
   ]
  },
  {
   "cell_type": "markdown",
   "metadata": {},
   "source": [
    "## As-patterns"
   ]
  }
 ],
 "metadata": {
  "kernelspec": {
   "display_name": "Haskell",
   "language": "haskell",
   "name": "haskell"
  },
  "language_info": {
   "codemirror_mode": "ihaskell",
   "file_extension": ".hs",
   "name": "haskell",
   "pygments_lexer": "Haskell",
   "version": "8.6.5"
  }
 },
 "nbformat": 4,
 "nbformat_minor": 4
}

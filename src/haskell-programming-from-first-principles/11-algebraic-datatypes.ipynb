{
 "cells": [
  {
   "cell_type": "markdown",
   "metadata": {},
   "source": [
    "# Chapter 11: Algebraic datatypes"
   ]
  },
  {
   "cell_type": "markdown",
   "metadata": {},
   "source": [
    "## Multiple choice"
   ]
  },
  {
   "cell_type": "code",
   "execution_count": 1,
   "metadata": {},
   "outputs": [],
   "source": [
    "data Weekday =\n",
    "    Monday\n",
    "    | Tuesday\n",
    "    | Wednesday\n",
    "    | Thursday\n",
    "    | Friday"
   ]
  },
  {
   "cell_type": "markdown",
   "metadata": {},
   "source": [
    "`Weekday` is a type with five data constructors"
   ]
  },
  {
   "cell_type": "code",
   "execution_count": 2,
   "metadata": {},
   "outputs": [
    {
     "data": {
      "text/html": [
       "<style>/* Styles used for the Hoogle display in the pager */\n",
       ".hoogle-doc {\n",
       "display: block;\n",
       "padding-bottom: 1.3em;\n",
       "padding-left: 0.4em;\n",
       "}\n",
       ".hoogle-code {\n",
       "display: block;\n",
       "font-family: monospace;\n",
       "white-space: pre;\n",
       "}\n",
       ".hoogle-text {\n",
       "display: block;\n",
       "}\n",
       ".hoogle-name {\n",
       "color: green;\n",
       "font-weight: bold;\n",
       "}\n",
       ".hoogle-head {\n",
       "font-weight: bold;\n",
       "}\n",
       ".hoogle-sub {\n",
       "display: block;\n",
       "margin-left: 0.4em;\n",
       "}\n",
       ".hoogle-package {\n",
       "font-weight: bold;\n",
       "font-style: italic;\n",
       "}\n",
       ".hoogle-module {\n",
       "font-weight: bold;\n",
       "}\n",
       ".hoogle-class {\n",
       "font-weight: bold;\n",
       "}\n",
       ".get-type {\n",
       "color: green;\n",
       "font-weight: bold;\n",
       "font-family: monospace;\n",
       "display: block;\n",
       "white-space: pre-wrap;\n",
       "}\n",
       ".show-type {\n",
       "color: green;\n",
       "font-weight: bold;\n",
       "font-family: monospace;\n",
       "margin-left: 1em;\n",
       "}\n",
       ".mono {\n",
       "font-family: monospace;\n",
       "display: block;\n",
       "}\n",
       ".err-msg {\n",
       "color: red;\n",
       "font-style: italic;\n",
       "font-family: monospace;\n",
       "white-space: pre;\n",
       "display: block;\n",
       "}\n",
       "#unshowable {\n",
       "color: red;\n",
       "font-weight: bold;\n",
       "}\n",
       ".err-msg.in.collapse {\n",
       "padding-top: 0.7em;\n",
       "}\n",
       ".highlight-code {\n",
       "white-space: pre;\n",
       "font-family: monospace;\n",
       "}\n",
       ".suggestion-warning { \n",
       "font-weight: bold;\n",
       "color: rgb(200, 130, 0);\n",
       "}\n",
       ".suggestion-error { \n",
       "font-weight: bold;\n",
       "color: red;\n",
       "}\n",
       ".suggestion-name {\n",
       "font-weight: bold;\n",
       "}\n",
       "</style><span class='get-type'>f :: Weekday -> [Char]</span>"
      ],
      "text/plain": [
       "f :: Weekday -> [Char]"
      ]
     },
     "metadata": {},
     "output_type": "display_data"
    }
   ],
   "source": [
    "f Friday = \"Miller Time\"\n",
    "\n",
    ":t f\n",
    "-- f :: Weekday -> String"
   ]
  },
  {
   "cell_type": "markdown",
   "metadata": {},
   "source": [
    "Types defined with the `data` keyword must begin with a capital letter."
   ]
  },
  {
   "cell_type": "markdown",
   "metadata": {},
   "source": [
    "The function `g xs = xs !! (length xs - 1)` delivers the final element of `xs`."
   ]
  },
  {
   "cell_type": "markdown",
   "metadata": {},
   "source": [
    "## Ciphers"
   ]
  },
  {
   "cell_type": "markdown",
   "metadata": {},
   "source": [
    "---"
   ]
  },
  {
   "cell_type": "code",
   "execution_count": 3,
   "metadata": {},
   "outputs": [],
   "source": [
    "import Data.Char"
   ]
  },
  {
   "cell_type": "code",
   "execution_count": 4,
   "metadata": {},
   "outputs": [],
   "source": [
    "punctuations = \" \"\n",
    "base = ord 'a'\n",
    "end = ord 'z'\n",
    "size = end - base + 1"
   ]
  },
  {
   "cell_type": "code",
   "execution_count": 5,
   "metadata": {},
   "outputs": [
    {
     "data": {
      "text/plain": [
       "Letter 'd'"
      ]
     },
     "metadata": {},
     "output_type": "display_data"
    }
   ],
   "source": [
    "import Data.Maybe\n",
    "\n",
    "data LetterOrPunctuation = Letter Char | Punctuation Char deriving Show\n",
    "\n",
    "unLetter :: LetterOrPunctuation -> Char\n",
    "unLetter (Letter x) = x\n",
    "unLetter (Punctuation x) = x\n",
    "\n",
    "getLetter :: Char -> Maybe LetterOrPunctuation\n",
    "getLetter x\n",
    "    | x `elem` punctuations = (Just . Punctuation) x\n",
    "    | l < base = Nothing\n",
    "    | l > end = Nothing\n",
    "    | otherwise = (Just . Letter) x\n",
    "    where l = ord x\n",
    "\n",
    "getLetterFromInt :: Int -> Maybe LetterOrPunctuation\n",
    "getLetterFromInt = getLetter . chr\n",
    "\n",
    "unsafeGetLetter :: Char -> LetterOrPunctuation\n",
    "unsafeGetLetter = fromJust . getLetter\n",
    "\n",
    "unsafeGetLetterFromInt :: Int -> LetterOrPunctuation\n",
    "unsafeGetLetterFromInt = fromJust . getLetterFromInt\n",
    "\n",
    "caesarLetter :: Int -> LetterOrPunctuation -> LetterOrPunctuation\n",
    "caesarLetter _ (Punctuation x) = Punctuation x\n",
    "caesarLetter shift (Letter x) = (unsafeGetLetterFromInt . f . ord) x where\n",
    "    f i = (i - base + shift) `mod` size + base\n",
    "    \n",
    "caesarLetter 3 (Letter 'a')"
   ]
  },
  {
   "cell_type": "code",
   "execution_count": 6,
   "metadata": {},
   "outputs": [
    {
     "data": {
      "text/plain": [
       "Just \"tzhu\""
      ]
     },
     "metadata": {},
     "output_type": "display_data"
    },
    {
     "data": {
      "text/plain": [
       "Just \"tz hu\""
      ]
     },
     "metadata": {},
     "output_type": "display_data"
    }
   ],
   "source": [
    "getLetters :: String -> Maybe [LetterOrPunctuation]\n",
    "getLetters = traverse getLetter\n",
    "\n",
    "unsafeGetLetters :: String -> [LetterOrPunctuation]\n",
    "unsafeGetLetters = fromJust . getLetters\n",
    "\n",
    "unLetters :: [LetterOrPunctuation] -> String\n",
    "unLetters = fmap unLetter\n",
    "\n",
    "caesar :: Int -> [LetterOrPunctuation] -> [LetterOrPunctuation]\n",
    "caesar shift = fmap (caesarLetter shift)\n",
    "\n",
    "unLetters <$> caesar 3 <$> getLetters \"qwer\"\n",
    "unLetters <$> caesar 3 <$> getLetters \"qw er\""
   ]
  },
  {
   "cell_type": "code",
   "execution_count": 7,
   "metadata": {},
   "outputs": [
    {
     "data": {
      "text/plain": [
       "Just \"qwer\""
      ]
     },
     "metadata": {},
     "output_type": "display_data"
    },
    {
     "data": {
      "text/plain": [
       "Just \"qw er\""
      ]
     },
     "metadata": {},
     "output_type": "display_data"
    }
   ],
   "source": [
    "uncaesar :: Int -> [LetterOrPunctuation] -> [LetterOrPunctuation]\n",
    "uncaesar shift = caesar (-shift)\n",
    "\n",
    "unLetters . uncaesar 3 <$> caesar 3 <$> getLetters \"qwer\"\n",
    "unLetters . uncaesar 3 <$> caesar 3 <$> getLetters \"qw er\""
   ]
  },
  {
   "cell_type": "markdown",
   "metadata": {},
   "source": [
    "---"
   ]
  },
  {
   "cell_type": "code",
   "execution_count": 8,
   "metadata": {},
   "outputs": [],
   "source": [
    "zipIgnoringPunctuation :: [a] -> [LetterOrPunctuation] -> [(Maybe a, LetterOrPunctuation)]\n",
    "zipIgnoringPunctuation = f where\n",
    "    f [] _ = []\n",
    "    f _ [] = []\n",
    "    f xs (y@(Punctuation _):yt) = (Nothing, y):f xs yt\n",
    "    f (x:xt) (y:yt) = (Just x, y):f xt yt"
   ]
  },
  {
   "cell_type": "code",
   "execution_count": 9,
   "metadata": {},
   "outputs": [
    {
     "data": {
      "text/plain": [
       "Just [(Just 1,Letter 'q'),(Just 2,Letter 'w'),(Just 3,Letter 'e'),(Just 4,Letter 'r')]"
      ]
     },
     "metadata": {},
     "output_type": "display_data"
    },
    {
     "data": {
      "text/plain": [
       "Just [(Just 1,Letter 'q'),(Just 2,Letter 'w'),(Nothing,Punctuation ' '),(Just 3,Letter 'e'),(Just 4,Letter 'r')]"
      ]
     },
     "metadata": {},
     "output_type": "display_data"
    }
   ],
   "source": [
    "zipIgnoringPunctuation [1, 2, 3, 4] <$> getLetters \"qwer\"\n",
    "zipIgnoringPunctuation [1, 2, 3, 4] <$> getLetters \"qw er\""
   ]
  },
  {
   "cell_type": "code",
   "execution_count": 10,
   "metadata": {},
   "outputs": [],
   "source": [
    "toShift :: LetterOrPunctuation -> Maybe Int\n",
    "toShift (Letter x) = Just $ ord x - base\n",
    "toShift (Punctuation _) = Nothing"
   ]
  },
  {
   "cell_type": "code",
   "execution_count": 11,
   "metadata": {},
   "outputs": [],
   "source": [
    "import Control.Monad (join)\n",
    "import Data.Bifunctor (first)\n",
    "\n",
    "vigenere' :: (Int -> Int) -> [LetterOrPunctuation] -> [LetterOrPunctuation] -> [LetterOrPunctuation]\n",
    "vigenere' mapShift word s = encoded where\n",
    "    shifts = cycle . fmap (fmap mapShift . toShift) $ word\n",
    "    dirtyPairs = zipIgnoringPunctuation shifts s\n",
    "    pairs = fmap (first join) dirtyPairs\n",
    "--     f Nothing l = l\n",
    "--     f (Just s) l = caesarLetter s l\n",
    "    f s l = fromMaybe l (caesarLetter <$> s <*> pure l)\n",
    "    encoded = fmap (uncurry f) pairs\n",
    "    \n",
    "vigenere :: [LetterOrPunctuation] -> [LetterOrPunctuation] -> [LetterOrPunctuation]\n",
    "vigenere = vigenere' id"
   ]
  },
  {
   "cell_type": "code",
   "execution_count": 12,
   "metadata": {},
   "outputs": [
    {
     "data": {
      "text/plain": [
       "Just \"mppr ae oywy\""
      ]
     },
     "metadata": {},
     "output_type": "display_data"
    }
   ],
   "source": [
    "unLetters <$> (vigenere <$> getLetters \"ally\" <*> getLetters \"meet at dawn\")"
   ]
  },
  {
   "cell_type": "code",
   "execution_count": 13,
   "metadata": {},
   "outputs": [
    {
     "data": {
      "text/plain": [
       "Just \"meet at dawn\""
      ]
     },
     "metadata": {},
     "output_type": "display_data"
    }
   ],
   "source": [
    "unvigenere :: [LetterOrPunctuation] -> [LetterOrPunctuation] -> [LetterOrPunctuation]\n",
    "unvigenere = vigenere' (*(-1))\n",
    "\n",
    "input = getLetters \"meet at dawn\"\n",
    "keyword = getLetters \"ally\"\n",
    "\n",
    "code = (vigenere <$> keyword <*>)\n",
    "uncode = (unvigenere <$> keyword <*>)\n",
    "\n",
    "coded = code input\n",
    "uncoded = uncode coded\n",
    "\n",
    "unLetters <$> uncoded"
   ]
  },
  {
   "cell_type": "markdown",
   "metadata": {},
   "source": [
    "## As-patterns"
   ]
  },
  {
   "cell_type": "code",
   "execution_count": 14,
   "metadata": {},
   "outputs": [],
   "source": [
    "import Data.Char"
   ]
  },
  {
   "cell_type": "code",
   "execution_count": 15,
   "metadata": {},
   "outputs": [
    {
     "data": {
      "text/plain": [
       "True"
      ]
     },
     "metadata": {},
     "output_type": "display_data"
    },
    {
     "data": {
      "text/plain": [
       "True"
      ]
     },
     "metadata": {},
     "output_type": "display_data"
    },
    {
     "data": {
      "text/plain": [
       "True"
      ]
     },
     "metadata": {},
     "output_type": "display_data"
    },
    {
     "data": {
      "text/plain": [
       "False"
      ]
     },
     "metadata": {},
     "output_type": "display_data"
    },
    {
     "data": {
      "text/plain": [
       "False"
      ]
     },
     "metadata": {},
     "output_type": "display_data"
    },
    {
     "data": {
      "text/plain": [
       "True"
      ]
     },
     "metadata": {},
     "output_type": "display_data"
    }
   ],
   "source": [
    "isSubsequenceOf :: Eq a => [a] -> [a] -> Bool\n",
    "isSubsequenceOf [] _ = True\n",
    "isSubsequenceOf _ [] = False\n",
    "isSubsequenceOf sub@(c:cs) (c':cs')\n",
    "    | c == c' = isSubsequenceOf cs cs'\n",
    "    | otherwise = isSubsequenceOf sub cs'\n",
    "    \n",
    "isSubsequenceOf \"blah\" \"blahwoot\"\n",
    "isSubsequenceOf \"blah\" \"wootblah\"\n",
    "isSubsequenceOf \"blah\" \"wboloath\"\n",
    "isSubsequenceOf \"blah\" \"wootbla\"\n",
    "isSubsequenceOf \"blah\" \"\"\n",
    "isSubsequenceOf \"\" \"blahwoot\""
   ]
  },
  {
   "cell_type": "code",
   "execution_count": 16,
   "metadata": {},
   "outputs": [
    {
     "data": {
      "text/plain": [
       "[(\"hello\",\"Hello\"),(\"world\",\"World\")]"
      ]
     },
     "metadata": {},
     "output_type": "display_data"
    }
   ],
   "source": [
    "capitalizeWords :: String -> [(String, String)]\n",
    "capitalizeWords = fmap f . words where \n",
    "    capitalize [] = []\n",
    "    capitalize (c:cs) = toUpper c:cs\n",
    "    tuplify a = (a, a)\n",
    "    f = fmap capitalize . tuplify\n",
    "\n",
    "capitalizeWords \"hello world\""
   ]
  },
  {
   "cell_type": "code",
   "execution_count": 17,
   "metadata": {},
   "outputs": [
    {
     "data": {
      "text/plain": [
       "[(\"hello\",\"Hello\"),(\"world\",\"World\")]"
      ]
     },
     "metadata": {},
     "output_type": "display_data"
    }
   ],
   "source": [
    "capitalizeWords :: String -> [(String, String)]\n",
    "capitalizeWords = fmap f . words where\n",
    "    f [] = ([], [])\n",
    "    f s@(c:cs) = (s, toUpper c:cs)\n",
    "    \n",
    "capitalizeWords \"hello world\""
   ]
  },
  {
   "cell_type": "markdown",
   "metadata": {},
   "source": [
    "## Language exercises"
   ]
  },
  {
   "cell_type": "code",
   "execution_count": 18,
   "metadata": {},
   "outputs": [
    {
     "data": {
      "text/plain": [
       "\"Titter\""
      ]
     },
     "metadata": {},
     "output_type": "display_data"
    },
    {
     "data": {
      "text/plain": [
       "\"Titter\""
      ]
     },
     "metadata": {},
     "output_type": "display_data"
    }
   ],
   "source": [
    "capitalizeWord :: String -> String\n",
    "capitalizeWord [] = []\n",
    "capitalizeWord (c:cs) = toUpper c:cs\n",
    "\n",
    "capitalizeWord \"Titter\"\n",
    "capitalizeWord \"titter\""
   ]
  },
  {
   "cell_type": "code",
   "execution_count": 19,
   "metadata": {},
   "outputs": [
    {
     "data": {
      "text/plain": [
       "\"Blah. Woot ha.\""
      ]
     },
     "metadata": {},
     "output_type": "display_data"
    }
   ],
   "source": [
    "import Data.List (intercalate)\n",
    "import Data.List.Split (splitOn)\n",
    "\n",
    "capitalizeParagraph :: String -> String\n",
    "capitalizeParagraph = intercalate sep . fmap capitalizeWord . splitOn sep \n",
    "    where sep = \". \"\n",
    "\n",
    "capitalizeParagraph \"blah. woot ha.\""
   ]
  },
  {
   "cell_type": "markdown",
   "metadata": {},
   "source": [
    "## Phone exercise"
   ]
  },
  {
   "cell_type": "code",
   "execution_count": 20,
   "metadata": {},
   "outputs": [
    {
     "data": {
      "text/html": [
       "<style>/* Styles used for the Hoogle display in the pager */\n",
       ".hoogle-doc {\n",
       "display: block;\n",
       "padding-bottom: 1.3em;\n",
       "padding-left: 0.4em;\n",
       "}\n",
       ".hoogle-code {\n",
       "display: block;\n",
       "font-family: monospace;\n",
       "white-space: pre;\n",
       "}\n",
       ".hoogle-text {\n",
       "display: block;\n",
       "}\n",
       ".hoogle-name {\n",
       "color: green;\n",
       "font-weight: bold;\n",
       "}\n",
       ".hoogle-head {\n",
       "font-weight: bold;\n",
       "}\n",
       ".hoogle-sub {\n",
       "display: block;\n",
       "margin-left: 0.4em;\n",
       "}\n",
       ".hoogle-package {\n",
       "font-weight: bold;\n",
       "font-style: italic;\n",
       "}\n",
       ".hoogle-module {\n",
       "font-weight: bold;\n",
       "}\n",
       ".hoogle-class {\n",
       "font-weight: bold;\n",
       "}\n",
       ".get-type {\n",
       "color: green;\n",
       "font-weight: bold;\n",
       "font-family: monospace;\n",
       "display: block;\n",
       "white-space: pre-wrap;\n",
       "}\n",
       ".show-type {\n",
       "color: green;\n",
       "font-weight: bold;\n",
       "font-family: monospace;\n",
       "margin-left: 1em;\n",
       "}\n",
       ".mono {\n",
       "font-family: monospace;\n",
       "display: block;\n",
       "}\n",
       ".err-msg {\n",
       "color: red;\n",
       "font-style: italic;\n",
       "font-family: monospace;\n",
       "white-space: pre;\n",
       "display: block;\n",
       "}\n",
       "#unshowable {\n",
       "color: red;\n",
       "font-weight: bold;\n",
       "}\n",
       ".err-msg.in.collapse {\n",
       "padding-top: 0.7em;\n",
       "}\n",
       ".highlight-code {\n",
       "white-space: pre;\n",
       "font-family: monospace;\n",
       "}\n",
       ".suggestion-warning { \n",
       "font-weight: bold;\n",
       "color: rgb(200, 130, 0);\n",
       "}\n",
       ".suggestion-error { \n",
       "font-weight: bold;\n",
       "color: red;\n",
       "}\n",
       ".suggestion-name {\n",
       "font-weight: bold;\n",
       "}\n",
       "</style><div class=\"suggestion-name\" style=\"clear:both;\">Use list literal pattern</div><div class=\"suggestion-row\" style=\"float: left;\"><div class=\"suggestion-warning\">Found:</div><div class=\"highlight-code\" id=\"haskell\">(ControlInput ToUpper : [])</div></div><div class=\"suggestion-row\" style=\"float: left;\"><div class=\"suggestion-warning\">Why Not:</div><div class=\"highlight-code\" id=\"haskell\">[ControlInput ToUpper]</div></div>"
      ],
      "text/plain": [
       "Line 77: Use list literal pattern\n",
       "Found:\n",
       "(ControlInput ToUpper : [])\n",
       "Why not:\n",
       "[ControlInput ToUpper]"
      ]
     },
     "metadata": {},
     "output_type": "display_data"
    }
   ],
   "source": [
    "import Data.List\n",
    "import Data.Maybe\n",
    "\n",
    "newtype PositiveInt = PositiveInt Int deriving Show\n",
    "\n",
    "makePositiveInt :: Int -> Maybe PositiveInt\n",
    "makePositiveInt x\n",
    "    | x > 0 = (Just . PositiveInt) x\n",
    "    | otherwise = Nothing\n",
    "\n",
    "unsafeMakePositiveInt :: Int -> PositiveInt\n",
    "unsafeMakePositiveInt = fromJust . makePositiveInt\n",
    "\n",
    "data DaPhoneButton = \n",
    "    One\n",
    "    | Two\n",
    "    | Three\n",
    "    | Four\n",
    "    | Five\n",
    "    | Six\n",
    "    | Seven\n",
    "    | Eight\n",
    "    | Nine\n",
    "    | Star\n",
    "    | Zero\n",
    "    | Hash\n",
    "    deriving Show\n",
    "\n",
    "data DaPhoneRawInput = DaPhoneRawInput DaPhoneButton PositiveInt deriving Show\n",
    "\n",
    "data DaPhoneControl = ToUpper deriving (Show, Eq)\n",
    "\n",
    "data DaPhoneInput = LetterInput Char | ControlInput DaPhoneControl deriving (Show, Eq)\n",
    "\n",
    "data DaPhoneChar = \n",
    "    CharSimple Char\n",
    "    | CharComplex DaPhoneControl Char\n",
    "    deriving Show\n",
    "\n",
    "sets :: DaPhoneButton -> [DaPhoneInput]\n",
    "sets One = fmap LetterInput \"1\"\n",
    "sets Two = fmap LetterInput \"abc2\"\n",
    "sets Three = fmap LetterInput \"def3\"\n",
    "sets Four = fmap LetterInput \"ghi4\"\n",
    "sets Five = fmap LetterInput \"jkl5\"\n",
    "sets Six = fmap LetterInput \"mno6\"\n",
    "sets Seven = fmap LetterInput \"pqrs7\"\n",
    "sets Eight = fmap LetterInput \"tuv8\"\n",
    "sets Nine = fmap LetterInput \"wxyz9\"\n",
    "sets Star = ControlInput ToUpper : fmap LetterInput \"*\"\n",
    "sets Zero = fmap LetterInput \" +_0\"\n",
    "sets Hash = fmap LetterInput \".,#\"\n",
    "\n",
    "cycles :: DaPhoneButton -> [DaPhoneInput]\n",
    "cycles = cycle . sets\n",
    "\n",
    "input2raw :: DaPhoneInput -> DaPhoneRawInput\n",
    "input2raw i\n",
    "    | Just n <- i `elemIndex` sets One = DaPhoneRawInput One (PositiveInt (n + 1))\n",
    "    | Just n <- i `elemIndex` sets Two = DaPhoneRawInput Two (PositiveInt (n + 1))\n",
    "    | Just n <- i `elemIndex` sets Three = DaPhoneRawInput Three (PositiveInt (n + 1))\n",
    "    | Just n <- i `elemIndex` sets Four = DaPhoneRawInput Four (PositiveInt (n + 1))\n",
    "    | Just n <- i `elemIndex` sets Five = DaPhoneRawInput Five (PositiveInt (n + 1))\n",
    "    | Just n <- i `elemIndex` sets Six = DaPhoneRawInput Six (PositiveInt (n + 1))\n",
    "    | Just n <- i `elemIndex` sets Seven = DaPhoneRawInput Seven (PositiveInt (n + 1))\n",
    "    | Just n <- i `elemIndex` sets Eight = DaPhoneRawInput Eight (PositiveInt (n + 1))\n",
    "    | Just n <- i `elemIndex` sets Nine = DaPhoneRawInput Nine (PositiveInt (n + 1))\n",
    "    | Just n <- i `elemIndex` sets Star = DaPhoneRawInput Star (PositiveInt (n + 1))\n",
    "    | Just n <- i `elemIndex` sets Zero = DaPhoneRawInput Zero (PositiveInt (n + 1))\n",
    "    | Just n <- i `elemIndex` sets Hash = DaPhoneRawInput Hash (PositiveInt (n + 1))\n",
    "\n",
    "preprocess :: DaPhoneRawInput -> DaPhoneInput\n",
    "preprocess (DaPhoneRawInput button (PositiveInt n)) = cycles button !! (n - 1)\n",
    "\n",
    "process' :: [DaPhoneInput] -> String\n",
    "process' [] = []\n",
    "process' (ControlInput ToUpper:[]) = undefined\n",
    "process' (ControlInput ToUpper:ControlInput ToUpper:_) = error \"impossible\"\n",
    "process' (ControlInput ToUpper:LetterInput c:is) = toUpper c : process' is\n",
    "process' (LetterInput c:is) = c : process' is\n",
    "\n",
    "process :: [DaPhoneRawInput] -> String\n",
    "process = process' . fmap preprocess\n",
    "\n",
    "convertChar :: Char -> DaPhoneChar\n",
    "convertChar c\n",
    "    | isUpper c = CharComplex ToUpper (toLower c)\n",
    "    | otherwise = CharSimple c\n",
    "    \n",
    "char2input :: DaPhoneChar -> [DaPhoneInput]\n",
    "char2input (CharSimple c) = [LetterInput c]\n",
    "char2input (CharComplex control c) = [ControlInput control, LetterInput c]\n",
    "\n",
    "convertString :: String -> [DaPhoneChar]\n",
    "convertString = fmap convertChar\n",
    "\n",
    "reverseProcess :: String -> [DaPhoneRawInput]\n",
    "reverseProcess = fmap input2raw . (>>= char2input) . convertString"
   ]
  },
  {
   "cell_type": "code",
   "execution_count": 21,
   "metadata": {},
   "outputs": [
    {
     "data": {
      "text/plain": [
       "[CharComplex ToUpper 'w',CharSimple 'a',CharSimple 'n',CharSimple 'n',CharSimple 'a']"
      ]
     },
     "metadata": {},
     "output_type": "display_data"
    }
   ],
   "source": [
    "convertString \"Wanna\""
   ]
  },
  {
   "cell_type": "code",
   "execution_count": 22,
   "metadata": {},
   "outputs": [
    {
     "data": {
      "text/plain": [
       "[DaPhoneRawInput Star (PositiveInt 1),DaPhoneRawInput Nine (PositiveInt 1),DaPhoneRawInput Two (PositiveInt 1),DaPhoneRawInput Six (PositiveInt 2),DaPhoneRawInput Six (PositiveInt 2),DaPhoneRawInput Two (PositiveInt 1)]"
      ]
     },
     "metadata": {},
     "output_type": "display_data"
    }
   ],
   "source": [
    "reverseProcess \"Wanna\""
   ]
  },
  {
   "cell_type": "code",
   "execution_count": 23,
   "metadata": {},
   "outputs": [],
   "source": [
    "convo :: [String]\n",
    "convo = \n",
    "    [\n",
    "        \"Wanna play 20 questions\",\n",
    "        \"Ya\",\n",
    "        \"U 1st haha\",\n",
    "        \"Lol ok. Have u ever tasted alcohol lol\",\n",
    "        \"Lol ya\",\n",
    "        \"Wow ur cool haha. Ur turn\",\n",
    "        \"Ok. Do u think I am pretty Lol\",\n",
    "        \"Lol ya\",\n",
    "        \"Haha thanks just making sure rofl ur turn\"\n",
    "    ]"
   ]
  },
  {
   "cell_type": "code",
   "execution_count": 24,
   "metadata": {},
   "outputs": [
    {
     "data": {
      "text/plain": [
       "[[CharComplex ToUpper 'w',CharSimple 'a',CharSimple 'n',CharSimple 'n',CharSimple 'a',CharSimple ' ',CharSimple 'p',CharSimple 'l',CharSimple 'a',CharSimple 'y',CharSimple ' ',CharSimple '2',CharSimple '0',CharSimple ' ',CharSimple 'q',CharSimple 'u',CharSimple 'e',CharSimple 's',CharSimple 't',CharSimple 'i',CharSimple 'o',CharSimple 'n',CharSimple 's'],[CharComplex ToUpper 'y',CharSimple 'a'],[CharComplex ToUpper 'u',CharSimple ' ',CharSimple '1',CharSimple 's',CharSimple 't',CharSimple ' ',CharSimple 'h',CharSimple 'a',CharSimple 'h',CharSimple 'a'],[CharComplex ToUpper 'l',CharSimple 'o',CharSimple 'l',CharSimple ' ',CharSimple 'o',CharSimple 'k',CharSimple '.',CharSimple ' ',CharComplex ToUpper 'h',CharSimple 'a',CharSimple 'v',CharSimple 'e',CharSimple ' ',CharSimple 'u',CharSimple ' ',CharSimple 'e',CharSimple 'v',CharSimple 'e',CharSimple 'r',CharSimple ' ',CharSimple 't',CharSimple 'a',CharSimple 's',CharSimple 't',CharSimple 'e',CharSimple 'd',CharSimple ' ',CharSimple 'a',CharSimple 'l',CharSimple 'c',CharSimple 'o',CharSimple 'h',CharSimple 'o',CharSimple 'l',CharSimple ' ',CharSimple 'l',CharSimple 'o',CharSimple 'l'],[CharComplex ToUpper 'l',CharSimple 'o',CharSimple 'l',CharSimple ' ',CharSimple 'y',CharSimple 'a'],[CharComplex ToUpper 'w',CharSimple 'o',CharSimple 'w',CharSimple ' ',CharSimple 'u',CharSimple 'r',CharSimple ' ',CharSimple 'c',CharSimple 'o',CharSimple 'o',CharSimple 'l',CharSimple ' ',CharSimple 'h',CharSimple 'a',CharSimple 'h',CharSimple 'a',CharSimple '.',CharSimple ' ',CharComplex ToUpper 'u',CharSimple 'r',CharSimple ' ',CharSimple 't',CharSimple 'u',CharSimple 'r',CharSimple 'n'],[CharComplex ToUpper 'o',CharSimple 'k',CharSimple '.',CharSimple ' ',CharComplex ToUpper 'd',CharSimple 'o',CharSimple ' ',CharSimple 'u',CharSimple ' ',CharSimple 't',CharSimple 'h',CharSimple 'i',CharSimple 'n',CharSimple 'k',CharSimple ' ',CharComplex ToUpper 'i',CharSimple ' ',CharSimple 'a',CharSimple 'm',CharSimple ' ',CharSimple 'p',CharSimple 'r',CharSimple 'e',CharSimple 't',CharSimple 't',CharSimple 'y',CharSimple ' ',CharComplex ToUpper 'l',CharSimple 'o',CharSimple 'l'],[CharComplex ToUpper 'l',CharSimple 'o',CharSimple 'l',CharSimple ' ',CharSimple 'y',CharSimple 'a'],[CharComplex ToUpper 'h',CharSimple 'a',CharSimple 'h',CharSimple 'a',CharSimple ' ',CharSimple 't',CharSimple 'h',CharSimple 'a',CharSimple 'n',CharSimple 'k',CharSimple 's',CharSimple ' ',CharSimple 'j',CharSimple 'u',CharSimple 's',CharSimple 't',CharSimple ' ',CharSimple 'm',CharSimple 'a',CharSimple 'k',CharSimple 'i',CharSimple 'n',CharSimple 'g',CharSimple ' ',CharSimple 's',CharSimple 'u',CharSimple 'r',CharSimple 'e',CharSimple ' ',CharSimple 'r',CharSimple 'o',CharSimple 'f',CharSimple 'l',CharSimple ' ',CharSimple 'u',CharSimple 'r',CharSimple ' ',CharSimple 't',CharSimple 'u',CharSimple 'r',CharSimple 'n']]"
      ]
     },
     "metadata": {},
     "output_type": "display_data"
    }
   ],
   "source": [
    "fmap convertString convo"
   ]
  },
  {
   "cell_type": "code",
   "execution_count": 25,
   "metadata": {},
   "outputs": [
    {
     "data": {
      "text/plain": [
       "[CharComplex ToUpper 'w',CharSimple 'a',CharSimple 'n',CharSimple 'n',CharSimple 'a']"
      ]
     },
     "metadata": {},
     "output_type": "display_data"
    },
    {
     "data": {
      "text/plain": [
       "[2,1,2,2,1]"
      ]
     },
     "metadata": {},
     "output_type": "display_data"
    },
    {
     "data": {
      "text/plain": [
       "[1,1,2,2,1]"
      ]
     },
     "metadata": {},
     "output_type": "display_data"
    }
   ],
   "source": [
    "keypresses :: DaPhoneRawInput -> PositiveInt\n",
    "keypresses (DaPhoneRawInput _ n) = n\n",
    "\n",
    "unPositiveInt :: PositiveInt -> Int\n",
    "unPositiveInt (PositiveInt n) = n\n",
    "\n",
    "fingerTaps :: Char -> Int\n",
    "fingerTaps = sum . fmap (unPositiveInt . keypresses . input2raw) . char2input . convertChar\n",
    "\n",
    "convertString \"Wanna\"\n",
    "fmap fingerTaps \"Wanna\"\n",
    "fmap fingerTaps \"wanna\""
   ]
  },
  {
   "cell_type": "code",
   "execution_count": 26,
   "metadata": {},
   "outputs": [
    {
     "data": {
      "text/plain": [
       "'Z'"
      ]
     },
     "metadata": {},
     "output_type": "display_data"
    },
    {
     "ename": "",
     "evalue": "",
     "header": "MessageHeader {mhIdentifiers = [\"3f8acc53-3786-493a-9500-8e873b905e20\"], mhParentHeader = Just (MessageHeader {mhIdentifiers = [\"3f8acc53-3786-493a-9500-8e873b905e20\"], mhParentHeader = Nothing, mhMetadata = Metadata (fromList [(\"deletedCells\",Array [String \"e2d1984c-4f4b-4364-8e85-6683016141ca\"]),(\"cellId\",String \"d4947cb0-46e5-4ca0-914d-011fe4f05173\")]), mhMessageId = UUID {uuidToString = \"e50d0ca7-be31-4980-8646-3b86b31c3c6c\"}, mhSessionId = UUID {uuidToString = \"3f8acc53-3786-493a-9500-8e873b905e20\"}, mhUsername = \"\", mhMsgType = ExecuteRequestMessage}), mhMetadata = Metadata (fromList []), mhMessageId = UUID {uuidToString = \"7760577d-c15c-42c6-8a7b-3373f501d7c2\"}, mhSessionId = UUID {uuidToString = \"3f8acc53-3786-493a-9500-8e873b905e20\"}, mhUsername = \"\", mhMsgType = ExecuteErrorMessage}",
     "output_type": "error",
     "traceback": [
      "Prelude.foldl1: empty list"
     ]
    }
   ],
   "source": [
    "import Data.Function (on)\n",
    "\n",
    "mostPopular :: Ord a => [a] -> a\n",
    "mostPopular = head . maximumBy (compare `on` length) . group . sort\n",
    "\n",
    "mostPopularLetter :: String -> Char\n",
    "mostPopularLetter = mostPopular . filter (/= ' ')\n",
    "\n",
    "l = mostPopularLetter \"asdfasdfzzzZZZZZ                \"\n",
    "l\n",
    "mostPopularLetter \"\""
   ]
  },
  {
   "cell_type": "code",
   "execution_count": 27,
   "metadata": {},
   "outputs": [
    {
     "data": {
      "text/plain": [
       "5"
      ]
     },
     "metadata": {},
     "output_type": "display_data"
    }
   ],
   "source": [
    "fingerTaps l"
   ]
  },
  {
   "cell_type": "code",
   "execution_count": 28,
   "metadata": {},
   "outputs": [
    {
     "data": {
      "text/plain": [
       "'a'"
      ]
     },
     "metadata": {},
     "output_type": "display_data"
    }
   ],
   "source": [
    "mostPopularLetterOverall :: [String] -> Char\n",
    "mostPopularLetterOverall = mostPopularLetter . join\n",
    "\n",
    "mostPopularLetterOverall convo"
   ]
  },
  {
   "cell_type": "code",
   "execution_count": 29,
   "metadata": {},
   "outputs": [
    {
     "data": {
      "text/plain": [
       "\"hello\""
      ]
     },
     "metadata": {},
     "output_type": "display_data"
    }
   ],
   "source": [
    "mostPopularWord :: String -> String\n",
    "mostPopularWord = mostPopular . words\n",
    "\n",
    "mostPopularWord \"hello world hello\""
   ]
  },
  {
   "cell_type": "code",
   "execution_count": 30,
   "metadata": {},
   "outputs": [
    {
     "data": {
      "text/plain": [
       "\"Lol\""
      ]
     },
     "metadata": {},
     "output_type": "display_data"
    }
   ],
   "source": [
    "mostPopularWordOverall :: [String] -> String\n",
    "mostPopularWordOverall = mostPopularWord . unwords\n",
    "\n",
    "mostPopularWordOverall convo"
   ]
  },
  {
   "cell_type": "code",
   "execution_count": 31,
   "metadata": {},
   "outputs": [
    {
     "data": {
      "text/plain": [
       "\"lol\""
      ]
     },
     "metadata": {},
     "output_type": "display_data"
    }
   ],
   "source": [
    "mostPopularWordOverallIgnoringCase = mostPopularWord . fmap toLower . unwords $ convo\n",
    "mostPopularWordOverallIgnoringCase"
   ]
  },
  {
   "cell_type": "markdown",
   "metadata": {},
   "source": [
    "## Hutton's Razor"
   ]
  },
  {
   "cell_type": "code",
   "execution_count": 32,
   "metadata": {},
   "outputs": [
    {
     "data": {
      "text/plain": [
       "9002"
      ]
     },
     "metadata": {},
     "output_type": "display_data"
    },
    {
     "data": {
      "text/plain": [
       "9002"
      ]
     },
     "metadata": {},
     "output_type": "display_data"
    }
   ],
   "source": [
    "data Expr\n",
    "    = Lit Integer\n",
    "    | Add Expr Expr\n",
    "    \n",
    "eval :: Expr -> Integer\n",
    "eval (Lit x) = x\n",
    "eval (Add e1 e2) = ((+) `on` eval) e1 e2\n",
    "\n",
    "eval (Add (Lit 1) (Lit 9001))\n",
    "9002"
   ]
  },
  {
   "cell_type": "code",
   "execution_count": 33,
   "metadata": {},
   "outputs": [
    {
     "data": {
      "text/plain": [
       "1 + (2 + 55)"
      ]
     },
     "metadata": {},
     "output_type": "display_data"
    },
    {
     "data": {
      "text/plain": [
       "1 + ((9001 + 1) + 20001)"
      ]
     },
     "metadata": {},
     "output_type": "display_data"
    }
   ],
   "source": [
    "instance Show Expr where\n",
    "    show (Lit x) = show x\n",
    "    show (Add e1 e2) = show' e1 ++ \" + \" ++ show' e2 where\n",
    "        show' e@(Lit _) = show e\n",
    "        show' e = \"(\" ++ show e ++ \")\"\n",
    "\n",
    "Add (Lit 1) (Add (Lit 2) (Lit 55))\n",
    "\n",
    "a1 = Add (Lit 9001) (Lit 1)\n",
    "a2 = Add a1 (Lit 20001)\n",
    "a3 = Add (Lit 1) a2\n",
    "a3"
   ]
  }
 ],
 "metadata": {
  "kernelspec": {
   "display_name": "Haskell",
   "language": "haskell",
   "name": "haskell"
  },
  "language_info": {
   "codemirror_mode": "ihaskell",
   "file_extension": ".hs",
   "name": "haskell",
   "pygments_lexer": "Haskell",
   "version": "8.6.5"
  }
 },
 "nbformat": 4,
 "nbformat_minor": 4
}

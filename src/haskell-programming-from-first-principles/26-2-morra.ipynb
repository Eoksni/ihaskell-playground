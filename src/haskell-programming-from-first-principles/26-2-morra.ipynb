{
 "cells": [
  {
   "cell_type": "code",
   "execution_count": 1,
   "metadata": {},
   "outputs": [],
   "source": [
    "import Control.Monad (void)\n",
    "import Control.Monad.Identity (Identity)\n",
    "import Control.Monad.Trans.State\n",
    "import Control.Monad.IO.Class (liftIO)\n",
    "import Control.Applicative (liftA2)\n",
    "import System.Random (getStdRandom, randomR)\n",
    "import Data.Function (on)"
   ]
  },
  {
   "cell_type": "code",
   "execution_count": 6,
   "metadata": {},
   "outputs": [
    {
     "data": {
      "text/plain": [
       "You play as odd.\n",
       "Round {oddMove = One, evenMove = Two}\n",
       "Game {oddScore = 1, evenScore = 0}\n",
       "Round {oddMove = Two, evenMove = One}\n",
       "Game {oddScore = 2, evenScore = 0}\n",
       "Round {oddMove = One, evenMove = Two}\n",
       "winner: Odd"
      ]
     },
     "metadata": {},
     "output_type": "display_data"
    }
   ],
   "source": [
    "data Player = Odd | Even deriving Show\n",
    "\n",
    "data Game = Game { oddScore :: Int, evenScore :: Int, rounds :: [Round] }\n",
    "\n",
    "instance Show Game where\n",
    "    show g = \"Game {oddScore = \" ++ show (oddScore g) ++ \", evenScore = \" ++ show (evenScore g) ++ \"}\"\n",
    "\n",
    "type Winner = Player\n",
    "data GameState = InProgress Game | Finished Winner deriving Show\n",
    "\n",
    "data Move = One | Two deriving Show\n",
    "\n",
    "data Round = Round { oddMove :: Move, evenMove :: Move } deriving Show\n",
    "\n",
    "initialGame :: Game\n",
    "initialGame = Game 0 0 []\n",
    "\n",
    "moveToInt :: Move -> Int\n",
    "moveToInt One = 1\n",
    "moveToInt Two = 2\n",
    "\n",
    "intToMove :: Int -> Move\n",
    "intToMove 1 = One\n",
    "intToMove 2 = Two\n",
    "\n",
    "applyRound :: Round -> Game -> Game\n",
    "applyRound r g = \n",
    "    if even total \n",
    "    then g { evenScore = evenScore g + 1, rounds = r:rounds g} \n",
    "    else g { oddScore = oddScore g + 1, rounds = r:rounds g} \n",
    "    where\n",
    "        total = liftA2 ((+) `on` moveToInt) oddMove evenMove r\n",
    "\n",
    "getGameState :: Game -> GameState\n",
    "getGameState g\n",
    "    | oddScore g >= 3 = Finished Odd\n",
    "    | evenScore g >= 3 = Finished Even\n",
    "    | otherwise = InProgress g\n",
    "\n",
    "playRound :: Round -> Game -> GameState\n",
    "playRound r = getGameState . applyRound r\n",
    "\n",
    "doRound :: StateT Game IO Round\n",
    "doRound = do\n",
    "    m1 <- intToMove <$> liftIO readLn\n",
    "    m2 <- intToMove <$> liftIO (getStdRandom (randomR (1,2)))\n",
    "    return $ Round m1 m2  \n",
    "\n",
    "doGame :: IO ()\n",
    "doGame = evalStateT (liftIO (putStrLn \"You play as odd.\") >> loop) initialGame where\n",
    "    printGame :: StateT Game IO ()\n",
    "    printGame = get >>= liftIO . print\n",
    "\n",
    "    loop :: StateT Game IO ()\n",
    "    loop = do        \n",
    "        r <- doRound\n",
    "        liftIO $ print r\n",
    "        g <- get\n",
    "        case playRound r g of\n",
    "            InProgress g' -> do\n",
    "                put g'\n",
    "                printGame\n",
    "                loop\n",
    "            Finished winner -> liftIO $ putStrLn (\"winner: \" ++ show winner)\n",
    "            \n",
    "doGame"
   ]
  },
  {
   "cell_type": "raw",
   "metadata": {},
   "source": [
    "-- Now we need to add ExceptT for failure at the doRound\n",
    "-- And use history of moves to create Round"
   ]
  }
 ],
 "metadata": {
  "kernelspec": {
   "display_name": "Haskell",
   "language": "haskell",
   "name": "haskell"
  },
  "language_info": {
   "codemirror_mode": "ihaskell",
   "file_extension": ".hs",
   "name": "haskell",
   "pygments_lexer": "Haskell",
   "version": "8.6.5"
  }
 },
 "nbformat": 4,
 "nbformat_minor": 4
}

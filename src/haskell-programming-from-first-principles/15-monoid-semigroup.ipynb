{
 "cells": [
  {
   "cell_type": "markdown",
   "metadata": {},
   "source": [
    "# Chapter 15: Monoid, semigroup"
   ]
  },
  {
   "cell_type": "markdown",
   "metadata": {},
   "source": [
    "## Semigroup exercises"
   ]
  },
  {
   "cell_type": "code",
   "execution_count": 1,
   "metadata": {},
   "outputs": [
    {
     "data": {},
     "metadata": {},
     "output_type": "display_data"
    },
    {
     "data": {
      "text/html": [
       "<div style='background: rgb(247, 247, 247);'><form><textarea id='code'>class Semigroup a where\n",
       "  (<>) :: a -> a -> a\n",
       "  GHC.Base.sconcat :: GHC.Base.NonEmpty a -> a\n",
       "  GHC.Base.stimes :: Integral b => b -> a -> a\n",
       "  {-# MINIMAL (<>) #-}\n",
       "  \t-- Defined in ‘GHC.Base’\n",
       "instance Semigroup Display -- Defined in ‘IHaskell.Types’\n",
       "instance Semigroup (Either a b) -- Defined in ‘Data.Either’\n",
       "instance Semigroup [a] -- Defined in ‘GHC.Base’\n",
       "instance Semigroup Ordering -- Defined in ‘GHC.Base’\n",
       "instance Semigroup a => Semigroup (Maybe a) -- Defined in ‘GHC.Base’\n",
       "instance Semigroup a => Semigroup (IO a) -- Defined in ‘GHC.Base’\n",
       "instance Semigroup b => Semigroup (a -> b) -- Defined in ‘GHC.Base’\n",
       "instance (Semigroup a, Semigroup b, Semigroup c, Semigroup d, Semigroup e) => Semigroup (a, b, c, d, e) -- Defined in ‘GHC.Base’\n",
       "instance (Semigroup a, Semigroup b, Semigroup c, Semigroup d) => Semigroup (a, b, c, d) -- Defined in ‘GHC.Base’\n",
       "instance (Semigroup a, Semigroup b, Semigroup c) => Semigroup (a, b, c) -- Defined in ‘GHC.Base’\n",
       "instance (Semigroup a, Semigroup b) => Semigroup (a, b) -- Defined in ‘GHC.Base’\n",
       "instance Semigroup () -- Defined in ‘GHC.Base’\n",
       "</textarea></form></div><script>CodeMirror.fromTextArea(document.getElementById('code'), {mode: 'haskell', readOnly: 'nocursor'});</script>"
      ],
      "text/plain": [
       "class Semigroup a where\n",
       "  (<>) :: a -> a -> a\n",
       "  GHC.Base.sconcat :: GHC.Base.NonEmpty a -> a\n",
       "  GHC.Base.stimes :: Integral b => b -> a -> a\n",
       "  {-# MINIMAL (<>) #-}\n",
       "  \t-- Defined in ‘GHC.Base’\n",
       "instance Semigroup Display -- Defined in ‘IHaskell.Types’\n",
       "instance Semigroup (Either a b) -- Defined in ‘Data.Either’\n",
       "instance Semigroup [a] -- Defined in ‘GHC.Base’\n",
       "instance Semigroup Ordering -- Defined in ‘GHC.Base’\n",
       "instance Semigroup a => Semigroup (Maybe a) -- Defined in ‘GHC.Base’\n",
       "instance Semigroup a => Semigroup (IO a) -- Defined in ‘GHC.Base’\n",
       "instance Semigroup b => Semigroup (a -> b) -- Defined in ‘GHC.Base’\n",
       "instance (Semigroup a, Semigroup b, Semigroup c, Semigroup d, Semigroup e) => Semigroup (a, b, c, d, e) -- Defined in ‘GHC.Base’\n",
       "instance (Semigroup a, Semigroup b, Semigroup c, Semigroup d) => Semigroup (a, b, c, d) -- Defined in ‘GHC.Base’\n",
       "instance (Semigroup a, Semigroup b, Semigroup c) => Semigroup (a, b, c) -- Defined in ‘GHC.Base’\n",
       "instance (Semigroup a, Semigroup b) => Semigroup (a, b) -- Defined in ‘GHC.Base’\n",
       "instance Semigroup () -- Defined in ‘GHC.Base’"
      ]
     },
     "metadata": {},
     "output_type": "display_data"
    }
   ],
   "source": [
    ":info Semigroup"
   ]
  },
  {
   "cell_type": "code",
   "execution_count": 2,
   "metadata": {},
   "outputs": [],
   "source": [
    "data Trivial = Trivial deriving (Eq, Show)\n",
    "\n",
    "instance Semigroup Trivial where\n",
    "    _ <> _ = Trivial"
   ]
  },
  {
   "cell_type": "code",
   "execution_count": 3,
   "metadata": {},
   "outputs": [],
   "source": [
    "newtype Identity a = Identity a\n",
    "\n",
    "instance Semigroup a => Semigroup (Identity a) where\n",
    "    (Identity x) <> (Identity y) = Identity $ x <> y"
   ]
  },
  {
   "cell_type": "code",
   "execution_count": 4,
   "metadata": {},
   "outputs": [],
   "source": [
    "data Two a b = Two a b\n",
    "\n",
    "instance (Semigroup a, Semigroup b) => Semigroup (Two a b) where\n",
    "    (Two x y) <> (Two x' y') = Two (x <> x') (y <> y')"
   ]
  },
  {
   "cell_type": "code",
   "execution_count": 5,
   "metadata": {},
   "outputs": [],
   "source": [
    "data Three a b c = Three a b c\n",
    "\n",
    "instance (Semigroup a, Semigroup b, Semigroup c) => Semigroup (Three a b c) where\n",
    "    (Three x y z) <> (Three x' y' z') = Three (x <> x') (y <> y') (z <> z')"
   ]
  },
  {
   "cell_type": "code",
   "execution_count": 6,
   "metadata": {},
   "outputs": [],
   "source": [
    "data Four a b c d = Four a b c d\n",
    "\n",
    "instance (Semigroup a, Semigroup b, Semigroup c, Semigroup d) => Semigroup (Four a b c d) where\n",
    "    (Four a b c d) <> (Four a' b' c' d') = Four (a <> a') (b <> b') (c <> c') (d <> d')"
   ]
  },
  {
   "cell_type": "code",
   "execution_count": 7,
   "metadata": {},
   "outputs": [],
   "source": [
    "newtype BoolConj = BoolConj Bool\n",
    "\n",
    "instance Semigroup BoolConj where\n",
    "    (BoolConj x) <> (BoolConj y) = BoolConj $ x && y"
   ]
  },
  {
   "cell_type": "code",
   "execution_count": 8,
   "metadata": {},
   "outputs": [],
   "source": [
    "newtype BoolDisj = BoolDisj Bool\n",
    "\n",
    "instance Semigroup BoolDisj where\n",
    "    (BoolDisj x) <> (BoolDisj y) = BoolDisj $ x || y"
   ]
  },
  {
   "cell_type": "code",
   "execution_count": 9,
   "metadata": {},
   "outputs": [],
   "source": [
    "data Or a b\n",
    "    = Fst a\n",
    "    | Snd b\n",
    "    \n",
    "instance Semigroup (Or a b) where\n",
    "    (Fst _) <> y = y\n",
    "    x@(Snd _) <> _ = x"
   ]
  },
  {
   "cell_type": "code",
   "execution_count": 10,
   "metadata": {},
   "outputs": [],
   "source": [
    "newtype Combine a b = Combine { unCombine :: a -> b }\n",
    "\n",
    "instance Semigroup b => Semigroup (Combine a b) where\n",
    "    (Combine f) <> (Combine g) = Combine $ \\x -> f x <> g x"
   ]
  },
  {
   "cell_type": "code",
   "execution_count": 11,
   "metadata": {},
   "outputs": [],
   "source": [
    "newtype Comp a = Comp { unComp :: a -> a }\n",
    "\n",
    "instance Semigroup (Comp a) where\n",
    "    (Comp f) <> (Comp g) = Comp $ f . g"
   ]
  },
  {
   "cell_type": "code",
   "execution_count": 12,
   "metadata": {},
   "outputs": [],
   "source": [
    "data Validation a b\n",
    "    = Failure a\n",
    "    | Success b\n",
    "    deriving (Eq, Show)\n",
    "    \n",
    "instance Semigroup a => Semigroup (Validation a b) where\n",
    "    (Failure x) <> (Failure y) = Failure $ x <> y\n",
    "    x@(Failure _) <> _ = x\n",
    "    _ <> y = y"
   ]
  },
  {
   "cell_type": "code",
   "execution_count": 13,
   "metadata": {},
   "outputs": [],
   "source": [
    "newtype AccumulateRight a b = AccumulateRight (Validation a b) deriving (Eq, Show)\n",
    "\n",
    "instance Semigroup b => Semigroup (AccumulateRight a b) where\n",
    "    (AccumulateRight (Success x)) <> (AccumulateRight (Success y)) = AccumulateRight $ Success $ x <> y\n",
    "    x@(AccumulateRight (Failure _)) <> _ = x\n",
    "    _ <> y = y"
   ]
  },
  {
   "cell_type": "code",
   "execution_count": 14,
   "metadata": {},
   "outputs": [],
   "source": [
    "newtype AccumulateBoth a b = AccumulateBoth (Validation a b)\n",
    "    deriving (Eq, Show)\n",
    "    \n",
    "instance (Semigroup a, Semigroup b) => Semigroup (AccumulateBoth a b) where\n",
    "    (AccumulateBoth (Failure x)) <> (AccumulateBoth (Failure y)) = AccumulateBoth $ Failure $ x <> y\n",
    "    (AccumulateBoth (Success x)) <> (AccumulateBoth (Success y)) = AccumulateBoth $ Success $ x <> y\n",
    "    x@(AccumulateBoth (Failure _)) <> _ = x\n",
    "    _ <> y = y"
   ]
  },
  {
   "cell_type": "markdown",
   "metadata": {},
   "source": [
    "## Monoid exercises"
   ]
  },
  {
   "cell_type": "code",
   "execution_count": 15,
   "metadata": {},
   "outputs": [],
   "source": [
    "instance Monoid Trivial where\n",
    "    mempty = Trivial"
   ]
  },
  {
   "cell_type": "code",
   "execution_count": 16,
   "metadata": {},
   "outputs": [],
   "source": [
    "instance Monoid a => Monoid (Identity a) where\n",
    "    mempty = Identity mempty"
   ]
  },
  {
   "cell_type": "code",
   "execution_count": 17,
   "metadata": {},
   "outputs": [],
   "source": [
    "instance (Monoid a, Monoid b) => Monoid (Two a b) where\n",
    "    mempty = Two mempty mempty"
   ]
  },
  {
   "cell_type": "code",
   "execution_count": 18,
   "metadata": {},
   "outputs": [],
   "source": [
    "instance Monoid BoolConj where\n",
    "    mempty = BoolConj True"
   ]
  },
  {
   "cell_type": "code",
   "execution_count": 19,
   "metadata": {},
   "outputs": [],
   "source": [
    "instance Monoid BoolDisj where\n",
    "    mempty = BoolDisj False"
   ]
  },
  {
   "cell_type": "code",
   "execution_count": 20,
   "metadata": {},
   "outputs": [],
   "source": [
    "instance Monoid b => Monoid (Combine a b) where\n",
    "    mempty = Combine $ const mempty"
   ]
  },
  {
   "cell_type": "code",
   "execution_count": 21,
   "metadata": {},
   "outputs": [],
   "source": [
    "instance Monoid (Comp a) where\n",
    "    mempty = Comp id"
   ]
  },
  {
   "cell_type": "code",
   "execution_count": 22,
   "metadata": {},
   "outputs": [
    {
     "data": {
      "text/plain": [
       "(\"hihi\",2)"
      ]
     },
     "metadata": {},
     "output_type": "display_data"
    },
    {
     "data": {
      "text/plain": [
       "(\"hi\",1)"
      ]
     },
     "metadata": {},
     "output_type": "display_data"
    },
    {
     "data": {
      "text/plain": [
       "(\"hi\",1)"
      ]
     },
     "metadata": {},
     "output_type": "display_data"
    },
    {
     "data": {
      "text/plain": [
       "(\"\",0)"
      ]
     },
     "metadata": {},
     "output_type": "display_data"
    },
    {
     "data": {
      "text/plain": [
       "True"
      ]
     },
     "metadata": {},
     "output_type": "display_data"
    },
    {
     "data": {
      "text/plain": [
       "True"
      ]
     },
     "metadata": {},
     "output_type": "display_data"
    }
   ],
   "source": [
    "newtype Mem s a = Mem { runMem :: s -> (a, s) }\n",
    "\n",
    "instance Semigroup a => Semigroup (Mem s a) where\n",
    "    (Mem f') <> (Mem f) = Mem $ fn where\n",
    "        fn s = (a <> b, s'') where\n",
    "            (a, s') = f s\n",
    "            (b, s'') = f' s'\n",
    "\n",
    "instance Monoid a => Monoid (Mem s a) where\n",
    "    mempty = Mem $ \\s -> (mempty, s)\n",
    "\n",
    "f' :: Num s => Mem s String\n",
    "f' = Mem $ \\s -> (\"hi\", s + 1)\n",
    "\n",
    "runMem (f' <> f') 0\n",
    "runMem (f' <> mempty) 0\n",
    "runMem (mempty <> f') 0\n",
    "runMem mempty 0 :: (String, Int)\n",
    "runMem (f' <> mempty) 0 == runMem f' 0\n",
    "runMem (mempty <> f') 0 == runMem f' 0"
   ]
  }
 ],
 "metadata": {
  "kernelspec": {
   "display_name": "Haskell",
   "language": "haskell",
   "name": "haskell"
  },
  "language_info": {
   "codemirror_mode": "ihaskell",
   "file_extension": ".hs",
   "name": "haskell",
   "pygments_lexer": "Haskell",
   "version": "8.6.5"
  }
 },
 "nbformat": 4,
 "nbformat_minor": 4
}

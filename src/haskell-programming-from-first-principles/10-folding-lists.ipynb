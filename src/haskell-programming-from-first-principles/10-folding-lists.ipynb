{
 "cells": [
  {
   "cell_type": "markdown",
   "metadata": {},
   "source": [
    "# Chapter 10: Folding lists"
   ]
  },
  {
   "cell_type": "markdown",
   "metadata": {},
   "source": [
    "## Warm-up and review"
   ]
  },
  {
   "cell_type": "code",
   "execution_count": 1,
   "metadata": {},
   "outputs": [
    {
     "data": {
      "text/plain": [
       "\"btdkg\""
      ]
     },
     "metadata": {},
     "output_type": "display_data"
    }
   ],
   "source": [
    "stops = \"pbtdkg\"\n",
    "stopsNoP = filter (/= 'p') stops\n",
    "stopsNoP\n",
    "vowels = \"aeiou\""
   ]
  },
  {
   "cell_type": "code",
   "execution_count": 2,
   "metadata": {},
   "outputs": [],
   "source": [
    "import Data.List (intercalate)\n",
    "\n",
    "newtype Combination a = Combination (a, a, a)\n",
    "\n",
    "instance Show a => Show (Combination a) where\n",
    "    show (Combination (a, b, c)) = intercalate \"-\" [show a, show b, show c]"
   ]
  },
  {
   "cell_type": "code",
   "execution_count": 3,
   "metadata": {},
   "outputs": [
    {
     "data": {
      "text/plain": [
       "['c'-'e'-'c','c'-'e'-'b','c'-'a'-'c','c'-'a'-'b','b'-'e'-'c','b'-'e'-'b','b'-'a'-'c','b'-'a'-'b']"
      ]
     },
     "metadata": {},
     "output_type": "display_data"
    }
   ],
   "source": [
    "makeCombinations :: [a] -> [a] -> [a] -> [Combination a]\n",
    "makeCombinations sts vos sts2 = f sts vos sts2 [] where\n",
    "    f [] _ _ acc = acc\n",
    "    f (s:ss) [] _ acc = f ss vos sts2 acc\n",
    "    f ss (v:vs) [] acc = f ss vs sts2 acc\n",
    "    f ss@(s:st) vs@(v:vt) (s':st') acc = f ss vs st' acc'\n",
    "        where acc' = Combination (s,v,s'):acc\n",
    "        \n",
    "makeCombinations \"bc\" \"ae\" \"bc\""
   ]
  },
  {
   "cell_type": "code",
   "execution_count": 4,
   "metadata": {},
   "outputs": [
    {
     "data": {
      "text/plain": [
       "['g'-'u'-'g','g'-'u'-'k','g'-'u'-'d','g'-'u'-'t','g'-'u'-'b','g'-'u'-'p','g'-'o'-'g','g'-'o'-'k','g'-'o'-'d','g'-'o'-'t','g'-'o'-'b','g'-'o'-'p','g'-'i'-'g','g'-'i'-'k','g'-'i'-'d','g'-'i'-'t','g'-'i'-'b','g'-'i'-'p','g'-'e'-'g','g'-'e'-'k','g'-'e'-'d','g'-'e'-'t','g'-'e'-'b','g'-'e'-'p','g'-'a'-'g','g'-'a'-'k','g'-'a'-'d','g'-'a'-'t','g'-'a'-'b','g'-'a'-'p','k'-'u'-'g','k'-'u'-'k','k'-'u'-'d','k'-'u'-'t','k'-'u'-'b','k'-'u'-'p','k'-'o'-'g','k'-'o'-'k','k'-'o'-'d','k'-'o'-'t','k'-'o'-'b','k'-'o'-'p','k'-'i'-'g','k'-'i'-'k','k'-'i'-'d','k'-'i'-'t','k'-'i'-'b','k'-'i'-'p','k'-'e'-'g','k'-'e'-'k','k'-'e'-'d','k'-'e'-'t','k'-'e'-'b','k'-'e'-'p','k'-'a'-'g','k'-'a'-'k','k'-'a'-'d','k'-'a'-'t','k'-'a'-'b','k'-'a'-'p','d'-'u'-'g','d'-'u'-'k','d'-'u'-'d','d'-'u'-'t','d'-'u'-'b','d'-'u'-'p','d'-'o'-'g','d'-'o'-'k','d'-'o'-'d','d'-'o'-'t','d'-'o'-'b','d'-'o'-'p','d'-'i'-'g','d'-'i'-'k','d'-'i'-'d','d'-'i'-'t','d'-'i'-'b','d'-'i'-'p','d'-'e'-'g','d'-'e'-'k','d'-'e'-'d','d'-'e'-'t','d'-'e'-'b','d'-'e'-'p','d'-'a'-'g','d'-'a'-'k','d'-'a'-'d','d'-'a'-'t','d'-'a'-'b','d'-'a'-'p','t'-'u'-'g','t'-'u'-'k','t'-'u'-'d','t'-'u'-'t','t'-'u'-'b','t'-'u'-'p','t'-'o'-'g','t'-'o'-'k','t'-'o'-'d','t'-'o'-'t','t'-'o'-'b','t'-'o'-'p','t'-'i'-'g','t'-'i'-'k','t'-'i'-'d','t'-'i'-'t','t'-'i'-'b','t'-'i'-'p','t'-'e'-'g','t'-'e'-'k','t'-'e'-'d','t'-'e'-'t','t'-'e'-'b','t'-'e'-'p','t'-'a'-'g','t'-'a'-'k','t'-'a'-'d','t'-'a'-'t','t'-'a'-'b','t'-'a'-'p','b'-'u'-'g','b'-'u'-'k','b'-'u'-'d','b'-'u'-'t','b'-'u'-'b','b'-'u'-'p','b'-'o'-'g','b'-'o'-'k','b'-'o'-'d','b'-'o'-'t','b'-'o'-'b','b'-'o'-'p','b'-'i'-'g','b'-'i'-'k','b'-'i'-'d','b'-'i'-'t','b'-'i'-'b','b'-'i'-'p','b'-'e'-'g','b'-'e'-'k','b'-'e'-'d','b'-'e'-'t','b'-'e'-'b','b'-'e'-'p','b'-'a'-'g','b'-'a'-'k','b'-'a'-'d','b'-'a'-'t','b'-'a'-'b','b'-'a'-'p','p'-'u'-'g','p'-'u'-'k','p'-'u'-'d','p'-'u'-'t','p'-'u'-'b','p'-'u'-'p','p'-'o'-'g','p'-'o'-'k','p'-'o'-'d','p'-'o'-'t','p'-'o'-'b','p'-'o'-'p','p'-'i'-'g','p'-'i'-'k','p'-'i'-'d','p'-'i'-'t','p'-'i'-'b','p'-'i'-'p','p'-'e'-'g','p'-'e'-'k','p'-'e'-'d','p'-'e'-'t','p'-'e'-'b','p'-'e'-'p','p'-'a'-'g','p'-'a'-'k','p'-'a'-'d','p'-'a'-'t','p'-'a'-'b','p'-'a'-'p']"
      ]
     },
     "metadata": {},
     "output_type": "display_data"
    }
   ],
   "source": [
    "makeCombinations stops vowels stops"
   ]
  },
  {
   "cell_type": "code",
   "execution_count": 5,
   "metadata": {},
   "outputs": [
    {
     "data": {
      "text/plain": [
       "['g'-'u'-'g','g'-'u'-'k','g'-'u'-'d','g'-'u'-'t','g'-'u'-'b','g'-'u'-'p','g'-'o'-'g','g'-'o'-'k','g'-'o'-'d','g'-'o'-'t','g'-'o'-'b','g'-'o'-'p','g'-'i'-'g','g'-'i'-'k','g'-'i'-'d','g'-'i'-'t','g'-'i'-'b','g'-'i'-'p','g'-'e'-'g','g'-'e'-'k','g'-'e'-'d','g'-'e'-'t','g'-'e'-'b','g'-'e'-'p','g'-'a'-'g','g'-'a'-'k','g'-'a'-'d','g'-'a'-'t','g'-'a'-'b','g'-'a'-'p','k'-'u'-'g','k'-'u'-'k','k'-'u'-'d','k'-'u'-'t','k'-'u'-'b','k'-'u'-'p','k'-'o'-'g','k'-'o'-'k','k'-'o'-'d','k'-'o'-'t','k'-'o'-'b','k'-'o'-'p','k'-'i'-'g','k'-'i'-'k','k'-'i'-'d','k'-'i'-'t','k'-'i'-'b','k'-'i'-'p','k'-'e'-'g','k'-'e'-'k','k'-'e'-'d','k'-'e'-'t','k'-'e'-'b','k'-'e'-'p','k'-'a'-'g','k'-'a'-'k','k'-'a'-'d','k'-'a'-'t','k'-'a'-'b','k'-'a'-'p','d'-'u'-'g','d'-'u'-'k','d'-'u'-'d','d'-'u'-'t','d'-'u'-'b','d'-'u'-'p','d'-'o'-'g','d'-'o'-'k','d'-'o'-'d','d'-'o'-'t','d'-'o'-'b','d'-'o'-'p','d'-'i'-'g','d'-'i'-'k','d'-'i'-'d','d'-'i'-'t','d'-'i'-'b','d'-'i'-'p','d'-'e'-'g','d'-'e'-'k','d'-'e'-'d','d'-'e'-'t','d'-'e'-'b','d'-'e'-'p','d'-'a'-'g','d'-'a'-'k','d'-'a'-'d','d'-'a'-'t','d'-'a'-'b','d'-'a'-'p','t'-'u'-'g','t'-'u'-'k','t'-'u'-'d','t'-'u'-'t','t'-'u'-'b','t'-'u'-'p','t'-'o'-'g','t'-'o'-'k','t'-'o'-'d','t'-'o'-'t','t'-'o'-'b','t'-'o'-'p','t'-'i'-'g','t'-'i'-'k','t'-'i'-'d','t'-'i'-'t','t'-'i'-'b','t'-'i'-'p','t'-'e'-'g','t'-'e'-'k','t'-'e'-'d','t'-'e'-'t','t'-'e'-'b','t'-'e'-'p','t'-'a'-'g','t'-'a'-'k','t'-'a'-'d','t'-'a'-'t','t'-'a'-'b','t'-'a'-'p','b'-'u'-'g','b'-'u'-'k','b'-'u'-'d','b'-'u'-'t','b'-'u'-'b','b'-'u'-'p','b'-'o'-'g','b'-'o'-'k','b'-'o'-'d','b'-'o'-'t','b'-'o'-'b','b'-'o'-'p','b'-'i'-'g','b'-'i'-'k','b'-'i'-'d','b'-'i'-'t','b'-'i'-'b','b'-'i'-'p','b'-'e'-'g','b'-'e'-'k','b'-'e'-'d','b'-'e'-'t','b'-'e'-'b','b'-'e'-'p','b'-'a'-'g','b'-'a'-'k','b'-'a'-'d','b'-'a'-'t','b'-'a'-'b','b'-'a'-'p']"
      ]
     },
     "metadata": {},
     "output_type": "display_data"
    }
   ],
   "source": [
    "makeCombinations stopsNoP vowels stops"
   ]
  },
  {
   "cell_type": "code",
   "execution_count": 6,
   "metadata": {},
   "outputs": [
    {
     "data": {
      "text/plain": [
       "[\"verb\"-\"stops\"-\"literal\",\"verb\"-\"stops\"-\"object\",\"verb\"-\"goes\"-\"literal\",\"verb\"-\"goes\"-\"object\",\"noun\"-\"stops\"-\"literal\",\"noun\"-\"stops\"-\"object\",\"noun\"-\"goes\"-\"literal\",\"noun\"-\"goes\"-\"object\"]"
      ]
     },
     "metadata": {},
     "output_type": "display_data"
    }
   ],
   "source": [
    "makeCombinations [\"noun\", \"verb\"] [\"goes\", \"stops\"] [\"object\", \"literal\"]"
   ]
  },
  {
   "cell_type": "code",
   "execution_count": 7,
   "metadata": {},
   "outputs": [
    {
     "data": {
      "text/html": [
       "<style>/* Styles used for the Hoogle display in the pager */\n",
       ".hoogle-doc {\n",
       "display: block;\n",
       "padding-bottom: 1.3em;\n",
       "padding-left: 0.4em;\n",
       "}\n",
       ".hoogle-code {\n",
       "display: block;\n",
       "font-family: monospace;\n",
       "white-space: pre;\n",
       "}\n",
       ".hoogle-text {\n",
       "display: block;\n",
       "}\n",
       ".hoogle-name {\n",
       "color: green;\n",
       "font-weight: bold;\n",
       "}\n",
       ".hoogle-head {\n",
       "font-weight: bold;\n",
       "}\n",
       ".hoogle-sub {\n",
       "display: block;\n",
       "margin-left: 0.4em;\n",
       "}\n",
       ".hoogle-package {\n",
       "font-weight: bold;\n",
       "font-style: italic;\n",
       "}\n",
       ".hoogle-module {\n",
       "font-weight: bold;\n",
       "}\n",
       ".hoogle-class {\n",
       "font-weight: bold;\n",
       "}\n",
       ".get-type {\n",
       "color: green;\n",
       "font-weight: bold;\n",
       "font-family: monospace;\n",
       "display: block;\n",
       "white-space: pre-wrap;\n",
       "}\n",
       ".show-type {\n",
       "color: green;\n",
       "font-weight: bold;\n",
       "font-family: monospace;\n",
       "margin-left: 1em;\n",
       "}\n",
       ".mono {\n",
       "font-family: monospace;\n",
       "display: block;\n",
       "}\n",
       ".err-msg {\n",
       "color: red;\n",
       "font-style: italic;\n",
       "font-family: monospace;\n",
       "white-space: pre;\n",
       "display: block;\n",
       "}\n",
       "#unshowable {\n",
       "color: red;\n",
       "font-weight: bold;\n",
       "}\n",
       ".err-msg.in.collapse {\n",
       "padding-top: 0.7em;\n",
       "}\n",
       ".highlight-code {\n",
       "white-space: pre;\n",
       "font-family: monospace;\n",
       "}\n",
       ".suggestion-warning { \n",
       "font-weight: bold;\n",
       "color: rgb(200, 130, 0);\n",
       "}\n",
       ".suggestion-error { \n",
       "font-weight: bold;\n",
       "color: red;\n",
       "}\n",
       ".suggestion-name {\n",
       "font-weight: bold;\n",
       "}\n",
       "</style><span class='get-type'>seekritFunc :: String -> Int</span>"
      ],
      "text/plain": [
       "seekritFunc :: String -> Int"
      ]
     },
     "metadata": {},
     "output_type": "display_data"
    }
   ],
   "source": [
    "seekritFunc x =\n",
    "    div (sum (map length (words x)))\n",
    "        (length (words x))\n",
    "        \n",
    ":type seekritFunc"
   ]
  },
  {
   "cell_type": "code",
   "execution_count": 8,
   "metadata": {},
   "outputs": [
    {
     "data": {
      "text/plain": [
       "3"
      ]
     },
     "metadata": {},
     "output_type": "display_data"
    }
   ],
   "source": [
    "seekritFunc \"qwer as zxcv\""
   ]
  },
  {
   "cell_type": "code",
   "execution_count": 9,
   "metadata": {},
   "outputs": [],
   "source": [
    "seekritFunc' :: String -> Double\n",
    "seekritFunc' x = (/)\n",
    "    (fromIntegral (sum . fmap length . words $ x))\n",
    "    (fromIntegral (length . words $ x))"
   ]
  },
  {
   "cell_type": "code",
   "execution_count": 10,
   "metadata": {},
   "outputs": [
    {
     "data": {
      "text/plain": [
       "3.3333333333333335"
      ]
     },
     "metadata": {},
     "output_type": "display_data"
    }
   ],
   "source": [
    "seekritFunc' \"qwer as zxcv\""
   ]
  },
  {
   "cell_type": "markdown",
   "metadata": {},
   "source": [
    "## Rewriting functions using folds"
   ]
  },
  {
   "cell_type": "markdown",
   "metadata": {},
   "source": [
    "I already did these functions in the previous chapter exercises."
   ]
  }
 ],
 "metadata": {
  "kernelspec": {
   "display_name": "Haskell",
   "language": "haskell",
   "name": "haskell"
  },
  "language_info": {
   "codemirror_mode": "ihaskell",
   "file_extension": ".hs",
   "name": "haskell",
   "pygments_lexer": "Haskell",
   "version": "8.6.5"
  }
 },
 "nbformat": 4,
 "nbformat_minor": 4
}

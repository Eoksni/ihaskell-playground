{
 "cells": [
  {
   "cell_type": "markdown",
   "metadata": {},
   "source": [
    "# Chapter 24: Parser Combinators"
   ]
  },
  {
   "cell_type": "code",
   "execution_count": 1,
   "metadata": {},
   "outputs": [
    {
     "data": {
      "text/plain": []
     },
     "metadata": {},
     "output_type": "display_data"
    }
   ],
   "source": [
    ":!stack install trifecta"
   ]
  },
  {
   "cell_type": "code",
   "execution_count": 2,
   "metadata": {},
   "outputs": [],
   "source": [
    "import Text.Trifecta"
   ]
  },
  {
   "cell_type": "code",
   "execution_count": 5,
   "metadata": {},
   "outputs": [],
   "source": [
    "stop :: Parser a\n",
    "stop = unexpected \"stop\""
   ]
  },
  {
   "cell_type": "code",
   "execution_count": 10,
   "metadata": {},
   "outputs": [],
   "source": [
    "one :: Parser Char\n",
    "one = char '1'"
   ]
  },
  {
   "cell_type": "code",
   "execution_count": 14,
   "metadata": {},
   "outputs": [],
   "source": [
    "one' :: Parser a\n",
    "one' = one >> stop"
   ]
  },
  {
   "cell_type": "code",
   "execution_count": 30,
   "metadata": {},
   "outputs": [],
   "source": [
    "oneTwo = char '1' >> char '2'\n",
    "\n",
    "oneTwo' = oneTwo >> stop\n",
    "\n",
    "testParse' :: String -> Parser Char -> Result Char\n",
    "testParse' s p = parseString p mempty s\n",
    "\n",
    "testParse :: Parser Char -> Result Char\n",
    "testParse = testParse' \"123\""
   ]
  },
  {
   "cell_type": "code",
   "execution_count": 17,
   "metadata": {},
   "outputs": [
    {
     "data": {
      "text/html": [
       "<style>/* Styles used for the Hoogle display in the pager */\n",
       ".hoogle-doc {\n",
       "display: block;\n",
       "padding-bottom: 1.3em;\n",
       "padding-left: 0.4em;\n",
       "}\n",
       ".hoogle-code {\n",
       "display: block;\n",
       "font-family: monospace;\n",
       "white-space: pre;\n",
       "}\n",
       ".hoogle-text {\n",
       "display: block;\n",
       "}\n",
       ".hoogle-name {\n",
       "color: green;\n",
       "font-weight: bold;\n",
       "}\n",
       ".hoogle-head {\n",
       "font-weight: bold;\n",
       "}\n",
       ".hoogle-sub {\n",
       "display: block;\n",
       "margin-left: 0.4em;\n",
       "}\n",
       ".hoogle-package {\n",
       "font-weight: bold;\n",
       "font-style: italic;\n",
       "}\n",
       ".hoogle-module {\n",
       "font-weight: bold;\n",
       "}\n",
       ".hoogle-class {\n",
       "font-weight: bold;\n",
       "}\n",
       ".get-type {\n",
       "color: green;\n",
       "font-weight: bold;\n",
       "font-family: monospace;\n",
       "display: block;\n",
       "white-space: pre-wrap;\n",
       "}\n",
       ".show-type {\n",
       "color: green;\n",
       "font-weight: bold;\n",
       "font-family: monospace;\n",
       "margin-left: 1em;\n",
       "}\n",
       ".mono {\n",
       "font-family: monospace;\n",
       "display: block;\n",
       "}\n",
       ".err-msg {\n",
       "color: red;\n",
       "font-style: italic;\n",
       "font-family: monospace;\n",
       "white-space: pre;\n",
       "display: block;\n",
       "}\n",
       "#unshowable {\n",
       "color: red;\n",
       "font-weight: bold;\n",
       "}\n",
       ".err-msg.in.collapse {\n",
       "padding-top: 0.7em;\n",
       "}\n",
       ".highlight-code {\n",
       "white-space: pre;\n",
       "font-family: monospace;\n",
       "}\n",
       ".suggestion-warning { \n",
       "font-weight: bold;\n",
       "color: rgb(200, 130, 0);\n",
       "}\n",
       ".suggestion-error { \n",
       "font-weight: bold;\n",
       "color: red;\n",
       "}\n",
       ".suggestion-name {\n",
       "font-weight: bold;\n",
       "}\n",
       "</style><span class='get-type'>parseString :: forall a. Parser a -> Delta -> String -> Result a</span>"
      ],
      "text/plain": [
       "parseString :: forall a. Parser a -> Delta -> String -> Result a"
      ]
     },
     "metadata": {},
     "output_type": "display_data"
    }
   ],
   "source": [
    ":t parseString"
   ]
  },
  {
   "cell_type": "code",
   "execution_count": 21,
   "metadata": {},
   "outputs": [
    {
     "data": {
      "text/plain": [
       "Failure (ErrInfo {_errDoc = \u001b[1m(interactive)\u001b[0m:\u001b[1m1\u001b[0m:\u001b[1m1\u001b[0m: \u001b[91merror\u001b[0m: unexpected\n",
       "    stop\n",
       "123\u001b[1m\u001b[94m<EOF>\u001b[0;1m\u001b[0m \n",
       "\u001b[92m^\u001b[0m        , _errDeltas = [Columns 0 0]})"
      ]
     },
     "metadata": {},
     "output_type": "display_data"
    }
   ],
   "source": [
    "testParse stop"
   ]
  },
  {
   "cell_type": "code",
   "execution_count": 22,
   "metadata": {},
   "outputs": [
    {
     "data": {
      "text/plain": [
       "Success '1'"
      ]
     },
     "metadata": {},
     "output_type": "display_data"
    }
   ],
   "source": [
    "testParse one"
   ]
  },
  {
   "cell_type": "code",
   "execution_count": 23,
   "metadata": {},
   "outputs": [
    {
     "data": {
      "text/plain": [
       "Failure (ErrInfo {_errDoc = \u001b[1m(interactive)\u001b[0m:\u001b[1m1\u001b[0m:\u001b[1m2\u001b[0m: \u001b[91merror\u001b[0m: unexpected\n",
       "    stop\n",
       "123\u001b[1m\u001b[94m<EOF>\u001b[0;1m\u001b[0m \n",
       " \u001b[92m^\u001b[0m       , _errDeltas = [Columns 1 1]})"
      ]
     },
     "metadata": {},
     "output_type": "display_data"
    }
   ],
   "source": [
    "testParse one'"
   ]
  },
  {
   "cell_type": "code",
   "execution_count": 24,
   "metadata": {},
   "outputs": [
    {
     "data": {
      "text/plain": [
       "Success '2'"
      ]
     },
     "metadata": {},
     "output_type": "display_data"
    }
   ],
   "source": [
    "testParse oneTwo"
   ]
  },
  {
   "cell_type": "code",
   "execution_count": 25,
   "metadata": {},
   "outputs": [
    {
     "data": {
      "text/plain": [
       "Failure (ErrInfo {_errDoc = \u001b[1m(interactive)\u001b[0m:\u001b[1m1\u001b[0m:\u001b[1m3\u001b[0m: \u001b[91merror\u001b[0m: unexpected\n",
       "    stop\n",
       "123\u001b[1m\u001b[94m<EOF>\u001b[0;1m\u001b[0m \n",
       "  \u001b[92m^\u001b[0m      , _errDeltas = [Columns 2 2]})"
      ]
     },
     "metadata": {},
     "output_type": "display_data"
    }
   ],
   "source": [
    "testParse oneTwo'"
   ]
  },
  {
   "cell_type": "code",
   "execution_count": 36,
   "metadata": {},
   "outputs": [
    {
     "data": {
      "text/html": [
       "<style>/* Styles used for the Hoogle display in the pager */\n",
       ".hoogle-doc {\n",
       "display: block;\n",
       "padding-bottom: 1.3em;\n",
       "padding-left: 0.4em;\n",
       "}\n",
       ".hoogle-code {\n",
       "display: block;\n",
       "font-family: monospace;\n",
       "white-space: pre;\n",
       "}\n",
       ".hoogle-text {\n",
       "display: block;\n",
       "}\n",
       ".hoogle-name {\n",
       "color: green;\n",
       "font-weight: bold;\n",
       "}\n",
       ".hoogle-head {\n",
       "font-weight: bold;\n",
       "}\n",
       ".hoogle-sub {\n",
       "display: block;\n",
       "margin-left: 0.4em;\n",
       "}\n",
       ".hoogle-package {\n",
       "font-weight: bold;\n",
       "font-style: italic;\n",
       "}\n",
       ".hoogle-module {\n",
       "font-weight: bold;\n",
       "}\n",
       ".hoogle-class {\n",
       "font-weight: bold;\n",
       "}\n",
       ".get-type {\n",
       "color: green;\n",
       "font-weight: bold;\n",
       "font-family: monospace;\n",
       "display: block;\n",
       "white-space: pre-wrap;\n",
       "}\n",
       ".show-type {\n",
       "color: green;\n",
       "font-weight: bold;\n",
       "font-family: monospace;\n",
       "margin-left: 1em;\n",
       "}\n",
       ".mono {\n",
       "font-family: monospace;\n",
       "display: block;\n",
       "}\n",
       ".err-msg {\n",
       "color: red;\n",
       "font-style: italic;\n",
       "font-family: monospace;\n",
       "white-space: pre;\n",
       "display: block;\n",
       "}\n",
       "#unshowable {\n",
       "color: red;\n",
       "font-weight: bold;\n",
       "}\n",
       ".err-msg.in.collapse {\n",
       "padding-top: 0.7em;\n",
       "}\n",
       ".highlight-code {\n",
       "white-space: pre;\n",
       "font-family: monospace;\n",
       "}\n",
       ".suggestion-warning { \n",
       "font-weight: bold;\n",
       "color: rgb(200, 130, 0);\n",
       "}\n",
       ".suggestion-error { \n",
       "font-weight: bold;\n",
       "color: red;\n",
       "}\n",
       ".suggestion-name {\n",
       "font-weight: bold;\n",
       "}\n",
       "</style><span class='get-type'>eof :: forall (m :: * -> *). Parsing m => m ()</span>"
      ],
      "text/plain": [
       "eof :: forall (m :: * -> *). Parsing m => m ()"
      ]
     },
     "metadata": {},
     "output_type": "display_data"
    }
   ],
   "source": [
    ":t eof"
   ]
  },
  {
   "cell_type": "code",
   "execution_count": 38,
   "metadata": {},
   "outputs": [
    {
     "data": {
      "text/plain": [
       "Failure (ErrInfo {_errDoc = \u001b[1m(interactive)\u001b[0m:\u001b[1m1\u001b[0m:\u001b[1m2\u001b[0m: \u001b[91merror\u001b[0m: expected: end of input\n",
       "123\u001b[1m\u001b[94m<EOF>\u001b[0;1m\u001b[0m \n",
       " \u001b[92m^\u001b[0m       , _errDeltas = [Columns 1 1]})"
      ]
     },
     "metadata": {},
     "output_type": "display_data"
    }
   ],
   "source": [
    "one'' = one <* eof\n",
    "testParse one''"
   ]
  },
  {
   "cell_type": "code",
   "execution_count": 39,
   "metadata": {},
   "outputs": [
    {
     "data": {
      "text/plain": [
       "Success '1'"
      ]
     },
     "metadata": {},
     "output_type": "display_data"
    }
   ],
   "source": [
    "testParse' \"1\" one''"
   ]
  },
  {
   "cell_type": "code",
   "execution_count": 40,
   "metadata": {},
   "outputs": [
    {
     "data": {
      "text/plain": [
       "Failure (ErrInfo {_errDoc = \u001b[1m(interactive)\u001b[0m:\u001b[1m1\u001b[0m:\u001b[1m3\u001b[0m: \u001b[91merror\u001b[0m: expected: end of input\n",
       "123\u001b[1m\u001b[94m<EOF>\u001b[0;1m\u001b[0m \n",
       "  \u001b[92m^\u001b[0m      , _errDeltas = [Columns 2 2]})"
      ]
     },
     "metadata": {},
     "output_type": "display_data"
    }
   ],
   "source": [
    "oneTwo'' = oneTwo <* eof\n",
    "testParse oneTwo''"
   ]
  },
  {
   "cell_type": "code",
   "execution_count": 41,
   "metadata": {},
   "outputs": [
    {
     "data": {
      "text/plain": [
       "Success '2'"
      ]
     },
     "metadata": {},
     "output_type": "display_data"
    }
   ],
   "source": [
    "testParse' \"12\" oneTwo''"
   ]
  },
  {
   "cell_type": "code",
   "execution_count": 42,
   "metadata": {},
   "outputs": [
    {
     "data": {
      "text/html": [
       "<style>/* Styles used for the Hoogle display in the pager */\n",
       ".hoogle-doc {\n",
       "display: block;\n",
       "padding-bottom: 1.3em;\n",
       "padding-left: 0.4em;\n",
       "}\n",
       ".hoogle-code {\n",
       "display: block;\n",
       "font-family: monospace;\n",
       "white-space: pre;\n",
       "}\n",
       ".hoogle-text {\n",
       "display: block;\n",
       "}\n",
       ".hoogle-name {\n",
       "color: green;\n",
       "font-weight: bold;\n",
       "}\n",
       ".hoogle-head {\n",
       "font-weight: bold;\n",
       "}\n",
       ".hoogle-sub {\n",
       "display: block;\n",
       "margin-left: 0.4em;\n",
       "}\n",
       ".hoogle-package {\n",
       "font-weight: bold;\n",
       "font-style: italic;\n",
       "}\n",
       ".hoogle-module {\n",
       "font-weight: bold;\n",
       "}\n",
       ".hoogle-class {\n",
       "font-weight: bold;\n",
       "}\n",
       ".get-type {\n",
       "color: green;\n",
       "font-weight: bold;\n",
       "font-family: monospace;\n",
       "display: block;\n",
       "white-space: pre-wrap;\n",
       "}\n",
       ".show-type {\n",
       "color: green;\n",
       "font-weight: bold;\n",
       "font-family: monospace;\n",
       "margin-left: 1em;\n",
       "}\n",
       ".mono {\n",
       "font-family: monospace;\n",
       "display: block;\n",
       "}\n",
       ".err-msg {\n",
       "color: red;\n",
       "font-style: italic;\n",
       "font-family: monospace;\n",
       "white-space: pre;\n",
       "display: block;\n",
       "}\n",
       "#unshowable {\n",
       "color: red;\n",
       "font-weight: bold;\n",
       "}\n",
       ".err-msg.in.collapse {\n",
       "padding-top: 0.7em;\n",
       "}\n",
       ".highlight-code {\n",
       "white-space: pre;\n",
       "font-family: monospace;\n",
       "}\n",
       ".suggestion-warning { \n",
       "font-weight: bold;\n",
       "color: rgb(200, 130, 0);\n",
       "}\n",
       ".suggestion-error { \n",
       "font-weight: bold;\n",
       "color: red;\n",
       "}\n",
       ".suggestion-name {\n",
       "font-weight: bold;\n",
       "}\n",
       "</style><span class='get-type'>string :: forall (m :: * -> *). CharParsing m => String -> m String</span>"
      ],
      "text/plain": [
       "string :: forall (m :: * -> *). CharParsing m => String -> m String"
      ]
     },
     "metadata": {},
     "output_type": "display_data"
    }
   ],
   "source": [
    ":t string"
   ]
  },
  {
   "cell_type": "code",
   "execution_count": 46,
   "metadata": {},
   "outputs": [
    {
     "data": {
      "text/plain": [
       "Success \"123\""
      ]
     },
     "metadata": {},
     "output_type": "display_data"
    }
   ],
   "source": [
    "parseString (string \"123\") mempty \"123\""
   ]
  },
  {
   "cell_type": "code",
   "execution_count": 48,
   "metadata": {},
   "outputs": [
    {
     "data": {
      "text/plain": [
       "Success \"1\""
      ]
     },
     "metadata": {},
     "output_type": "display_data"
    }
   ],
   "source": [
    "parseString (string \"1\") mempty \"123\""
   ]
  },
  {
   "cell_type": "code",
   "execution_count": 50,
   "metadata": {},
   "outputs": [
    {
     "data": {
      "text/plain": [
       "Success \"12\""
      ]
     },
     "metadata": {},
     "output_type": "display_data"
    }
   ],
   "source": [
    "parseString (string \"12\") mempty \"123\""
   ]
  },
  {
   "cell_type": "code",
   "execution_count": 52,
   "metadata": {},
   "outputs": [
    {
     "data": {
      "text/plain": [
       "Success \"123\""
      ]
     },
     "metadata": {},
     "output_type": "display_data"
    }
   ],
   "source": [
    "parseString (string \"123\") mempty \"123\""
   ]
  },
  {
   "cell_type": "code",
   "execution_count": 54,
   "metadata": {},
   "outputs": [],
   "source": [
    "string' :: String -> Parser String\n",
    "string' = traverse char"
   ]
  },
  {
   "cell_type": "code",
   "execution_count": 60,
   "metadata": {},
   "outputs": [
    {
     "data": {
      "text/plain": [
       "Success \"123\""
      ]
     },
     "metadata": {},
     "output_type": "display_data"
    }
   ],
   "source": [
    "parseString (string' \"123\") mempty \"123\""
   ]
  },
  {
   "cell_type": "code",
   "execution_count": 66,
   "metadata": {},
   "outputs": [],
   "source": [
    "import Control.Applicative"
   ]
  },
  {
   "cell_type": "code",
   "execution_count": 67,
   "metadata": {},
   "outputs": [
    {
     "data": {},
     "metadata": {},
     "output_type": "display_data"
    },
    {
     "data": {
      "text/html": [
       "<div style='background: rgb(247, 247, 247);'><form><textarea id='code'>class Applicative f => Alternative (f :: * -> *) where\n",
       "  empty :: f a\n",
       "  (<|>) :: f a -> f a -> f a\n",
       "  some :: f a -> f [a]\n",
       "  many :: f a -> f [a]\n",
       "  {-# MINIMAL empty, (<|>) #-}\n",
       "  \t-- Defined in ‘GHC.Base’\n",
       "instance Alternative ZipList -- Defined in ‘Control.Applicative’\n",
       "instance GHC.Base.MonadPlus m => Alternative (WrappedMonad m) -- Defined in ‘Control.Applicative’\n",
       "instance (Control.Arrow.ArrowZero a, Control.Arrow.ArrowPlus a) => Alternative (WrappedArrow a b) -- Defined in ‘Control.Applicative’\n",
       "instance Alternative Result -- Defined in ‘Text.Trifecta.Result’\n",
       "instance Alternative m => Alternative (Unspaced m) -- Defined in ‘Text.Parser.Token’\n",
       "instance Alternative m => Alternative (Unlined m) -- Defined in ‘Text.Parser.Token’\n",
       "instance Alternative m => Alternative (Unhighlighted m) -- Defined in ‘Text.Parser.Token’\n",
       "instance Alternative Parser -- Defined in ‘Text.Trifecta.Parser’\n",
       "instance Alternative [] -- Defined in ‘GHC.Base’\n",
       "instance Alternative Maybe -- Defined in ‘GHC.Base’\n",
       "instance Alternative IO -- Defined in ‘GHC.Base’\n",
       "instance [safe] Control.Monad.Trans.Error.Error e => Alternative (Either e) -- Defined in ‘Control.Monad.Trans.Error’\n",
       "</textarea></form></div><script>CodeMirror.fromTextArea(document.getElementById('code'), {mode: 'haskell', readOnly: 'nocursor'});</script>"
      ],
      "text/plain": [
       "class Applicative f => Alternative (f :: * -> *) where\n",
       "  empty :: f a\n",
       "  (<|>) :: f a -> f a -> f a\n",
       "  some :: f a -> f [a]\n",
       "  many :: f a -> f [a]\n",
       "  {-# MINIMAL empty, (<|>) #-}\n",
       "  \t-- Defined in ‘GHC.Base’\n",
       "instance Alternative ZipList -- Defined in ‘Control.Applicative’\n",
       "instance GHC.Base.MonadPlus m => Alternative (WrappedMonad m) -- Defined in ‘Control.Applicative’\n",
       "instance (Control.Arrow.ArrowZero a, Control.Arrow.ArrowPlus a) => Alternative (WrappedArrow a b) -- Defined in ‘Control.Applicative’\n",
       "instance Alternative Result -- Defined in ‘Text.Trifecta.Result’\n",
       "instance Alternative m => Alternative (Unspaced m) -- Defined in ‘Text.Parser.Token’\n",
       "instance Alternative m => Alternative (Unlined m) -- Defined in ‘Text.Parser.Token’\n",
       "instance Alternative m => Alternative (Unhighlighted m) -- Defined in ‘Text.Parser.Token’\n",
       "instance Alternative Parser -- Defined in ‘Text.Trifecta.Parser’\n",
       "instance Alternative [] -- Defined in ‘GHC.Base’\n",
       "instance Alternative Maybe -- Defined in ‘GHC.Base’\n",
       "instance Alternative IO -- Defined in ‘GHC.Base’\n",
       "instance [safe] Control.Monad.Trans.Error.Error e => Alternative (Either e) -- Defined in ‘Control.Monad.Trans.Error’"
      ]
     },
     "metadata": {},
     "output_type": "display_data"
    }
   ],
   "source": [
    ":info Alternative"
   ]
  },
  {
   "cell_type": "code",
   "execution_count": 69,
   "metadata": {},
   "outputs": [
    {
     "data": {},
     "metadata": {},
     "output_type": "display_data"
    },
    {
     "data": {
      "text/html": [
       "<div style='background: rgb(247, 247, 247);'><form><textarea id='code'>newtype Parser a\n",
       "  = Parser {unparser :: forall r.\n",
       "                        (a -> Err -> Text.Trifecta.Util.It.It Rope r)\n",
       "                        -> (Err -> Text.Trifecta.Util.It.It Rope r)\n",
       "                        -> (a -> Data.Set.Internal.Set String -> Text.Trifecta.Delta.Delta -> Data.ByteString.Internal.ByteString -> Text.Trifecta.Util.It.It Rope r)\n",
       "                        -> (ErrInfo -> Text.Trifecta.Util.It.It Rope r)\n",
       "                        -> Text.Trifecta.Delta.Delta\n",
       "                        -> Data.ByteString.Internal.ByteString\n",
       "                        -> Text.Trifecta.Util.It.It Rope r}\n",
       "  \t-- Defined in ‘Text.Trifecta.Parser’\n",
       "instance Functor Parser -- Defined in ‘Text.Trifecta.Parser’\n",
       "instance (Semigroup a, Monoid a) => Monoid (Parser a) -- Defined in ‘Text.Trifecta.Parser’\n",
       "instance Semigroup a => Semigroup (Parser a) -- Defined in ‘Text.Trifecta.Parser’\n",
       "instance Alternative Parser -- Defined in ‘Text.Trifecta.Parser’\n",
       "instance Applicative Parser -- Defined in ‘Text.Trifecta.Parser’\n",
       "instance Monad Parser -- Defined in ‘Text.Trifecta.Parser’\n",
       "instance CharParsing Parser -- Defined in ‘Text.Trifecta.Parser’\n",
       "instance DeltaParsing Parser -- Defined in ‘Text.Trifecta.Parser’\n",
       "instance Errable Parser -- Defined in ‘Text.Trifecta.Parser’\n",
       "instance Parsing Parser -- Defined in ‘Text.Trifecta.Parser’\n",
       "instance TokenParsing Parser -- Defined in ‘Text.Trifecta.Parser’\n",
       "</textarea></form></div><script>CodeMirror.fromTextArea(document.getElementById('code'), {mode: 'haskell', readOnly: 'nocursor'});</script>"
      ],
      "text/plain": [
       "newtype Parser a\n",
       "  = Parser {unparser :: forall r.\n",
       "                        (a -> Err -> Text.Trifecta.Util.It.It Rope r)\n",
       "                        -> (Err -> Text.Trifecta.Util.It.It Rope r)\n",
       "                        -> (a -> Data.Set.Internal.Set String -> Text.Trifecta.Delta.Delta -> Data.ByteString.Internal.ByteString -> Text.Trifecta.Util.It.It Rope r)\n",
       "                        -> (ErrInfo -> Text.Trifecta.Util.It.It Rope r)\n",
       "                        -> Text.Trifecta.Delta.Delta\n",
       "                        -> Data.ByteString.Internal.ByteString\n",
       "                        -> Text.Trifecta.Util.It.It Rope r}\n",
       "  \t-- Defined in ‘Text.Trifecta.Parser’\n",
       "instance Functor Parser -- Defined in ‘Text.Trifecta.Parser’\n",
       "instance (Semigroup a, Monoid a) => Monoid (Parser a) -- Defined in ‘Text.Trifecta.Parser’\n",
       "instance Semigroup a => Semigroup (Parser a) -- Defined in ‘Text.Trifecta.Parser’\n",
       "instance Alternative Parser -- Defined in ‘Text.Trifecta.Parser’\n",
       "instance Applicative Parser -- Defined in ‘Text.Trifecta.Parser’\n",
       "instance Monad Parser -- Defined in ‘Text.Trifecta.Parser’\n",
       "instance CharParsing Parser -- Defined in ‘Text.Trifecta.Parser’\n",
       "instance DeltaParsing Parser -- Defined in ‘Text.Trifecta.Parser’\n",
       "instance Errable Parser -- Defined in ‘Text.Trifecta.Parser’\n",
       "instance Parsing Parser -- Defined in ‘Text.Trifecta.Parser’\n",
       "instance TokenParsing Parser -- Defined in ‘Text.Trifecta.Parser’"
      ]
     },
     "metadata": {},
     "output_type": "display_data"
    }
   ],
   "source": [
    ":info Parser"
   ]
  },
  {
   "cell_type": "code",
   "execution_count": 72,
   "metadata": {},
   "outputs": [
    {
     "data": {
      "text/plain": [
       "Success '1'"
      ]
     },
     "metadata": {},
     "output_type": "display_data"
    }
   ],
   "source": [
    "parseString (stop <|> one) mempty \"123\""
   ]
  },
  {
   "cell_type": "code",
   "execution_count": 79,
   "metadata": {},
   "outputs": [
    {
     "data": {
      "text/plain": [
       "Success '1'"
      ]
     },
     "metadata": {},
     "output_type": "display_data"
    }
   ],
   "source": [
    "parseString (one <|> stop) mempty \"123\""
   ]
  },
  {
   "cell_type": "code",
   "execution_count": 86,
   "metadata": {},
   "outputs": [],
   "source": [
    "parser = (string \"123\" <* eof) <|> (string \"12\" <* eof) <|> (string \"1\" <* eof)"
   ]
  },
  {
   "cell_type": "code",
   "execution_count": 87,
   "metadata": {},
   "outputs": [
    {
     "data": {
      "text/plain": [
       "Success \"123\""
      ]
     },
     "metadata": {},
     "output_type": "display_data"
    }
   ],
   "source": [
    "parseString parser mempty \"123\""
   ]
  },
  {
   "cell_type": "code",
   "execution_count": 88,
   "metadata": {},
   "outputs": [
    {
     "data": {
      "text/plain": [
       "Success \"12\""
      ]
     },
     "metadata": {},
     "output_type": "display_data"
    }
   ],
   "source": [
    "parseString parser mempty \"12\""
   ]
  },
  {
   "cell_type": "code",
   "execution_count": 90,
   "metadata": {},
   "outputs": [
    {
     "data": {
      "text/plain": [
       "Success \"1\""
      ]
     },
     "metadata": {},
     "output_type": "display_data"
    }
   ],
   "source": [
    "parseString parser mempty \"1\""
   ]
  },
  {
   "cell_type": "code",
   "execution_count": 92,
   "metadata": {},
   "outputs": [
    {
     "data": {
      "text/plain": [
       "Failure (ErrInfo {_errDoc = \u001b[1m(interactive)\u001b[0m:\u001b[1m1\u001b[0m:\u001b[1m4\u001b[0m: \u001b[91merror\u001b[0m: expected: end of input\n",
       "1234\u001b[1m\u001b[94m<EOF>\u001b[0;1m\u001b[0m \n",
       "   \u001b[92m^\u001b[0m      , _errDeltas = [Columns 3 3]})"
      ]
     },
     "metadata": {},
     "output_type": "display_data"
    }
   ],
   "source": [
    "parseString parser mempty \"1234\""
   ]
  },
  {
   "cell_type": "code",
   "execution_count": 94,
   "metadata": {},
   "outputs": [
    {
     "data": {
      "text/plain": [
       "Failure (ErrInfo {_errDoc = \u001b[1m(interactive)\u001b[0m:\u001b[1m1\u001b[0m:\u001b[1m1\u001b[0m: \u001b[91merror\u001b[0m: expected: \"1\",\n",
       "    \"12\", \"123\"\n",
       "2\u001b[1m\u001b[94m<EOF>\u001b[0;1m\u001b[0m \n",
       "\u001b[92m^\u001b[0m      , _errDeltas = [Columns 0 0]})"
      ]
     },
     "metadata": {},
     "output_type": "display_data"
    }
   ],
   "source": [
    "parseString parser mempty \"2\""
   ]
  },
  {
   "cell_type": "code",
   "execution_count": null,
   "metadata": {},
   "outputs": [],
   "source": []
  }
 ],
 "metadata": {
  "kernelspec": {
   "display_name": "Haskell",
   "language": "haskell",
   "name": "haskell"
  },
  "language_info": {
   "codemirror_mode": "ihaskell",
   "file_extension": ".hs",
   "name": "haskell",
   "pygments_lexer": "Haskell",
   "version": "8.6.5"
  }
 },
 "nbformat": 4,
 "nbformat_minor": 4
}

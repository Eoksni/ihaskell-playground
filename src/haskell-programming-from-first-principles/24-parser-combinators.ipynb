{
 "cells": [
  {
   "cell_type": "markdown",
   "metadata": {},
   "source": [
    "# Chapter 24: Parser Combinators"
   ]
  },
  {
   "cell_type": "code",
   "execution_count": 1,
   "metadata": {},
   "outputs": [
    {
     "data": {
      "text/plain": []
     },
     "metadata": {},
     "output_type": "display_data"
    }
   ],
   "source": [
    ":!stack install trifecta parsers"
   ]
  },
  {
   "cell_type": "code",
   "execution_count": 2,
   "metadata": {},
   "outputs": [],
   "source": [
    "import Text.Trifecta"
   ]
  },
  {
   "cell_type": "code",
   "execution_count": 3,
   "metadata": {},
   "outputs": [],
   "source": [
    "stop :: Parser a\n",
    "stop = unexpected \"stop\""
   ]
  },
  {
   "cell_type": "code",
   "execution_count": 4,
   "metadata": {},
   "outputs": [],
   "source": [
    "one :: Parser Char\n",
    "one = char '1'"
   ]
  },
  {
   "cell_type": "code",
   "execution_count": 5,
   "metadata": {},
   "outputs": [],
   "source": [
    "one' :: Parser a\n",
    "one' = one >> stop"
   ]
  },
  {
   "cell_type": "code",
   "execution_count": 6,
   "metadata": {},
   "outputs": [],
   "source": [
    "oneTwo = char '1' >> char '2'\n",
    "\n",
    "oneTwo' = oneTwo >> stop\n",
    "\n",
    "testParse' :: String -> Parser Char -> Result Char\n",
    "testParse' s p = parseString p mempty s\n",
    "\n",
    "testParse :: Parser Char -> Result Char\n",
    "testParse = testParse' \"123\""
   ]
  },
  {
   "cell_type": "code",
   "execution_count": 7,
   "metadata": {},
   "outputs": [
    {
     "data": {
      "text/html": [
       "<style>/* Styles used for the Hoogle display in the pager */\n",
       ".hoogle-doc {\n",
       "display: block;\n",
       "padding-bottom: 1.3em;\n",
       "padding-left: 0.4em;\n",
       "}\n",
       ".hoogle-code {\n",
       "display: block;\n",
       "font-family: monospace;\n",
       "white-space: pre;\n",
       "}\n",
       ".hoogle-text {\n",
       "display: block;\n",
       "}\n",
       ".hoogle-name {\n",
       "color: green;\n",
       "font-weight: bold;\n",
       "}\n",
       ".hoogle-head {\n",
       "font-weight: bold;\n",
       "}\n",
       ".hoogle-sub {\n",
       "display: block;\n",
       "margin-left: 0.4em;\n",
       "}\n",
       ".hoogle-package {\n",
       "font-weight: bold;\n",
       "font-style: italic;\n",
       "}\n",
       ".hoogle-module {\n",
       "font-weight: bold;\n",
       "}\n",
       ".hoogle-class {\n",
       "font-weight: bold;\n",
       "}\n",
       ".get-type {\n",
       "color: green;\n",
       "font-weight: bold;\n",
       "font-family: monospace;\n",
       "display: block;\n",
       "white-space: pre-wrap;\n",
       "}\n",
       ".show-type {\n",
       "color: green;\n",
       "font-weight: bold;\n",
       "font-family: monospace;\n",
       "margin-left: 1em;\n",
       "}\n",
       ".mono {\n",
       "font-family: monospace;\n",
       "display: block;\n",
       "}\n",
       ".err-msg {\n",
       "color: red;\n",
       "font-style: italic;\n",
       "font-family: monospace;\n",
       "white-space: pre;\n",
       "display: block;\n",
       "}\n",
       "#unshowable {\n",
       "color: red;\n",
       "font-weight: bold;\n",
       "}\n",
       ".err-msg.in.collapse {\n",
       "padding-top: 0.7em;\n",
       "}\n",
       ".highlight-code {\n",
       "white-space: pre;\n",
       "font-family: monospace;\n",
       "}\n",
       ".suggestion-warning { \n",
       "font-weight: bold;\n",
       "color: rgb(200, 130, 0);\n",
       "}\n",
       ".suggestion-error { \n",
       "font-weight: bold;\n",
       "color: red;\n",
       "}\n",
       ".suggestion-name {\n",
       "font-weight: bold;\n",
       "}\n",
       "</style><span class='get-type'>parseString :: forall a. Parser a -> Delta -> String -> Result a</span>"
      ],
      "text/plain": [
       "parseString :: forall a. Parser a -> Delta -> String -> Result a"
      ]
     },
     "metadata": {},
     "output_type": "display_data"
    }
   ],
   "source": [
    ":t parseString"
   ]
  },
  {
   "cell_type": "code",
   "execution_count": 8,
   "metadata": {},
   "outputs": [
    {
     "data": {
      "text/plain": [
       "Failure (ErrInfo {_errDoc = \u001b[1m(interactive)\u001b[0m:\u001b[1m1\u001b[0m:\u001b[1m1\u001b[0m: \u001b[91merror\u001b[0m: unexpected\n",
       "    stop\n",
       "123\u001b[1m\u001b[94m<EOF>\u001b[0;1m\u001b[0m \n",
       "\u001b[92m^\u001b[0m        , _errDeltas = [Columns 0 0]})"
      ]
     },
     "metadata": {},
     "output_type": "display_data"
    }
   ],
   "source": [
    "testParse stop"
   ]
  },
  {
   "cell_type": "code",
   "execution_count": 9,
   "metadata": {},
   "outputs": [
    {
     "data": {
      "text/plain": [
       "Success '1'"
      ]
     },
     "metadata": {},
     "output_type": "display_data"
    }
   ],
   "source": [
    "testParse one"
   ]
  },
  {
   "cell_type": "code",
   "execution_count": 10,
   "metadata": {},
   "outputs": [
    {
     "data": {
      "text/plain": [
       "Failure (ErrInfo {_errDoc = \u001b[1m(interactive)\u001b[0m:\u001b[1m1\u001b[0m:\u001b[1m2\u001b[0m: \u001b[91merror\u001b[0m: unexpected\n",
       "    stop\n",
       "123\u001b[1m\u001b[94m<EOF>\u001b[0;1m\u001b[0m \n",
       " \u001b[92m^\u001b[0m       , _errDeltas = [Columns 1 1]})"
      ]
     },
     "metadata": {},
     "output_type": "display_data"
    }
   ],
   "source": [
    "testParse one'"
   ]
  },
  {
   "cell_type": "code",
   "execution_count": 11,
   "metadata": {},
   "outputs": [
    {
     "data": {
      "text/plain": [
       "Success '2'"
      ]
     },
     "metadata": {},
     "output_type": "display_data"
    }
   ],
   "source": [
    "testParse oneTwo"
   ]
  },
  {
   "cell_type": "code",
   "execution_count": 12,
   "metadata": {},
   "outputs": [
    {
     "data": {
      "text/plain": [
       "Failure (ErrInfo {_errDoc = \u001b[1m(interactive)\u001b[0m:\u001b[1m1\u001b[0m:\u001b[1m3\u001b[0m: \u001b[91merror\u001b[0m: unexpected\n",
       "    stop\n",
       "123\u001b[1m\u001b[94m<EOF>\u001b[0;1m\u001b[0m \n",
       "  \u001b[92m^\u001b[0m      , _errDeltas = [Columns 2 2]})"
      ]
     },
     "metadata": {},
     "output_type": "display_data"
    }
   ],
   "source": [
    "testParse oneTwo'"
   ]
  },
  {
   "cell_type": "code",
   "execution_count": 13,
   "metadata": {},
   "outputs": [
    {
     "data": {
      "text/html": [
       "<style>/* Styles used for the Hoogle display in the pager */\n",
       ".hoogle-doc {\n",
       "display: block;\n",
       "padding-bottom: 1.3em;\n",
       "padding-left: 0.4em;\n",
       "}\n",
       ".hoogle-code {\n",
       "display: block;\n",
       "font-family: monospace;\n",
       "white-space: pre;\n",
       "}\n",
       ".hoogle-text {\n",
       "display: block;\n",
       "}\n",
       ".hoogle-name {\n",
       "color: green;\n",
       "font-weight: bold;\n",
       "}\n",
       ".hoogle-head {\n",
       "font-weight: bold;\n",
       "}\n",
       ".hoogle-sub {\n",
       "display: block;\n",
       "margin-left: 0.4em;\n",
       "}\n",
       ".hoogle-package {\n",
       "font-weight: bold;\n",
       "font-style: italic;\n",
       "}\n",
       ".hoogle-module {\n",
       "font-weight: bold;\n",
       "}\n",
       ".hoogle-class {\n",
       "font-weight: bold;\n",
       "}\n",
       ".get-type {\n",
       "color: green;\n",
       "font-weight: bold;\n",
       "font-family: monospace;\n",
       "display: block;\n",
       "white-space: pre-wrap;\n",
       "}\n",
       ".show-type {\n",
       "color: green;\n",
       "font-weight: bold;\n",
       "font-family: monospace;\n",
       "margin-left: 1em;\n",
       "}\n",
       ".mono {\n",
       "font-family: monospace;\n",
       "display: block;\n",
       "}\n",
       ".err-msg {\n",
       "color: red;\n",
       "font-style: italic;\n",
       "font-family: monospace;\n",
       "white-space: pre;\n",
       "display: block;\n",
       "}\n",
       "#unshowable {\n",
       "color: red;\n",
       "font-weight: bold;\n",
       "}\n",
       ".err-msg.in.collapse {\n",
       "padding-top: 0.7em;\n",
       "}\n",
       ".highlight-code {\n",
       "white-space: pre;\n",
       "font-family: monospace;\n",
       "}\n",
       ".suggestion-warning { \n",
       "font-weight: bold;\n",
       "color: rgb(200, 130, 0);\n",
       "}\n",
       ".suggestion-error { \n",
       "font-weight: bold;\n",
       "color: red;\n",
       "}\n",
       ".suggestion-name {\n",
       "font-weight: bold;\n",
       "}\n",
       "</style><span class='get-type'>eof :: forall (m :: * -> *). Parsing m => m ()</span>"
      ],
      "text/plain": [
       "eof :: forall (m :: * -> *). Parsing m => m ()"
      ]
     },
     "metadata": {},
     "output_type": "display_data"
    }
   ],
   "source": [
    ":t eof"
   ]
  },
  {
   "cell_type": "code",
   "execution_count": 14,
   "metadata": {},
   "outputs": [
    {
     "data": {
      "text/plain": [
       "Failure (ErrInfo {_errDoc = \u001b[1m(interactive)\u001b[0m:\u001b[1m1\u001b[0m:\u001b[1m2\u001b[0m: \u001b[91merror\u001b[0m: expected: end of input\n",
       "123\u001b[1m\u001b[94m<EOF>\u001b[0;1m\u001b[0m \n",
       " \u001b[92m^\u001b[0m       , _errDeltas = [Columns 1 1]})"
      ]
     },
     "metadata": {},
     "output_type": "display_data"
    }
   ],
   "source": [
    "one'' = one <* eof\n",
    "testParse one''"
   ]
  },
  {
   "cell_type": "code",
   "execution_count": 15,
   "metadata": {},
   "outputs": [
    {
     "data": {
      "text/plain": [
       "Success '1'"
      ]
     },
     "metadata": {},
     "output_type": "display_data"
    }
   ],
   "source": [
    "testParse' \"1\" one''"
   ]
  },
  {
   "cell_type": "code",
   "execution_count": 16,
   "metadata": {},
   "outputs": [
    {
     "data": {
      "text/plain": [
       "Failure (ErrInfo {_errDoc = \u001b[1m(interactive)\u001b[0m:\u001b[1m1\u001b[0m:\u001b[1m3\u001b[0m: \u001b[91merror\u001b[0m: expected: end of input\n",
       "123\u001b[1m\u001b[94m<EOF>\u001b[0;1m\u001b[0m \n",
       "  \u001b[92m^\u001b[0m      , _errDeltas = [Columns 2 2]})"
      ]
     },
     "metadata": {},
     "output_type": "display_data"
    }
   ],
   "source": [
    "oneTwo'' = oneTwo <* eof\n",
    "testParse oneTwo''"
   ]
  },
  {
   "cell_type": "code",
   "execution_count": 17,
   "metadata": {},
   "outputs": [
    {
     "data": {
      "text/plain": [
       "Success '2'"
      ]
     },
     "metadata": {},
     "output_type": "display_data"
    }
   ],
   "source": [
    "testParse' \"12\" oneTwo''"
   ]
  },
  {
   "cell_type": "code",
   "execution_count": 18,
   "metadata": {},
   "outputs": [
    {
     "data": {
      "text/html": [
       "<style>/* Styles used for the Hoogle display in the pager */\n",
       ".hoogle-doc {\n",
       "display: block;\n",
       "padding-bottom: 1.3em;\n",
       "padding-left: 0.4em;\n",
       "}\n",
       ".hoogle-code {\n",
       "display: block;\n",
       "font-family: monospace;\n",
       "white-space: pre;\n",
       "}\n",
       ".hoogle-text {\n",
       "display: block;\n",
       "}\n",
       ".hoogle-name {\n",
       "color: green;\n",
       "font-weight: bold;\n",
       "}\n",
       ".hoogle-head {\n",
       "font-weight: bold;\n",
       "}\n",
       ".hoogle-sub {\n",
       "display: block;\n",
       "margin-left: 0.4em;\n",
       "}\n",
       ".hoogle-package {\n",
       "font-weight: bold;\n",
       "font-style: italic;\n",
       "}\n",
       ".hoogle-module {\n",
       "font-weight: bold;\n",
       "}\n",
       ".hoogle-class {\n",
       "font-weight: bold;\n",
       "}\n",
       ".get-type {\n",
       "color: green;\n",
       "font-weight: bold;\n",
       "font-family: monospace;\n",
       "display: block;\n",
       "white-space: pre-wrap;\n",
       "}\n",
       ".show-type {\n",
       "color: green;\n",
       "font-weight: bold;\n",
       "font-family: monospace;\n",
       "margin-left: 1em;\n",
       "}\n",
       ".mono {\n",
       "font-family: monospace;\n",
       "display: block;\n",
       "}\n",
       ".err-msg {\n",
       "color: red;\n",
       "font-style: italic;\n",
       "font-family: monospace;\n",
       "white-space: pre;\n",
       "display: block;\n",
       "}\n",
       "#unshowable {\n",
       "color: red;\n",
       "font-weight: bold;\n",
       "}\n",
       ".err-msg.in.collapse {\n",
       "padding-top: 0.7em;\n",
       "}\n",
       ".highlight-code {\n",
       "white-space: pre;\n",
       "font-family: monospace;\n",
       "}\n",
       ".suggestion-warning { \n",
       "font-weight: bold;\n",
       "color: rgb(200, 130, 0);\n",
       "}\n",
       ".suggestion-error { \n",
       "font-weight: bold;\n",
       "color: red;\n",
       "}\n",
       ".suggestion-name {\n",
       "font-weight: bold;\n",
       "}\n",
       "</style><span class='get-type'>string :: forall (m :: * -> *). CharParsing m => String -> m String</span>"
      ],
      "text/plain": [
       "string :: forall (m :: * -> *). CharParsing m => String -> m String"
      ]
     },
     "metadata": {},
     "output_type": "display_data"
    }
   ],
   "source": [
    ":t string"
   ]
  },
  {
   "cell_type": "code",
   "execution_count": 19,
   "metadata": {},
   "outputs": [
    {
     "data": {
      "text/plain": [
       "Success \"123\""
      ]
     },
     "metadata": {},
     "output_type": "display_data"
    }
   ],
   "source": [
    "parseString (string \"123\") mempty \"123\""
   ]
  },
  {
   "cell_type": "code",
   "execution_count": 20,
   "metadata": {},
   "outputs": [
    {
     "data": {
      "text/plain": [
       "Success \"1\""
      ]
     },
     "metadata": {},
     "output_type": "display_data"
    }
   ],
   "source": [
    "parseString (string \"1\") mempty \"123\""
   ]
  },
  {
   "cell_type": "code",
   "execution_count": 21,
   "metadata": {},
   "outputs": [
    {
     "data": {
      "text/plain": [
       "Success \"12\""
      ]
     },
     "metadata": {},
     "output_type": "display_data"
    }
   ],
   "source": [
    "parseString (string \"12\") mempty \"123\""
   ]
  },
  {
   "cell_type": "code",
   "execution_count": 22,
   "metadata": {},
   "outputs": [
    {
     "data": {
      "text/plain": [
       "Success \"123\""
      ]
     },
     "metadata": {},
     "output_type": "display_data"
    }
   ],
   "source": [
    "parseString (string \"123\") mempty \"123\""
   ]
  },
  {
   "cell_type": "code",
   "execution_count": 23,
   "metadata": {},
   "outputs": [],
   "source": [
    "string' :: String -> Parser String\n",
    "string' = traverse char"
   ]
  },
  {
   "cell_type": "code",
   "execution_count": 24,
   "metadata": {},
   "outputs": [
    {
     "data": {
      "text/plain": [
       "Success \"123\""
      ]
     },
     "metadata": {},
     "output_type": "display_data"
    }
   ],
   "source": [
    "parseString (string' \"123\") mempty \"123\""
   ]
  },
  {
   "cell_type": "code",
   "execution_count": 25,
   "metadata": {},
   "outputs": [],
   "source": [
    "import Control.Applicative"
   ]
  },
  {
   "cell_type": "code",
   "execution_count": 26,
   "metadata": {},
   "outputs": [
    {
     "data": {},
     "metadata": {},
     "output_type": "display_data"
    },
    {
     "data": {
      "text/html": [
       "<div style='background: rgb(247, 247, 247);'><form><textarea id='code'>class Applicative f => Alternative (f :: * -> *) where\n",
       "  empty :: f a\n",
       "  (<|>) :: f a -> f a -> f a\n",
       "  some :: f a -> f [a]\n",
       "  many :: f a -> f [a]\n",
       "  {-# MINIMAL empty, (<|>) #-}\n",
       "  \t-- Defined in ‘GHC.Base’\n",
       "instance Alternative m => Alternative (Unspaced m) -- Defined in ‘Text.Parser.Token’\n",
       "instance Alternative m => Alternative (Unlined m) -- Defined in ‘Text.Parser.Token’\n",
       "instance Alternative m => Alternative (Unhighlighted m) -- Defined in ‘Text.Parser.Token’\n",
       "instance Alternative ZipList -- Defined in ‘Control.Applicative’\n",
       "instance GHC.Base.MonadPlus m => Alternative (WrappedMonad m) -- Defined in ‘Control.Applicative’\n",
       "instance (Control.Arrow.ArrowZero a, Control.Arrow.ArrowPlus a) => Alternative (WrappedArrow a b) -- Defined in ‘Control.Applicative’\n",
       "instance Alternative Result -- Defined in ‘Text.Trifecta.Result’\n",
       "instance Alternative Parser -- Defined in ‘Text.Trifecta.Parser’\n",
       "instance Alternative [] -- Defined in ‘GHC.Base’\n",
       "instance Alternative Maybe -- Defined in ‘GHC.Base’\n",
       "instance Alternative IO -- Defined in ‘GHC.Base’\n",
       "instance [safe] Control.Monad.Trans.Error.Error e => Alternative (Either e) -- Defined in ‘Control.Monad.Trans.Error’\n",
       "</textarea></form></div><script>CodeMirror.fromTextArea(document.getElementById('code'), {mode: 'haskell', readOnly: 'nocursor'});</script>"
      ],
      "text/plain": [
       "class Applicative f => Alternative (f :: * -> *) where\n",
       "  empty :: f a\n",
       "  (<|>) :: f a -> f a -> f a\n",
       "  some :: f a -> f [a]\n",
       "  many :: f a -> f [a]\n",
       "  {-# MINIMAL empty, (<|>) #-}\n",
       "  \t-- Defined in ‘GHC.Base’\n",
       "instance Alternative m => Alternative (Unspaced m) -- Defined in ‘Text.Parser.Token’\n",
       "instance Alternative m => Alternative (Unlined m) -- Defined in ‘Text.Parser.Token’\n",
       "instance Alternative m => Alternative (Unhighlighted m) -- Defined in ‘Text.Parser.Token’\n",
       "instance Alternative ZipList -- Defined in ‘Control.Applicative’\n",
       "instance GHC.Base.MonadPlus m => Alternative (WrappedMonad m) -- Defined in ‘Control.Applicative’\n",
       "instance (Control.Arrow.ArrowZero a, Control.Arrow.ArrowPlus a) => Alternative (WrappedArrow a b) -- Defined in ‘Control.Applicative’\n",
       "instance Alternative Result -- Defined in ‘Text.Trifecta.Result’\n",
       "instance Alternative Parser -- Defined in ‘Text.Trifecta.Parser’\n",
       "instance Alternative [] -- Defined in ‘GHC.Base’\n",
       "instance Alternative Maybe -- Defined in ‘GHC.Base’\n",
       "instance Alternative IO -- Defined in ‘GHC.Base’\n",
       "instance [safe] Control.Monad.Trans.Error.Error e => Alternative (Either e) -- Defined in ‘Control.Monad.Trans.Error’"
      ]
     },
     "metadata": {},
     "output_type": "display_data"
    }
   ],
   "source": [
    ":info Alternative"
   ]
  },
  {
   "cell_type": "code",
   "execution_count": 27,
   "metadata": {},
   "outputs": [
    {
     "data": {},
     "metadata": {},
     "output_type": "display_data"
    },
    {
     "data": {
      "text/html": [
       "<div style='background: rgb(247, 247, 247);'><form><textarea id='code'>newtype Parser a\n",
       "  = Parser {unparser :: forall r.\n",
       "                        (a -> Err -> Text.Trifecta.Util.It.It Rope r)\n",
       "                        -> (Err -> Text.Trifecta.Util.It.It Rope r)\n",
       "                        -> (a -> Data.Set.Internal.Set String -> Text.Trifecta.Delta.Delta -> Data.ByteString.Internal.ByteString -> Text.Trifecta.Util.It.It Rope r)\n",
       "                        -> (ErrInfo -> Text.Trifecta.Util.It.It Rope r)\n",
       "                        -> Text.Trifecta.Delta.Delta\n",
       "                        -> Data.ByteString.Internal.ByteString\n",
       "                        -> Text.Trifecta.Util.It.It Rope r}\n",
       "  \t-- Defined in ‘Text.Trifecta.Parser’\n",
       "instance Functor Parser -- Defined in ‘Text.Trifecta.Parser’\n",
       "instance (Semigroup a, Monoid a) => Monoid (Parser a) -- Defined in ‘Text.Trifecta.Parser’\n",
       "instance Semigroup a => Semigroup (Parser a) -- Defined in ‘Text.Trifecta.Parser’\n",
       "instance Alternative Parser -- Defined in ‘Text.Trifecta.Parser’\n",
       "instance Applicative Parser -- Defined in ‘Text.Trifecta.Parser’\n",
       "instance Monad Parser -- Defined in ‘Text.Trifecta.Parser’\n",
       "instance CharParsing Parser -- Defined in ‘Text.Trifecta.Parser’\n",
       "instance DeltaParsing Parser -- Defined in ‘Text.Trifecta.Parser’\n",
       "instance Errable Parser -- Defined in ‘Text.Trifecta.Parser’\n",
       "instance Parsing Parser -- Defined in ‘Text.Trifecta.Parser’\n",
       "instance TokenParsing Parser -- Defined in ‘Text.Trifecta.Parser’\n",
       "</textarea></form></div><script>CodeMirror.fromTextArea(document.getElementById('code'), {mode: 'haskell', readOnly: 'nocursor'});</script>"
      ],
      "text/plain": [
       "newtype Parser a\n",
       "  = Parser {unparser :: forall r.\n",
       "                        (a -> Err -> Text.Trifecta.Util.It.It Rope r)\n",
       "                        -> (Err -> Text.Trifecta.Util.It.It Rope r)\n",
       "                        -> (a -> Data.Set.Internal.Set String -> Text.Trifecta.Delta.Delta -> Data.ByteString.Internal.ByteString -> Text.Trifecta.Util.It.It Rope r)\n",
       "                        -> (ErrInfo -> Text.Trifecta.Util.It.It Rope r)\n",
       "                        -> Text.Trifecta.Delta.Delta\n",
       "                        -> Data.ByteString.Internal.ByteString\n",
       "                        -> Text.Trifecta.Util.It.It Rope r}\n",
       "  \t-- Defined in ‘Text.Trifecta.Parser’\n",
       "instance Functor Parser -- Defined in ‘Text.Trifecta.Parser’\n",
       "instance (Semigroup a, Monoid a) => Monoid (Parser a) -- Defined in ‘Text.Trifecta.Parser’\n",
       "instance Semigroup a => Semigroup (Parser a) -- Defined in ‘Text.Trifecta.Parser’\n",
       "instance Alternative Parser -- Defined in ‘Text.Trifecta.Parser’\n",
       "instance Applicative Parser -- Defined in ‘Text.Trifecta.Parser’\n",
       "instance Monad Parser -- Defined in ‘Text.Trifecta.Parser’\n",
       "instance CharParsing Parser -- Defined in ‘Text.Trifecta.Parser’\n",
       "instance DeltaParsing Parser -- Defined in ‘Text.Trifecta.Parser’\n",
       "instance Errable Parser -- Defined in ‘Text.Trifecta.Parser’\n",
       "instance Parsing Parser -- Defined in ‘Text.Trifecta.Parser’\n",
       "instance TokenParsing Parser -- Defined in ‘Text.Trifecta.Parser’"
      ]
     },
     "metadata": {},
     "output_type": "display_data"
    }
   ],
   "source": [
    ":info Parser"
   ]
  },
  {
   "cell_type": "code",
   "execution_count": 28,
   "metadata": {},
   "outputs": [
    {
     "data": {
      "text/plain": [
       "Success '1'"
      ]
     },
     "metadata": {},
     "output_type": "display_data"
    }
   ],
   "source": [
    "parseString (stop <|> one) mempty \"123\""
   ]
  },
  {
   "cell_type": "code",
   "execution_count": 29,
   "metadata": {},
   "outputs": [
    {
     "data": {
      "text/plain": [
       "Success '1'"
      ]
     },
     "metadata": {},
     "output_type": "display_data"
    }
   ],
   "source": [
    "parseString (one <|> stop) mempty \"123\""
   ]
  },
  {
   "cell_type": "code",
   "execution_count": 30,
   "metadata": {},
   "outputs": [],
   "source": [
    "parser = (string \"123\" <* eof) <|> (string \"12\" <* eof) <|> (string \"1\" <* eof)"
   ]
  },
  {
   "cell_type": "code",
   "execution_count": 31,
   "metadata": {},
   "outputs": [
    {
     "data": {
      "text/plain": [
       "Success \"123\""
      ]
     },
     "metadata": {},
     "output_type": "display_data"
    }
   ],
   "source": [
    "parseString parser mempty \"123\""
   ]
  },
  {
   "cell_type": "code",
   "execution_count": 32,
   "metadata": {},
   "outputs": [
    {
     "data": {
      "text/plain": [
       "Success \"12\""
      ]
     },
     "metadata": {},
     "output_type": "display_data"
    }
   ],
   "source": [
    "parseString parser mempty \"12\""
   ]
  },
  {
   "cell_type": "code",
   "execution_count": 33,
   "metadata": {},
   "outputs": [
    {
     "data": {
      "text/plain": [
       "Success \"1\""
      ]
     },
     "metadata": {},
     "output_type": "display_data"
    }
   ],
   "source": [
    "parseString parser mempty \"1\""
   ]
  },
  {
   "cell_type": "code",
   "execution_count": 34,
   "metadata": {},
   "outputs": [
    {
     "data": {
      "text/plain": [
       "Failure (ErrInfo {_errDoc = \u001b[1m(interactive)\u001b[0m:\u001b[1m1\u001b[0m:\u001b[1m4\u001b[0m: \u001b[91merror\u001b[0m: expected: end of input\n",
       "1234\u001b[1m\u001b[94m<EOF>\u001b[0;1m\u001b[0m \n",
       "   \u001b[92m^\u001b[0m      , _errDeltas = [Columns 3 3]})"
      ]
     },
     "metadata": {},
     "output_type": "display_data"
    }
   ],
   "source": [
    "parseString parser mempty \"1234\""
   ]
  },
  {
   "cell_type": "code",
   "execution_count": 35,
   "metadata": {},
   "outputs": [
    {
     "data": {
      "text/plain": [
       "Failure (ErrInfo {_errDoc = \u001b[1m(interactive)\u001b[0m:\u001b[1m1\u001b[0m:\u001b[1m1\u001b[0m: \u001b[91merror\u001b[0m: expected: \"1\",\n",
       "    \"12\", \"123\"\n",
       "2\u001b[1m\u001b[94m<EOF>\u001b[0;1m\u001b[0m \n",
       "\u001b[92m^\u001b[0m      , _errDeltas = [Columns 0 0]})"
      ]
     },
     "metadata": {},
     "output_type": "display_data"
    }
   ],
   "source": [
    "parseString parser mempty \"2\""
   ]
  },
  {
   "cell_type": "markdown",
   "metadata": {},
   "source": [
    "---"
   ]
  },
  {
   "cell_type": "code",
   "execution_count": 36,
   "metadata": {},
   "outputs": [],
   "source": [
    "badFraction = \"1/0\"\n",
    "alsoBad = \"10\"\n",
    "shouldWork = \"1/2\"\n",
    "shouldAlsoWork = \"2/1\""
   ]
  },
  {
   "cell_type": "code",
   "execution_count": 37,
   "metadata": {},
   "outputs": [],
   "source": [
    "import Data.Ratio ((%))\n",
    "\n",
    "parseFraction :: Parser Rational\n",
    "parseFraction = do\n",
    "    numerator <- decimal\n",
    "    char '/'\n",
    "    denominator <- decimal\n",
    "    return (numerator % denominator)"
   ]
  },
  {
   "cell_type": "code",
   "execution_count": 38,
   "metadata": {},
   "outputs": [
    {
     "data": {
      "text/plain": [
       "Success (1 % 2)"
      ]
     },
     "metadata": {},
     "output_type": "display_data"
    },
    {
     "data": {
      "text/plain": [
       "Success (2 % 1)"
      ]
     },
     "metadata": {},
     "output_type": "display_data"
    }
   ],
   "source": [
    "parseString parseFraction mempty shouldWork\n",
    "parseString parseFraction mempty shouldAlsoWork"
   ]
  },
  {
   "cell_type": "code",
   "execution_count": 39,
   "metadata": {},
   "outputs": [
    {
     "ename": "",
     "evalue": "",
     "header": "MessageHeader {mhIdentifiers = [\"c5bed7e3-4079-415d-875f-7fd278982beb\"], mhParentHeader = Just (MessageHeader {mhIdentifiers = [\"c5bed7e3-4079-415d-875f-7fd278982beb\"], mhParentHeader = Nothing, mhMetadata = Metadata (fromList [(\"deletedCells\",Array []),(\"cellId\",String \"90563715-2661-4dec-9587-f4ba6afe78a5\")]), mhMessageId = UUID {uuidToString = \"ffface01-b4ae-4d73-9ce7-e17942b2be24\"}, mhSessionId = UUID {uuidToString = \"c5bed7e3-4079-415d-875f-7fd278982beb\"}, mhUsername = \"\", mhMsgType = ExecuteRequestMessage}), mhMetadata = Metadata (fromList []), mhMessageId = UUID {uuidToString = \"8fdfc5c3-b5f8-4d23-a1d0-379d234bb089\"}, mhSessionId = UUID {uuidToString = \"c5bed7e3-4079-415d-875f-7fd278982beb\"}, mhUsername = \"\", mhMsgType = ExecuteErrorMessage}",
     "output_type": "error",
     "traceback": [
      "Ratio has zero denominator"
     ]
    }
   ],
   "source": [
    "parseString parseFraction mempty badFraction"
   ]
  },
  {
   "cell_type": "code",
   "execution_count": 40,
   "metadata": {},
   "outputs": [
    {
     "data": {
      "text/plain": [
       "Failure (ErrInfo {_errDoc = \u001b[1m(interactive)\u001b[0m:\u001b[1m1\u001b[0m:\u001b[1m3\u001b[0m: \u001b[91merror\u001b[0m: unexpected\n",
       "    EOF, expected: \"/\", digit\n",
       "10\u001b[1m\u001b[94m<EOF>\u001b[0;1m\u001b[0m \n",
       "  \u001b[92m^\u001b[0m     , _errDeltas = [Columns 2 2]})"
      ]
     },
     "metadata": {},
     "output_type": "display_data"
    }
   ],
   "source": [
    "parseString parseFraction mempty alsoBad"
   ]
  },
  {
   "cell_type": "code",
   "execution_count": 41,
   "metadata": {},
   "outputs": [],
   "source": [
    "data EnsureResult\n",
    "    = EnsureSuccess\n",
    "    | EnsureFailure String\n",
    "\n",
    "ensureM' :: Monad m => (a -> EnsureResult) -> a -> m a\n",
    "ensureM' p a = case p a of\n",
    "    EnsureSuccess -> return a\n",
    "    EnsureFailure reason -> fail reason\n",
    "\n",
    "mkEnsureP :: String -> (a -> Bool) -> (a -> EnsureResult)\n",
    "mkEnsureP reason p = f . p where\n",
    "    f False = EnsureFailure reason\n",
    "    f True = EnsureSuccess\n",
    "    \n",
    "ensureM :: Monad m => String -> (a -> Bool) -> a -> m a\n",
    "ensureM reason p = ensureM' (mkEnsureP reason p)\n",
    "\n",
    "ensureNotZero :: Monad m => Integer -> m Integer\n",
    "ensureNotZero = ensureM \"must not be zero\" (/=0)\n",
    "\n",
    "decimalNonZero :: Parser Integer\n",
    "decimalNonZero = decimal >>= ensureNotZero        "
   ]
  },
  {
   "cell_type": "code",
   "execution_count": 42,
   "metadata": {},
   "outputs": [
    {
     "data": {
      "text/plain": [
       "Failure (ErrInfo {_errDoc = \u001b[1m(interactive)\u001b[0m:\u001b[1m1\u001b[0m:\u001b[1m4\u001b[0m: \u001b[91merror\u001b[0m: must\n",
       "    not be zero, expected: digit\n",
       "1/0\u001b[1m\u001b[94m<EOF>\u001b[0;1m\u001b[0m \n",
       "   \u001b[92m^\u001b[0m     , _errDeltas = [Columns 3 3]})"
      ]
     },
     "metadata": {},
     "output_type": "display_data"
    },
    {
     "data": {
      "text/plain": [
       "Success (1 % 2)"
      ]
     },
     "metadata": {},
     "output_type": "display_data"
    }
   ],
   "source": [
    "virtuousFraction :: Parser Rational\n",
    "virtuousFraction = do\n",
    "    numerator <- decimal\n",
    "    char '/'\n",
    "    denominator <- decimalNonZero\n",
    "    return (numerator % denominator)\n",
    "    \n",
    "parseString virtuousFraction mempty badFraction\n",
    "parseString virtuousFraction mempty shouldWork"
   ]
  },
  {
   "cell_type": "code",
   "execution_count": 43,
   "metadata": {},
   "outputs": [
    {
     "data": {
      "text/plain": [
       "Success 123"
      ]
     },
     "metadata": {},
     "output_type": "display_data"
    },
    {
     "data": {
      "text/plain": [
       "Failure (ErrInfo {_errDoc = \u001b[1m(interactive)\u001b[0m:\u001b[1m1\u001b[0m:\u001b[1m4\u001b[0m: \u001b[91merror\u001b[0m: expected: digit,\n",
       "    end of input\n",
       "123abc\u001b[1m\u001b[94m<EOF>\u001b[0;1m\u001b[0m \n",
       "   \u001b[92m^\u001b[0m        , _errDeltas = [Columns 3 3]})"
      ]
     },
     "metadata": {},
     "output_type": "display_data"
    }
   ],
   "source": [
    "parseString (integer <* eof) mempty \"123\"\n",
    "parseString (integer <* eof) mempty \"123abc\""
   ]
  },
  {
   "cell_type": "code",
   "execution_count": 44,
   "metadata": {},
   "outputs": [
    {
     "data": {
      "text/html": [
       "<style>/* Styles used for the Hoogle display in the pager */\n",
       ".hoogle-doc {\n",
       "display: block;\n",
       "padding-bottom: 1.3em;\n",
       "padding-left: 0.4em;\n",
       "}\n",
       ".hoogle-code {\n",
       "display: block;\n",
       "font-family: monospace;\n",
       "white-space: pre;\n",
       "}\n",
       ".hoogle-text {\n",
       "display: block;\n",
       "}\n",
       ".hoogle-name {\n",
       "color: green;\n",
       "font-weight: bold;\n",
       "}\n",
       ".hoogle-head {\n",
       "font-weight: bold;\n",
       "}\n",
       ".hoogle-sub {\n",
       "display: block;\n",
       "margin-left: 0.4em;\n",
       "}\n",
       ".hoogle-package {\n",
       "font-weight: bold;\n",
       "font-style: italic;\n",
       "}\n",
       ".hoogle-module {\n",
       "font-weight: bold;\n",
       "}\n",
       ".hoogle-class {\n",
       "font-weight: bold;\n",
       "}\n",
       ".get-type {\n",
       "color: green;\n",
       "font-weight: bold;\n",
       "font-family: monospace;\n",
       "display: block;\n",
       "white-space: pre-wrap;\n",
       "}\n",
       ".show-type {\n",
       "color: green;\n",
       "font-weight: bold;\n",
       "font-family: monospace;\n",
       "margin-left: 1em;\n",
       "}\n",
       ".mono {\n",
       "font-family: monospace;\n",
       "display: block;\n",
       "}\n",
       ".err-msg {\n",
       "color: red;\n",
       "font-style: italic;\n",
       "font-family: monospace;\n",
       "white-space: pre;\n",
       "display: block;\n",
       "}\n",
       "#unshowable {\n",
       "color: red;\n",
       "font-weight: bold;\n",
       "}\n",
       ".err-msg.in.collapse {\n",
       "padding-top: 0.7em;\n",
       "}\n",
       ".highlight-code {\n",
       "white-space: pre;\n",
       "font-family: monospace;\n",
       "}\n",
       ".suggestion-warning { \n",
       "font-weight: bold;\n",
       "color: rgb(200, 130, 0);\n",
       "}\n",
       ".suggestion-error { \n",
       "font-weight: bold;\n",
       "color: red;\n",
       "}\n",
       ".suggestion-name {\n",
       "font-weight: bold;\n",
       "}\n",
       "</style><span class='get-type'>skipMany :: forall (m :: * -> *) a. Parsing m => m a -> m ()</span>"
      ],
      "text/plain": [
       "skipMany :: forall (m :: * -> *) a. Parsing m => m a -> m ()"
      ]
     },
     "metadata": {},
     "output_type": "display_data"
    }
   ],
   "source": [
    ":t skipMany"
   ]
  },
  {
   "cell_type": "code",
   "execution_count": 45,
   "metadata": {},
   "outputs": [
    {
     "data": {},
     "metadata": {},
     "output_type": "display_data"
    },
    {
     "data": {
      "text/html": [
       "<div style='background: rgb(247, 247, 247);'><form><textarea id='code'>class Alternative m => Parsing (m :: * -> *) where\n",
       "  ...\n",
       "  skipMany :: m a -> m ()\n",
       "  ...\n",
       "  \t-- Defined in ‘Text.Parser.Combinators’\n",
       "</textarea></form></div><script>CodeMirror.fromTextArea(document.getElementById('code'), {mode: 'haskell', readOnly: 'nocursor'});</script>"
      ],
      "text/plain": [
       "class Alternative m => Parsing (m :: * -> *) where\n",
       "  ...\n",
       "  skipMany :: m a -> m ()\n",
       "  ...\n",
       "  \t-- Defined in ‘Text.Parser.Combinators’"
      ]
     },
     "metadata": {},
     "output_type": "display_data"
    }
   ],
   "source": [
    ":info skipMany"
   ]
  },
  {
   "cell_type": "code",
   "execution_count": 46,
   "metadata": {},
   "outputs": [
    {
     "data": {
      "text/html": [
       "<style>/* Styles used for the Hoogle display in the pager */\n",
       ".hoogle-doc {\n",
       "display: block;\n",
       "padding-bottom: 1.3em;\n",
       "padding-left: 0.4em;\n",
       "}\n",
       ".hoogle-code {\n",
       "display: block;\n",
       "font-family: monospace;\n",
       "white-space: pre;\n",
       "}\n",
       ".hoogle-text {\n",
       "display: block;\n",
       "}\n",
       ".hoogle-name {\n",
       "color: green;\n",
       "font-weight: bold;\n",
       "}\n",
       ".hoogle-head {\n",
       "font-weight: bold;\n",
       "}\n",
       ".hoogle-sub {\n",
       "display: block;\n",
       "margin-left: 0.4em;\n",
       "}\n",
       ".hoogle-package {\n",
       "font-weight: bold;\n",
       "font-style: italic;\n",
       "}\n",
       ".hoogle-module {\n",
       "font-weight: bold;\n",
       "}\n",
       ".hoogle-class {\n",
       "font-weight: bold;\n",
       "}\n",
       ".get-type {\n",
       "color: green;\n",
       "font-weight: bold;\n",
       "font-family: monospace;\n",
       "display: block;\n",
       "white-space: pre-wrap;\n",
       "}\n",
       ".show-type {\n",
       "color: green;\n",
       "font-weight: bold;\n",
       "font-family: monospace;\n",
       "margin-left: 1em;\n",
       "}\n",
       ".mono {\n",
       "font-family: monospace;\n",
       "display: block;\n",
       "}\n",
       ".err-msg {\n",
       "color: red;\n",
       "font-style: italic;\n",
       "font-family: monospace;\n",
       "white-space: pre;\n",
       "display: block;\n",
       "}\n",
       "#unshowable {\n",
       "color: red;\n",
       "font-weight: bold;\n",
       "}\n",
       ".err-msg.in.collapse {\n",
       "padding-top: 0.7em;\n",
       "}\n",
       ".highlight-code {\n",
       "white-space: pre;\n",
       "font-family: monospace;\n",
       "}\n",
       ".suggestion-warning { \n",
       "font-weight: bold;\n",
       "color: rgb(200, 130, 0);\n",
       "}\n",
       ".suggestion-error { \n",
       "font-weight: bold;\n",
       "color: red;\n",
       "}\n",
       ".suggestion-name {\n",
       "font-weight: bold;\n",
       "}\n",
       "</style><span class='get-type'>oneOf :: forall (m :: * -> *). CharParsing m => [Char] -> m Char</span>"
      ],
      "text/plain": [
       "oneOf :: forall (m :: * -> *). CharParsing m => [Char] -> m Char"
      ]
     },
     "metadata": {},
     "output_type": "display_data"
    }
   ],
   "source": [
    ":t oneOf"
   ]
  },
  {
   "cell_type": "code",
   "execution_count": 47,
   "metadata": {},
   "outputs": [
    {
     "data": {
      "text/html": [
       "<style>/* Styles used for the Hoogle display in the pager */\n",
       ".hoogle-doc {\n",
       "display: block;\n",
       "padding-bottom: 1.3em;\n",
       "padding-left: 0.4em;\n",
       "}\n",
       ".hoogle-code {\n",
       "display: block;\n",
       "font-family: monospace;\n",
       "white-space: pre;\n",
       "}\n",
       ".hoogle-text {\n",
       "display: block;\n",
       "}\n",
       ".hoogle-name {\n",
       "color: green;\n",
       "font-weight: bold;\n",
       "}\n",
       ".hoogle-head {\n",
       "font-weight: bold;\n",
       "}\n",
       ".hoogle-sub {\n",
       "display: block;\n",
       "margin-left: 0.4em;\n",
       "}\n",
       ".hoogle-package {\n",
       "font-weight: bold;\n",
       "font-style: italic;\n",
       "}\n",
       ".hoogle-module {\n",
       "font-weight: bold;\n",
       "}\n",
       ".hoogle-class {\n",
       "font-weight: bold;\n",
       "}\n",
       ".get-type {\n",
       "color: green;\n",
       "font-weight: bold;\n",
       "font-family: monospace;\n",
       "display: block;\n",
       "white-space: pre-wrap;\n",
       "}\n",
       ".show-type {\n",
       "color: green;\n",
       "font-weight: bold;\n",
       "font-family: monospace;\n",
       "margin-left: 1em;\n",
       "}\n",
       ".mono {\n",
       "font-family: monospace;\n",
       "display: block;\n",
       "}\n",
       ".err-msg {\n",
       "color: red;\n",
       "font-style: italic;\n",
       "font-family: monospace;\n",
       "white-space: pre;\n",
       "display: block;\n",
       "}\n",
       "#unshowable {\n",
       "color: red;\n",
       "font-weight: bold;\n",
       "}\n",
       ".err-msg.in.collapse {\n",
       "padding-top: 0.7em;\n",
       "}\n",
       ".highlight-code {\n",
       "white-space: pre;\n",
       "font-family: monospace;\n",
       "}\n",
       ".suggestion-warning { \n",
       "font-weight: bold;\n",
       "color: rgb(200, 130, 0);\n",
       "}\n",
       ".suggestion-error { \n",
       "font-weight: bold;\n",
       "color: red;\n",
       "}\n",
       ".suggestion-name {\n",
       "font-weight: bold;\n",
       "}\n",
       "</style><div class=\"suggestion-name\" style=\"clear:both;\">Redundant bracket</div><div class=\"suggestion-row\" style=\"float: left;\"><div class=\"suggestion-warning\">Found:</div><div class=\"highlight-code\" id=\"haskell\">Right <$> (char '1')</div></div><div class=\"suggestion-row\" style=\"float: left;\"><div class=\"suggestion-warning\">Why Not:</div><div class=\"highlight-code\" id=\"haskell\">Right <$> char '1'</div></div>"
      ],
      "text/plain": [
       "Line 1: Redundant bracket\n",
       "Found:\n",
       "Right <$> (char '1')\n",
       "Why not:\n",
       "Right <$> char '1'"
      ]
     },
     "metadata": {},
     "output_type": "display_data"
    },
    {
     "data": {
      "text/plain": [
       "Failure (ErrInfo {_errDoc = \u001b[1m(interactive)\u001b[0m:\u001b[1m1\u001b[0m:\u001b[1m6\u001b[0m: \u001b[91merror\u001b[0m: must\n",
       "    not be zero, expected: digit\n",
       "123/0a\u001b[1m\u001b[94m<EOF>\u001b[0;1m\u001b[0m \n",
       "     \u001b[92m^\u001b[0m      , _errDeltas = [Columns 5 5]})"
      ]
     },
     "metadata": {},
     "output_type": "display_data"
    }
   ],
   "source": [
    "parseString ((Left <$> virtuousFraction) <|> (Right <$> (char '1'))) mempty \"123/0a\""
   ]
  },
  {
   "cell_type": "code",
   "execution_count": 48,
   "metadata": {},
   "outputs": [
    {
     "data": {
      "text/html": [
       "<style>/* Styles used for the Hoogle display in the pager */\n",
       ".hoogle-doc {\n",
       "display: block;\n",
       "padding-bottom: 1.3em;\n",
       "padding-left: 0.4em;\n",
       "}\n",
       ".hoogle-code {\n",
       "display: block;\n",
       "font-family: monospace;\n",
       "white-space: pre;\n",
       "}\n",
       ".hoogle-text {\n",
       "display: block;\n",
       "}\n",
       ".hoogle-name {\n",
       "color: green;\n",
       "font-weight: bold;\n",
       "}\n",
       ".hoogle-head {\n",
       "font-weight: bold;\n",
       "}\n",
       ".hoogle-sub {\n",
       "display: block;\n",
       "margin-left: 0.4em;\n",
       "}\n",
       ".hoogle-package {\n",
       "font-weight: bold;\n",
       "font-style: italic;\n",
       "}\n",
       ".hoogle-module {\n",
       "font-weight: bold;\n",
       "}\n",
       ".hoogle-class {\n",
       "font-weight: bold;\n",
       "}\n",
       ".get-type {\n",
       "color: green;\n",
       "font-weight: bold;\n",
       "font-family: monospace;\n",
       "display: block;\n",
       "white-space: pre-wrap;\n",
       "}\n",
       ".show-type {\n",
       "color: green;\n",
       "font-weight: bold;\n",
       "font-family: monospace;\n",
       "margin-left: 1em;\n",
       "}\n",
       ".mono {\n",
       "font-family: monospace;\n",
       "display: block;\n",
       "}\n",
       ".err-msg {\n",
       "color: red;\n",
       "font-style: italic;\n",
       "font-family: monospace;\n",
       "white-space: pre;\n",
       "display: block;\n",
       "}\n",
       "#unshowable {\n",
       "color: red;\n",
       "font-weight: bold;\n",
       "}\n",
       ".err-msg.in.collapse {\n",
       "padding-top: 0.7em;\n",
       "}\n",
       ".highlight-code {\n",
       "white-space: pre;\n",
       "font-family: monospace;\n",
       "}\n",
       ".suggestion-warning { \n",
       "font-weight: bold;\n",
       "color: rgb(200, 130, 0);\n",
       "}\n",
       ".suggestion-error { \n",
       "font-weight: bold;\n",
       "color: red;\n",
       "}\n",
       ".suggestion-name {\n",
       "font-weight: bold;\n",
       "}\n",
       "</style><div class=\"suggestion-name\" style=\"clear:both;\">Redundant bracket</div><div class=\"suggestion-row\" style=\"float: left;\"><div class=\"suggestion-warning\">Found:</div><div class=\"highlight-code\" id=\"haskell\">Right <$> (char 'a')</div></div><div class=\"suggestion-row\" style=\"float: left;\"><div class=\"suggestion-warning\">Why Not:</div><div class=\"highlight-code\" id=\"haskell\">Right <$> char 'a'</div></div>"
      ],
      "text/plain": [
       "Line 1: Redundant bracket\n",
       "Found:\n",
       "Right <$> (char 'a')\n",
       "Why not:\n",
       "Right <$> char 'a'"
      ]
     },
     "metadata": {},
     "output_type": "display_data"
    },
    {
     "data": {
      "text/plain": [
       "Success (Right 'a')"
      ]
     },
     "metadata": {},
     "output_type": "display_data"
    }
   ],
   "source": [
    "parseString ((Left <$> virtuousFraction) <|> (Right <$> (char 'a'))) mempty \"a1/a123\""
   ]
  },
  {
   "cell_type": "code",
   "execution_count": 49,
   "metadata": {},
   "outputs": [
    {
     "data": {
      "text/plain": [
       "Failure (ErrInfo {_errDoc = \u001b[1m(interactive)\u001b[0m:\u001b[1m1\u001b[0m:\u001b[1m2\u001b[0m: \u001b[91merror\u001b[0m: unexpected\n",
       "    hello\n",
       "123\u001b[1m\u001b[94m<EOF>\u001b[0;1m\u001b[0m \n",
       " \u001b[92m^\u001b[0m       , _errDeltas = [Columns 1 1]})"
      ]
     },
     "metadata": {},
     "output_type": "display_data"
    }
   ],
   "source": [
    "parseString ((Left <$> (char '1' >> unexpected \"hello\")) <|> (Right <$> decimal)) mempty \"123\""
   ]
  },
  {
   "cell_type": "code",
   "execution_count": 50,
   "metadata": {},
   "outputs": [
    {
     "data": {
      "text/plain": [
       "Failure (ErrInfo {_errDoc = \u001b[1m(interactive)\u001b[0m:\u001b[1m1\u001b[0m:\u001b[1m4\u001b[0m: \u001b[91merror\u001b[0m: unexpected\n",
       "    hello, expected: digit\n",
       "123\u001b[1m\u001b[94m<EOF>\u001b[0;1m\u001b[0m \n",
       "   \u001b[92m^\u001b[0m     , _errDeltas = [Columns 3 3]})"
      ]
     },
     "metadata": {},
     "output_type": "display_data"
    }
   ],
   "source": [
    "parseString ((decimal >> unexpected \"hello\") <|> decimal) mempty \"123\""
   ]
  },
  {
   "cell_type": "code",
   "execution_count": 51,
   "metadata": {},
   "outputs": [
    {
     "data": {
      "text/html": [
       "<style>/* Styles used for the Hoogle display in the pager */\n",
       ".hoogle-doc {\n",
       "display: block;\n",
       "padding-bottom: 1.3em;\n",
       "padding-left: 0.4em;\n",
       "}\n",
       ".hoogle-code {\n",
       "display: block;\n",
       "font-family: monospace;\n",
       "white-space: pre;\n",
       "}\n",
       ".hoogle-text {\n",
       "display: block;\n",
       "}\n",
       ".hoogle-name {\n",
       "color: green;\n",
       "font-weight: bold;\n",
       "}\n",
       ".hoogle-head {\n",
       "font-weight: bold;\n",
       "}\n",
       ".hoogle-sub {\n",
       "display: block;\n",
       "margin-left: 0.4em;\n",
       "}\n",
       ".hoogle-package {\n",
       "font-weight: bold;\n",
       "font-style: italic;\n",
       "}\n",
       ".hoogle-module {\n",
       "font-weight: bold;\n",
       "}\n",
       ".hoogle-class {\n",
       "font-weight: bold;\n",
       "}\n",
       ".get-type {\n",
       "color: green;\n",
       "font-weight: bold;\n",
       "font-family: monospace;\n",
       "display: block;\n",
       "white-space: pre-wrap;\n",
       "}\n",
       ".show-type {\n",
       "color: green;\n",
       "font-weight: bold;\n",
       "font-family: monospace;\n",
       "margin-left: 1em;\n",
       "}\n",
       ".mono {\n",
       "font-family: monospace;\n",
       "display: block;\n",
       "}\n",
       ".err-msg {\n",
       "color: red;\n",
       "font-style: italic;\n",
       "font-family: monospace;\n",
       "white-space: pre;\n",
       "display: block;\n",
       "}\n",
       "#unshowable {\n",
       "color: red;\n",
       "font-weight: bold;\n",
       "}\n",
       ".err-msg.in.collapse {\n",
       "padding-top: 0.7em;\n",
       "}\n",
       ".highlight-code {\n",
       "white-space: pre;\n",
       "font-family: monospace;\n",
       "}\n",
       ".suggestion-warning { \n",
       "font-weight: bold;\n",
       "color: rgb(200, 130, 0);\n",
       "}\n",
       ".suggestion-error { \n",
       "font-weight: bold;\n",
       "color: red;\n",
       "}\n",
       ".suggestion-name {\n",
       "font-weight: bold;\n",
       "}\n",
       "</style><span class='get-type'>try :: forall (m :: * -> *) a. Parsing m => m a -> m a</span>"
      ],
      "text/plain": [
       "try :: forall (m :: * -> *) a. Parsing m => m a -> m a"
      ]
     },
     "metadata": {},
     "output_type": "display_data"
    }
   ],
   "source": [
    ":t try"
   ]
  },
  {
   "cell_type": "code",
   "execution_count": 52,
   "metadata": {},
   "outputs": [
    {
     "data": {
      "text/plain": [
       "Failure (ErrInfo {_errDoc = \u001b[1m(interactive)\u001b[0m:\u001b[1m1\u001b[0m:\u001b[1m1\u001b[0m: \u001b[91merror\u001b[0m: unspecified\n",
       "    error\n",
       "123\u001b[1m\u001b[94m<EOF>\u001b[0;1m\u001b[0m \n",
       "\u001b[92m^\u001b[0m        , _errDeltas = [Columns 0 0]})"
      ]
     },
     "metadata": {},
     "output_type": "display_data"
    }
   ],
   "source": [
    "parseString (try ((decimal >> unexpected \"wtf\") <|> decimal)) mempty \"123\""
   ]
  },
  {
   "cell_type": "code",
   "execution_count": 53,
   "metadata": {},
   "outputs": [
    {
     "data": {
      "text/plain": [
       "Success 23"
      ]
     },
     "metadata": {},
     "output_type": "display_data"
    }
   ],
   "source": [
    "parseString (try $ char '1' >> unexpected \"wtf\" <|> decimal) mempty \"123\""
   ]
  },
  {
   "cell_type": "code",
   "execution_count": 54,
   "metadata": {},
   "outputs": [
    {
     "data": {
      "text/plain": [
       "Success (Left (123 % 1))"
      ]
     },
     "metadata": {},
     "output_type": "display_data"
    }
   ],
   "source": [
    "-- hooray! `try` to the rescue\n",
    "parseString ((Left <$> try virtuousFraction) <|> (Right <$> decimal)) mempty \"123/1\""
   ]
  },
  {
   "cell_type": "markdown",
   "metadata": {},
   "source": [
    "---"
   ]
  },
  {
   "cell_type": "code",
   "execution_count": 55,
   "metadata": {},
   "outputs": [],
   "source": [
    "data IntegerOrString = IOSI Integer | IOSS String deriving (Eq, Show, Ord)\n",
    "\n",
    "type Major = Integer\n",
    "type Minor = Integer\n",
    "type Patch = Integer\n",
    "newtype ReleaseItem = ReleaseItem IntegerOrString deriving (Eq, Show)\n",
    "newtype Release = Release [ReleaseItem] deriving (Eq, Show)\n",
    "type MetadataItem = String\n",
    "type Metadata = [MetadataItem]\n",
    "\n",
    "data SemVer = SemVer Major Minor Patch Release Metadata deriving (Eq, Show)"
   ]
  },
  {
   "cell_type": "code",
   "execution_count": 56,
   "metadata": {},
   "outputs": [],
   "source": [
    "parseMajor :: Parser Major\n",
    "parseMajor = integer\n",
    "\n",
    "parseMinor :: Parser Minor\n",
    "parseMinor = integer\n",
    "\n",
    "parsePatch :: Parser Patch\n",
    "parsePatch = integer\n",
    "\n",
    "matchSep :: Parser ()\n",
    "matchSep = () <$ char '.'\n",
    "\n",
    "matchReleaseSep :: Parser ()\n",
    "matchReleaseSep = () <$ char '-'\n",
    "\n",
    "matchMetadataSep :: Parser ()\n",
    "matchMetadataSep = () <$ char '+'\n",
    "\n",
    "matchZeroLeadingInteger :: Parser ()\n",
    "matchZeroLeadingInteger = () <$ try (char '0' >> integer)\n",
    "\n",
    "matchNegativeInteger :: Parser ()\n",
    "matchNegativeInteger = () <$ try (char '-' >> integer)\n",
    "\n",
    "parseValidChar :: Parser Char\n",
    "parseValidChar = alphaNum <|> char '-'\n",
    "\n",
    "parseValidInteger :: Parser Integer\n",
    "parseValidInteger = precondition >> (failIfZeroLeadingInteger <|> onlyInteger) where\n",
    "    failIfZeroLeadingInteger = matchZeroLeadingInteger >> unexpected \"zero leading integer\"\n",
    "    precondition = notFollowedBy matchNegativeInteger\n",
    "    onlyInteger = try $ integer <* notFollowedBy parseValidChar\n",
    "\n",
    "parseReleaseItem :: Parser ReleaseItem\n",
    "parseReleaseItem = ReleaseItem <$> p where\n",
    "    p = \n",
    "        fmap IOSI parseValidInteger <|> \n",
    "        fmap IOSS (some parseValidChar)\n",
    "\n",
    "parseRelease :: Parser Release\n",
    "parseRelease = Release <$> sepBy1 parseReleaseItem matchSep\n",
    "\n",
    "parseMetadataItem :: Parser MetadataItem\n",
    "parseMetadataItem = some parseValidChar\n",
    "\n",
    "parseMetadata :: Parser Metadata\n",
    "parseMetadata = sepBy1 parseMetadataItem matchSep\n",
    "\n",
    "parseSemVer :: Parser SemVer\n",
    "parseSemVer = do\n",
    "    major <- parseMajor <* matchSep\n",
    "    minor <- parseMinor <* matchSep\n",
    "    patch <- parsePatch\n",
    "    release <- (matchReleaseSep >> parseRelease) <|> return (Release [])\n",
    "    metadata <- (matchMetadataSep >> parseMetadata) <|> return []\n",
    "    return $ SemVer major minor patch release metadata\n",
    "\n",
    "instance Ord ReleaseItem where\n",
    "    compare (ReleaseItem (IOSI _)) (ReleaseItem (IOSS _)) = LT\n",
    "    compare (ReleaseItem (IOSS _)) (ReleaseItem (IOSI _)) = GT\n",
    "    compare (ReleaseItem (IOSI a)) (ReleaseItem (IOSI b)) = compare a b\n",
    "    compare (ReleaseItem (IOSS a)) (ReleaseItem (IOSS b)) = compare a b\n",
    "\n",
    "instance Ord Release where\n",
    "    compare (Release []) (Release []) = EQ\n",
    "    compare (Release []) _ = GT\n",
    "    compare _ (Release []) = LT\n",
    "    compare (Release a) (Release b) = f a b where\n",
    "        f [] [] = EQ\n",
    "        f [] _ = LT\n",
    "        f _ [] = GT\n",
    "        f (x:xs) (y:ys) = if x == y then f xs ys else compare x y\n",
    "\n",
    "instance Ord SemVer where\n",
    "    compare (SemVer major minor patch release _) (SemVer major' minor' patch' release' _)\n",
    "        | major /= major' = compare major major'\n",
    "        | minor /= minor' = compare minor minor'\n",
    "        | patch /= patch' = compare patch patch'\n",
    "        | otherwise = compare release release'"
   ]
  },
  {
   "cell_type": "code",
   "execution_count": 57,
   "metadata": {},
   "outputs": [
    {
     "data": {
      "text/plain": [
       "Success (SemVer 2 1 1 (Release []) [])"
      ]
     },
     "metadata": {},
     "output_type": "display_data"
    },
    {
     "data": {
      "text/plain": [
       "Failure (ErrInfo {_errDoc = \u001b[1m(interactive)\u001b[0m:\u001b[1m1\u001b[0m:\u001b[1m2\u001b[0m: \u001b[91merror\u001b[0m: expected: \".\",\n",
       "    digit\n",
       "2a.1.1\u001b[1m\u001b[94m<EOF>\u001b[0;1m\u001b[0m \n",
       " \u001b[92m^\u001b[0m          , _errDeltas = [Columns 1 1]})"
      ]
     },
     "metadata": {},
     "output_type": "display_data"
    },
    {
     "data": {
      "text/plain": [
       "Success (SemVer 1 0 0 (Release [ReleaseItem (IOSS \"x\"),ReleaseItem (IOSI 7),ReleaseItem (IOSI 0),ReleaseItem (IOSS \"92qwer\"),ReleaseItem (IOSI 92),ReleaseItem (IOSS \"1-23\"),ReleaseItem (IOSS \"-123\")]) [])"
      ]
     },
     "metadata": {},
     "output_type": "display_data"
    },
    {
     "data": {
      "text/plain": [
       "Failure (ErrInfo {_errDoc = \u001b[1m(interactive)\u001b[0m:\u001b[1m1\u001b[0m:\u001b[1m11\u001b[0m: \u001b[91merror\u001b[0m: unexpected\n",
       "    zero leading\n",
       "    integer, expected: digit\n",
       "1.0.0-x.07.z.92\u001b[1m\u001b[94m<EOF>\u001b[0;1m\u001b[0m \n",
       "          \u001b[92m^\u001b[0m          , _errDeltas = [Columns 10 10]})"
      ]
     },
     "metadata": {},
     "output_type": "display_data"
    },
    {
     "data": {
      "text/plain": [
       "Success (SemVer 1 0 0 (Release [ReleaseItem (IOSS \"x\"),ReleaseItem (IOSI 7),ReleaseItem (IOSS \"z\"),ReleaseItem (IOSI 92)]) [\"hello\",\"world\",\"0123\",\"-123\"])"
      ]
     },
     "metadata": {},
     "output_type": "display_data"
    },
    {
     "data": {
      "text/plain": [
       "True"
      ]
     },
     "metadata": {},
     "output_type": "display_data"
    }
   ],
   "source": [
    "parseString parseSemVer mempty \"2.1.1\"\n",
    "parseString parseSemVer mempty \"2a.1.1\"\n",
    "parseString parseSemVer mempty \"1.0.0-x.7.0.92qwer.92.1-23.-123\"\n",
    "parseString parseSemVer mempty \"1.0.0-x.07.z.92\"\n",
    "parseString parseSemVer mempty \"1.0.0-x.7.z.92+hello.world.0123.-123\"\n",
    "SemVer 2 1 1 (Release []) [] > SemVer 2 1 0 (Release []) []"
   ]
  },
  {
   "cell_type": "markdown",
   "metadata": {},
   "source": [
    "---"
   ]
  },
  {
   "cell_type": "code",
   "execution_count": 58,
   "metadata": {},
   "outputs": [
    {
     "data": {
      "text/plain": [
       "Success '1'"
      ]
     },
     "metadata": {},
     "output_type": "display_data"
    },
    {
     "data": {
      "text/plain": [
       "Failure (ErrInfo {_errDoc = \u001b[1m(interactive)\u001b[0m:\u001b[1m1\u001b[0m:\u001b[1m1\u001b[0m: \u001b[91merror\u001b[0m: expected: digit\n",
       "a\u001b[1m\u001b[94m<EOF>\u001b[0;1m\u001b[0m \n",
       "\u001b[92m^\u001b[0m      , _errDeltas = [Columns 0 0]})"
      ]
     },
     "metadata": {},
     "output_type": "display_data"
    },
    {
     "data": {
      "text/plain": [
       "Failure (ErrInfo {_errDoc = \u001b[1m(interactive)\u001b[0m:\u001b[1m1\u001b[0m:\u001b[1m1\u001b[0m: \u001b[91merror\u001b[0m: expected: integer\n",
       "a\u001b[1m\u001b[94m<EOF>\u001b[0;1m\u001b[0m \n",
       "\u001b[92m^\u001b[0m      , _errDeltas = [Columns 0 0]})"
      ]
     },
     "metadata": {},
     "output_type": "display_data"
    },
    {
     "data": {
      "text/plain": [
       "Success 1"
      ]
     },
     "metadata": {},
     "output_type": "display_data"
    },
    {
     "data": {
      "text/plain": [
       "Success 123"
      ]
     },
     "metadata": {},
     "output_type": "display_data"
    },
    {
     "data": {
      "text/plain": [
       "Success 123"
      ]
     },
     "metadata": {},
     "output_type": "display_data"
    },
    {
     "data": {
      "text/plain": [
       "Failure (ErrInfo {_errDoc = \u001b[1m(interactive)\u001b[0m:\u001b[1m1\u001b[0m:\u001b[1m1\u001b[0m: \u001b[91merror\u001b[0m: expected: integer\n",
       "-123asdf\u001b[1m\u001b[94m<EOF>\u001b[0;1m\u001b[0m \n",
       "\u001b[92m^\u001b[0m             , _errDeltas = [Columns 0 0]})"
      ]
     },
     "metadata": {},
     "output_type": "display_data"
    }
   ],
   "source": [
    "parseDigit :: Parser Char\n",
    "parseDigit = oneOf \"0123456789\" <?> \"digit\"\n",
    "\n",
    "base10Integer :: Parser Integer\n",
    "base10Integer = foldr f 0 . zip [0..] . reverse <$> some parseDigit <?> \"integer\" where\n",
    "    digit2int '0' = 0\n",
    "    digit2int '1' = 1\n",
    "    digit2int '2' = 2\n",
    "    digit2int '3' = 3\n",
    "    digit2int '4' = 4\n",
    "    digit2int '5' = 5\n",
    "    digit2int '6' = 6\n",
    "    digit2int '7' = 7\n",
    "    digit2int '8' = 8\n",
    "    digit2int '9' = 9\n",
    "    f (i, c) acc = digit2int c * (10^i) + acc\n",
    "    \n",
    "parseString parseDigit mempty \"1\"\n",
    "parseString parseDigit mempty \"a\"\n",
    "parseString base10Integer mempty \"a\"\n",
    "parseString base10Integer mempty \"1\"\n",
    "parseString base10Integer mempty \"123\"\n",
    "parseString base10Integer mempty \"123asdf\"\n",
    "parseString base10Integer mempty \"-123asdf\""
   ]
  },
  {
   "cell_type": "code",
   "execution_count": 59,
   "metadata": {},
   "outputs": [
    {
     "data": {
      "text/plain": [
       "Failure (ErrInfo {_errDoc = \u001b[1m(interactive)\u001b[0m:\u001b[1m1\u001b[0m:\u001b[1m1\u001b[0m: \u001b[91merror\u001b[0m: expected: integer\n",
       "a\u001b[1m\u001b[94m<EOF>\u001b[0;1m\u001b[0m \n",
       "\u001b[92m^\u001b[0m      , _errDeltas = [Columns 0 0]})"
      ]
     },
     "metadata": {},
     "output_type": "display_data"
    },
    {
     "data": {
      "text/plain": [
       "Success 1"
      ]
     },
     "metadata": {},
     "output_type": "display_data"
    },
    {
     "data": {
      "text/plain": [
       "Success 123"
      ]
     },
     "metadata": {},
     "output_type": "display_data"
    },
    {
     "data": {
      "text/plain": [
       "Success 123"
      ]
     },
     "metadata": {},
     "output_type": "display_data"
    },
    {
     "data": {
      "text/plain": [
       "Success (-123)"
      ]
     },
     "metadata": {},
     "output_type": "display_data"
    },
    {
     "data": {
      "text/plain": [
       "Failure (ErrInfo {_errDoc = \u001b[1m(interactive)\u001b[0m:\u001b[1m1\u001b[0m:\u001b[1m2\u001b[0m: \u001b[91merror\u001b[0m: expected: integer\n",
       "-a123asdf\u001b[1m\u001b[94m<EOF>\u001b[0;1m\u001b[0m \n",
       " \u001b[92m^\u001b[0m             , _errDeltas = [Columns 1 1]})"
      ]
     },
     "metadata": {},
     "output_type": "display_data"
    }
   ],
   "source": [
    "base10Integer' :: Parser Integer\n",
    "base10Integer' = base10Integer <|> (negativeInteger <?> \"integer\") where\n",
    "    negativeInteger = (*(-1)) <$> (char '-' >> base10Integer)\n",
    "    \n",
    "parseString base10Integer' mempty \"a\"\n",
    "parseString base10Integer' mempty \"1\"\n",
    "parseString base10Integer' mempty \"123\"\n",
    "parseString base10Integer' mempty \"123asdf\"\n",
    "parseString base10Integer' mempty \"-123asdf\"\n",
    "parseString base10Integer' mempty \"-a123asdf\""
   ]
  }
 ],
 "metadata": {
  "kernelspec": {
   "display_name": "Haskell",
   "language": "haskell",
   "name": "haskell"
  },
  "language_info": {
   "codemirror_mode": "ihaskell",
   "file_extension": ".hs",
   "name": "haskell",
   "pygments_lexer": "Haskell",
   "version": "8.6.5"
  }
 },
 "nbformat": 4,
 "nbformat_minor": 4
}

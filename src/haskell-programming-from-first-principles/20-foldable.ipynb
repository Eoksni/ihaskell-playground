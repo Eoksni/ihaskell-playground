{
 "cells": [
  {
   "cell_type": "markdown",
   "metadata": {},
   "source": [
    "# Chapter 20: Foldable"
   ]
  },
  {
   "cell_type": "markdown",
   "metadata": {},
   "source": [
    "## Write Foldable instances for the following datatypes"
   ]
  },
  {
   "cell_type": "code",
   "execution_count": 1,
   "metadata": {},
   "outputs": [
    {
     "data": {},
     "metadata": {},
     "output_type": "display_data"
    },
    {
     "data": {
      "text/html": [
       "<div style='background: rgb(247, 247, 247);'><form><textarea id='code'>class Foldable (t :: * -> *) where\n",
       "  Data.Foldable.fold :: Monoid m => t m -> m\n",
       "  foldMap :: Monoid m => (a -> m) -> t a -> m\n",
       "  foldr :: (a -> b -> b) -> b -> t a -> b\n",
       "  Data.Foldable.foldr' :: (a -> b -> b) -> b -> t a -> b\n",
       "  foldl :: (b -> a -> b) -> b -> t a -> b\n",
       "  Data.Foldable.foldl' :: (b -> a -> b) -> b -> t a -> b\n",
       "  foldr1 :: (a -> a -> a) -> t a -> a\n",
       "  foldl1 :: (a -> a -> a) -> t a -> a\n",
       "  Data.Foldable.toList :: t a -> [a]\n",
       "  null :: t a -> Bool\n",
       "  length :: t a -> Int\n",
       "  elem :: Eq a => a -> t a -> Bool\n",
       "  maximum :: Ord a => t a -> a\n",
       "  minimum :: Ord a => t a -> a\n",
       "  sum :: Num a => t a -> a\n",
       "  product :: Num a => t a -> a\n",
       "  {-# MINIMAL foldMap | foldr #-}\n",
       "  \t-- Defined in ‘Data.Foldable’\n",
       "instance Foldable [] -- Defined in ‘Data.Foldable’\n",
       "instance Foldable Maybe -- Defined in ‘Data.Foldable’\n",
       "instance Foldable (Either a) -- Defined in ‘Data.Foldable’\n",
       "instance Foldable ((,) a) -- Defined in ‘Data.Foldable’\n",
       "</textarea></form></div><script>CodeMirror.fromTextArea(document.getElementById('code'), {mode: 'haskell', readOnly: 'nocursor'});</script>"
      ],
      "text/plain": [
       "class Foldable (t :: * -> *) where\n",
       "  Data.Foldable.fold :: Monoid m => t m -> m\n",
       "  foldMap :: Monoid m => (a -> m) -> t a -> m\n",
       "  foldr :: (a -> b -> b) -> b -> t a -> b\n",
       "  Data.Foldable.foldr' :: (a -> b -> b) -> b -> t a -> b\n",
       "  foldl :: (b -> a -> b) -> b -> t a -> b\n",
       "  Data.Foldable.foldl' :: (b -> a -> b) -> b -> t a -> b\n",
       "  foldr1 :: (a -> a -> a) -> t a -> a\n",
       "  foldl1 :: (a -> a -> a) -> t a -> a\n",
       "  Data.Foldable.toList :: t a -> [a]\n",
       "  null :: t a -> Bool\n",
       "  length :: t a -> Int\n",
       "  elem :: Eq a => a -> t a -> Bool\n",
       "  maximum :: Ord a => t a -> a\n",
       "  minimum :: Ord a => t a -> a\n",
       "  sum :: Num a => t a -> a\n",
       "  product :: Num a => t a -> a\n",
       "  {-# MINIMAL foldMap | foldr #-}\n",
       "  \t-- Defined in ‘Data.Foldable’\n",
       "instance Foldable [] -- Defined in ‘Data.Foldable’\n",
       "instance Foldable Maybe -- Defined in ‘Data.Foldable’\n",
       "instance Foldable (Either a) -- Defined in ‘Data.Foldable’\n",
       "instance Foldable ((,) a) -- Defined in ‘Data.Foldable’"
      ]
     },
     "metadata": {},
     "output_type": "display_data"
    }
   ],
   "source": [
    ":info Foldable"
   ]
  },
  {
   "cell_type": "code",
   "execution_count": 2,
   "metadata": {},
   "outputs": [],
   "source": [
    "newtype Constant a b = Constant a\n",
    "\n",
    "instance Foldable (Constant a) where\n",
    "    foldr _ x _ = x"
   ]
  },
  {
   "cell_type": "code",
   "execution_count": 3,
   "metadata": {},
   "outputs": [],
   "source": [
    "data Two a b = Two a b\n",
    "\n",
    "instance Foldable (Two a) where\n",
    "    foldr bc2c c0 (Two a b) = bc2c b c0"
   ]
  },
  {
   "cell_type": "code",
   "execution_count": 4,
   "metadata": {},
   "outputs": [],
   "source": [
    "data Three a b c = Three a b c\n",
    "\n",
    "instance Foldable (Three a b) where\n",
    "    foldr cd2d d0 (Three a b c) = cd2d c d0"
   ]
  },
  {
   "cell_type": "code",
   "execution_count": 5,
   "metadata": {},
   "outputs": [],
   "source": [
    "data Three' a b = Three' a b b\n",
    "\n",
    "instance Foldable (Three' a) where\n",
    "    foldr bc2c c0 (Three' a b1 b2) = bc2c b2 $ bc2c b1 c0"
   ]
  },
  {
   "cell_type": "code",
   "execution_count": 6,
   "metadata": {},
   "outputs": [],
   "source": [
    "data Four' a b = Four' a b b b\n",
    "\n",
    "instance Foldable (Four' a) where\n",
    "    foldr bc2c c0 (Four' a b1 b2 b3) = bc2c b3 $ bc2c b2 $ bc2c b1 c0"
   ]
  },
  {
   "cell_type": "code",
   "execution_count": 7,
   "metadata": {},
   "outputs": [
    {
     "data": {
      "text/html": [
       "<style>/* Styles used for the Hoogle display in the pager */\n",
       ".hoogle-doc {\n",
       "display: block;\n",
       "padding-bottom: 1.3em;\n",
       "padding-left: 0.4em;\n",
       "}\n",
       ".hoogle-code {\n",
       "display: block;\n",
       "font-family: monospace;\n",
       "white-space: pre;\n",
       "}\n",
       ".hoogle-text {\n",
       "display: block;\n",
       "}\n",
       ".hoogle-name {\n",
       "color: green;\n",
       "font-weight: bold;\n",
       "}\n",
       ".hoogle-head {\n",
       "font-weight: bold;\n",
       "}\n",
       ".hoogle-sub {\n",
       "display: block;\n",
       "margin-left: 0.4em;\n",
       "}\n",
       ".hoogle-package {\n",
       "font-weight: bold;\n",
       "font-style: italic;\n",
       "}\n",
       ".hoogle-module {\n",
       "font-weight: bold;\n",
       "}\n",
       ".hoogle-class {\n",
       "font-weight: bold;\n",
       "}\n",
       ".get-type {\n",
       "color: green;\n",
       "font-weight: bold;\n",
       "font-family: monospace;\n",
       "display: block;\n",
       "white-space: pre-wrap;\n",
       "}\n",
       ".show-type {\n",
       "color: green;\n",
       "font-weight: bold;\n",
       "font-family: monospace;\n",
       "margin-left: 1em;\n",
       "}\n",
       ".mono {\n",
       "font-family: monospace;\n",
       "display: block;\n",
       "}\n",
       ".err-msg {\n",
       "color: red;\n",
       "font-style: italic;\n",
       "font-family: monospace;\n",
       "white-space: pre;\n",
       "display: block;\n",
       "}\n",
       "#unshowable {\n",
       "color: red;\n",
       "font-weight: bold;\n",
       "}\n",
       ".err-msg.in.collapse {\n",
       "padding-top: 0.7em;\n",
       "}\n",
       ".highlight-code {\n",
       "white-space: pre;\n",
       "font-family: monospace;\n",
       "}\n",
       ".suggestion-warning { \n",
       "font-weight: bold;\n",
       "color: rgb(200, 130, 0);\n",
       "}\n",
       ".suggestion-error { \n",
       "font-weight: bold;\n",
       "color: red;\n",
       "}\n",
       ".suggestion-name {\n",
       "font-weight: bold;\n",
       "}\n",
       "</style><span class='get-type'>foldMap :: forall (t :: * -> *) m a. (Foldable t, Monoid m) => (a -> m) -> t a -> m</span>"
      ],
      "text/plain": [
       "foldMap :: forall (t :: * -> *) m a. (Foldable t, Monoid m) => (a -> m) -> t a -> m"
      ]
     },
     "metadata": {},
     "output_type": "display_data"
    }
   ],
   "source": [
    ":type foldMap"
   ]
  },
  {
   "cell_type": "code",
   "execution_count": 8,
   "metadata": {},
   "outputs": [],
   "source": [
    "filterF :: (Applicative f, Foldable t, Monoid (f a)) => (a -> Bool) -> t a -> f a\n",
    "filterF f = foldMap transform where\n",
    "    transform a = if f a then pure a else mempty"
   ]
  }
 ],
 "metadata": {
  "kernelspec": {
   "display_name": "Haskell",
   "language": "haskell",
   "name": "haskell"
  },
  "language_info": {
   "codemirror_mode": "ihaskell",
   "file_extension": ".hs",
   "name": "haskell",
   "pygments_lexer": "Haskell",
   "version": "8.6.5"
  }
 },
 "nbformat": 4,
 "nbformat_minor": 4
}

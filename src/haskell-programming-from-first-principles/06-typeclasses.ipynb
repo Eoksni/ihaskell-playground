{
 "cells": [
  {
   "cell_type": "markdown",
   "metadata": {},
   "source": [
    "# Chapter 6: Typeclasses"
   ]
  },
  {
   "cell_type": "markdown",
   "metadata": {},
   "source": [
    "## Multiple choice"
   ]
  },
  {
   "cell_type": "markdown",
   "metadata": {},
   "source": [
    "The Eq class makes equality tests possible "
   ]
  },
  {
   "cell_type": "markdown",
   "metadata": {},
   "source": [
    "The typeclass Ord allows any two values to be compared."
   ]
  },
  {
   "cell_type": "markdown",
   "metadata": {},
   "source": [
    "The type of `>` is `Ord a => a -> a -> Bool`"
   ]
  },
  {
   "cell_type": "markdown",
   "metadata": {},
   "source": [
    "In `x = divMod 16 12` the type of `x` is a tuple"
   ]
  },
  {
   "cell_type": "code",
   "execution_count": 1,
   "metadata": {},
   "outputs": [
    {
     "data": {
      "text/html": [
       "<style>/* Styles used for the Hoogle display in the pager */\n",
       ".hoogle-doc {\n",
       "display: block;\n",
       "padding-bottom: 1.3em;\n",
       "padding-left: 0.4em;\n",
       "}\n",
       ".hoogle-code {\n",
       "display: block;\n",
       "font-family: monospace;\n",
       "white-space: pre;\n",
       "}\n",
       ".hoogle-text {\n",
       "display: block;\n",
       "}\n",
       ".hoogle-name {\n",
       "color: green;\n",
       "font-weight: bold;\n",
       "}\n",
       ".hoogle-head {\n",
       "font-weight: bold;\n",
       "}\n",
       ".hoogle-sub {\n",
       "display: block;\n",
       "margin-left: 0.4em;\n",
       "}\n",
       ".hoogle-package {\n",
       "font-weight: bold;\n",
       "font-style: italic;\n",
       "}\n",
       ".hoogle-module {\n",
       "font-weight: bold;\n",
       "}\n",
       ".hoogle-class {\n",
       "font-weight: bold;\n",
       "}\n",
       ".get-type {\n",
       "color: green;\n",
       "font-weight: bold;\n",
       "font-family: monospace;\n",
       "display: block;\n",
       "white-space: pre-wrap;\n",
       "}\n",
       ".show-type {\n",
       "color: green;\n",
       "font-weight: bold;\n",
       "font-family: monospace;\n",
       "margin-left: 1em;\n",
       "}\n",
       ".mono {\n",
       "font-family: monospace;\n",
       "display: block;\n",
       "}\n",
       ".err-msg {\n",
       "color: red;\n",
       "font-style: italic;\n",
       "font-family: monospace;\n",
       "white-space: pre;\n",
       "display: block;\n",
       "}\n",
       "#unshowable {\n",
       "color: red;\n",
       "font-weight: bold;\n",
       "}\n",
       ".err-msg.in.collapse {\n",
       "padding-top: 0.7em;\n",
       "}\n",
       ".highlight-code {\n",
       "white-space: pre;\n",
       "font-family: monospace;\n",
       "}\n",
       ".suggestion-warning { \n",
       "font-weight: bold;\n",
       "color: rgb(200, 130, 0);\n",
       "}\n",
       ".suggestion-error { \n",
       "font-weight: bold;\n",
       "color: red;\n",
       "}\n",
       ".suggestion-name {\n",
       "font-weight: bold;\n",
       "}\n",
       "</style><span class='get-type'>divMod 16 12 :: forall a. Integral a => (a, a)</span>"
      ],
      "text/plain": [
       "divMod 16 12 :: forall a. Integral a => (a, a)"
      ]
     },
     "metadata": {},
     "output_type": "display_data"
    }
   ],
   "source": [
    ":type divMod 16 12"
   ]
  },
  {
   "cell_type": "markdown",
   "metadata": {},
   "source": [
    "The typeclass Integral includes Int and Integer numbers."
   ]
  },
  {
   "cell_type": "markdown",
   "metadata": {},
   "source": [
    "## Does it typecheck?"
   ]
  },
  {
   "cell_type": "code",
   "execution_count": 2,
   "metadata": {},
   "outputs": [
    {
     "data": {
      "text/html": [
       "<style>/* Styles used for the Hoogle display in the pager */\n",
       ".hoogle-doc {\n",
       "display: block;\n",
       "padding-bottom: 1.3em;\n",
       "padding-left: 0.4em;\n",
       "}\n",
       ".hoogle-code {\n",
       "display: block;\n",
       "font-family: monospace;\n",
       "white-space: pre;\n",
       "}\n",
       ".hoogle-text {\n",
       "display: block;\n",
       "}\n",
       ".hoogle-name {\n",
       "color: green;\n",
       "font-weight: bold;\n",
       "}\n",
       ".hoogle-head {\n",
       "font-weight: bold;\n",
       "}\n",
       ".hoogle-sub {\n",
       "display: block;\n",
       "margin-left: 0.4em;\n",
       "}\n",
       ".hoogle-package {\n",
       "font-weight: bold;\n",
       "font-style: italic;\n",
       "}\n",
       ".hoogle-module {\n",
       "font-weight: bold;\n",
       "}\n",
       ".hoogle-class {\n",
       "font-weight: bold;\n",
       "}\n",
       ".get-type {\n",
       "color: green;\n",
       "font-weight: bold;\n",
       "font-family: monospace;\n",
       "display: block;\n",
       "white-space: pre-wrap;\n",
       "}\n",
       ".show-type {\n",
       "color: green;\n",
       "font-weight: bold;\n",
       "font-family: monospace;\n",
       "margin-left: 1em;\n",
       "}\n",
       ".mono {\n",
       "font-family: monospace;\n",
       "display: block;\n",
       "}\n",
       ".err-msg {\n",
       "color: red;\n",
       "font-style: italic;\n",
       "font-family: monospace;\n",
       "white-space: pre;\n",
       "display: block;\n",
       "}\n",
       "#unshowable {\n",
       "color: red;\n",
       "font-weight: bold;\n",
       "}\n",
       ".err-msg.in.collapse {\n",
       "padding-top: 0.7em;\n",
       "}\n",
       ".highlight-code {\n",
       "white-space: pre;\n",
       "font-family: monospace;\n",
       "}\n",
       ".suggestion-warning { \n",
       "font-weight: bold;\n",
       "color: rgb(200, 130, 0);\n",
       "}\n",
       ".suggestion-error { \n",
       "font-weight: bold;\n",
       "color: red;\n",
       "}\n",
       ".suggestion-name {\n",
       "font-weight: bold;\n",
       "}\n",
       "</style><div class=\"suggestion-name\" style=\"clear:both;\">Use newtype instead of data</div><div class=\"suggestion-row\" style=\"float: left;\"><div class=\"suggestion-warning\">Found:</div><div class=\"highlight-code\" id=\"haskell\">data Person = Person Bool</div></div><div class=\"suggestion-row\" style=\"float: left;\"><div class=\"suggestion-warning\">Why Not:</div><div class=\"highlight-code\" id=\"haskell\">newtype Person = Person Bool</div></div><div class=\"suggestion-name\" style=\"clear:both;\">Use print</div><div class=\"suggestion-row\" style=\"float: left;\"><div class=\"suggestion-warning\">Found:</div><div class=\"highlight-code\" id=\"haskell\">putStrLn (show person)</div></div><div class=\"suggestion-row\" style=\"float: left;\"><div class=\"suggestion-warning\">Why Not:</div><div class=\"highlight-code\" id=\"haskell\">print person</div></div>"
      ],
      "text/plain": [
       "Line 1: Use newtype instead of data\n",
       "Found:\n",
       "data Person = Person Bool\n",
       "Why not:\n",
       "newtype Person = Person BoolLine 3: Use print\n",
       "Found:\n",
       "putStrLn (show person)\n",
       "Why not:\n",
       "print person"
      ]
     },
     "metadata": {},
     "output_type": "display_data"
    },
    {
     "ename": "",
     "evalue": "",
     "header": "MessageHeader {mhIdentifiers = [\"a3dbb04b-5777-4abf-ae13-1eb1c78f4414\"], mhParentHeader = Just (MessageHeader {mhIdentifiers = [\"a3dbb04b-5777-4abf-ae13-1eb1c78f4414\"], mhParentHeader = Nothing, mhMetadata = Metadata (fromList [(\"deletedCells\",Array [String \"ba1baf7c-59e9-40ce-9c5f-1d249669454b\",String \"f8c782f7-fc32-43e3-adaf-a4a3463c280b\",String \"088f4cf7-dd4b-4393-9884-7bb3eb37285f\",String \"e0c70417-b52f-46bf-a1a9-23cb15dc9b4b\",String \"e81d02cd-9e87-40bd-9ad4-d771db1da0bc\",String \"e4112f20-811b-47a3-9f23-16beb97a3aef\",String \"5c25d377-46fd-432e-93d2-8b35b468c559\",String \"56269d51-9ca0-4a42-b12f-b946cd5a06df\",String \"a61e1370-4e97-439d-86e6-48b612866183\"]),(\"cellId\",String \"171972c0-47c8-47fe-aabc-a11bdde6d543\")]), mhMessageId = UUID {uuidToString = \"a9957ffe-b51f-48b6-81f0-d94abd2dbca9\"}, mhSessionId = UUID {uuidToString = \"a3dbb04b-5777-4abf-ae13-1eb1c78f4414\"}, mhUsername = \"\", mhMsgType = ExecuteRequestMessage}), mhMetadata = Metadata (fromList []), mhMessageId = UUID {uuidToString = \"a38b00f6-470c-4e5b-8e8c-db01ac796fb1\"}, mhSessionId = UUID {uuidToString = \"a3dbb04b-5777-4abf-ae13-1eb1c78f4414\"}, mhUsername = \"\", mhMsgType = ExecuteErrorMessage}",
     "output_type": "error",
     "traceback": [
      "<interactive>:3:32: error:\n    • No instance for (Show Person) arising from a use of ‘show’\n    • In the first argument of ‘putStrLn’, namely ‘(show person)’\n      In the expression: putStrLn (show person)\n      In an equation for ‘printPerson’: printPerson person = putStrLn (show person)"
     ]
    }
   ],
   "source": [
    "data Person = Person Bool\n",
    "printPerson :: Person -> IO ()\n",
    "printPerson person = putStrLn (show person)"
   ]
  },
  {
   "cell_type": "code",
   "execution_count": 3,
   "metadata": {},
   "outputs": [
    {
     "ename": "",
     "evalue": "",
     "header": "MessageHeader {mhIdentifiers = [\"a3dbb04b-5777-4abf-ae13-1eb1c78f4414\"], mhParentHeader = Just (MessageHeader {mhIdentifiers = [\"a3dbb04b-5777-4abf-ae13-1eb1c78f4414\"], mhParentHeader = Nothing, mhMetadata = Metadata (fromList [(\"deletedCells\",Array [String \"ba1baf7c-59e9-40ce-9c5f-1d249669454b\",String \"f8c782f7-fc32-43e3-adaf-a4a3463c280b\",String \"088f4cf7-dd4b-4393-9884-7bb3eb37285f\",String \"e0c70417-b52f-46bf-a1a9-23cb15dc9b4b\",String \"e81d02cd-9e87-40bd-9ad4-d771db1da0bc\",String \"e4112f20-811b-47a3-9f23-16beb97a3aef\",String \"5c25d377-46fd-432e-93d2-8b35b468c559\",String \"56269d51-9ca0-4a42-b12f-b946cd5a06df\",String \"a61e1370-4e97-439d-86e6-48b612866183\"]),(\"cellId\",String \"701a1a2a-8650-4972-8b6b-247e99228ddd\")]), mhMessageId = UUID {uuidToString = \"230a62ec-cd57-49dc-8c5e-4ed110fb354f\"}, mhSessionId = UUID {uuidToString = \"a3dbb04b-5777-4abf-ae13-1eb1c78f4414\"}, mhUsername = \"\", mhMsgType = ExecuteRequestMessage}), mhMetadata = Metadata (fromList []), mhMessageId = UUID {uuidToString = \"f32d454b-2bb0-49ad-9f7a-714e31d411f7\"}, mhSessionId = UUID {uuidToString = \"a3dbb04b-5777-4abf-ae13-1eb1c78f4414\"}, mhUsername = \"\", mhMsgType = ExecuteErrorMessage}",
     "output_type": "error",
     "traceback": [
      "<interactive>:3:8: error:\n    • No instance for (Eq Mood) arising from a use of ‘==’\n    • In the expression: x == Woot\n      In the expression: if x == Woot then Blah else x\n      In an equation for ‘settleDown’: settleDown x = if x == Woot then Blah else x"
     ]
    }
   ],
   "source": [
    "data Mood = Blah | Woot deriving Show\n",
    "\n",
    "settleDown x = \n",
    "    if x == Woot\n",
    "    then Blah\n",
    "    else x"
   ]
  },
  {
   "cell_type": "code",
   "execution_count": 4,
   "metadata": {},
   "outputs": [
    {
     "data": {
      "text/html": [
       "<style>/* Styles used for the Hoogle display in the pager */\n",
       ".hoogle-doc {\n",
       "display: block;\n",
       "padding-bottom: 1.3em;\n",
       "padding-left: 0.4em;\n",
       "}\n",
       ".hoogle-code {\n",
       "display: block;\n",
       "font-family: monospace;\n",
       "white-space: pre;\n",
       "}\n",
       ".hoogle-text {\n",
       "display: block;\n",
       "}\n",
       ".hoogle-name {\n",
       "color: green;\n",
       "font-weight: bold;\n",
       "}\n",
       ".hoogle-head {\n",
       "font-weight: bold;\n",
       "}\n",
       ".hoogle-sub {\n",
       "display: block;\n",
       "margin-left: 0.4em;\n",
       "}\n",
       ".hoogle-package {\n",
       "font-weight: bold;\n",
       "font-style: italic;\n",
       "}\n",
       ".hoogle-module {\n",
       "font-weight: bold;\n",
       "}\n",
       ".hoogle-class {\n",
       "font-weight: bold;\n",
       "}\n",
       ".get-type {\n",
       "color: green;\n",
       "font-weight: bold;\n",
       "font-family: monospace;\n",
       "display: block;\n",
       "white-space: pre-wrap;\n",
       "}\n",
       ".show-type {\n",
       "color: green;\n",
       "font-weight: bold;\n",
       "font-family: monospace;\n",
       "margin-left: 1em;\n",
       "}\n",
       ".mono {\n",
       "font-family: monospace;\n",
       "display: block;\n",
       "}\n",
       ".err-msg {\n",
       "color: red;\n",
       "font-style: italic;\n",
       "font-family: monospace;\n",
       "white-space: pre;\n",
       "display: block;\n",
       "}\n",
       "#unshowable {\n",
       "color: red;\n",
       "font-weight: bold;\n",
       "}\n",
       ".err-msg.in.collapse {\n",
       "padding-top: 0.7em;\n",
       "}\n",
       ".highlight-code {\n",
       "white-space: pre;\n",
       "font-family: monospace;\n",
       "}\n",
       ".suggestion-warning { \n",
       "font-weight: bold;\n",
       "color: rgb(200, 130, 0);\n",
       "}\n",
       ".suggestion-error { \n",
       "font-weight: bold;\n",
       "color: red;\n",
       "}\n",
       ".suggestion-name {\n",
       "font-weight: bold;\n",
       "}\n",
       "</style><span class='get-type'>s1 :: Object -> Sentence</span>"
      ],
      "text/plain": [
       "s1 :: Object -> Sentence"
      ]
     },
     "metadata": {},
     "output_type": "display_data"
    },
    {
     "data": {
      "text/html": [
       "<style>/* Styles used for the Hoogle display in the pager */\n",
       ".hoogle-doc {\n",
       "display: block;\n",
       "padding-bottom: 1.3em;\n",
       "padding-left: 0.4em;\n",
       "}\n",
       ".hoogle-code {\n",
       "display: block;\n",
       "font-family: monospace;\n",
       "white-space: pre;\n",
       "}\n",
       ".hoogle-text {\n",
       "display: block;\n",
       "}\n",
       ".hoogle-name {\n",
       "color: green;\n",
       "font-weight: bold;\n",
       "}\n",
       ".hoogle-head {\n",
       "font-weight: bold;\n",
       "}\n",
       ".hoogle-sub {\n",
       "display: block;\n",
       "margin-left: 0.4em;\n",
       "}\n",
       ".hoogle-package {\n",
       "font-weight: bold;\n",
       "font-style: italic;\n",
       "}\n",
       ".hoogle-module {\n",
       "font-weight: bold;\n",
       "}\n",
       ".hoogle-class {\n",
       "font-weight: bold;\n",
       "}\n",
       ".get-type {\n",
       "color: green;\n",
       "font-weight: bold;\n",
       "font-family: monospace;\n",
       "display: block;\n",
       "white-space: pre-wrap;\n",
       "}\n",
       ".show-type {\n",
       "color: green;\n",
       "font-weight: bold;\n",
       "font-family: monospace;\n",
       "margin-left: 1em;\n",
       "}\n",
       ".mono {\n",
       "font-family: monospace;\n",
       "display: block;\n",
       "}\n",
       ".err-msg {\n",
       "color: red;\n",
       "font-style: italic;\n",
       "font-family: monospace;\n",
       "white-space: pre;\n",
       "display: block;\n",
       "}\n",
       "#unshowable {\n",
       "color: red;\n",
       "font-weight: bold;\n",
       "}\n",
       ".err-msg.in.collapse {\n",
       "padding-top: 0.7em;\n",
       "}\n",
       ".highlight-code {\n",
       "white-space: pre;\n",
       "font-family: monospace;\n",
       "}\n",
       ".suggestion-warning { \n",
       "font-weight: bold;\n",
       "color: rgb(200, 130, 0);\n",
       "}\n",
       ".suggestion-error { \n",
       "font-weight: bold;\n",
       "color: red;\n",
       "}\n",
       ".suggestion-name {\n",
       "font-weight: bold;\n",
       "}\n",
       "</style><span class='get-type'>s2 :: Sentence</span>"
      ],
      "text/plain": [
       "s2 :: Sentence"
      ]
     },
     "metadata": {},
     "output_type": "display_data"
    }
   ],
   "source": [
    "type Subject = String\n",
    "type Verb = String\n",
    "type Object = String\n",
    "\n",
    "data Sentence = Sentence Subject Verb Object deriving (Eq, Show)\n",
    "\n",
    "s1 = Sentence \"dogs\" \"drool\"\n",
    ":type s1\n",
    "s2 = Sentence \"Julie\" \"loves\" \"dogs\"\n",
    ":type s2"
   ]
  },
  {
   "cell_type": "markdown",
   "metadata": {},
   "source": [
    "## Given a datatype declaration, what can we do?"
   ]
  },
  {
   "cell_type": "code",
   "execution_count": 5,
   "metadata": {},
   "outputs": [
    {
     "data": {
      "text/html": [
       "<style>/* Styles used for the Hoogle display in the pager */\n",
       ".hoogle-doc {\n",
       "display: block;\n",
       "padding-bottom: 1.3em;\n",
       "padding-left: 0.4em;\n",
       "}\n",
       ".hoogle-code {\n",
       "display: block;\n",
       "font-family: monospace;\n",
       "white-space: pre;\n",
       "}\n",
       ".hoogle-text {\n",
       "display: block;\n",
       "}\n",
       ".hoogle-name {\n",
       "color: green;\n",
       "font-weight: bold;\n",
       "}\n",
       ".hoogle-head {\n",
       "font-weight: bold;\n",
       "}\n",
       ".hoogle-sub {\n",
       "display: block;\n",
       "margin-left: 0.4em;\n",
       "}\n",
       ".hoogle-package {\n",
       "font-weight: bold;\n",
       "font-style: italic;\n",
       "}\n",
       ".hoogle-module {\n",
       "font-weight: bold;\n",
       "}\n",
       ".hoogle-class {\n",
       "font-weight: bold;\n",
       "}\n",
       ".get-type {\n",
       "color: green;\n",
       "font-weight: bold;\n",
       "font-family: monospace;\n",
       "display: block;\n",
       "white-space: pre-wrap;\n",
       "}\n",
       ".show-type {\n",
       "color: green;\n",
       "font-weight: bold;\n",
       "font-family: monospace;\n",
       "margin-left: 1em;\n",
       "}\n",
       ".mono {\n",
       "font-family: monospace;\n",
       "display: block;\n",
       "}\n",
       ".err-msg {\n",
       "color: red;\n",
       "font-style: italic;\n",
       "font-family: monospace;\n",
       "white-space: pre;\n",
       "display: block;\n",
       "}\n",
       "#unshowable {\n",
       "color: red;\n",
       "font-weight: bold;\n",
       "}\n",
       ".err-msg.in.collapse {\n",
       "padding-top: 0.7em;\n",
       "}\n",
       ".highlight-code {\n",
       "white-space: pre;\n",
       "font-family: monospace;\n",
       "}\n",
       ".suggestion-warning { \n",
       "font-weight: bold;\n",
       "color: rgb(200, 130, 0);\n",
       "}\n",
       ".suggestion-error { \n",
       "font-weight: bold;\n",
       "color: red;\n",
       "}\n",
       ".suggestion-name {\n",
       "font-weight: bold;\n",
       "}\n",
       "</style><div class=\"suggestion-name\" style=\"clear:both;\">Use newtype instead of data</div><div class=\"suggestion-row\" style=\"float: left;\"><div class=\"suggestion-warning\">Found:</div><div class=\"highlight-code\" id=\"haskell\">data Rocks = Rocks String\n",
       "               deriving (Eq, Show)</div></div><div class=\"suggestion-row\" style=\"float: left;\"><div class=\"suggestion-warning\">Why Not:</div><div class=\"highlight-code\" id=\"haskell\">newtype Rocks = Rocks String\n",
       "                  deriving (Eq, Show)</div></div><div class=\"suggestion-name\" style=\"clear:both;\">Use newtype instead of data</div><div class=\"suggestion-row\" style=\"float: left;\"><div class=\"suggestion-warning\">Found:</div><div class=\"highlight-code\" id=\"haskell\">data Yeah = Yeah Bool\n",
       "              deriving (Eq, Show)</div></div><div class=\"suggestion-row\" style=\"float: left;\"><div class=\"suggestion-warning\">Why Not:</div><div class=\"highlight-code\" id=\"haskell\">newtype Yeah = Yeah Bool\n",
       "                 deriving (Eq, Show)</div></div>"
      ],
      "text/plain": [
       "Line 1: Use newtype instead of data\n",
       "Found:\n",
       "data Rocks = Rocks String\n",
       "               deriving (Eq, Show)\n",
       "Why not:\n",
       "newtype Rocks = Rocks String\n",
       "                  deriving (Eq, Show)Line 2: Use newtype instead of data\n",
       "Found:\n",
       "data Yeah = Yeah Bool\n",
       "              deriving (Eq, Show)\n",
       "Why not:\n",
       "newtype Yeah = Yeah Bool\n",
       "                 deriving (Eq, Show)"
      ]
     },
     "metadata": {},
     "output_type": "display_data"
    }
   ],
   "source": [
    "data Rocks = Rocks String deriving (Eq, Show)\n",
    "data Yeah = Yeah Bool deriving (Eq, Show)\n",
    "data Papu = Papu Rocks Yeah deriving (Eq, Show)"
   ]
  },
  {
   "cell_type": "code",
   "execution_count": 6,
   "metadata": {},
   "outputs": [
    {
     "ename": "",
     "evalue": "",
     "header": "MessageHeader {mhIdentifiers = [\"a3dbb04b-5777-4abf-ae13-1eb1c78f4414\"], mhParentHeader = Just (MessageHeader {mhIdentifiers = [\"a3dbb04b-5777-4abf-ae13-1eb1c78f4414\"], mhParentHeader = Nothing, mhMetadata = Metadata (fromList [(\"deletedCells\",Array [String \"ba1baf7c-59e9-40ce-9c5f-1d249669454b\",String \"f8c782f7-fc32-43e3-adaf-a4a3463c280b\",String \"088f4cf7-dd4b-4393-9884-7bb3eb37285f\",String \"e0c70417-b52f-46bf-a1a9-23cb15dc9b4b\",String \"e81d02cd-9e87-40bd-9ad4-d771db1da0bc\",String \"e4112f20-811b-47a3-9f23-16beb97a3aef\",String \"5c25d377-46fd-432e-93d2-8b35b468c559\",String \"56269d51-9ca0-4a42-b12f-b946cd5a06df\",String \"a61e1370-4e97-439d-86e6-48b612866183\"]),(\"cellId\",String \"33da0f63-9d07-40fb-8703-941750703def\")]), mhMessageId = UUID {uuidToString = \"038875f7-1fb8-499a-901d-e7b8def80fb0\"}, mhSessionId = UUID {uuidToString = \"a3dbb04b-5777-4abf-ae13-1eb1c78f4414\"}, mhUsername = \"\", mhMsgType = ExecuteRequestMessage}), mhMetadata = Metadata (fromList []), mhMessageId = UUID {uuidToString = \"c62b5a6d-2ff3-4150-80d9-00c1e3d61400\"}, mhSessionId = UUID {uuidToString = \"a3dbb04b-5777-4abf-ae13-1eb1c78f4414\"}, mhUsername = \"\", mhMsgType = ExecuteErrorMessage}",
     "output_type": "error",
     "traceback": [
      "<interactive>:1:13: error:\n    • Couldn't match expected type ‘Rocks’ with actual type ‘String’\n    • In the first argument of ‘Papu’, namely ‘\"chases\"’\n      In the expression: Papu \"chases\" True\n      In an equation for ‘phew’: phew = Papu \"chases\" True\n<interactive>:1:22: error:\n    • Couldn't match expected type ‘Yeah’ with actual type ‘Bool’\n    • In the second argument of ‘Papu’, namely ‘True’\n      In the expression: Papu \"chases\" True\n      In an equation for ‘phew’: phew = Papu \"chases\" True"
     ]
    }
   ],
   "source": [
    "phew = Papu \"chases\" True"
   ]
  },
  {
   "cell_type": "code",
   "execution_count": 7,
   "metadata": {},
   "outputs": [],
   "source": [
    "truth = Papu (Rocks \"chomskydoz\") (Yeah True)"
   ]
  },
  {
   "cell_type": "code",
   "execution_count": 8,
   "metadata": {},
   "outputs": [],
   "source": [
    "equalityForall :: Papu -> Papu -> Bool\n",
    "equalityForall p p' = p == p'"
   ]
  },
  {
   "cell_type": "code",
   "execution_count": 9,
   "metadata": {},
   "outputs": [
    {
     "ename": "",
     "evalue": "",
     "header": "MessageHeader {mhIdentifiers = [\"a3dbb04b-5777-4abf-ae13-1eb1c78f4414\"], mhParentHeader = Just (MessageHeader {mhIdentifiers = [\"a3dbb04b-5777-4abf-ae13-1eb1c78f4414\"], mhParentHeader = Nothing, mhMetadata = Metadata (fromList [(\"deletedCells\",Array [String \"ba1baf7c-59e9-40ce-9c5f-1d249669454b\",String \"f8c782f7-fc32-43e3-adaf-a4a3463c280b\",String \"088f4cf7-dd4b-4393-9884-7bb3eb37285f\",String \"e0c70417-b52f-46bf-a1a9-23cb15dc9b4b\",String \"e81d02cd-9e87-40bd-9ad4-d771db1da0bc\",String \"e4112f20-811b-47a3-9f23-16beb97a3aef\",String \"5c25d377-46fd-432e-93d2-8b35b468c559\",String \"56269d51-9ca0-4a42-b12f-b946cd5a06df\",String \"a61e1370-4e97-439d-86e6-48b612866183\"]),(\"cellId\",String \"5879e5be-d319-4bba-b1e5-b96a68584f94\")]), mhMessageId = UUID {uuidToString = \"ed0ee0d1-1036-4709-8fdd-52502fa78d65\"}, mhSessionId = UUID {uuidToString = \"a3dbb04b-5777-4abf-ae13-1eb1c78f4414\"}, mhUsername = \"\", mhMsgType = ExecuteRequestMessage}), mhMetadata = Metadata (fromList []), mhMessageId = UUID {uuidToString = \"808e96c7-9ff4-466a-a5af-29e35a4796af\"}, mhSessionId = UUID {uuidToString = \"a3dbb04b-5777-4abf-ae13-1eb1c78f4414\"}, mhUsername = \"\", mhMsgType = ExecuteErrorMessage}",
     "output_type": "error",
     "traceback": [
      "<interactive>:2:21: error:\n    • No instance for (Ord Papu) arising from a use of ‘>’\n    • In the expression: p > p'\n      In an equation for ‘comparePapus’: comparePapus p p' = p > p'"
     ]
    }
   ],
   "source": [
    "comparePapus :: Papu -> Papu -> Bool\n",
    "comparePapus p p' = p > p'"
   ]
  },
  {
   "cell_type": "markdown",
   "metadata": {},
   "source": [
    "## Match the types"
   ]
  },
  {
   "cell_type": "code",
   "execution_count": 10,
   "metadata": {},
   "outputs": [],
   "source": [
    "i :: Num a => a\n",
    "i = 1"
   ]
  },
  {
   "cell_type": "code",
   "execution_count": 11,
   "metadata": {},
   "outputs": [
    {
     "ename": "",
     "evalue": "",
     "header": "MessageHeader {mhIdentifiers = [\"a3dbb04b-5777-4abf-ae13-1eb1c78f4414\"], mhParentHeader = Just (MessageHeader {mhIdentifiers = [\"a3dbb04b-5777-4abf-ae13-1eb1c78f4414\"], mhParentHeader = Nothing, mhMetadata = Metadata (fromList [(\"deletedCells\",Array [String \"ba1baf7c-59e9-40ce-9c5f-1d249669454b\",String \"f8c782f7-fc32-43e3-adaf-a4a3463c280b\",String \"088f4cf7-dd4b-4393-9884-7bb3eb37285f\",String \"e0c70417-b52f-46bf-a1a9-23cb15dc9b4b\",String \"e81d02cd-9e87-40bd-9ad4-d771db1da0bc\",String \"e4112f20-811b-47a3-9f23-16beb97a3aef\",String \"5c25d377-46fd-432e-93d2-8b35b468c559\",String \"56269d51-9ca0-4a42-b12f-b946cd5a06df\",String \"a61e1370-4e97-439d-86e6-48b612866183\"]),(\"cellId\",String \"9dafa360-dfde-41a0-90b2-9b02a43a046c\")]), mhMessageId = UUID {uuidToString = \"2a8140ec-bd59-4944-986c-c591a342c3c2\"}, mhSessionId = UUID {uuidToString = \"a3dbb04b-5777-4abf-ae13-1eb1c78f4414\"}, mhUsername = \"\", mhMsgType = ExecuteRequestMessage}), mhMetadata = Metadata (fromList []), mhMessageId = UUID {uuidToString = \"e3c26bce-f05c-4d8c-af5d-c5dd86944734\"}, mhSessionId = UUID {uuidToString = \"a3dbb04b-5777-4abf-ae13-1eb1c78f4414\"}, mhUsername = \"\", mhMsgType = ExecuteErrorMessage}",
     "output_type": "error",
     "traceback": [
      "<interactive>:2:6: error:\n    • No instance for (Num a) arising from the literal ‘1’\n      Possible fix:\n        add (Num a) to the context of\n          the type signature for:\n            i' :: forall a. a\n    • In the expression: 1\n      In an equation for ‘i'’: i' = 1"
     ]
    }
   ],
   "source": [
    "i' :: a\n",
    "i' = 1"
   ]
  },
  {
   "cell_type": "code",
   "execution_count": 12,
   "metadata": {},
   "outputs": [],
   "source": [
    "f :: Float\n",
    "f = 1.0"
   ]
  },
  {
   "cell_type": "code",
   "execution_count": 13,
   "metadata": {},
   "outputs": [
    {
     "ename": "",
     "evalue": "",
     "header": "MessageHeader {mhIdentifiers = [\"a3dbb04b-5777-4abf-ae13-1eb1c78f4414\"], mhParentHeader = Just (MessageHeader {mhIdentifiers = [\"a3dbb04b-5777-4abf-ae13-1eb1c78f4414\"], mhParentHeader = Nothing, mhMetadata = Metadata (fromList [(\"deletedCells\",Array [String \"ba1baf7c-59e9-40ce-9c5f-1d249669454b\",String \"f8c782f7-fc32-43e3-adaf-a4a3463c280b\",String \"088f4cf7-dd4b-4393-9884-7bb3eb37285f\",String \"e0c70417-b52f-46bf-a1a9-23cb15dc9b4b\",String \"e81d02cd-9e87-40bd-9ad4-d771db1da0bc\",String \"e4112f20-811b-47a3-9f23-16beb97a3aef\",String \"5c25d377-46fd-432e-93d2-8b35b468c559\",String \"56269d51-9ca0-4a42-b12f-b946cd5a06df\",String \"a61e1370-4e97-439d-86e6-48b612866183\"]),(\"cellId\",String \"f7afe9b8-d9ad-4bbe-9950-79676209611c\")]), mhMessageId = UUID {uuidToString = \"e11d0f25-e97b-4648-8c61-31401b0a6e7f\"}, mhSessionId = UUID {uuidToString = \"a3dbb04b-5777-4abf-ae13-1eb1c78f4414\"}, mhUsername = \"\", mhMsgType = ExecuteRequestMessage}), mhMetadata = Metadata (fromList []), mhMessageId = UUID {uuidToString = \"a660ac87-5372-48eb-8401-4428c05a7c4a\"}, mhSessionId = UUID {uuidToString = \"a3dbb04b-5777-4abf-ae13-1eb1c78f4414\"}, mhUsername = \"\", mhMsgType = ExecuteErrorMessage}",
     "output_type": "error",
     "traceback": [
      "<interactive>:2:6: error:\n    • Could not deduce (Fractional a) arising from the literal ‘1.0’\n      from the context: Num a\n        bound by the type signature for:\n                   f' :: forall a. Num a => a\n        at <interactive>:1:1-16\n      Possible fix:\n        add (Fractional a) to the context of\n          the type signature for:\n            f' :: forall a. Num a => a\n    • In the expression: 1.0\n      In an equation for ‘f'’: f' = 1.0"
     ]
    }
   ],
   "source": [
    "f' :: Num a => a\n",
    "f' = 1.0"
   ]
  },
  {
   "cell_type": "code",
   "execution_count": 14,
   "metadata": {},
   "outputs": [
    {
     "data": {
      "text/plain": [
       "1.0"
      ]
     },
     "metadata": {},
     "output_type": "display_data"
    }
   ],
   "source": [
    "fn :: Num a => a -> a\n",
    "fn a = a\n",
    "\n",
    "fn 1.0"
   ]
  },
  {
   "cell_type": "markdown",
   "metadata": {},
   "source": [
    "Wtf? I can supply `1.0` as `Num a => a` for a function argument, but cannot if I try to assign it to a value with that type. That doesn't make any sense."
   ]
  },
  {
   "cell_type": "code",
   "execution_count": 15,
   "metadata": {},
   "outputs": [],
   "source": [
    "f :: Float\n",
    "f = 1.0"
   ]
  },
  {
   "cell_type": "code",
   "execution_count": 16,
   "metadata": {},
   "outputs": [],
   "source": [
    "f' :: Fractional a => a\n",
    "f' = 1.0"
   ]
  },
  {
   "cell_type": "code",
   "execution_count": 17,
   "metadata": {},
   "outputs": [
    {
     "data": {},
     "metadata": {},
     "output_type": "display_data"
    },
    {
     "data": {
      "text/html": [
       "<div style='background: rgb(247, 247, 247);'><form><textarea id='code'>class (Real a, Fractional a) => RealFrac a where\n",
       "  properFraction :: Integral b => a -> (b, a)\n",
       "  truncate :: Integral b => a -> b\n",
       "  round :: Integral b => a -> b\n",
       "  ceiling :: Integral b => a -> b\n",
       "  floor :: Integral b => a -> b\n",
       "  {-# MINIMAL properFraction #-}\n",
       "  \t-- Defined in ‘GHC.Real’\n",
       "instance RealFrac Float -- Defined in ‘GHC.Float’\n",
       "instance RealFrac Double -- Defined in ‘GHC.Float’\n",
       "</textarea></form></div><script>CodeMirror.fromTextArea(document.getElementById('code'), {mode: 'haskell', readOnly: 'nocursor'});</script>"
      ],
      "text/plain": [
       "class (Real a, Fractional a) => RealFrac a where\n",
       "  properFraction :: Integral b => a -> (b, a)\n",
       "  truncate :: Integral b => a -> b\n",
       "  round :: Integral b => a -> b\n",
       "  ceiling :: Integral b => a -> b\n",
       "  floor :: Integral b => a -> b\n",
       "  {-# MINIMAL properFraction #-}\n",
       "  \t-- Defined in ‘GHC.Real’\n",
       "instance RealFrac Float -- Defined in ‘GHC.Float’\n",
       "instance RealFrac Double -- Defined in ‘GHC.Float’"
      ]
     },
     "metadata": {},
     "output_type": "display_data"
    }
   ],
   "source": [
    ":info RealFrac"
   ]
  },
  {
   "cell_type": "code",
   "execution_count": 18,
   "metadata": {},
   "outputs": [],
   "source": [
    "f' :: RealFrac a => a\n",
    "f' = 1.0 "
   ]
  },
  {
   "cell_type": "code",
   "execution_count": 19,
   "metadata": {},
   "outputs": [],
   "source": [
    "freud :: a -> a\n",
    "freud x = x"
   ]
  },
  {
   "cell_type": "code",
   "execution_count": 20,
   "metadata": {},
   "outputs": [],
   "source": [
    "freud' :: Ord a => a -> a\n",
    "freud' x = x"
   ]
  },
  {
   "cell_type": "code",
   "execution_count": 21,
   "metadata": {},
   "outputs": [],
   "source": [
    "freud' :: Int -> Int\n",
    "freud' x = x"
   ]
  },
  {
   "cell_type": "code",
   "execution_count": 22,
   "metadata": {},
   "outputs": [],
   "source": [
    "myX = 1 :: Int\n",
    "sigmund :: Int -> Int\n",
    "sigmund x = myX"
   ]
  },
  {
   "cell_type": "code",
   "execution_count": 23,
   "metadata": {},
   "outputs": [
    {
     "ename": "",
     "evalue": "",
     "header": "MessageHeader {mhIdentifiers = [\"a3dbb04b-5777-4abf-ae13-1eb1c78f4414\"], mhParentHeader = Just (MessageHeader {mhIdentifiers = [\"a3dbb04b-5777-4abf-ae13-1eb1c78f4414\"], mhParentHeader = Nothing, mhMetadata = Metadata (fromList [(\"deletedCells\",Array [String \"ba1baf7c-59e9-40ce-9c5f-1d249669454b\",String \"f8c782f7-fc32-43e3-adaf-a4a3463c280b\",String \"088f4cf7-dd4b-4393-9884-7bb3eb37285f\",String \"e0c70417-b52f-46bf-a1a9-23cb15dc9b4b\",String \"e81d02cd-9e87-40bd-9ad4-d771db1da0bc\",String \"e4112f20-811b-47a3-9f23-16beb97a3aef\",String \"5c25d377-46fd-432e-93d2-8b35b468c559\",String \"56269d51-9ca0-4a42-b12f-b946cd5a06df\",String \"a61e1370-4e97-439d-86e6-48b612866183\"]),(\"cellId\",String \"f5d9030d-6810-4da8-b8ca-f221d28fa875\")]), mhMessageId = UUID {uuidToString = \"37a80f7c-035e-46c9-9ce9-8b84e885abe5\"}, mhSessionId = UUID {uuidToString = \"a3dbb04b-5777-4abf-ae13-1eb1c78f4414\"}, mhUsername = \"\", mhMsgType = ExecuteRequestMessage}), mhMetadata = Metadata (fromList []), mhMessageId = UUID {uuidToString = \"494bedd1-db83-4289-a12f-c3c6429cd9ac\"}, mhSessionId = UUID {uuidToString = \"a3dbb04b-5777-4abf-ae13-1eb1c78f4414\"}, mhUsername = \"\", mhMsgType = ExecuteErrorMessage}",
     "output_type": "error",
     "traceback": [
      "<interactive>:3:14: error:\n    • Couldn't match expected type ‘a’ with actual type ‘Int’\n      ‘a’ is a rigid type variable bound by\n        the type signature for:\n          sigmund' :: forall a. a -> a\n        at <interactive>:2:1-18\n    • In the expression: myX\n      In an equation for ‘sigmund'’: sigmund' x = myX\n    • Relevant bindings include\n        x :: a (bound at <interactive>:3:10)\n        sigmund' :: a -> a (bound at <interactive>:3:1)"
     ]
    }
   ],
   "source": [
    "myX = 1 :: Int\n",
    "sigmund' :: a -> a\n",
    "sigmund' x = myX"
   ]
  },
  {
   "cell_type": "code",
   "execution_count": 24,
   "metadata": {},
   "outputs": [
    {
     "ename": "",
     "evalue": "",
     "header": "MessageHeader {mhIdentifiers = [\"a3dbb04b-5777-4abf-ae13-1eb1c78f4414\"], mhParentHeader = Just (MessageHeader {mhIdentifiers = [\"a3dbb04b-5777-4abf-ae13-1eb1c78f4414\"], mhParentHeader = Nothing, mhMetadata = Metadata (fromList [(\"deletedCells\",Array [String \"ba1baf7c-59e9-40ce-9c5f-1d249669454b\",String \"f8c782f7-fc32-43e3-adaf-a4a3463c280b\",String \"088f4cf7-dd4b-4393-9884-7bb3eb37285f\",String \"e0c70417-b52f-46bf-a1a9-23cb15dc9b4b\",String \"e81d02cd-9e87-40bd-9ad4-d771db1da0bc\",String \"e4112f20-811b-47a3-9f23-16beb97a3aef\",String \"5c25d377-46fd-432e-93d2-8b35b468c559\",String \"56269d51-9ca0-4a42-b12f-b946cd5a06df\",String \"a61e1370-4e97-439d-86e6-48b612866183\"]),(\"cellId\",String \"7b944478-20f0-4df4-b265-9067b0c9ad19\")]), mhMessageId = UUID {uuidToString = \"dd6e3dc1-197b-4525-a9dc-2700fd731397\"}, mhSessionId = UUID {uuidToString = \"a3dbb04b-5777-4abf-ae13-1eb1c78f4414\"}, mhUsername = \"\", mhMsgType = ExecuteRequestMessage}), mhMetadata = Metadata (fromList []), mhMessageId = UUID {uuidToString = \"3f26bde8-c7bb-4f93-b09e-869159426cb8\"}, mhSessionId = UUID {uuidToString = \"a3dbb04b-5777-4abf-ae13-1eb1c78f4414\"}, mhUsername = \"\", mhMsgType = ExecuteErrorMessage}",
     "output_type": "error",
     "traceback": [
      "<interactive>:3:14: error:\n    • Couldn't match expected type ‘a’ with actual type ‘Int’\n      ‘a’ is a rigid type variable bound by\n        the type signature for:\n          sigmund' :: forall a. Num a => a -> a\n        at <interactive>:2:1-27\n    • In the expression: myX\n      In an equation for ‘sigmund'’: sigmund' x = myX\n    • Relevant bindings include\n        x :: a (bound at <interactive>:3:10)\n        sigmund' :: a -> a (bound at <interactive>:3:1)"
     ]
    }
   ],
   "source": [
    "myX = 1 :: Int\n",
    "sigmund' :: Num a => a -> a\n",
    "sigmund' x = myX"
   ]
  },
  {
   "cell_type": "code",
   "execution_count": 25,
   "metadata": {},
   "outputs": [
    {
     "ename": "",
     "evalue": "",
     "header": "MessageHeader {mhIdentifiers = [\"a3dbb04b-5777-4abf-ae13-1eb1c78f4414\"], mhParentHeader = Just (MessageHeader {mhIdentifiers = [\"a3dbb04b-5777-4abf-ae13-1eb1c78f4414\"], mhParentHeader = Nothing, mhMetadata = Metadata (fromList [(\"deletedCells\",Array [String \"ba1baf7c-59e9-40ce-9c5f-1d249669454b\",String \"f8c782f7-fc32-43e3-adaf-a4a3463c280b\",String \"088f4cf7-dd4b-4393-9884-7bb3eb37285f\",String \"e0c70417-b52f-46bf-a1a9-23cb15dc9b4b\",String \"e81d02cd-9e87-40bd-9ad4-d771db1da0bc\",String \"e4112f20-811b-47a3-9f23-16beb97a3aef\",String \"5c25d377-46fd-432e-93d2-8b35b468c559\",String \"56269d51-9ca0-4a42-b12f-b946cd5a06df\",String \"a61e1370-4e97-439d-86e6-48b612866183\"]),(\"cellId\",String \"0e7a1ae2-56cf-412c-94f6-7c59a27c7307\")]), mhMessageId = UUID {uuidToString = \"5d172652-5c88-492b-923f-8a248d03f098\"}, mhSessionId = UUID {uuidToString = \"a3dbb04b-5777-4abf-ae13-1eb1c78f4414\"}, mhUsername = \"\", mhMsgType = ExecuteRequestMessage}), mhMetadata = Metadata (fromList []), mhMessageId = UUID {uuidToString = \"2ce93858-2817-4ad9-80e5-7f0637ff36c2\"}, mhSessionId = UUID {uuidToString = \"a3dbb04b-5777-4abf-ae13-1eb1c78f4414\"}, mhUsername = \"\", mhMsgType = ExecuteErrorMessage}",
     "output_type": "error",
     "traceback": [
      "<interactive>:3:14: error:\n    • Couldn't match expected type ‘b’ with actual type ‘Int’\n      ‘b’ is a rigid type variable bound by\n        the type signature for:\n          sigmund' :: forall a b. (Num a, Num b) => a -> b\n        at <interactive>:2:1-36\n    • In the expression: myX\n      In an equation for ‘sigmund'’: sigmund' x = myX\n    • Relevant bindings include sigmund' :: a -> b (bound at <interactive>:3:1)"
     ]
    }
   ],
   "source": [
    "myX = 1 :: Int\n",
    "sigmund' :: (Num a, Num b) => a -> b\n",
    "sigmund' x = myX"
   ]
  },
  {
   "cell_type": "code",
   "execution_count": 26,
   "metadata": {},
   "outputs": [
    {
     "data": {
      "text/html": [
       "<style>/* Styles used for the Hoogle display in the pager */\n",
       ".hoogle-doc {\n",
       "display: block;\n",
       "padding-bottom: 1.3em;\n",
       "padding-left: 0.4em;\n",
       "}\n",
       ".hoogle-code {\n",
       "display: block;\n",
       "font-family: monospace;\n",
       "white-space: pre;\n",
       "}\n",
       ".hoogle-text {\n",
       "display: block;\n",
       "}\n",
       ".hoogle-name {\n",
       "color: green;\n",
       "font-weight: bold;\n",
       "}\n",
       ".hoogle-head {\n",
       "font-weight: bold;\n",
       "}\n",
       ".hoogle-sub {\n",
       "display: block;\n",
       "margin-left: 0.4em;\n",
       "}\n",
       ".hoogle-package {\n",
       "font-weight: bold;\n",
       "font-style: italic;\n",
       "}\n",
       ".hoogle-module {\n",
       "font-weight: bold;\n",
       "}\n",
       ".hoogle-class {\n",
       "font-weight: bold;\n",
       "}\n",
       ".get-type {\n",
       "color: green;\n",
       "font-weight: bold;\n",
       "font-family: monospace;\n",
       "display: block;\n",
       "white-space: pre-wrap;\n",
       "}\n",
       ".show-type {\n",
       "color: green;\n",
       "font-weight: bold;\n",
       "font-family: monospace;\n",
       "margin-left: 1em;\n",
       "}\n",
       ".mono {\n",
       "font-family: monospace;\n",
       "display: block;\n",
       "}\n",
       ".err-msg {\n",
       "color: red;\n",
       "font-style: italic;\n",
       "font-family: monospace;\n",
       "white-space: pre;\n",
       "display: block;\n",
       "}\n",
       "#unshowable {\n",
       "color: red;\n",
       "font-weight: bold;\n",
       "}\n",
       ".err-msg.in.collapse {\n",
       "padding-top: 0.7em;\n",
       "}\n",
       ".highlight-code {\n",
       "white-space: pre;\n",
       "font-family: monospace;\n",
       "}\n",
       ".suggestion-warning { \n",
       "font-weight: bold;\n",
       "color: rgb(200, 130, 0);\n",
       "}\n",
       ".suggestion-error { \n",
       "font-weight: bold;\n",
       "color: red;\n",
       "}\n",
       ".suggestion-name {\n",
       "font-weight: bold;\n",
       "}\n",
       "</style><div class=\"suggestion-name\" style=\"clear:both;\">Use minimum</div><div class=\"suggestion-row\" style=\"float: left;\"><div class=\"suggestion-warning\">Found:</div><div class=\"highlight-code\" id=\"haskell\">head (sort xs)</div></div><div class=\"suggestion-row\" style=\"float: left;\"><div class=\"suggestion-warning\">Why Not:</div><div class=\"highlight-code\" id=\"haskell\">minimum xs</div></div>"
      ],
      "text/plain": [
       "Line 4: Use minimum\n",
       "Found:\n",
       "head (sort xs)\n",
       "Why not:\n",
       "minimum xs"
      ]
     },
     "metadata": {},
     "output_type": "display_data"
    }
   ],
   "source": [
    "import Data.List\n",
    "\n",
    "jung :: Ord a => [a] -> a\n",
    "jung xs = head (sort xs)"
   ]
  },
  {
   "cell_type": "code",
   "execution_count": 27,
   "metadata": {},
   "outputs": [
    {
     "data": {
      "text/html": [
       "<style>/* Styles used for the Hoogle display in the pager */\n",
       ".hoogle-doc {\n",
       "display: block;\n",
       "padding-bottom: 1.3em;\n",
       "padding-left: 0.4em;\n",
       "}\n",
       ".hoogle-code {\n",
       "display: block;\n",
       "font-family: monospace;\n",
       "white-space: pre;\n",
       "}\n",
       ".hoogle-text {\n",
       "display: block;\n",
       "}\n",
       ".hoogle-name {\n",
       "color: green;\n",
       "font-weight: bold;\n",
       "}\n",
       ".hoogle-head {\n",
       "font-weight: bold;\n",
       "}\n",
       ".hoogle-sub {\n",
       "display: block;\n",
       "margin-left: 0.4em;\n",
       "}\n",
       ".hoogle-package {\n",
       "font-weight: bold;\n",
       "font-style: italic;\n",
       "}\n",
       ".hoogle-module {\n",
       "font-weight: bold;\n",
       "}\n",
       ".hoogle-class {\n",
       "font-weight: bold;\n",
       "}\n",
       ".get-type {\n",
       "color: green;\n",
       "font-weight: bold;\n",
       "font-family: monospace;\n",
       "display: block;\n",
       "white-space: pre-wrap;\n",
       "}\n",
       ".show-type {\n",
       "color: green;\n",
       "font-weight: bold;\n",
       "font-family: monospace;\n",
       "margin-left: 1em;\n",
       "}\n",
       ".mono {\n",
       "font-family: monospace;\n",
       "display: block;\n",
       "}\n",
       ".err-msg {\n",
       "color: red;\n",
       "font-style: italic;\n",
       "font-family: monospace;\n",
       "white-space: pre;\n",
       "display: block;\n",
       "}\n",
       "#unshowable {\n",
       "color: red;\n",
       "font-weight: bold;\n",
       "}\n",
       ".err-msg.in.collapse {\n",
       "padding-top: 0.7em;\n",
       "}\n",
       ".highlight-code {\n",
       "white-space: pre;\n",
       "font-family: monospace;\n",
       "}\n",
       ".suggestion-warning { \n",
       "font-weight: bold;\n",
       "color: rgb(200, 130, 0);\n",
       "}\n",
       ".suggestion-error { \n",
       "font-weight: bold;\n",
       "color: red;\n",
       "}\n",
       ".suggestion-name {\n",
       "font-weight: bold;\n",
       "}\n",
       "</style><div class=\"suggestion-name\" style=\"clear:both;\">Use minimum</div><div class=\"suggestion-row\" style=\"float: left;\"><div class=\"suggestion-warning\">Found:</div><div class=\"highlight-code\" id=\"haskell\">head (sort xs)</div></div><div class=\"suggestion-row\" style=\"float: left;\"><div class=\"suggestion-warning\">Why Not:</div><div class=\"highlight-code\" id=\"haskell\">minimum xs</div></div>"
      ],
      "text/plain": [
       "Line 2: Use minimum\n",
       "Found:\n",
       "head (sort xs)\n",
       "Why not:\n",
       "minimum xs"
      ]
     },
     "metadata": {},
     "output_type": "display_data"
    }
   ],
   "source": [
    "jung :: [Int] -> Int\n",
    "jung xs = head (sort xs)"
   ]
  },
  {
   "cell_type": "code",
   "execution_count": 28,
   "metadata": {},
   "outputs": [
    {
     "data": {
      "text/html": [
       "<style>/* Styles used for the Hoogle display in the pager */\n",
       ".hoogle-doc {\n",
       "display: block;\n",
       "padding-bottom: 1.3em;\n",
       "padding-left: 0.4em;\n",
       "}\n",
       ".hoogle-code {\n",
       "display: block;\n",
       "font-family: monospace;\n",
       "white-space: pre;\n",
       "}\n",
       ".hoogle-text {\n",
       "display: block;\n",
       "}\n",
       ".hoogle-name {\n",
       "color: green;\n",
       "font-weight: bold;\n",
       "}\n",
       ".hoogle-head {\n",
       "font-weight: bold;\n",
       "}\n",
       ".hoogle-sub {\n",
       "display: block;\n",
       "margin-left: 0.4em;\n",
       "}\n",
       ".hoogle-package {\n",
       "font-weight: bold;\n",
       "font-style: italic;\n",
       "}\n",
       ".hoogle-module {\n",
       "font-weight: bold;\n",
       "}\n",
       ".hoogle-class {\n",
       "font-weight: bold;\n",
       "}\n",
       ".get-type {\n",
       "color: green;\n",
       "font-weight: bold;\n",
       "font-family: monospace;\n",
       "display: block;\n",
       "white-space: pre-wrap;\n",
       "}\n",
       ".show-type {\n",
       "color: green;\n",
       "font-weight: bold;\n",
       "font-family: monospace;\n",
       "margin-left: 1em;\n",
       "}\n",
       ".mono {\n",
       "font-family: monospace;\n",
       "display: block;\n",
       "}\n",
       ".err-msg {\n",
       "color: red;\n",
       "font-style: italic;\n",
       "font-family: monospace;\n",
       "white-space: pre;\n",
       "display: block;\n",
       "}\n",
       "#unshowable {\n",
       "color: red;\n",
       "font-weight: bold;\n",
       "}\n",
       ".err-msg.in.collapse {\n",
       "padding-top: 0.7em;\n",
       "}\n",
       ".highlight-code {\n",
       "white-space: pre;\n",
       "font-family: monospace;\n",
       "}\n",
       ".suggestion-warning { \n",
       "font-weight: bold;\n",
       "color: rgb(200, 130, 0);\n",
       "}\n",
       ".suggestion-error { \n",
       "font-weight: bold;\n",
       "color: red;\n",
       "}\n",
       ".suggestion-name {\n",
       "font-weight: bold;\n",
       "}\n",
       "</style><div class=\"suggestion-name\" style=\"clear:both;\">Use String</div><div class=\"suggestion-row\" style=\"float: left;\"><div class=\"suggestion-warning\">Found:</div><div class=\"highlight-code\" id=\"haskell\">[Char] -> Char</div></div><div class=\"suggestion-row\" style=\"float: left;\"><div class=\"suggestion-warning\">Why Not:</div><div class=\"highlight-code\" id=\"haskell\">String -> Char</div></div><div class=\"suggestion-name\" style=\"clear:both;\">Use minimum</div><div class=\"suggestion-row\" style=\"float: left;\"><div class=\"suggestion-warning\">Found:</div><div class=\"highlight-code\" id=\"haskell\">head (sort xs)</div></div><div class=\"suggestion-row\" style=\"float: left;\"><div class=\"suggestion-warning\">Why Not:</div><div class=\"highlight-code\" id=\"haskell\">minimum xs</div></div>"
      ],
      "text/plain": [
       "Line 1: Use String\n",
       "Found:\n",
       "[Char] -> Char\n",
       "Why not:\n",
       "String -> CharLine 2: Use minimum\n",
       "Found:\n",
       "head (sort xs)\n",
       "Why not:\n",
       "minimum xs"
      ]
     },
     "metadata": {},
     "output_type": "display_data"
    }
   ],
   "source": [
    "young :: [Char] -> Char\n",
    "young xs = head (sort xs)"
   ]
  },
  {
   "cell_type": "code",
   "execution_count": 29,
   "metadata": {},
   "outputs": [
    {
     "data": {
      "text/html": [
       "<style>/* Styles used for the Hoogle display in the pager */\n",
       ".hoogle-doc {\n",
       "display: block;\n",
       "padding-bottom: 1.3em;\n",
       "padding-left: 0.4em;\n",
       "}\n",
       ".hoogle-code {\n",
       "display: block;\n",
       "font-family: monospace;\n",
       "white-space: pre;\n",
       "}\n",
       ".hoogle-text {\n",
       "display: block;\n",
       "}\n",
       ".hoogle-name {\n",
       "color: green;\n",
       "font-weight: bold;\n",
       "}\n",
       ".hoogle-head {\n",
       "font-weight: bold;\n",
       "}\n",
       ".hoogle-sub {\n",
       "display: block;\n",
       "margin-left: 0.4em;\n",
       "}\n",
       ".hoogle-package {\n",
       "font-weight: bold;\n",
       "font-style: italic;\n",
       "}\n",
       ".hoogle-module {\n",
       "font-weight: bold;\n",
       "}\n",
       ".hoogle-class {\n",
       "font-weight: bold;\n",
       "}\n",
       ".get-type {\n",
       "color: green;\n",
       "font-weight: bold;\n",
       "font-family: monospace;\n",
       "display: block;\n",
       "white-space: pre-wrap;\n",
       "}\n",
       ".show-type {\n",
       "color: green;\n",
       "font-weight: bold;\n",
       "font-family: monospace;\n",
       "margin-left: 1em;\n",
       "}\n",
       ".mono {\n",
       "font-family: monospace;\n",
       "display: block;\n",
       "}\n",
       ".err-msg {\n",
       "color: red;\n",
       "font-style: italic;\n",
       "font-family: monospace;\n",
       "white-space: pre;\n",
       "display: block;\n",
       "}\n",
       "#unshowable {\n",
       "color: red;\n",
       "font-weight: bold;\n",
       "}\n",
       ".err-msg.in.collapse {\n",
       "padding-top: 0.7em;\n",
       "}\n",
       ".highlight-code {\n",
       "white-space: pre;\n",
       "font-family: monospace;\n",
       "}\n",
       ".suggestion-warning { \n",
       "font-weight: bold;\n",
       "color: rgb(200, 130, 0);\n",
       "}\n",
       ".suggestion-error { \n",
       "font-weight: bold;\n",
       "color: red;\n",
       "}\n",
       ".suggestion-name {\n",
       "font-weight: bold;\n",
       "}\n",
       "</style><div class=\"suggestion-name\" style=\"clear:both;\">Use minimum</div><div class=\"suggestion-row\" style=\"float: left;\"><div class=\"suggestion-warning\">Found:</div><div class=\"highlight-code\" id=\"haskell\">head (sort xs)</div></div><div class=\"suggestion-row\" style=\"float: left;\"><div class=\"suggestion-warning\">Why Not:</div><div class=\"highlight-code\" id=\"haskell\">minimum xs</div></div>"
      ],
      "text/plain": [
       "Line 2: Use minimum\n",
       "Found:\n",
       "head (sort xs)\n",
       "Why not:\n",
       "minimum xs"
      ]
     },
     "metadata": {},
     "output_type": "display_data"
    }
   ],
   "source": [
    "young :: Ord a => [a] -> a\n",
    "young xs = head (sort xs)"
   ]
  },
  {
   "cell_type": "code",
   "execution_count": 30,
   "metadata": {},
   "outputs": [
    {
     "data": {
      "text/html": [
       "<style>/* Styles used for the Hoogle display in the pager */\n",
       ".hoogle-doc {\n",
       "display: block;\n",
       "padding-bottom: 1.3em;\n",
       "padding-left: 0.4em;\n",
       "}\n",
       ".hoogle-code {\n",
       "display: block;\n",
       "font-family: monospace;\n",
       "white-space: pre;\n",
       "}\n",
       ".hoogle-text {\n",
       "display: block;\n",
       "}\n",
       ".hoogle-name {\n",
       "color: green;\n",
       "font-weight: bold;\n",
       "}\n",
       ".hoogle-head {\n",
       "font-weight: bold;\n",
       "}\n",
       ".hoogle-sub {\n",
       "display: block;\n",
       "margin-left: 0.4em;\n",
       "}\n",
       ".hoogle-package {\n",
       "font-weight: bold;\n",
       "font-style: italic;\n",
       "}\n",
       ".hoogle-module {\n",
       "font-weight: bold;\n",
       "}\n",
       ".hoogle-class {\n",
       "font-weight: bold;\n",
       "}\n",
       ".get-type {\n",
       "color: green;\n",
       "font-weight: bold;\n",
       "font-family: monospace;\n",
       "display: block;\n",
       "white-space: pre-wrap;\n",
       "}\n",
       ".show-type {\n",
       "color: green;\n",
       "font-weight: bold;\n",
       "font-family: monospace;\n",
       "margin-left: 1em;\n",
       "}\n",
       ".mono {\n",
       "font-family: monospace;\n",
       "display: block;\n",
       "}\n",
       ".err-msg {\n",
       "color: red;\n",
       "font-style: italic;\n",
       "font-family: monospace;\n",
       "white-space: pre;\n",
       "display: block;\n",
       "}\n",
       "#unshowable {\n",
       "color: red;\n",
       "font-weight: bold;\n",
       "}\n",
       ".err-msg.in.collapse {\n",
       "padding-top: 0.7em;\n",
       "}\n",
       ".highlight-code {\n",
       "white-space: pre;\n",
       "font-family: monospace;\n",
       "}\n",
       ".suggestion-warning { \n",
       "font-weight: bold;\n",
       "color: rgb(200, 130, 0);\n",
       "}\n",
       ".suggestion-error { \n",
       "font-weight: bold;\n",
       "color: red;\n",
       "}\n",
       ".suggestion-name {\n",
       "font-weight: bold;\n",
       "}\n",
       "</style><div class=\"suggestion-name\" style=\"clear:both;\">Use String</div><div class=\"suggestion-row\" style=\"float: left;\"><div class=\"suggestion-warning\">Found:</div><div class=\"highlight-code\" id=\"haskell\">[Char] -> [Char]</div></div><div class=\"suggestion-row\" style=\"float: left;\"><div class=\"suggestion-warning\">Why Not:</div><div class=\"highlight-code\" id=\"haskell\">String -> String</div></div><div class=\"suggestion-name\" style=\"clear:both;\">Use String</div><div class=\"suggestion-row\" style=\"float: left;\"><div class=\"suggestion-warning\">Found:</div><div class=\"highlight-code\" id=\"haskell\">[Char] -> Char</div></div><div class=\"suggestion-row\" style=\"float: left;\"><div class=\"suggestion-warning\">Why Not:</div><div class=\"highlight-code\" id=\"haskell\">String -> Char</div></div>"
      ],
      "text/plain": [
       "Line 1: Use String\n",
       "Found:\n",
       "[Char] -> [Char]\n",
       "Why not:\n",
       "String -> StringLine 4: Use String\n",
       "Found:\n",
       "[Char] -> Char\n",
       "Why not:\n",
       "String -> Char"
      ]
     },
     "metadata": {},
     "output_type": "display_data"
    }
   ],
   "source": [
    "mySort :: [Char] -> [Char]\n",
    "mySort = sort\n",
    "\n",
    "signifier :: [Char] -> Char\n",
    "signifier xs = head (mySort xs) "
   ]
  },
  {
   "cell_type": "code",
   "execution_count": 31,
   "metadata": {},
   "outputs": [
    {
     "data": {
      "text/html": [
       "<style>/* Styles used for the Hoogle display in the pager */\n",
       ".hoogle-doc {\n",
       "display: block;\n",
       "padding-bottom: 1.3em;\n",
       "padding-left: 0.4em;\n",
       "}\n",
       ".hoogle-code {\n",
       "display: block;\n",
       "font-family: monospace;\n",
       "white-space: pre;\n",
       "}\n",
       ".hoogle-text {\n",
       "display: block;\n",
       "}\n",
       ".hoogle-name {\n",
       "color: green;\n",
       "font-weight: bold;\n",
       "}\n",
       ".hoogle-head {\n",
       "font-weight: bold;\n",
       "}\n",
       ".hoogle-sub {\n",
       "display: block;\n",
       "margin-left: 0.4em;\n",
       "}\n",
       ".hoogle-package {\n",
       "font-weight: bold;\n",
       "font-style: italic;\n",
       "}\n",
       ".hoogle-module {\n",
       "font-weight: bold;\n",
       "}\n",
       ".hoogle-class {\n",
       "font-weight: bold;\n",
       "}\n",
       ".get-type {\n",
       "color: green;\n",
       "font-weight: bold;\n",
       "font-family: monospace;\n",
       "display: block;\n",
       "white-space: pre-wrap;\n",
       "}\n",
       ".show-type {\n",
       "color: green;\n",
       "font-weight: bold;\n",
       "font-family: monospace;\n",
       "margin-left: 1em;\n",
       "}\n",
       ".mono {\n",
       "font-family: monospace;\n",
       "display: block;\n",
       "}\n",
       ".err-msg {\n",
       "color: red;\n",
       "font-style: italic;\n",
       "font-family: monospace;\n",
       "white-space: pre;\n",
       "display: block;\n",
       "}\n",
       "#unshowable {\n",
       "color: red;\n",
       "font-weight: bold;\n",
       "}\n",
       ".err-msg.in.collapse {\n",
       "padding-top: 0.7em;\n",
       "}\n",
       ".highlight-code {\n",
       "white-space: pre;\n",
       "font-family: monospace;\n",
       "}\n",
       ".suggestion-warning { \n",
       "font-weight: bold;\n",
       "color: rgb(200, 130, 0);\n",
       "}\n",
       ".suggestion-error { \n",
       "font-weight: bold;\n",
       "color: red;\n",
       "}\n",
       ".suggestion-name {\n",
       "font-weight: bold;\n",
       "}\n",
       "</style><div class=\"suggestion-name\" style=\"clear:both;\">Use String</div><div class=\"suggestion-row\" style=\"float: left;\"><div class=\"suggestion-warning\">Found:</div><div class=\"highlight-code\" id=\"haskell\">[Char] -> [Char]</div></div><div class=\"suggestion-row\" style=\"float: left;\"><div class=\"suggestion-warning\">Why Not:</div><div class=\"highlight-code\" id=\"haskell\">String -> String</div></div>"
      ],
      "text/plain": [
       "Line 1: Use String\n",
       "Found:\n",
       "[Char] -> [Char]\n",
       "Why not:\n",
       "String -> String"
      ]
     },
     "metadata": {},
     "output_type": "display_data"
    },
    {
     "ename": "",
     "evalue": "",
     "header": "MessageHeader {mhIdentifiers = [\"a3dbb04b-5777-4abf-ae13-1eb1c78f4414\"], mhParentHeader = Just (MessageHeader {mhIdentifiers = [\"a3dbb04b-5777-4abf-ae13-1eb1c78f4414\"], mhParentHeader = Nothing, mhMetadata = Metadata (fromList [(\"deletedCells\",Array [String \"ba1baf7c-59e9-40ce-9c5f-1d249669454b\",String \"f8c782f7-fc32-43e3-adaf-a4a3463c280b\",String \"088f4cf7-dd4b-4393-9884-7bb3eb37285f\",String \"e0c70417-b52f-46bf-a1a9-23cb15dc9b4b\",String \"e81d02cd-9e87-40bd-9ad4-d771db1da0bc\",String \"e4112f20-811b-47a3-9f23-16beb97a3aef\",String \"5c25d377-46fd-432e-93d2-8b35b468c559\",String \"56269d51-9ca0-4a42-b12f-b946cd5a06df\",String \"a61e1370-4e97-439d-86e6-48b612866183\"]),(\"cellId\",String \"2fa472f7-5c94-4cfc-b3b3-d45c41bb3f5e\")]), mhMessageId = UUID {uuidToString = \"89b58671-0987-4456-be4e-7dc011934763\"}, mhSessionId = UUID {uuidToString = \"a3dbb04b-5777-4abf-ae13-1eb1c78f4414\"}, mhUsername = \"\", mhMsgType = ExecuteRequestMessage}), mhMetadata = Metadata (fromList []), mhMessageId = UUID {uuidToString = \"5727aa45-47a2-4304-b55b-be7468f27f42\"}, mhSessionId = UUID {uuidToString = \"a3dbb04b-5777-4abf-ae13-1eb1c78f4414\"}, mhUsername = \"\", mhMsgType = ExecuteErrorMessage}",
     "output_type": "error",
     "traceback": [
      "<interactive>:4:29: error:\n    • Couldn't match type ‘a’ with ‘Char’\n      ‘a’ is a rigid type variable bound by\n        the type signature for:\n          signifier :: forall a. Ord a => [a] -> a\n        at <interactive>:3:1-30\n      Expected type: String\n        Actual type: [a]\n    • In the first argument of ‘mySort’, namely ‘xs’\n      In the first argument of ‘head’, namely ‘(mySort xs)’\n      In the expression: head (mySort xs)\n    • Relevant bindings include\n        xs :: [a] (bound at <interactive>:4:11)\n        signifier :: [a] -> a (bound at <interactive>:4:1)"
     ]
    }
   ],
   "source": [
    "mySort :: [Char] -> [Char]\n",
    "mySort = sort\n",
    "\n",
    "signifier :: Ord a => [a] -> a\n",
    "signifier xs = head (mySort xs)"
   ]
  },
  {
   "cell_type": "markdown",
   "metadata": {},
   "source": [
    "## Type-Kwon-Do Two: Electric Typealoo"
   ]
  },
  {
   "cell_type": "code",
   "execution_count": 32,
   "metadata": {},
   "outputs": [],
   "source": [
    "chk :: Eq b => (a -> b) -> a -> b -> Bool\n",
    "chk a2b a b = a2b a == b"
   ]
  },
  {
   "cell_type": "code",
   "execution_count": 33,
   "metadata": {},
   "outputs": [
    {
     "data": {
      "text/html": [
       "<style>/* Styles used for the Hoogle display in the pager */\n",
       ".hoogle-doc {\n",
       "display: block;\n",
       "padding-bottom: 1.3em;\n",
       "padding-left: 0.4em;\n",
       "}\n",
       ".hoogle-code {\n",
       "display: block;\n",
       "font-family: monospace;\n",
       "white-space: pre;\n",
       "}\n",
       ".hoogle-text {\n",
       "display: block;\n",
       "}\n",
       ".hoogle-name {\n",
       "color: green;\n",
       "font-weight: bold;\n",
       "}\n",
       ".hoogle-head {\n",
       "font-weight: bold;\n",
       "}\n",
       ".hoogle-sub {\n",
       "display: block;\n",
       "margin-left: 0.4em;\n",
       "}\n",
       ".hoogle-package {\n",
       "font-weight: bold;\n",
       "font-style: italic;\n",
       "}\n",
       ".hoogle-module {\n",
       "font-weight: bold;\n",
       "}\n",
       ".hoogle-class {\n",
       "font-weight: bold;\n",
       "}\n",
       ".get-type {\n",
       "color: green;\n",
       "font-weight: bold;\n",
       "font-family: monospace;\n",
       "display: block;\n",
       "white-space: pre-wrap;\n",
       "}\n",
       ".show-type {\n",
       "color: green;\n",
       "font-weight: bold;\n",
       "font-family: monospace;\n",
       "margin-left: 1em;\n",
       "}\n",
       ".mono {\n",
       "font-family: monospace;\n",
       "display: block;\n",
       "}\n",
       ".err-msg {\n",
       "color: red;\n",
       "font-style: italic;\n",
       "font-family: monospace;\n",
       "white-space: pre;\n",
       "display: block;\n",
       "}\n",
       "#unshowable {\n",
       "color: red;\n",
       "font-weight: bold;\n",
       "}\n",
       ".err-msg.in.collapse {\n",
       "padding-top: 0.7em;\n",
       "}\n",
       ".highlight-code {\n",
       "white-space: pre;\n",
       "font-family: monospace;\n",
       "}\n",
       ".suggestion-warning { \n",
       "font-weight: bold;\n",
       "color: rgb(200, 130, 0);\n",
       "}\n",
       ".suggestion-error { \n",
       "font-weight: bold;\n",
       "color: red;\n",
       "}\n",
       ".suggestion-name {\n",
       "font-weight: bold;\n",
       "}\n",
       "</style><div class=\"suggestion-name\" style=\"clear:both;\">Eta reduce</div><div class=\"suggestion-row\" style=\"float: left;\"><div class=\"suggestion-warning\">Found:</div><div class=\"highlight-code\" id=\"haskell\">arith a2b i a = a2b a</div></div><div class=\"suggestion-row\" style=\"float: left;\"><div class=\"suggestion-warning\">Why Not:</div><div class=\"highlight-code\" id=\"haskell\">arith a2b i = a2b</div></div>"
      ],
      "text/plain": [
       "Line 2: Eta reduce\n",
       "Found:\n",
       "arith a2b i a = a2b a\n",
       "Why not:\n",
       "arith a2b i = a2b"
      ]
     },
     "metadata": {},
     "output_type": "display_data"
    }
   ],
   "source": [
    "arith :: Num b => (a -> b) -> Integer -> a -> b\n",
    "arith a2b i a = a2b a"
   ]
  }
 ],
 "metadata": {
  "kernelspec": {
   "display_name": "Haskell",
   "language": "haskell",
   "name": "haskell"
  },
  "language_info": {
   "codemirror_mode": "ihaskell",
   "file_extension": ".hs",
   "name": "haskell",
   "pygments_lexer": "Haskell",
   "version": "8.6.5"
  }
 },
 "nbformat": 4,
 "nbformat_minor": 4
}

{
 "cells": [
  {
   "cell_type": "markdown",
   "metadata": {},
   "source": [
    "# Chapter 12: Signaling adversity"
   ]
  },
  {
   "cell_type": "markdown",
   "metadata": {},
   "source": [
    "## Determine the kinds"
   ]
  },
  {
   "cell_type": "code",
   "execution_count": 6,
   "metadata": {},
   "outputs": [
    {
     "ename": "",
     "evalue": "",
     "header": "MessageHeader {mhIdentifiers = [\"10bc3828-7517-4dc2-ba56-8b6e0278985c\"], mhParentHeader = Just (MessageHeader {mhIdentifiers = [\"10bc3828-7517-4dc2-ba56-8b6e0278985c\"], mhParentHeader = Nothing, mhMetadata = Metadata (fromList [(\"deletedCells\",Array [String \"c9afb20b-9569-40e5-8f22-5b0202345dc4\",String \"c3a92206-0cc9-421b-b54b-f96dd01c6e47\"]),(\"cellId\",String \"39b75615-3495-469e-ac57-75f7d9f8d40c\")]), mhMessageId = UUID {uuidToString = \"ea15c416-4840-4cae-8b9f-4ccecf71521f\"}, mhSessionId = UUID {uuidToString = \"10bc3828-7517-4dc2-ba56-8b6e0278985c\"}, mhUsername = \"\", mhMsgType = ExecuteRequestMessage}), mhMetadata = Metadata (fromList []), mhMessageId = UUID {uuidToString = \"2f3e8fb6-e4ac-4308-b749-0d043d26407f\"}, mhSessionId = UUID {uuidToString = \"10bc3828-7517-4dc2-ba56-8b6e0278985c\"}, mhUsername = \"\", mhMsgType = ExecuteErrorMessage}",
     "output_type": "error",
     "traceback": [
      "<interactive>:1:1: error:\n    The type signature for ‘id’ lacks an accompanying binding\n      (The type signature must be given where ‘id’ is declared)"
     ]
    }
   ],
   "source": [
    "id :: a -> a\n",
    "-- a is *"
   ]
  },
  {
   "cell_type": "code",
   "execution_count": 7,
   "metadata": {},
   "outputs": [
    {
     "ename": "",
     "evalue": "",
     "header": "MessageHeader {mhIdentifiers = [\"10bc3828-7517-4dc2-ba56-8b6e0278985c\"], mhParentHeader = Just (MessageHeader {mhIdentifiers = [\"10bc3828-7517-4dc2-ba56-8b6e0278985c\"], mhParentHeader = Nothing, mhMetadata = Metadata (fromList [(\"deletedCells\",Array [String \"c9afb20b-9569-40e5-8f22-5b0202345dc4\",String \"c3a92206-0cc9-421b-b54b-f96dd01c6e47\"]),(\"cellId\",String \"72d66eb3-4af0-42d0-8274-2c3d8a643dea\")]), mhMessageId = UUID {uuidToString = \"29cafad6-ed4c-4d5d-a3bc-2f6037cef9b0\"}, mhSessionId = UUID {uuidToString = \"10bc3828-7517-4dc2-ba56-8b6e0278985c\"}, mhUsername = \"\", mhMsgType = ExecuteRequestMessage}), mhMetadata = Metadata (fromList []), mhMessageId = UUID {uuidToString = \"798e4d80-ffcf-41f5-93ff-1cdcdf2a6969\"}, mhSessionId = UUID {uuidToString = \"10bc3828-7517-4dc2-ba56-8b6e0278985c\"}, mhUsername = \"\", mhMsgType = ExecuteErrorMessage}",
     "output_type": "error",
     "traceback": [
      "<interactive>:1:1: error: The type signature for ‘r’ lacks an accompanying binding"
     ]
    }
   ],
   "source": [
    "r :: a -> f a\n",
    "-- a is *\n",
    "-- f is * -> *"
   ]
  },
  {
   "cell_type": "markdown",
   "metadata": {},
   "source": [
    "## String processing"
   ]
  },
  {
   "cell_type": "code",
   "execution_count": 8,
   "metadata": {},
   "outputs": [
    {
     "data": {
      "text/plain": [
       "\"a cow loves a us\""
      ]
     },
     "metadata": {},
     "output_type": "display_data"
    }
   ],
   "source": [
    "replaceThe :: String -> String\n",
    "replaceThe = unwords . fmap normalize . words where\n",
    "    normalize \"the\" = \"a\"\n",
    "    normalize s = s\n",
    "    \n",
    "replaceThe \"the cow loves the us\""
   ]
  },
  {
   "cell_type": "code",
   "execution_count": 9,
   "metadata": {},
   "outputs": [
    {
     "data": {
      "text/plain": [
       "0"
      ]
     },
     "metadata": {},
     "output_type": "display_data"
    },
    {
     "data": {
      "text/plain": [
       "0"
      ]
     },
     "metadata": {},
     "output_type": "display_data"
    },
    {
     "data": {
      "text/plain": [
       "0"
      ]
     },
     "metadata": {},
     "output_type": "display_data"
    },
    {
     "data": {
      "text/plain": [
       "0"
      ]
     },
     "metadata": {},
     "output_type": "display_data"
    },
    {
     "data": {
      "text/plain": [
       "2"
      ]
     },
     "metadata": {},
     "output_type": "display_data"
    }
   ],
   "source": [
    "countTheBeforeVowel :: String -> Int\n",
    "countTheBeforeVowel [] = 0\n",
    "countTheBeforeVowel str = length vs where\n",
    "    ws = words str\n",
    "    ps = zip ws (tail ws)\n",
    "    thes = filter ((== \"the\") . fst) ps\n",
    "    vs = filter ((`elem` \"eyuioa\") . head . snd) thes\n",
    "    \n",
    "countTheBeforeVowel \"\"\n",
    "countTheBeforeVowel \"hello\"\n",
    "countTheBeforeVowel \"hello the\"\n",
    "countTheBeforeVowel \"hello the qwer\"\n",
    "countTheBeforeVowel \"hello the awer the basdf the aaa\""
   ]
  },
  {
   "cell_type": "code",
   "execution_count": 34,
   "metadata": {},
   "outputs": [
    {
     "data": {
      "text/plain": [
       "0"
      ]
     },
     "metadata": {},
     "output_type": "display_data"
    },
    {
     "data": {
      "text/plain": [
       "0"
      ]
     },
     "metadata": {},
     "output_type": "display_data"
    },
    {
     "data": {
      "text/plain": [
       "0"
      ]
     },
     "metadata": {},
     "output_type": "display_data"
    },
    {
     "data": {
      "text/plain": [
       "0"
      ]
     },
     "metadata": {},
     "output_type": "display_data"
    },
    {
     "data": {
      "text/plain": [
       "2"
      ]
     },
     "metadata": {},
     "output_type": "display_data"
    }
   ],
   "source": [
    "countTheBeforeVowel :: String -> Int\n",
    "countTheBeforeVowel = length . filter ((`elem` \"eyuioa\") . head . snd) . filter ((== \"the\") . fst) . zipWithRest . words where\n",
    "    zipWithRest xs = zip xs (tail xs)\n",
    "    \n",
    "countTheBeforeVowel \"\"\n",
    "countTheBeforeVowel \"hello\"\n",
    "countTheBeforeVowel \"hello the\"\n",
    "countTheBeforeVowel \"hello the qwer\"\n",
    "countTheBeforeVowel \"hello the awer the basdf the aaa\""
   ]
  },
  {
   "cell_type": "code",
   "execution_count": 46,
   "metadata": {},
   "outputs": [
    {
     "data": {
      "text/plain": [
       "True"
      ]
     },
     "metadata": {},
     "output_type": "display_data"
    },
    {
     "data": {
      "text/plain": [
       "False"
      ]
     },
     "metadata": {},
     "output_type": "display_data"
    },
    {
     "data": {
      "text/plain": [
       "True"
      ]
     },
     "metadata": {},
     "output_type": "display_data"
    },
    {
     "data": {
      "text/plain": [
       "False"
      ]
     },
     "metadata": {},
     "output_type": "display_data"
    },
    {
     "data": {
      "text/plain": [
       "False"
      ]
     },
     "metadata": {},
     "output_type": "display_data"
    },
    {
     "data": {
      "text/plain": [
       "True"
      ]
     },
     "metadata": {},
     "output_type": "display_data"
    },
    {
     "data": {
      "text/plain": [
       "False"
      ]
     },
     "metadata": {},
     "output_type": "display_data"
    }
   ],
   "source": [
    "class Truthy a where\n",
    "    isTruthy :: a -> Bool\n",
    "    \n",
    "instance (Truthy a, Truthy b) => Truthy (a, b) where\n",
    "    isTruthy (a, b)\n",
    "        | isTruthy a && isTruthy b = True\n",
    "        | otherwise = False\n",
    "        \n",
    "instance Truthy Bool where\n",
    "    isTruthy x = x\n",
    "\n",
    "instance Truthy a => Truthy (Maybe a) where\n",
    "    isTruthy Nothing = False\n",
    "    isTruthy (Just x) = isTruthy x\n",
    "    \n",
    "isTruthy True\n",
    "isTruthy False\n",
    "isTruthy (True, True)\n",
    "isTruthy (True, False)\n",
    "\n",
    "isTruthy (Nothing :: Maybe Bool)\n",
    "isTruthy (Just True)\n",
    "isTruthy (Just False)"
   ]
  },
  {
   "cell_type": "code",
   "execution_count": 48,
   "metadata": {},
   "outputs": [
    {
     "data": {
      "text/plain": [
       "0"
      ]
     },
     "metadata": {},
     "output_type": "display_data"
    },
    {
     "data": {
      "text/plain": [
       "0"
      ]
     },
     "metadata": {},
     "output_type": "display_data"
    },
    {
     "data": {
      "text/plain": [
       "0"
      ]
     },
     "metadata": {},
     "output_type": "display_data"
    },
    {
     "data": {
      "text/plain": [
       "0"
      ]
     },
     "metadata": {},
     "output_type": "display_data"
    },
    {
     "data": {
      "text/plain": [
       "2"
      ]
     },
     "metadata": {},
     "output_type": "display_data"
    }
   ],
   "source": [
    "import Data.Bifunctor (bimap)\n",
    "\n",
    "safeHead :: [a] -> Maybe a\n",
    "safeHead [] = Nothing\n",
    "safeHead (x:_) = Just x\n",
    "\n",
    "isVowel :: Char -> Bool\n",
    "isVowel = (`elem` \"eyuioa\")\n",
    "\n",
    "countTheBeforeVowel :: String -> Int\n",
    "countTheBeforeVowel = length . filter isProperPair . zipWithRest . words where\n",
    "    isVowelWord = isTruthy . fmap isVowel . safeHead\n",
    "    isThe = (== \"the\")\n",
    "    isProperPair = isTruthy . bimap isThe isVowelWord\n",
    "    zipWithRest xs = zip xs (tail xs)\n",
    "    \n",
    "countTheBeforeVowel \"\"\n",
    "countTheBeforeVowel \"hello\"\n",
    "countTheBeforeVowel \"hello the\"\n",
    "countTheBeforeVowel \"hello the qwer\"\n",
    "countTheBeforeVowel \"hello the awer the basdf the aaa\""
   ]
  },
  {
   "cell_type": "code",
   "execution_count": 51,
   "metadata": {},
   "outputs": [
    {
     "data": {
      "text/plain": [
       "3"
      ]
     },
     "metadata": {},
     "output_type": "display_data"
    }
   ],
   "source": [
    "countVowels :: String -> Int\n",
    "countVowels = length . filter isVowel\n",
    "\n",
    "countVowels \"qweraa\""
   ]
  },
  {
   "cell_type": "markdown",
   "metadata": {},
   "source": [
    "## Validate the word"
   ]
  },
  {
   "cell_type": "code",
   "execution_count": 53,
   "metadata": {},
   "outputs": [
    {
     "data": {
      "text/plain": [
       "Just (Word' \"qwer\")"
      ]
     },
     "metadata": {},
     "output_type": "display_data"
    },
    {
     "data": {
      "text/plain": [
       "Nothing"
      ]
     },
     "metadata": {},
     "output_type": "display_data"
    }
   ],
   "source": [
    "newtype Word' = Word' String deriving (Eq, Show)\n",
    "\n",
    "mkWord :: String -> Maybe Word'\n",
    "mkWord str\n",
    "    | numVowels > numConsonants = Nothing\n",
    "    | otherwise = Just $ Word' str\n",
    "    where\n",
    "        numVowels = countVowels str\n",
    "        numConsonants = length str - numVowels\n",
    "        \n",
    "mkWord \"qwer\"\n",
    "mkWord \"aaeass\""
   ]
  },
  {
   "cell_type": "markdown",
   "metadata": {},
   "source": [
    "## It's only natural"
   ]
  },
  {
   "cell_type": "code",
   "execution_count": 55,
   "metadata": {},
   "outputs": [
    {
     "data": {
      "text/plain": [
       "0"
      ]
     },
     "metadata": {},
     "output_type": "display_data"
    },
    {
     "data": {
      "text/plain": [
       "1"
      ]
     },
     "metadata": {},
     "output_type": "display_data"
    },
    {
     "data": {
      "text/plain": [
       "2"
      ]
     },
     "metadata": {},
     "output_type": "display_data"
    }
   ],
   "source": [
    "data Nat\n",
    "    = Zero\n",
    "    | Succ Nat\n",
    "    deriving (Eq, Show)\n",
    "    \n",
    "natToInteger :: Nat -> Integer\n",
    "natToInteger Zero = 0\n",
    "natToInteger (Succ n) = 1 + natToInteger n\n",
    "\n",
    "natToInteger Zero\n",
    "natToInteger (Succ Zero)\n",
    "natToInteger (Succ (Succ Zero))"
   ]
  },
  {
   "cell_type": "code",
   "execution_count": 59,
   "metadata": {},
   "outputs": [
    {
     "data": {
      "text/plain": [
       "Nothing"
      ]
     },
     "metadata": {},
     "output_type": "display_data"
    },
    {
     "data": {
      "text/plain": [
       "Just Zero"
      ]
     },
     "metadata": {},
     "output_type": "display_data"
    },
    {
     "data": {
      "text/plain": [
       "Just (Succ Zero)"
      ]
     },
     "metadata": {},
     "output_type": "display_data"
    },
    {
     "data": {
      "text/plain": [
       "Just (Succ (Succ (Succ Zero)))"
      ]
     },
     "metadata": {},
     "output_type": "display_data"
    }
   ],
   "source": [
    "integerToNat :: Integer -> Maybe Nat\n",
    "integerToNat n\n",
    "    | n < 0 = Nothing\n",
    "    | n == 0 = Just Zero\n",
    "    | Just p <- integerToNat (n - 1) = Just $ Succ p\n",
    "    | otherwise = Nothing\n",
    "\n",
    "integerToNat (-10)\n",
    "integerToNat 0\n",
    "integerToNat 1\n",
    "integerToNat 3"
   ]
  },
  {
   "cell_type": "code",
   "execution_count": 66,
   "metadata": {},
   "outputs": [
    {
     "data": {
      "text/plain": [
       "Nothing"
      ]
     },
     "metadata": {},
     "output_type": "display_data"
    },
    {
     "data": {
      "text/plain": [
       "Just Zero"
      ]
     },
     "metadata": {},
     "output_type": "display_data"
    },
    {
     "data": {
      "text/plain": [
       "Just (Succ Zero)"
      ]
     },
     "metadata": {},
     "output_type": "display_data"
    },
    {
     "data": {
      "text/plain": [
       "Just (Succ (Succ (Succ Zero)))"
      ]
     },
     "metadata": {},
     "output_type": "display_data"
    }
   ],
   "source": [
    "integerToNat :: Integer -> Maybe Nat\n",
    "integerToNat int\n",
    "    | int < 0 = Nothing\n",
    "    | otherwise = Just $ f int\n",
    "    where\n",
    "        f 0 = Zero\n",
    "        f n = Succ $ f (n - 1)\n",
    "        \n",
    "integerToNat (-10)\n",
    "integerToNat 0\n",
    "integerToNat 1\n",
    "integerToNat 3        "
   ]
  },
  {
   "cell_type": "code",
   "execution_count": 73,
   "metadata": {},
   "outputs": [
    {
     "data": {
      "text/plain": [
       "Just 123"
      ]
     },
     "metadata": {},
     "output_type": "display_data"
    },
    {
     "data": {
      "text/plain": [
       "Nothing"
      ]
     },
     "metadata": {},
     "output_type": "display_data"
    }
   ],
   "source": [
    "import Control.Applicative (Alternative)\n",
    "import Control.Monad (guard)\n",
    "\n",
    "ensure :: Alternative f => (a -> Bool) -> a -> f a\n",
    "ensure p a = a <$ guard (p a)\n",
    "\n",
    "(ensure (> 10) 123) :: Maybe Int\n",
    "(ensure (> 10) 5) :: Maybe Int"
   ]
  },
  {
   "cell_type": "code",
   "execution_count": 75,
   "metadata": {},
   "outputs": [
    {
     "data": {
      "text/html": [
       "<style>/* Styles used for the Hoogle display in the pager */\n",
       ".hoogle-doc {\n",
       "display: block;\n",
       "padding-bottom: 1.3em;\n",
       "padding-left: 0.4em;\n",
       "}\n",
       ".hoogle-code {\n",
       "display: block;\n",
       "font-family: monospace;\n",
       "white-space: pre;\n",
       "}\n",
       ".hoogle-text {\n",
       "display: block;\n",
       "}\n",
       ".hoogle-name {\n",
       "color: green;\n",
       "font-weight: bold;\n",
       "}\n",
       ".hoogle-head {\n",
       "font-weight: bold;\n",
       "}\n",
       ".hoogle-sub {\n",
       "display: block;\n",
       "margin-left: 0.4em;\n",
       "}\n",
       ".hoogle-package {\n",
       "font-weight: bold;\n",
       "font-style: italic;\n",
       "}\n",
       ".hoogle-module {\n",
       "font-weight: bold;\n",
       "}\n",
       ".hoogle-class {\n",
       "font-weight: bold;\n",
       "}\n",
       ".get-type {\n",
       "color: green;\n",
       "font-weight: bold;\n",
       "font-family: monospace;\n",
       "display: block;\n",
       "white-space: pre-wrap;\n",
       "}\n",
       ".show-type {\n",
       "color: green;\n",
       "font-weight: bold;\n",
       "font-family: monospace;\n",
       "margin-left: 1em;\n",
       "}\n",
       ".mono {\n",
       "font-family: monospace;\n",
       "display: block;\n",
       "}\n",
       ".err-msg {\n",
       "color: red;\n",
       "font-style: italic;\n",
       "font-family: monospace;\n",
       "white-space: pre;\n",
       "display: block;\n",
       "}\n",
       "#unshowable {\n",
       "color: red;\n",
       "font-weight: bold;\n",
       "}\n",
       ".err-msg.in.collapse {\n",
       "padding-top: 0.7em;\n",
       "}\n",
       ".highlight-code {\n",
       "white-space: pre;\n",
       "font-family: monospace;\n",
       "}\n",
       ".suggestion-warning { \n",
       "font-weight: bold;\n",
       "color: rgb(200, 130, 0);\n",
       "}\n",
       ".suggestion-error { \n",
       "font-weight: bold;\n",
       "color: red;\n",
       "}\n",
       ".suggestion-name {\n",
       "font-weight: bold;\n",
       "}\n",
       "</style><span class='get-type'>(<$) :: forall (f :: * -> *) a b. Functor f => a -> f b -> f a</span>"
      ],
      "text/plain": [
       "(<$) :: forall (f :: * -> *) a b. Functor f => a -> f b -> f a"
      ]
     },
     "metadata": {},
     "output_type": "display_data"
    }
   ],
   "source": [
    ":t (<$)"
   ]
  },
  {
   "cell_type": "code",
   "execution_count": 76,
   "metadata": {},
   "outputs": [
    {
     "data": {
      "text/html": [
       "<style>/* Styles used for the Hoogle display in the pager */\n",
       ".hoogle-doc {\n",
       "display: block;\n",
       "padding-bottom: 1.3em;\n",
       "padding-left: 0.4em;\n",
       "}\n",
       ".hoogle-code {\n",
       "display: block;\n",
       "font-family: monospace;\n",
       "white-space: pre;\n",
       "}\n",
       ".hoogle-text {\n",
       "display: block;\n",
       "}\n",
       ".hoogle-name {\n",
       "color: green;\n",
       "font-weight: bold;\n",
       "}\n",
       ".hoogle-head {\n",
       "font-weight: bold;\n",
       "}\n",
       ".hoogle-sub {\n",
       "display: block;\n",
       "margin-left: 0.4em;\n",
       "}\n",
       ".hoogle-package {\n",
       "font-weight: bold;\n",
       "font-style: italic;\n",
       "}\n",
       ".hoogle-module {\n",
       "font-weight: bold;\n",
       "}\n",
       ".hoogle-class {\n",
       "font-weight: bold;\n",
       "}\n",
       ".get-type {\n",
       "color: green;\n",
       "font-weight: bold;\n",
       "font-family: monospace;\n",
       "display: block;\n",
       "white-space: pre-wrap;\n",
       "}\n",
       ".show-type {\n",
       "color: green;\n",
       "font-weight: bold;\n",
       "font-family: monospace;\n",
       "margin-left: 1em;\n",
       "}\n",
       ".mono {\n",
       "font-family: monospace;\n",
       "display: block;\n",
       "}\n",
       ".err-msg {\n",
       "color: red;\n",
       "font-style: italic;\n",
       "font-family: monospace;\n",
       "white-space: pre;\n",
       "display: block;\n",
       "}\n",
       "#unshowable {\n",
       "color: red;\n",
       "font-weight: bold;\n",
       "}\n",
       ".err-msg.in.collapse {\n",
       "padding-top: 0.7em;\n",
       "}\n",
       ".highlight-code {\n",
       "white-space: pre;\n",
       "font-family: monospace;\n",
       "}\n",
       ".suggestion-warning { \n",
       "font-weight: bold;\n",
       "color: rgb(200, 130, 0);\n",
       "}\n",
       ".suggestion-error { \n",
       "font-weight: bold;\n",
       "color: red;\n",
       "}\n",
       ".suggestion-name {\n",
       "font-weight: bold;\n",
       "}\n",
       "</style><span class='get-type'>guard :: forall (f :: * -> *). Alternative f => Bool -> f ()</span>"
      ],
      "text/plain": [
       "guard :: forall (f :: * -> *). Alternative f => Bool -> f ()"
      ]
     },
     "metadata": {},
     "output_type": "display_data"
    }
   ],
   "source": [
    ":t guard"
   ]
  },
  {
   "cell_type": "code",
   "execution_count": 79,
   "metadata": {},
   "outputs": [
    {
     "data": {
      "text/plain": [
       "Nothing"
      ]
     },
     "metadata": {},
     "output_type": "display_data"
    },
    {
     "data": {
      "text/plain": [
       "Just Zero"
      ]
     },
     "metadata": {},
     "output_type": "display_data"
    },
    {
     "data": {
      "text/plain": [
       "Just (Succ Zero)"
      ]
     },
     "metadata": {},
     "output_type": "display_data"
    },
    {
     "data": {
      "text/plain": [
       "Just (Succ (Succ (Succ Zero)))"
      ]
     },
     "metadata": {},
     "output_type": "display_data"
    }
   ],
   "source": [
    "integerToNat :: Integer -> Maybe Nat\n",
    "integerToNat = fmap f . ensure (>= 0) where\n",
    "    f 0 = Zero\n",
    "    f n = Succ $ f (n - 1)\n",
    "        \n",
    "integerToNat (-10)\n",
    "integerToNat 0\n",
    "integerToNat 1\n",
    "integerToNat 3        "
   ]
  }
 ],
 "metadata": {
  "kernelspec": {
   "display_name": "Haskell",
   "language": "haskell",
   "name": "haskell"
  },
  "language_info": {
   "codemirror_mode": "ihaskell",
   "file_extension": ".hs",
   "name": "haskell",
   "pygments_lexer": "Haskell",
   "version": "8.6.5"
  }
 },
 "nbformat": 4,
 "nbformat_minor": 4
}

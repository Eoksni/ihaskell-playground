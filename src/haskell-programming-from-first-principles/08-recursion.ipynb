{
 "cells": [
  {
   "cell_type": "markdown",
   "metadata": {},
   "source": [
    "# Chapter 8: Recursion"
   ]
  },
  {
   "cell_type": "markdown",
   "metadata": {},
   "source": [
    "## Review of types"
   ]
  },
  {
   "cell_type": "markdown",
   "metadata": {},
   "source": [
    "The type of `[[True, False], [True, True], [False, True]]` is `[[Bool]]`."
   ]
  },
  {
   "cell_type": "markdown",
   "metadata": {},
   "source": [
    "The same type as `[[3 == 3], [6 > 5], [3 < 4]]`."
   ]
  },
  {
   "cell_type": "code",
   "execution_count": 1,
   "metadata": {},
   "outputs": [],
   "source": [
    "func :: [a] -> [a] -> [a]\n",
    "func x y = x ++ y"
   ]
  },
  {
   "cell_type": "markdown",
   "metadata": {},
   "source": [
    "`x` and `y` must be of the same type"
   ]
  },
  {
   "cell_type": "markdown",
   "metadata": {},
   "source": [
    "`x` and `y` must both be lists"
   ]
  },
  {
   "cell_type": "markdown",
   "metadata": {},
   "source": [
    "if `x` is a `String` then `y` must be a `String`"
   ]
  },
  {
   "cell_type": "code",
   "execution_count": 2,
   "metadata": {},
   "outputs": [],
   "source": [
    "temp = func \"Hello world\""
   ]
  },
  {
   "cell_type": "code",
   "execution_count": 3,
   "metadata": {},
   "outputs": [
    {
     "data": {
      "text/plain": [
       "\"HelloWorld\""
      ]
     },
     "metadata": {},
     "output_type": "display_data"
    }
   ],
   "source": [
    "func \"Hello\" \"World\""
   ]
  },
  {
   "cell_type": "code",
   "execution_count": 4,
   "metadata": {},
   "outputs": [],
   "source": [
    "temp = func [\"Hello\", \"World\"]"
   ]
  },
  {
   "cell_type": "markdown",
   "metadata": {},
   "source": [
    "## Reviewing currying"
   ]
  },
  {
   "cell_type": "code",
   "execution_count": 5,
   "metadata": {},
   "outputs": [],
   "source": [
    "cattyConny :: String -> String -> String\n",
    "cattyConny x y = x ++ \" mrow \" ++ y\n",
    "\n",
    "flippy = flip cattyConny\n",
    "\n",
    "appedCatty = cattyConny \"woops\"\n",
    "frappe = flippy \"haha\""
   ]
  },
  {
   "cell_type": "code",
   "execution_count": 6,
   "metadata": {},
   "outputs": [
    {
     "data": {
      "text/plain": [
       "\"woops mrow woohoo!\""
      ]
     },
     "metadata": {},
     "output_type": "display_data"
    },
    {
     "data": {
      "text/plain": [
       "\"woops mrow woohoo!\""
      ]
     },
     "metadata": {},
     "output_type": "display_data"
    }
   ],
   "source": [
    "appedCatty \"woohoo!\"\n",
    "\"woops mrow woohoo!\""
   ]
  },
  {
   "cell_type": "code",
   "execution_count": 7,
   "metadata": {},
   "outputs": [
    {
     "data": {
      "text/plain": [
       "\"1 mrow haha\""
      ]
     },
     "metadata": {},
     "output_type": "display_data"
    },
    {
     "data": {
      "text/plain": [
       "\"1 mrow haha\""
      ]
     },
     "metadata": {},
     "output_type": "display_data"
    }
   ],
   "source": [
    "frappe \"1\"\n",
    "\"1 mrow haha\""
   ]
  },
  {
   "cell_type": "code",
   "execution_count": 8,
   "metadata": {},
   "outputs": [
    {
     "data": {
      "text/plain": [
       "\"woops mrow 2 mrow haha\""
      ]
     },
     "metadata": {},
     "output_type": "display_data"
    },
    {
     "data": {
      "text/plain": [
       "\"woops mrow 2 mrow haha\""
      ]
     },
     "metadata": {},
     "output_type": "display_data"
    }
   ],
   "source": [
    "frappe (appedCatty \"2\")\n",
    "\"woops mrow 2 mrow haha\""
   ]
  },
  {
   "cell_type": "code",
   "execution_count": 9,
   "metadata": {},
   "outputs": [
    {
     "data": {
      "text/plain": [
       "\"pink mrow haha mrow green mrow woops mrow blue\""
      ]
     },
     "metadata": {},
     "output_type": "display_data"
    },
    {
     "data": {
      "text/plain": [
       "\"pink mrow haha mrow green mrow woops mrow blue\""
      ]
     },
     "metadata": {},
     "output_type": "display_data"
    }
   ],
   "source": [
    "cattyConny \n",
    "    (frappe \"pink\")\n",
    "    (cattyConny \"green\" (appedCatty \"blue\"))\n",
    "\"pink mrow haha mrow green mrow woops mrow blue\""
   ]
  },
  {
   "cell_type": "code",
   "execution_count": 10,
   "metadata": {},
   "outputs": [
    {
     "data": {
      "text/plain": [
       "\"are mrow Pugs mrow awesome\""
      ]
     },
     "metadata": {},
     "output_type": "display_data"
    },
    {
     "data": {
      "text/plain": [
       "\"are mrow Pugs mrow awesome\""
      ]
     },
     "metadata": {},
     "output_type": "display_data"
    }
   ],
   "source": [
    "cattyConny (flippy \"Pugs\" \"are\") \"awesome\"\n",
    "\"are mrow Pugs mrow awesome\""
   ]
  },
  {
   "cell_type": "markdown",
   "metadata": {},
   "source": [
    "## Recursion"
   ]
  },
  {
   "cell_type": "code",
   "execution_count": 11,
   "metadata": {},
   "outputs": [
    {
     "data": {
      "text/plain": [
       "(6,1)"
      ]
     },
     "metadata": {},
     "output_type": "display_data"
    },
    {
     "data": {
      "text/plain": [
       "(6,1)"
      ]
     },
     "metadata": {},
     "output_type": "display_data"
    }
   ],
   "source": [
    "dividedBy :: Integral a => a -> a -> (a, a)\n",
    "dividedBy num denom = go num denom 0 where\n",
    "    go n d count\n",
    "        | n < d = (count, n)\n",
    "        | otherwise = go (n - d) d (count + 1)\n",
    "\n",
    "dividedBy 25 4\n",
    "(6, 1)"
   ]
  },
  {
   "cell_type": "markdown",
   "metadata": {},
   "source": [
    "```\n",
    "15 dividedBy 2 == 15 - 2, 13\n",
    "                     - 2, 11\n",
    "                     - 2, 9\n",
    "                     - 2, 7\n",
    "                     - 2, 5\n",
    "                     - 2, 3\n",
    "                     - 2, 1\n",
    "Stopped. So it is (7, 1).\n",
    "```"
   ]
  },
  {
   "cell_type": "code",
   "execution_count": 12,
   "metadata": {},
   "outputs": [
    {
     "data": {
      "text/plain": [
       "15"
      ]
     },
     "metadata": {},
     "output_type": "display_data"
    }
   ],
   "source": [
    "-- function that recursively sums all numbers from 1 to n\n",
    "f :: (Eq a, Num a) => a -> a\n",
    "f n = f' 1 0 where\n",
    "    f' i acc\n",
    "         | n == i = acc + n\n",
    "         | otherwise = f' (i + 1) (acc + i)\n",
    "\n",
    "f 5"
   ]
  },
  {
   "cell_type": "code",
   "execution_count": 13,
   "metadata": {},
   "outputs": [
    {
     "data": {
      "text/plain": [
       "30"
      ]
     },
     "metadata": {},
     "output_type": "display_data"
    }
   ],
   "source": [
    "-- function that multiplies two integral numbers using recursive summation\n",
    "f :: (Integral a) => a -> a -> a\n",
    "f x = f' x where\n",
    "    one = toEnum 1\n",
    "    f' acc y'\n",
    "        | y' == one = acc\n",
    "        | otherwise = f' (acc + x) (pred y')\n",
    "\n",
    "f 10 3"
   ]
  },
  {
   "cell_type": "markdown",
   "metadata": {},
   "source": [
    "## Fixing dividedBy"
   ]
  },
  {
   "cell_type": "code",
   "execution_count": 14,
   "metadata": {},
   "outputs": [
    {
     "data": {
      "text/plain": [
       "(-6,-1)"
      ]
     },
     "metadata": {},
     "output_type": "display_data"
    },
    {
     "data": {
      "text/plain": [
       "(5,-1)"
      ]
     },
     "metadata": {},
     "output_type": "display_data"
    },
    {
     "data": {
      "text/plain": [
       "(-6,1)"
      ]
     },
     "metadata": {},
     "output_type": "display_data"
    }
   ],
   "source": [
    "11 `divMod` (-2)\n",
    "(-11) `divMod` (-2)\n",
    "(-11) `divMod` 2"
   ]
  },
  {
   "cell_type": "code",
   "execution_count": 15,
   "metadata": {},
   "outputs": [
    {
     "data": {
      "text/plain": [
       "DividedResult (6,1)"
      ]
     },
     "metadata": {},
     "output_type": "display_data"
    },
    {
     "data": {
      "text/plain": [
       "DividedResult (6,1)"
      ]
     },
     "metadata": {},
     "output_type": "display_data"
    },
    {
     "data": {
      "text/plain": [
       "DividedByZero"
      ]
     },
     "metadata": {},
     "output_type": "display_data"
    },
    {
     "data": {
      "text/plain": [
       "DividedByZero"
      ]
     },
     "metadata": {},
     "output_type": "display_data"
    },
    {
     "data": {
      "text/plain": [
       "DividedResult (-6,-1)"
      ]
     },
     "metadata": {},
     "output_type": "display_data"
    },
    {
     "data": {
      "text/plain": [
       "DividedResult (-6,-1)"
      ]
     },
     "metadata": {},
     "output_type": "display_data"
    },
    {
     "data": {
      "text/plain": [
       "DividedResult (5,-1)"
      ]
     },
     "metadata": {},
     "output_type": "display_data"
    },
    {
     "data": {
      "text/plain": [
       "DividedResult (5,-1)"
      ]
     },
     "metadata": {},
     "output_type": "display_data"
    },
    {
     "data": {
      "text/plain": [
       "DividedResult (-6,1)"
      ]
     },
     "metadata": {},
     "output_type": "display_data"
    },
    {
     "data": {
      "text/plain": [
       "DividedResult (-6,1)"
      ]
     },
     "metadata": {},
     "output_type": "display_data"
    }
   ],
   "source": [
    "data DividedResult a = DividedResult (a, a) | DividedByZero deriving Show\n",
    "\n",
    "dividedBy :: Integral a => a -> a -> DividedResult a\n",
    "dividedBy _ 0 = DividedByZero\n",
    "dividedBy num denom\n",
    "    | denom == 0 = DividedByZero\n",
    "    | num >= 0 && denom > 0 = DividedResult $ go1 num denom 0\n",
    "    | num >= 0 && denom < 0 = DividedResult $ go2 num denom 0\n",
    "    | num < 0 && denom > 0 = flipMod (dividedBy (-num) (-denom))\n",
    "    | num < 0 && denom < 0 = flipMod (dividedBy (-num) (-denom))\n",
    "    where\n",
    "        go1 n d count\n",
    "            | n < d = (count, n)\n",
    "            | otherwise = go1 (n - d) d (count + 1)\n",
    "        go2 n d count\n",
    "            | n <= 0 = (count, n)\n",
    "            | otherwise = go2 (n + d) d (count - 1)\n",
    "        flipMod DividedByZero = DividedByZero\n",
    "        flipMod (DividedResult (a, b)) = DividedResult (a, -b)\n",
    "\n",
    "dividedBy 25 4\n",
    "DividedResult (6, 1)\n",
    "\n",
    "dividedBy 25 0\n",
    "DividedByZero\n",
    "\n",
    "dividedBy 11 (-2)\n",
    "DividedResult (-6, -1)\n",
    "\n",
    "dividedBy (-11) (-2)\n",
    "DividedResult (5, -1)\n",
    "\n",
    "dividedBy (-11) 2\n",
    "DividedResult (-6, 1)"
   ]
  },
  {
   "cell_type": "markdown",
   "metadata": {},
   "source": [
    "## McCarthy 91 function"
   ]
  },
  {
   "cell_type": "markdown",
   "metadata": {},
   "source": [
    "The McCarthy 91 function yields `x - 10` when `x > 100` and `91` otherwise. The function is recursive."
   ]
  },
  {
   "cell_type": "code",
   "execution_count": 16,
   "metadata": {},
   "outputs": [
    {
     "data": {
      "text/plain": [
       "[91,91,91,91,91,91,91,91,91,91,91,91,91,91,91,91,91,91,91,91,91,91,92,93,94,95,96,97,98,99,100]"
      ]
     },
     "metadata": {},
     "output_type": "display_data"
    }
   ],
   "source": [
    "mc91 :: (Ord a, Num a) => a -> a\n",
    "mc91 x\n",
    "    | x > 100 = x - 10\n",
    "    | otherwise = mc91 . mc91 . (+11) $ x\n",
    "\n",
    "map mc91 [80..110]"
   ]
  },
  {
   "cell_type": "markdown",
   "metadata": {},
   "source": [
    "## Numbers into words"
   ]
  },
  {
   "cell_type": "code",
   "execution_count": 17,
   "metadata": {},
   "outputs": [],
   "source": [
    "import Data.List (intercalate)\n",
    "import Data.Maybe"
   ]
  },
  {
   "cell_type": "code",
   "execution_count": 18,
   "metadata": {},
   "outputs": [
    {
     "data": {
      "text/plain": [
       "\"eight\""
      ]
     },
     "metadata": {},
     "output_type": "display_data"
    },
    {
     "data": {
      "text/plain": [
       "[Digit 1]"
      ]
     },
     "metadata": {},
     "output_type": "display_data"
    },
    {
     "data": {
      "text/plain": [
       "[Digit 1,Digit 2,Digit 3]"
      ]
     },
     "metadata": {},
     "output_type": "display_data"
    },
    {
     "data": {
      "text/plain": [
       "\"one-two-three-two-four-five-four-six\""
      ]
     },
     "metadata": {},
     "output_type": "display_data"
    }
   ],
   "source": [
    "newtype Digit = Digit Int deriving Show\n",
    "\n",
    "getDigit :: Int -> Maybe Digit\n",
    "getDigit x\n",
    "    | x > 9 = Nothing\n",
    "    | x < 0 = Nothing\n",
    "    | otherwise = Just . Digit $ x\n",
    "\n",
    "unsafeGetDigit :: Int -> Digit\n",
    "unsafeGetDigit = fromJust . getDigit\n",
    "\n",
    "digitToWord :: Digit -> String\n",
    "digitToWord (Digit 0) = \"zero\"\n",
    "digitToWord (Digit 1) = \"one\"\n",
    "digitToWord (Digit 2) = \"two\"\n",
    "digitToWord (Digit 3) = \"three\"\n",
    "digitToWord (Digit 4) = \"four\"\n",
    "digitToWord (Digit 5) = \"five\"\n",
    "digitToWord (Digit 6) = \"six\"\n",
    "digitToWord (Digit 7) = \"seven\"\n",
    "digitToWord (Digit 8) = \"eight\"\n",
    "digitToWord (Digit 9) = \"nine\"\n",
    "\n",
    "digitToWord (Digit 8)\n",
    "\n",
    "digits :: Int -> [Digit]\n",
    "digits n = f n [] where\n",
    "    f 0 acc = acc\n",
    "    f x acc = f x' acc' where \n",
    "        (x', b) = x `divMod` 10\n",
    "        d = unsafeGetDigit b\n",
    "        acc' = d:acc\n",
    "\n",
    "digits 1\n",
    "digits 123\n",
    "\n",
    "wordNumber :: Int -> String\n",
    "wordNumber = intercalate \"-\" . fmap digitToWord . digits\n",
    "\n",
    "wordNumber 12324546"
   ]
  }
 ],
 "metadata": {
  "kernelspec": {
   "display_name": "Haskell",
   "language": "haskell",
   "name": "haskell"
  },
  "language_info": {
   "codemirror_mode": "ihaskell",
   "file_extension": ".hs",
   "name": "haskell",
   "pygments_lexer": "Haskell",
   "version": "8.6.5"
  }
 },
 "nbformat": 4,
 "nbformat_minor": 4
}

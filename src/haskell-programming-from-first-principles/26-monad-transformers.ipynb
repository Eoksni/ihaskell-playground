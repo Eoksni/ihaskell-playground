{
 "cells": [
  {
   "cell_type": "markdown",
   "metadata": {},
   "source": [
    "# Chapter 26: Monad transformers"
   ]
  },
  {
   "cell_type": "code",
   "execution_count": 2,
   "metadata": {},
   "outputs": [],
   "source": [
    "newtype MaybeT m a = MaybeT { runMaybeT :: m (Maybe a) }"
   ]
  },
  {
   "cell_type": "code",
   "execution_count": 5,
   "metadata": {},
   "outputs": [],
   "source": [
    "import Control.Applicative (liftA2)\n",
    "\n",
    "instance Functor m => Functor (MaybeT m) where\n",
    "    fmap f (MaybeT ma) = MaybeT $ (fmap . fmap) f ma\n",
    "    \n",
    "instance Applicative m => Applicative (MaybeT m) where\n",
    "    pure = MaybeT . pure . pure\n",
    "    \n",
    "    (MaybeT mm'a2b) <*> (MaybeT mm'a) = MaybeT $ liftA2 (<*>) mm'a2b mm'a"
   ]
  },
  {
   "cell_type": "code",
   "execution_count": 21,
   "metadata": {},
   "outputs": [],
   "source": [
    "instance Monad m => Monad (MaybeT m) where\n",
    "    (MaybeT mma) >>= a2mmmb = MaybeT $ mma >>= ma2mmb where\n",
    "--         ma2mmb = fmap join . traverse (runMaybeT . a2mmmb)\n",
    "        ma2mmb Nothing = return Nothing\n",
    "        ma2mmb (Just a) = (runMaybeT . a2mmmb) a"
   ]
  },
  {
   "cell_type": "code",
   "execution_count": 57,
   "metadata": {},
   "outputs": [],
   "source": [
    "import Control.Monad (join)\n",
    "\n",
    "newtype EitherT e m a = EitherT { runEitherT :: m (Either e a) }\n",
    "\n",
    "instance Functor m => Functor (EitherT e m) where\n",
    "    fmap a2b (EitherT mea) = EitherT $ (fmap . fmap) a2b mea\n",
    "    \n",
    "instance Applicative m => Applicative (EitherT e m) where\n",
    "    pure = EitherT . pure . pure\n",
    "    \n",
    "    (EitherT me'a2b) <*> (EitherT me'a) = EitherT $ liftA2 (<*>) me'a2b me'a\n",
    "    \n",
    "instance Monad m => Monad (EitherT e m) where\n",
    "    (EitherT mea) >>= a2emeb = EitherT $ mea >>= ea2meb where\n",
    "--         ea2meb = fmap join . traverse (runEitherT . a2emeb)\n",
    "        ea2meb (Left e) = return $ Left e\n",
    "        ea2meb (Right a) = (runEitherT . a2emeb) a"
   ]
  },
  {
   "cell_type": "markdown",
   "metadata": {},
   "source": [
    "---"
   ]
  },
  {
   "cell_type": "code",
   "execution_count": 27,
   "metadata": {},
   "outputs": [],
   "source": [
    "newtype Compose f g a = Compose { getCompose :: f (g a) } deriving (Eq, Show)\n",
    "\n",
    "instance (Functor f, Functor g) => Functor (Compose f g) where\n",
    "    fmap f (Compose fga) = Compose $ (fmap . fmap) f fga\n",
    "    \n",
    "instance (Applicative f, Applicative g) => Applicative (Compose f g) where\n",
    "    pure = Compose . pure . pure\n",
    "    (Compose f) <*> (Compose a) = Compose $ liftA2 (<*>) f a\n",
    "    \n",
    "instance (Monad f, Monad g, Traversable g) => Monad (Compose f g) where\n",
    "    (Compose fga) >>= a2cfgb = Compose $ fga >>= ga2fgb where\n",
    "        ga2fgb = fmap join . traverse (getCompose . a2cfgb)"
   ]
  },
  {
   "cell_type": "code",
   "execution_count": 39,
   "metadata": {},
   "outputs": [
    {
     "data": {
      "text/html": [
       "<style>/* Styles used for the Hoogle display in the pager */\n",
       ".hoogle-doc {\n",
       "display: block;\n",
       "padding-bottom: 1.3em;\n",
       "padding-left: 0.4em;\n",
       "}\n",
       ".hoogle-code {\n",
       "display: block;\n",
       "font-family: monospace;\n",
       "white-space: pre;\n",
       "}\n",
       ".hoogle-text {\n",
       "display: block;\n",
       "}\n",
       ".hoogle-name {\n",
       "color: green;\n",
       "font-weight: bold;\n",
       "}\n",
       ".hoogle-head {\n",
       "font-weight: bold;\n",
       "}\n",
       ".hoogle-sub {\n",
       "display: block;\n",
       "margin-left: 0.4em;\n",
       "}\n",
       ".hoogle-package {\n",
       "font-weight: bold;\n",
       "font-style: italic;\n",
       "}\n",
       ".hoogle-module {\n",
       "font-weight: bold;\n",
       "}\n",
       ".hoogle-class {\n",
       "font-weight: bold;\n",
       "}\n",
       ".get-type {\n",
       "color: green;\n",
       "font-weight: bold;\n",
       "font-family: monospace;\n",
       "display: block;\n",
       "white-space: pre-wrap;\n",
       "}\n",
       ".show-type {\n",
       "color: green;\n",
       "font-weight: bold;\n",
       "font-family: monospace;\n",
       "margin-left: 1em;\n",
       "}\n",
       ".mono {\n",
       "font-family: monospace;\n",
       "display: block;\n",
       "}\n",
       ".err-msg {\n",
       "color: red;\n",
       "font-style: italic;\n",
       "font-family: monospace;\n",
       "white-space: pre;\n",
       "display: block;\n",
       "}\n",
       "#unshowable {\n",
       "color: red;\n",
       "font-weight: bold;\n",
       "}\n",
       ".err-msg.in.collapse {\n",
       "padding-top: 0.7em;\n",
       "}\n",
       ".highlight-code {\n",
       "white-space: pre;\n",
       "font-family: monospace;\n",
       "}\n",
       ".suggestion-warning { \n",
       "font-weight: bold;\n",
       "color: rgb(200, 130, 0);\n",
       "}\n",
       ".suggestion-error { \n",
       "font-weight: bold;\n",
       "color: red;\n",
       "}\n",
       ".suggestion-name {\n",
       "font-weight: bold;\n",
       "}\n",
       "</style><div class=\"suggestion-name\" style=\"clear:both;\">Redundant bracket</div><div class=\"suggestion-row\" style=\"float: left;\"><div class=\"suggestion-warning\">Found:</div><div class=\"highlight-code\" id=\"haskell\">(eitherT' [Left \"qwer\", Right \"ggg\"]) >>=\n",
       "  (eitherT' . const [Right \"hi\", Left \"another\"])</div></div><div class=\"suggestion-row\" style=\"float: left;\"><div class=\"suggestion-warning\">Why Not:</div><div class=\"highlight-code\" id=\"haskell\">eitherT' [Left \"qwer\", Right \"ggg\"] >>=\n",
       "  (eitherT' . const [Right \"hi\", Left \"another\"])</div></div>"
      ],
      "text/plain": [
       "Line 10: Redundant bracket\n",
       "Found:\n",
       "(eitherT' [Left \"qwer\", Right \"ggg\"]) >>=\n",
       "  (eitherT' . const [Right \"hi\", Left \"another\"])\n",
       "Why not:\n",
       "eitherT' [Left \"qwer\", Right \"ggg\"] >>=\n",
       "  (eitherT' . const [Right \"hi\", Left \"another\"])"
      ]
     },
     "metadata": {},
     "output_type": "display_data"
    },
    {
     "data": {
      "text/plain": [
       "Compose {getCompose = [Left \"qwer\",Right \"ggghello\"]}"
      ]
     },
     "metadata": {},
     "output_type": "display_data"
    },
    {
     "data": {
      "text/plain": [
       "Compose {getCompose = [Left \"qwer\",Right \"hi\",Left \"another\"]}"
      ]
     },
     "metadata": {},
     "output_type": "display_data"
    }
   ],
   "source": [
    "type EitherT' e m a = Compose m (Either e) a\n",
    "\n",
    "eitherT' :: m (Either e a) -> EitherT' e m a\n",
    "eitherT' = Compose\n",
    "\n",
    "runEitherT' :: EitherT' e m a -> m (Either e a)\n",
    "runEitherT' = getCompose\n",
    "\n",
    "fmap (++\"hello\") (eitherT' [Left \"qwer\", Right \"ggg\"])\n",
    "(eitherT' [Left \"qwer\", Right \"ggg\"]) >>= (eitherT' . const [Right \"hi\", Left \"another\"])"
   ]
  },
  {
   "cell_type": "code",
   "execution_count": 40,
   "metadata": {},
   "outputs": [],
   "source": [
    "swapEither :: Either e a -> Either a e\n",
    "swapEither (Left e) = Right e\n",
    "swapEither (Right a) = Left a"
   ]
  },
  {
   "cell_type": "code",
   "execution_count": 47,
   "metadata": {},
   "outputs": [],
   "source": [
    "swapEitherT :: Functor m => EitherT e m a -> EitherT a m e\n",
    "swapEitherT (EitherT mea) = EitherT $ swapEither <$> mea"
   ]
  },
  {
   "cell_type": "code",
   "execution_count": 49,
   "metadata": {},
   "outputs": [
    {
     "data": {
      "text/html": [
       "<style>/* Styles used for the Hoogle display in the pager */\n",
       ".hoogle-doc {\n",
       "display: block;\n",
       "padding-bottom: 1.3em;\n",
       "padding-left: 0.4em;\n",
       "}\n",
       ".hoogle-code {\n",
       "display: block;\n",
       "font-family: monospace;\n",
       "white-space: pre;\n",
       "}\n",
       ".hoogle-text {\n",
       "display: block;\n",
       "}\n",
       ".hoogle-name {\n",
       "color: green;\n",
       "font-weight: bold;\n",
       "}\n",
       ".hoogle-head {\n",
       "font-weight: bold;\n",
       "}\n",
       ".hoogle-sub {\n",
       "display: block;\n",
       "margin-left: 0.4em;\n",
       "}\n",
       ".hoogle-package {\n",
       "font-weight: bold;\n",
       "font-style: italic;\n",
       "}\n",
       ".hoogle-module {\n",
       "font-weight: bold;\n",
       "}\n",
       ".hoogle-class {\n",
       "font-weight: bold;\n",
       "}\n",
       ".get-type {\n",
       "color: green;\n",
       "font-weight: bold;\n",
       "font-family: monospace;\n",
       "display: block;\n",
       "white-space: pre-wrap;\n",
       "}\n",
       ".show-type {\n",
       "color: green;\n",
       "font-weight: bold;\n",
       "font-family: monospace;\n",
       "margin-left: 1em;\n",
       "}\n",
       ".mono {\n",
       "font-family: monospace;\n",
       "display: block;\n",
       "}\n",
       ".err-msg {\n",
       "color: red;\n",
       "font-style: italic;\n",
       "font-family: monospace;\n",
       "white-space: pre;\n",
       "display: block;\n",
       "}\n",
       "#unshowable {\n",
       "color: red;\n",
       "font-weight: bold;\n",
       "}\n",
       ".err-msg.in.collapse {\n",
       "padding-top: 0.7em;\n",
       "}\n",
       ".highlight-code {\n",
       "white-space: pre;\n",
       "font-family: monospace;\n",
       "}\n",
       ".suggestion-warning { \n",
       "font-weight: bold;\n",
       "color: rgb(200, 130, 0);\n",
       "}\n",
       ".suggestion-error { \n",
       "font-weight: bold;\n",
       "color: red;\n",
       "}\n",
       ".suggestion-name {\n",
       "font-weight: bold;\n",
       "}\n",
       "</style><span class='get-type'>either a2mc b2mc :: forall a b (m :: * -> *) c. Either a b -> m c</span>"
      ],
      "text/plain": [
       "either a2mc b2mc :: forall a b (m :: * -> *) c. Either a b -> m c"
      ]
     },
     "metadata": {},
     "output_type": "display_data"
    }
   ],
   "source": [
    "a2mc :: a -> m c\n",
    "a2mc = undefined\n",
    "\n",
    "b2mc :: b -> m c\n",
    "b2mc = undefined\n",
    "\n",
    ":t either a2mc b2mc"
   ]
  },
  {
   "cell_type": "code",
   "execution_count": 54,
   "metadata": {},
   "outputs": [],
   "source": [
    "eitherT :: Monad m => (a -> m c) -> (b -> m c) -> EitherT a m b -> m c\n",
    "eitherT a2mc b2mc (EitherT meab) = meab >>= either a2mc b2mc"
   ]
  },
  {
   "cell_type": "markdown",
   "metadata": {},
   "source": [
    "Here *EitherT* acts exactly as *Compose* because first *Either* is applied and **then** *m*. But not all monad transformers are like so:"
   ]
  },
  {
   "cell_type": "code",
   "execution_count": 56,
   "metadata": {},
   "outputs": [],
   "source": [
    "-- here it is `Reader (m a)` and NOT `m (Reader a)` so we can't use our `Compose`\n",
    "newtype ReaderT r m a = ReaderT { runReaderT :: r -> m a }"
   ]
  },
  {
   "cell_type": "code",
   "execution_count": null,
   "metadata": {},
   "outputs": [],
   "source": []
  }
 ],
 "metadata": {
  "kernelspec": {
   "display_name": "Haskell",
   "language": "haskell",
   "name": "haskell"
  },
  "language_info": {
   "codemirror_mode": "ihaskell",
   "file_extension": ".hs",
   "name": "haskell",
   "pygments_lexer": "Haskell",
   "version": "8.6.5"
  }
 },
 "nbformat": 4,
 "nbformat_minor": 4
}

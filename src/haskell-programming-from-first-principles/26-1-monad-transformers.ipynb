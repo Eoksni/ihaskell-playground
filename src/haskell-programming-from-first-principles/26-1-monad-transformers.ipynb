{
 "cells": [
  {
   "cell_type": "markdown",
   "metadata": {},
   "source": [
    "# Chapter 26: Monad transformers"
   ]
  },
  {
   "cell_type": "code",
   "execution_count": 1,
   "metadata": {},
   "outputs": [
    {
     "data": {
      "text/plain": []
     },
     "metadata": {},
     "output_type": "display_data"
    }
   ],
   "source": [
    ":!stack install hs-functors"
   ]
  },
  {
   "cell_type": "code",
   "execution_count": 2,
   "metadata": {},
   "outputs": [],
   "source": [
    "newtype IdentityT m a = IdentityT { runIdentityT :: m a }\n",
    "\n",
    "instance Functor m => Functor (IdentityT m) where\n",
    "    fmap a2b (IdentityT ma) = IdentityT $ fmap a2b ma\n",
    "\n",
    "instance Applicative m => Applicative (IdentityT m) where\n",
    "    pure = IdentityT . pure\n",
    "    (IdentityT m'a2b) <*> (IdentityT m'a) = IdentityT $ m'a2b <*> m'a\n",
    "\n",
    "instance Monad m => Monad (IdentityT m) where\n",
    "    (IdentityT ma) >>= a2imb = IdentityT $ ma >>= runIdentityT . a2imb"
   ]
  },
  {
   "cell_type": "code",
   "execution_count": 3,
   "metadata": {},
   "outputs": [],
   "source": [
    "newtype MaybeT m a = MaybeT { runMaybeT :: m (Maybe a) }"
   ]
  },
  {
   "cell_type": "code",
   "execution_count": 4,
   "metadata": {},
   "outputs": [],
   "source": [
    "import Control.Applicative (liftA2)\n",
    "\n",
    "instance Functor m => Functor (MaybeT m) where\n",
    "    fmap f (MaybeT ma) = MaybeT $ (fmap . fmap) f ma\n",
    "    \n",
    "instance Applicative m => Applicative (MaybeT m) where\n",
    "    pure = MaybeT . pure . pure\n",
    "    \n",
    "    (MaybeT mm'a2b) <*> (MaybeT mm'a) = MaybeT $ liftA2 (<*>) mm'a2b mm'a"
   ]
  },
  {
   "cell_type": "code",
   "execution_count": 5,
   "metadata": {},
   "outputs": [],
   "source": [
    "instance Monad m => Monad (MaybeT m) where\n",
    "    (MaybeT mma) >>= a2mmmb = MaybeT $ mma >>= ma2mmb where\n",
    "--         ma2mmb = fmap join . traverse (runMaybeT . a2mmmb)\n",
    "        ma2mmb Nothing = return Nothing\n",
    "        ma2mmb (Just a) = (runMaybeT . a2mmmb) a"
   ]
  },
  {
   "cell_type": "code",
   "execution_count": 6,
   "metadata": {},
   "outputs": [],
   "source": [
    "import Control.Monad (join)\n",
    "\n",
    "newtype EitherT e m a = EitherT { runEitherT :: m (Either e a) }\n",
    "\n",
    "instance Functor m => Functor (EitherT e m) where\n",
    "    fmap a2b (EitherT mea) = EitherT $ (fmap . fmap) a2b mea\n",
    "    \n",
    "instance Applicative m => Applicative (EitherT e m) where\n",
    "    pure = EitherT . pure . pure\n",
    "    \n",
    "    (EitherT me'a2b) <*> (EitherT me'a) = EitherT $ liftA2 (<*>) me'a2b me'a\n",
    "    \n",
    "instance Monad m => Monad (EitherT e m) where\n",
    "    (EitherT mea) >>= a2emeb = EitherT $ mea >>= ea2meb where\n",
    "--         ea2meb = fmap join . traverse (runEitherT . a2emeb)\n",
    "        ea2meb (Left e) = return $ Left e\n",
    "        ea2meb (Right a) = (runEitherT . a2emeb) a"
   ]
  },
  {
   "cell_type": "markdown",
   "metadata": {},
   "source": [
    "---"
   ]
  },
  {
   "cell_type": "code",
   "execution_count": 7,
   "metadata": {},
   "outputs": [],
   "source": [
    "newtype Compose f g a = Compose { getCompose :: f (g a) } deriving (Eq, Show)\n",
    "\n",
    "instance (Functor f, Functor g) => Functor (Compose f g) where\n",
    "    fmap f (Compose fga) = Compose $ (fmap . fmap) f fga\n",
    "    \n",
    "instance (Applicative f, Applicative g) => Applicative (Compose f g) where\n",
    "    pure = Compose . pure . pure\n",
    "    (Compose f) <*> (Compose a) = Compose $ liftA2 (<*>) f a\n",
    "    \n",
    "instance (Monad f, Monad g, Traversable g) => Monad (Compose f g) where\n",
    "    (Compose fga) >>= a2cfgb = Compose $ fga >>= ga2fgb where\n",
    "        ga2fgb = fmap join . traverse (getCompose . a2cfgb)\n",
    "   \n",
    "-- this instance is fine too, but we can't define two instances\n",
    "-- instance (Monad f, Monad g, Cotraversable f) => Monad (Compose f g) where\n",
    "--     (Compose fga) >>= a2cfgb = Compose $ fga >>= ga2fgb where\n",
    "--         ga2fgb = fmap join . collect (getCompose . a2cfgb)"
   ]
  },
  {
   "cell_type": "code",
   "execution_count": 8,
   "metadata": {},
   "outputs": [
    {
     "data": {
      "text/html": [
       "<style>/* Styles used for the Hoogle display in the pager */\n",
       ".hoogle-doc {\n",
       "display: block;\n",
       "padding-bottom: 1.3em;\n",
       "padding-left: 0.4em;\n",
       "}\n",
       ".hoogle-code {\n",
       "display: block;\n",
       "font-family: monospace;\n",
       "white-space: pre;\n",
       "}\n",
       ".hoogle-text {\n",
       "display: block;\n",
       "}\n",
       ".hoogle-name {\n",
       "color: green;\n",
       "font-weight: bold;\n",
       "}\n",
       ".hoogle-head {\n",
       "font-weight: bold;\n",
       "}\n",
       ".hoogle-sub {\n",
       "display: block;\n",
       "margin-left: 0.4em;\n",
       "}\n",
       ".hoogle-package {\n",
       "font-weight: bold;\n",
       "font-style: italic;\n",
       "}\n",
       ".hoogle-module {\n",
       "font-weight: bold;\n",
       "}\n",
       ".hoogle-class {\n",
       "font-weight: bold;\n",
       "}\n",
       ".get-type {\n",
       "color: green;\n",
       "font-weight: bold;\n",
       "font-family: monospace;\n",
       "display: block;\n",
       "white-space: pre-wrap;\n",
       "}\n",
       ".show-type {\n",
       "color: green;\n",
       "font-weight: bold;\n",
       "font-family: monospace;\n",
       "margin-left: 1em;\n",
       "}\n",
       ".mono {\n",
       "font-family: monospace;\n",
       "display: block;\n",
       "}\n",
       ".err-msg {\n",
       "color: red;\n",
       "font-style: italic;\n",
       "font-family: monospace;\n",
       "white-space: pre;\n",
       "display: block;\n",
       "}\n",
       "#unshowable {\n",
       "color: red;\n",
       "font-weight: bold;\n",
       "}\n",
       ".err-msg.in.collapse {\n",
       "padding-top: 0.7em;\n",
       "}\n",
       ".highlight-code {\n",
       "white-space: pre;\n",
       "font-family: monospace;\n",
       "}\n",
       ".suggestion-warning { \n",
       "font-weight: bold;\n",
       "color: rgb(200, 130, 0);\n",
       "}\n",
       ".suggestion-error { \n",
       "font-weight: bold;\n",
       "color: red;\n",
       "}\n",
       ".suggestion-name {\n",
       "font-weight: bold;\n",
       "}\n",
       "</style><div class=\"suggestion-name\" style=\"clear:both;\">Redundant bracket</div><div class=\"suggestion-row\" style=\"float: left;\"><div class=\"suggestion-warning\">Found:</div><div class=\"highlight-code\" id=\"haskell\">(eitherT' [Left \"qwer\", Right \"ggg\"]) >>=\n",
       "  (eitherT' . const [Right \"hi\", Left \"another\"])</div></div><div class=\"suggestion-row\" style=\"float: left;\"><div class=\"suggestion-warning\">Why Not:</div><div class=\"highlight-code\" id=\"haskell\">eitherT' [Left \"qwer\", Right \"ggg\"] >>=\n",
       "  (eitherT' . const [Right \"hi\", Left \"another\"])</div></div>"
      ],
      "text/plain": [
       "Line 10: Redundant bracket\n",
       "Found:\n",
       "(eitherT' [Left \"qwer\", Right \"ggg\"]) >>=\n",
       "  (eitherT' . const [Right \"hi\", Left \"another\"])\n",
       "Why not:\n",
       "eitherT' [Left \"qwer\", Right \"ggg\"] >>=\n",
       "  (eitherT' . const [Right \"hi\", Left \"another\"])"
      ]
     },
     "metadata": {},
     "output_type": "display_data"
    },
    {
     "data": {
      "text/plain": [
       "Compose {getCompose = [Left \"qwer\",Right \"ggghello\"]}"
      ]
     },
     "metadata": {},
     "output_type": "display_data"
    },
    {
     "data": {
      "text/plain": [
       "Compose {getCompose = [Left \"qwer\",Right \"hi\",Left \"another\"]}"
      ]
     },
     "metadata": {},
     "output_type": "display_data"
    }
   ],
   "source": [
    "type EitherT' e m a = Compose m (Either e) a\n",
    "\n",
    "eitherT' :: m (Either e a) -> EitherT' e m a\n",
    "eitherT' = Compose\n",
    "\n",
    "runEitherT' :: EitherT' e m a -> m (Either e a)\n",
    "runEitherT' = getCompose\n",
    "\n",
    "fmap (++\"hello\") (eitherT' [Left \"qwer\", Right \"ggg\"])\n",
    "(eitherT' [Left \"qwer\", Right \"ggg\"]) >>= (eitherT' . const [Right \"hi\", Left \"another\"])"
   ]
  },
  {
   "cell_type": "code",
   "execution_count": 9,
   "metadata": {},
   "outputs": [],
   "source": [
    "swapEither :: Either e a -> Either a e\n",
    "swapEither (Left e) = Right e\n",
    "swapEither (Right a) = Left a"
   ]
  },
  {
   "cell_type": "code",
   "execution_count": 10,
   "metadata": {},
   "outputs": [],
   "source": [
    "swapEitherT :: Functor m => EitherT e m a -> EitherT a m e\n",
    "swapEitherT (EitherT mea) = EitherT $ swapEither <$> mea"
   ]
  },
  {
   "cell_type": "code",
   "execution_count": 11,
   "metadata": {},
   "outputs": [
    {
     "data": {
      "text/html": [
       "<style>/* Styles used for the Hoogle display in the pager */\n",
       ".hoogle-doc {\n",
       "display: block;\n",
       "padding-bottom: 1.3em;\n",
       "padding-left: 0.4em;\n",
       "}\n",
       ".hoogle-code {\n",
       "display: block;\n",
       "font-family: monospace;\n",
       "white-space: pre;\n",
       "}\n",
       ".hoogle-text {\n",
       "display: block;\n",
       "}\n",
       ".hoogle-name {\n",
       "color: green;\n",
       "font-weight: bold;\n",
       "}\n",
       ".hoogle-head {\n",
       "font-weight: bold;\n",
       "}\n",
       ".hoogle-sub {\n",
       "display: block;\n",
       "margin-left: 0.4em;\n",
       "}\n",
       ".hoogle-package {\n",
       "font-weight: bold;\n",
       "font-style: italic;\n",
       "}\n",
       ".hoogle-module {\n",
       "font-weight: bold;\n",
       "}\n",
       ".hoogle-class {\n",
       "font-weight: bold;\n",
       "}\n",
       ".get-type {\n",
       "color: green;\n",
       "font-weight: bold;\n",
       "font-family: monospace;\n",
       "display: block;\n",
       "white-space: pre-wrap;\n",
       "}\n",
       ".show-type {\n",
       "color: green;\n",
       "font-weight: bold;\n",
       "font-family: monospace;\n",
       "margin-left: 1em;\n",
       "}\n",
       ".mono {\n",
       "font-family: monospace;\n",
       "display: block;\n",
       "}\n",
       ".err-msg {\n",
       "color: red;\n",
       "font-style: italic;\n",
       "font-family: monospace;\n",
       "white-space: pre;\n",
       "display: block;\n",
       "}\n",
       "#unshowable {\n",
       "color: red;\n",
       "font-weight: bold;\n",
       "}\n",
       ".err-msg.in.collapse {\n",
       "padding-top: 0.7em;\n",
       "}\n",
       ".highlight-code {\n",
       "white-space: pre;\n",
       "font-family: monospace;\n",
       "}\n",
       ".suggestion-warning { \n",
       "font-weight: bold;\n",
       "color: rgb(200, 130, 0);\n",
       "}\n",
       ".suggestion-error { \n",
       "font-weight: bold;\n",
       "color: red;\n",
       "}\n",
       ".suggestion-name {\n",
       "font-weight: bold;\n",
       "}\n",
       "</style><span class='get-type'>either a2mc b2mc :: forall a b (m :: * -> *) c. Either a b -> m c</span>"
      ],
      "text/plain": [
       "either a2mc b2mc :: forall a b (m :: * -> *) c. Either a b -> m c"
      ]
     },
     "metadata": {},
     "output_type": "display_data"
    }
   ],
   "source": [
    "a2mc :: a -> m c\n",
    "a2mc = undefined\n",
    "\n",
    "b2mc :: b -> m c\n",
    "b2mc = undefined\n",
    "\n",
    ":t either a2mc b2mc"
   ]
  },
  {
   "cell_type": "code",
   "execution_count": 12,
   "metadata": {},
   "outputs": [],
   "source": [
    "eitherT :: Monad m => (a -> m c) -> (b -> m c) -> EitherT a m b -> m c\n",
    "eitherT a2mc b2mc (EitherT meab) = meab >>= either a2mc b2mc"
   ]
  },
  {
   "cell_type": "markdown",
   "metadata": {},
   "source": [
    "Here *EitherT* acts exactly as *Compose* because first *Either* is applied and **then** *m*. But not all monad transformers are like so:"
   ]
  },
  {
   "cell_type": "code",
   "execution_count": 13,
   "metadata": {},
   "outputs": [],
   "source": [
    "-- here it is `Reader (m a)` and NOT `m (Reader a)` so we can't use our `Compose`\n",
    "newtype ReaderT r m a = ReaderT { runReaderT :: r -> m a }"
   ]
  },
  {
   "cell_type": "code",
   "execution_count": 14,
   "metadata": {},
   "outputs": [],
   "source": [
    "instance Functor m => Functor (ReaderT r m) where\n",
    "    fmap a2b (ReaderT rma) = ReaderT $ (fmap . fmap) a2b rma\n",
    "    \n",
    "instance Applicative m => Applicative (ReaderT r m) where\n",
    "    pure = ReaderT . pure . pure\n",
    "    \n",
    "    (ReaderT rm'a2b) <*> (ReaderT rm'a) = ReaderT $ liftA2 (<*>) rm'a2b rm'a"
   ]
  },
  {
   "cell_type": "code",
   "execution_count": 15,
   "metadata": {},
   "outputs": [],
   "source": [
    "instance Monad m => Monad (ReaderT r m) where\n",
    "    (ReaderT rma) >>= a2rrmb = ReaderT $ \\r -> rma r >>= (($ r) . runReaderT . a2rrmb)"
   ]
  },
  {
   "cell_type": "code",
   "execution_count": 16,
   "metadata": {},
   "outputs": [],
   "source": [
    "-- Reader has a \"superpower\" that no matter how many nested Readers it has, we can \"pop\" it\n",
    "-- to the top-level Reader\n",
    "superRjoin :: Functor m => (r -> m (r -> a)) -> r -> m a\n",
    "superRjoin r2m'r2a r = ($ r) <$> r2m'r2a r\n",
    "\n",
    "sequenceR :: Functor m => m (r -> a) -> r -> m a\n",
    "sequenceR m'r2a r = ($ r) <$> m'r2a\n",
    "\n",
    "collectReader :: Functor m => (a -> r -> b) -> m a -> r -> m b\n",
    "collectReader ar2b ma r = (`ar2b` r) <$> ma\n",
    "\n",
    "instance Monad m => Monad (ReaderT r m) where\n",
    "    (ReaderT rma) >>= a2rrmb = ReaderT $ rma >>= ma2rmb where\n",
    "        ma2rmb = fmap join . collectReader (runReaderT . a2rrmb)"
   ]
  },
  {
   "cell_type": "code",
   "execution_count": 17,
   "metadata": {},
   "outputs": [],
   "source": [
    "import Data.Cotraversable\n",
    "\n",
    "instance Monad m => Monad (ReaderT r m) where\n",
    "    (ReaderT rma) >>= a2rrmb = ReaderT $ rma >>= ma2rmb where\n",
    "        ma2rmb = fmap join . collect (runReaderT . a2rrmb)"
   ]
  },
  {
   "cell_type": "code",
   "execution_count": 18,
   "metadata": {},
   "outputs": [
    {
     "data": {
      "text/html": [
       "<style>/* Styles used for the Hoogle display in the pager */\n",
       ".hoogle-doc {\n",
       "display: block;\n",
       "padding-bottom: 1.3em;\n",
       "padding-left: 0.4em;\n",
       "}\n",
       ".hoogle-code {\n",
       "display: block;\n",
       "font-family: monospace;\n",
       "white-space: pre;\n",
       "}\n",
       ".hoogle-text {\n",
       "display: block;\n",
       "}\n",
       ".hoogle-name {\n",
       "color: green;\n",
       "font-weight: bold;\n",
       "}\n",
       ".hoogle-head {\n",
       "font-weight: bold;\n",
       "}\n",
       ".hoogle-sub {\n",
       "display: block;\n",
       "margin-left: 0.4em;\n",
       "}\n",
       ".hoogle-package {\n",
       "font-weight: bold;\n",
       "font-style: italic;\n",
       "}\n",
       ".hoogle-module {\n",
       "font-weight: bold;\n",
       "}\n",
       ".hoogle-class {\n",
       "font-weight: bold;\n",
       "}\n",
       ".get-type {\n",
       "color: green;\n",
       "font-weight: bold;\n",
       "font-family: monospace;\n",
       "display: block;\n",
       "white-space: pre-wrap;\n",
       "}\n",
       ".show-type {\n",
       "color: green;\n",
       "font-weight: bold;\n",
       "font-family: monospace;\n",
       "margin-left: 1em;\n",
       "}\n",
       ".mono {\n",
       "font-family: monospace;\n",
       "display: block;\n",
       "}\n",
       ".err-msg {\n",
       "color: red;\n",
       "font-style: italic;\n",
       "font-family: monospace;\n",
       "white-space: pre;\n",
       "display: block;\n",
       "}\n",
       "#unshowable {\n",
       "color: red;\n",
       "font-weight: bold;\n",
       "}\n",
       ".err-msg.in.collapse {\n",
       "padding-top: 0.7em;\n",
       "}\n",
       ".highlight-code {\n",
       "white-space: pre;\n",
       "font-family: monospace;\n",
       "}\n",
       ".suggestion-warning { \n",
       "font-weight: bold;\n",
       "color: rgb(200, 130, 0);\n",
       "}\n",
       ".suggestion-error { \n",
       "font-weight: bold;\n",
       "color: red;\n",
       "}\n",
       ".suggestion-name {\n",
       "font-weight: bold;\n",
       "}\n",
       "</style><span class='get-type'>\\f -> sequenceA . fmap f :: forall (t :: * -> *) (f :: * -> *) a1 a2. (Traversable t, Applicative f) => (a1 -> f a2) -> t a1 -> f (t a2)</span>"
      ],
      "text/plain": [
       "\\f -> sequenceA . fmap f :: forall (t :: * -> *) (f :: * -> *) a1 a2. (Traversable t, Applicative f) => (a1 -> f a2) -> t a1 -> f (t a2)"
      ]
     },
     "metadata": {},
     "output_type": "display_data"
    },
    {
     "data": {
      "text/html": [
       "<style>/* Styles used for the Hoogle display in the pager */\n",
       ".hoogle-doc {\n",
       "display: block;\n",
       "padding-bottom: 1.3em;\n",
       "padding-left: 0.4em;\n",
       "}\n",
       ".hoogle-code {\n",
       "display: block;\n",
       "font-family: monospace;\n",
       "white-space: pre;\n",
       "}\n",
       ".hoogle-text {\n",
       "display: block;\n",
       "}\n",
       ".hoogle-name {\n",
       "color: green;\n",
       "font-weight: bold;\n",
       "}\n",
       ".hoogle-head {\n",
       "font-weight: bold;\n",
       "}\n",
       ".hoogle-sub {\n",
       "display: block;\n",
       "margin-left: 0.4em;\n",
       "}\n",
       ".hoogle-package {\n",
       "font-weight: bold;\n",
       "font-style: italic;\n",
       "}\n",
       ".hoogle-module {\n",
       "font-weight: bold;\n",
       "}\n",
       ".hoogle-class {\n",
       "font-weight: bold;\n",
       "}\n",
       ".get-type {\n",
       "color: green;\n",
       "font-weight: bold;\n",
       "font-family: monospace;\n",
       "display: block;\n",
       "white-space: pre-wrap;\n",
       "}\n",
       ".show-type {\n",
       "color: green;\n",
       "font-weight: bold;\n",
       "font-family: monospace;\n",
       "margin-left: 1em;\n",
       "}\n",
       ".mono {\n",
       "font-family: monospace;\n",
       "display: block;\n",
       "}\n",
       ".err-msg {\n",
       "color: red;\n",
       "font-style: italic;\n",
       "font-family: monospace;\n",
       "white-space: pre;\n",
       "display: block;\n",
       "}\n",
       "#unshowable {\n",
       "color: red;\n",
       "font-weight: bold;\n",
       "}\n",
       ".err-msg.in.collapse {\n",
       "padding-top: 0.7em;\n",
       "}\n",
       ".highlight-code {\n",
       "white-space: pre;\n",
       "font-family: monospace;\n",
       "}\n",
       ".suggestion-warning { \n",
       "font-weight: bold;\n",
       "color: rgb(200, 130, 0);\n",
       "}\n",
       ".suggestion-error { \n",
       "font-weight: bold;\n",
       "color: red;\n",
       "}\n",
       ".suggestion-name {\n",
       "font-weight: bold;\n",
       "}\n",
       "</style><span class='get-type'>traverse :: forall (t :: * -> *) (f :: * -> *) a b. (Traversable t, Applicative f) => (a -> f b) -> t a -> f (t b)</span>"
      ],
      "text/plain": [
       "traverse :: forall (t :: * -> *) (f :: * -> *) a b. (Traversable t, Applicative f) => (a -> f b) -> t a -> f (t b)"
      ]
     },
     "metadata": {},
     "output_type": "display_data"
    },
    {
     "data": {
      "text/html": [
       "<style>/* Styles used for the Hoogle display in the pager */\n",
       ".hoogle-doc {\n",
       "display: block;\n",
       "padding-bottom: 1.3em;\n",
       "padding-left: 0.4em;\n",
       "}\n",
       ".hoogle-code {\n",
       "display: block;\n",
       "font-family: monospace;\n",
       "white-space: pre;\n",
       "}\n",
       ".hoogle-text {\n",
       "display: block;\n",
       "}\n",
       ".hoogle-name {\n",
       "color: green;\n",
       "font-weight: bold;\n",
       "}\n",
       ".hoogle-head {\n",
       "font-weight: bold;\n",
       "}\n",
       ".hoogle-sub {\n",
       "display: block;\n",
       "margin-left: 0.4em;\n",
       "}\n",
       ".hoogle-package {\n",
       "font-weight: bold;\n",
       "font-style: italic;\n",
       "}\n",
       ".hoogle-module {\n",
       "font-weight: bold;\n",
       "}\n",
       ".hoogle-class {\n",
       "font-weight: bold;\n",
       "}\n",
       ".get-type {\n",
       "color: green;\n",
       "font-weight: bold;\n",
       "font-family: monospace;\n",
       "display: block;\n",
       "white-space: pre-wrap;\n",
       "}\n",
       ".show-type {\n",
       "color: green;\n",
       "font-weight: bold;\n",
       "font-family: monospace;\n",
       "margin-left: 1em;\n",
       "}\n",
       ".mono {\n",
       "font-family: monospace;\n",
       "display: block;\n",
       "}\n",
       ".err-msg {\n",
       "color: red;\n",
       "font-style: italic;\n",
       "font-family: monospace;\n",
       "white-space: pre;\n",
       "display: block;\n",
       "}\n",
       "#unshowable {\n",
       "color: red;\n",
       "font-weight: bold;\n",
       "}\n",
       ".err-msg.in.collapse {\n",
       "padding-top: 0.7em;\n",
       "}\n",
       ".highlight-code {\n",
       "white-space: pre;\n",
       "font-family: monospace;\n",
       "}\n",
       ".suggestion-warning { \n",
       "font-weight: bold;\n",
       "color: rgb(200, 130, 0);\n",
       "}\n",
       ".suggestion-error { \n",
       "font-weight: bold;\n",
       "color: red;\n",
       "}\n",
       ".suggestion-name {\n",
       "font-weight: bold;\n",
       "}\n",
       "</style><span class='get-type'>\\f -> cosequence . fmap f :: forall (f :: * -> *) (g :: * -> *) a1 a2. (Cotraversable f, Functor g) => (a1 -> f a2) -> g a1 -> f (g a2)</span>"
      ],
      "text/plain": [
       "\\f -> cosequence . fmap f :: forall (f :: * -> *) (g :: * -> *) a1 a2. (Cotraversable f, Functor g) => (a1 -> f a2) -> g a1 -> f (g a2)"
      ]
     },
     "metadata": {},
     "output_type": "display_data"
    },
    {
     "data": {
      "text/html": [
       "<style>/* Styles used for the Hoogle display in the pager */\n",
       ".hoogle-doc {\n",
       "display: block;\n",
       "padding-bottom: 1.3em;\n",
       "padding-left: 0.4em;\n",
       "}\n",
       ".hoogle-code {\n",
       "display: block;\n",
       "font-family: monospace;\n",
       "white-space: pre;\n",
       "}\n",
       ".hoogle-text {\n",
       "display: block;\n",
       "}\n",
       ".hoogle-name {\n",
       "color: green;\n",
       "font-weight: bold;\n",
       "}\n",
       ".hoogle-head {\n",
       "font-weight: bold;\n",
       "}\n",
       ".hoogle-sub {\n",
       "display: block;\n",
       "margin-left: 0.4em;\n",
       "}\n",
       ".hoogle-package {\n",
       "font-weight: bold;\n",
       "font-style: italic;\n",
       "}\n",
       ".hoogle-module {\n",
       "font-weight: bold;\n",
       "}\n",
       ".hoogle-class {\n",
       "font-weight: bold;\n",
       "}\n",
       ".get-type {\n",
       "color: green;\n",
       "font-weight: bold;\n",
       "font-family: monospace;\n",
       "display: block;\n",
       "white-space: pre-wrap;\n",
       "}\n",
       ".show-type {\n",
       "color: green;\n",
       "font-weight: bold;\n",
       "font-family: monospace;\n",
       "margin-left: 1em;\n",
       "}\n",
       ".mono {\n",
       "font-family: monospace;\n",
       "display: block;\n",
       "}\n",
       ".err-msg {\n",
       "color: red;\n",
       "font-style: italic;\n",
       "font-family: monospace;\n",
       "white-space: pre;\n",
       "display: block;\n",
       "}\n",
       "#unshowable {\n",
       "color: red;\n",
       "font-weight: bold;\n",
       "}\n",
       ".err-msg.in.collapse {\n",
       "padding-top: 0.7em;\n",
       "}\n",
       ".highlight-code {\n",
       "white-space: pre;\n",
       "font-family: monospace;\n",
       "}\n",
       ".suggestion-warning { \n",
       "font-weight: bold;\n",
       "color: rgb(200, 130, 0);\n",
       "}\n",
       ".suggestion-error { \n",
       "font-weight: bold;\n",
       "color: red;\n",
       "}\n",
       ".suggestion-name {\n",
       "font-weight: bold;\n",
       "}\n",
       "</style><span class='get-type'>collect :: forall (f :: * -> *) (g :: * -> *) a b. (Cotraversable f, Functor g) => (a -> f b) -> g a -> f (g b)</span>"
      ],
      "text/plain": [
       "collect :: forall (f :: * -> *) (g :: * -> *) a b. (Cotraversable f, Functor g) => (a -> f b) -> g a -> f (g b)"
      ]
     },
     "metadata": {},
     "output_type": "display_data"
    }
   ],
   "source": [
    "-- same\n",
    ":t \\f -> sequenceA . fmap f\n",
    ":t traverse\n",
    "\n",
    "-- same\n",
    ":t \\f -> cosequence . fmap f\n",
    ":t collect"
   ]
  },
  {
   "cell_type": "markdown",
   "metadata": {},
   "source": [
    "---"
   ]
  },
  {
   "cell_type": "code",
   "execution_count": 19,
   "metadata": {},
   "outputs": [],
   "source": [
    "newtype StateT s m a = StateT { runStateT :: s -> m (a, s) }"
   ]
  },
  {
   "cell_type": "code",
   "execution_count": 20,
   "metadata": {},
   "outputs": [],
   "source": [
    "import Data.Bifunctor (first)\n",
    "import Data.Biapplicative (bipure)\n",
    "\n",
    "instance Functor m => Functor (StateT s m) where\n",
    "    fmap a2b (StateT s2mas) = StateT $ fmap (first a2b) . s2mas\n",
    "    \n",
    "instance Monad m => Applicative (StateT s m) where\n",
    "    pure x = StateT $ pure . bipure x\n",
    "    (StateT s2m'a2b's) <*> (StateT s2m'a's) = StateT $ \\s -> do\n",
    "        (a2b, s') <- s2m'a2b's s\n",
    "        (a, s'') <- s2m'a's s'\n",
    "        return (a2b a, s'')\n",
    "        \n",
    "instance Monad m => Monad (StateT s m) where\n",
    "    (StateT s2mas) >>= a2s's2mbs = StateT $ \\s -> do\n",
    "        (a, s') <- s2mas s\n",
    "        runStateT (a2s's2mbs a) s'"
   ]
  },
  {
   "cell_type": "markdown",
   "metadata": {},
   "source": [
    "---"
   ]
  },
  {
   "cell_type": "code",
   "execution_count": 21,
   "metadata": {},
   "outputs": [
    {
     "data": {},
     "metadata": {},
     "output_type": "display_data"
    },
    {
     "data": {
      "text/html": [
       "<div style='background: rgb(247, 247, 247);'><form><textarea id='code'>class MonadTrans (t :: (* -> *) -> * -> *) where\n",
       "  lift :: Monad m => m a -> t m a\n",
       "  {-# MINIMAL lift #-}\n",
       "  \t-- Defined in ‘Control.Monad.Trans.Class’\n",
       "</textarea></form></div><script>CodeMirror.fromTextArea(document.getElementById('code'), {mode: 'haskell', readOnly: 'nocursor'});</script>"
      ],
      "text/plain": [
       "class MonadTrans (t :: (* -> *) -> * -> *) where\n",
       "  lift :: Monad m => m a -> t m a\n",
       "  {-# MINIMAL lift #-}\n",
       "  \t-- Defined in ‘Control.Monad.Trans.Class’"
      ]
     },
     "metadata": {},
     "output_type": "display_data"
    }
   ],
   "source": [
    "import Control.Monad.Trans.Class\n",
    "\n",
    ":info MonadTrans"
   ]
  },
  {
   "cell_type": "code",
   "execution_count": 22,
   "metadata": {},
   "outputs": [],
   "source": [
    "instance MonadTrans IdentityT where\n",
    "    lift = IdentityT"
   ]
  },
  {
   "cell_type": "code",
   "execution_count": 23,
   "metadata": {},
   "outputs": [],
   "source": [
    "instance MonadTrans (EitherT e) where\n",
    "    lift = EitherT . fmap return"
   ]
  },
  {
   "cell_type": "code",
   "execution_count": 24,
   "metadata": {},
   "outputs": [],
   "source": [
    "instance MonadTrans (StateT s) where\n",
    "    lift ma = StateT $ \\s -> fmap (`bipure` s) ma"
   ]
  },
  {
   "cell_type": "code",
   "execution_count": 25,
   "metadata": {},
   "outputs": [],
   "source": [
    "instance MonadTrans MaybeT where\n",
    "    lift = MaybeT . fmap return"
   ]
  },
  {
   "cell_type": "code",
   "execution_count": 26,
   "metadata": {},
   "outputs": [],
   "source": [
    "instance MonadTrans (ReaderT r) where\n",
    "    lift = ReaderT . const"
   ]
  },
  {
   "cell_type": "markdown",
   "metadata": {},
   "source": [
    "---"
   ]
  },
  {
   "cell_type": "code",
   "execution_count": 27,
   "metadata": {},
   "outputs": [
    {
     "data": {},
     "metadata": {},
     "output_type": "display_data"
    },
    {
     "data": {
      "text/html": [
       "<div style='background: rgb(247, 247, 247);'><form><textarea id='code'>class Monad m => MonadIO (m :: * -> *) where\n",
       "  liftIO :: IO a -> m a\n",
       "  {-# MINIMAL liftIO #-}\n",
       "  \t-- Defined in ‘Control.Monad.IO.Class’\n",
       "instance [safe] MonadIO IO -- Defined in ‘Control.Monad.IO.Class’\n",
       "instance MonadIO IHaskellTH.Q -- Defined in ‘Language.Haskell.TH.Syntax’\n",
       "</textarea></form></div><script>CodeMirror.fromTextArea(document.getElementById('code'), {mode: 'haskell', readOnly: 'nocursor'});</script>"
      ],
      "text/plain": [
       "class Monad m => MonadIO (m :: * -> *) where\n",
       "  liftIO :: IO a -> m a\n",
       "  {-# MINIMAL liftIO #-}\n",
       "  \t-- Defined in ‘Control.Monad.IO.Class’\n",
       "instance [safe] MonadIO IO -- Defined in ‘Control.Monad.IO.Class’\n",
       "instance MonadIO IHaskellTH.Q -- Defined in ‘Language.Haskell.TH.Syntax’"
      ]
     },
     "metadata": {},
     "output_type": "display_data"
    }
   ],
   "source": [
    "import Control.Monad.IO.Class\n",
    "\n",
    ":info MonadIO"
   ]
  },
  {
   "cell_type": "code",
   "execution_count": 28,
   "metadata": {},
   "outputs": [],
   "source": [
    "instance MonadIO m => MonadIO (IdentityT m) where\n",
    "    liftIO = lift . liftIO"
   ]
  },
  {
   "cell_type": "code",
   "execution_count": 29,
   "metadata": {},
   "outputs": [],
   "source": [
    "instance MonadIO m => MonadIO (EitherT e m) where\n",
    "    liftIO = lift . liftIO"
   ]
  },
  {
   "cell_type": "code",
   "execution_count": 30,
   "metadata": {},
   "outputs": [],
   "source": [
    "instance MonadIO m => MonadIO (MaybeT m) where\n",
    "    liftIO = lift . liftIO"
   ]
  },
  {
   "cell_type": "code",
   "execution_count": 31,
   "metadata": {},
   "outputs": [],
   "source": [
    "instance MonadIO m => MonadIO (StateT s m) where\n",
    "    liftIO = lift . liftIO"
   ]
  },
  {
   "cell_type": "markdown",
   "metadata": {},
   "source": [
    "---"
   ]
  },
  {
   "cell_type": "code",
   "execution_count": 32,
   "metadata": {},
   "outputs": [
    {
     "data": {
      "text/plain": [
       "0"
      ]
     },
     "metadata": {},
     "output_type": "display_data"
    }
   ],
   "source": [
    "import qualified Control.Monad.Trans.Reader as R\n",
    "\n",
    "rDec :: Num a => R.Reader a a\n",
    "rDec = subtract 1 <$> R.ask\n",
    "\n",
    "R.runReader rDec 1"
   ]
  },
  {
   "cell_type": "code",
   "execution_count": 33,
   "metadata": {},
   "outputs": [
    {
     "data": {
      "text/plain": [
       "\"1\""
      ]
     },
     "metadata": {},
     "output_type": "display_data"
    }
   ],
   "source": [
    "import qualified Data.Functor.Identity as I\n",
    "\n",
    "rShow :: Show a => R.ReaderT a I.Identity String\n",
    "rShow = show <$> R.ask\n",
    "\n",
    "R.runReader rShow 1"
   ]
  },
  {
   "cell_type": "code",
   "execution_count": 34,
   "metadata": {},
   "outputs": [
    {
     "data": {
      "text/plain": [
       "Hi: 1\n",
       "2"
      ]
     },
     "metadata": {},
     "output_type": "display_data"
    },
    {
     "data": {
      "text/plain": [
       "Hi: 1\n",
       "Hi: 2\n",
       "Hi: 3\n",
       "Hi: 4\n",
       "Hi: 5\n",
       "Hi: 6\n",
       "Hi: 7\n",
       "Hi: 8\n",
       "Hi: 9\n",
       "Hi: 10\n",
       "[2,3,4,5,6,7,8,9,10,11]"
      ]
     },
     "metadata": {},
     "output_type": "display_data"
    }
   ],
   "source": [
    "rPrintAndInc :: (Num a, Show a) => R.ReaderT a IO a\n",
    "rPrintAndInc = do\n",
    "    a <- R.ask\n",
    "    liftIO $ putStrLn (\"Hi: \" ++ show a)\n",
    "    return (a + 1)\n",
    "\n",
    "R.runReaderT rPrintAndInc 1\n",
    "traverse (R.runReaderT rPrintAndInc) [1..10]"
   ]
  },
  {
   "cell_type": "code",
   "execution_count": 35,
   "metadata": {},
   "outputs": [
    {
     "data": {
      "text/plain": [
       "Hi: 10\n",
       "(\"10\",11)"
      ]
     },
     "metadata": {},
     "output_type": "display_data"
    },
    {
     "data": {
      "text/plain": [
       "Hi: 1\n",
       "Hi: 2\n",
       "Hi: 3\n",
       "Hi: 4\n",
       "Hi: 5\n",
       "[(\"1\",2),(\"2\",3),(\"3\",4),(\"4\",5),(\"5\",6)]"
      ]
     },
     "metadata": {},
     "output_type": "display_data"
    },
    {
     "data": {
      "text/plain": [
       "Hi: 1\n",
       "Hi: 2\n",
       "Hi: 3\n",
       "Hi: 4\n",
       "Hi: 5\n",
       "[(\"1\",2),(\"2\",3),(\"3\",4),(\"4\",5),(\"5\",6)]"
      ]
     },
     "metadata": {},
     "output_type": "display_data"
    }
   ],
   "source": [
    "import qualified Control.Monad.Trans.State as S\n",
    "\n",
    "sPrintIncAccum :: (Num a, Show a) => S.StateT a IO String\n",
    "sPrintIncAccum = do\n",
    "    s <- S.get\n",
    "    liftIO $ putStrLn (\"Hi: \" ++ show s)\n",
    "    S.put (s + 1)\n",
    "    return $ show s\n",
    "    \n",
    "S.runStateT sPrintIncAccum 10\n",
    "mapM (S.runStateT sPrintIncAccum) [1..5]\n",
    "traverse (S.runStateT sPrintIncAccum) [1..5]"
   ]
  },
  {
   "cell_type": "markdown",
   "metadata": {},
   "source": [
    "---"
   ]
  },
  {
   "cell_type": "code",
   "execution_count": 36,
   "metadata": {},
   "outputs": [],
   "source": [
    "import qualified Control.Monad.Trans.Maybe as M\n",
    "import Control.Monad\n",
    "\n",
    "isValid :: String -> Bool\n",
    "isValid v = '!' `elem` v\n",
    "\n",
    "maybeExcite :: M.MaybeT IO String\n",
    "maybeExcite = do\n",
    "    v <- liftIO getLine\n",
    "    guard $ isValid v\n",
    "    return v\n",
    "    \n",
    "doExcite :: IO ()\n",
    "doExcite = do\n",
    "    putStrLn \"say something excite!\"\n",
    "    excite <- M.runMaybeT maybeExcite\n",
    "    case excite of\n",
    "        Nothing -> putStrLn \"MOAR EXCITE\"\n",
    "        Just e -> putStrLn (\"Good, was very excite: \" ++ e)\n",
    "        \n",
    "--doExcite"
   ]
  },
  {
   "cell_type": "markdown",
   "metadata": {},
   "source": [
    "---"
   ]
  },
  {
   "cell_type": "markdown",
   "metadata": {},
   "source": [
    "## Morra"
   ]
  },
  {
   "cell_type": "code",
   "execution_count": null,
   "metadata": {},
   "outputs": [],
   "source": []
  }
 ],
 "metadata": {
  "kernelspec": {
   "display_name": "Haskell",
   "language": "haskell",
   "name": "haskell"
  },
  "language_info": {
   "codemirror_mode": "ihaskell",
   "file_extension": ".hs",
   "name": "haskell",
   "pygments_lexer": "Haskell",
   "version": "8.6.5"
  }
 },
 "nbformat": 4,
 "nbformat_minor": 4
}

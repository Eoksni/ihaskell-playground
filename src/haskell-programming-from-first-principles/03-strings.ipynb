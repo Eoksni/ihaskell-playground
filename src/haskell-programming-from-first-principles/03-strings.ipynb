{
 "cells": [
  {
   "cell_type": "markdown",
   "metadata": {},
   "source": [
    "# Chapter 3: Strings"
   ]
  },
  {
   "cell_type": "markdown",
   "metadata": {},
   "source": [
    "## Reading syntax"
   ]
  },
  {
   "cell_type": "markdown",
   "metadata": {},
   "source": [
    "---\n",
    "1"
   ]
  },
  {
   "cell_type": "code",
   "execution_count": 1,
   "metadata": {},
   "outputs": [
    {
     "data": {
      "text/plain": [
       "[1,2,3,4,5,6]"
      ]
     },
     "metadata": {},
     "output_type": "display_data"
    }
   ],
   "source": [
    "concat [[1, 2, 3], [4, 5, 6]]"
   ]
  },
  {
   "cell_type": "code",
   "execution_count": 2,
   "metadata": {},
   "outputs": [
    {
     "ename": "",
     "evalue": "",
     "header": "MessageHeader {mhIdentifiers = [\"4f980de9-4153-4fff-af63-ac1f06f940b6\"], mhParentHeader = Just (MessageHeader {mhIdentifiers = [\"4f980de9-4153-4fff-af63-ac1f06f940b6\"], mhParentHeader = Nothing, mhMetadata = Metadata (fromList [(\"deletedCells\",Array [String \"512d5cdb-7a04-454d-9afb-e54a48926809\"]),(\"cellId\",String \"dbb45c95-e8bd-49e7-8f52-b1dd8ca4e5c7\")]), mhMessageId = UUID {uuidToString = \"544cd772-0db2-4da4-9af6-c40302f1b7a3\"}, mhSessionId = UUID {uuidToString = \"4f980de9-4153-4fff-af63-ac1f06f940b6\"}, mhUsername = \"\", mhMsgType = ExecuteRequestMessage}), mhMetadata = Metadata (fromList []), mhMessageId = UUID {uuidToString = \"27645219-99a8-4c4b-baee-aa4b41143ad5\"}, mhSessionId = UUID {uuidToString = \"4f980de9-4153-4fff-af63-ac1f06f940b6\"}, mhUsername = \"\", mhMsgType = ExecuteErrorMessage}",
     "output_type": "error",
     "traceback": [
      "Parse error (line 1, column 1): parse error on input ‘++’"
     ]
    }
   ],
   "source": [
    "++ [1, 2, 3] [4, 5, 6]"
   ]
  },
  {
   "cell_type": "code",
   "execution_count": 3,
   "metadata": {},
   "outputs": [
    {
     "data": {
      "text/plain": [
       "\"hello world\""
      ]
     },
     "metadata": {},
     "output_type": "display_data"
    }
   ],
   "source": [
    "(++) \"hello\" \" world\" "
   ]
  },
  {
   "cell_type": "code",
   "execution_count": 4,
   "metadata": {},
   "outputs": [
    {
     "ename": "",
     "evalue": "",
     "header": "MessageHeader {mhIdentifiers = [\"4f980de9-4153-4fff-af63-ac1f06f940b6\"], mhParentHeader = Just (MessageHeader {mhIdentifiers = [\"4f980de9-4153-4fff-af63-ac1f06f940b6\"], mhParentHeader = Nothing, mhMetadata = Metadata (fromList [(\"deletedCells\",Array [String \"512d5cdb-7a04-454d-9afb-e54a48926809\"]),(\"cellId\",String \"31ad871d-85fe-4d43-9391-cbca0a898e0c\")]), mhMessageId = UUID {uuidToString = \"070da556-467a-46b4-ab2c-b109bea9e0f6\"}, mhSessionId = UUID {uuidToString = \"4f980de9-4153-4fff-af63-ac1f06f940b6\"}, mhUsername = \"\", mhMsgType = ExecuteRequestMessage}), mhMetadata = Metadata (fromList []), mhMessageId = UUID {uuidToString = \"ab086c74-39b8-4a2c-9dc8-b4f86849c68b\"}, mhSessionId = UUID {uuidToString = \"4f980de9-4153-4fff-af63-ac1f06f940b6\"}, mhUsername = \"\", mhMsgType = ExecuteErrorMessage}",
     "output_type": "error",
     "traceback": [
      "Parse error (line 1, column 21): lexical error in string/character literal at end of input"
     ]
    }
   ],
   "source": [
    "[\"hello\" ++ \" world] "
   ]
  },
  {
   "cell_type": "code",
   "execution_count": 5,
   "metadata": {},
   "outputs": [
    {
     "ename": "",
     "evalue": "",
     "header": "MessageHeader {mhIdentifiers = [\"4f980de9-4153-4fff-af63-ac1f06f940b6\"], mhParentHeader = Just (MessageHeader {mhIdentifiers = [\"4f980de9-4153-4fff-af63-ac1f06f940b6\"], mhParentHeader = Nothing, mhMetadata = Metadata (fromList [(\"deletedCells\",Array [String \"512d5cdb-7a04-454d-9afb-e54a48926809\"]),(\"cellId\",String \"e2096678-3d62-42dd-bc6e-0d5011de1c2d\")]), mhMessageId = UUID {uuidToString = \"18bace48-7eee-4fa8-aed6-3c99b32dc9b6\"}, mhSessionId = UUID {uuidToString = \"4f980de9-4153-4fff-af63-ac1f06f940b6\"}, mhUsername = \"\", mhMsgType = ExecuteRequestMessage}), mhMetadata = Metadata (fromList []), mhMessageId = UUID {uuidToString = \"a8b07d92-8fd8-453b-85c3-210a6fb19348\"}, mhSessionId = UUID {uuidToString = \"4f980de9-4153-4fff-af63-ac1f06f940b6\"}, mhUsername = \"\", mhMsgType = ExecuteErrorMessage}",
     "output_type": "error",
     "traceback": [
      "<interactive>:1:6: error:\n    • Couldn't match expected type ‘Int’ with actual type ‘String’\n    • In the second argument of ‘(!!)’, namely ‘\"hello\"’\n      In the expression: 4 !! \"hello\"\n      In an equation for ‘it’: it = 4 !! \"hello\""
     ]
    }
   ],
   "source": [
    "4 !! \"hello\""
   ]
  },
  {
   "cell_type": "code",
   "execution_count": 6,
   "metadata": {},
   "outputs": [
    {
     "data": {
      "text/plain": [
       "'o'"
      ]
     },
     "metadata": {},
     "output_type": "display_data"
    }
   ],
   "source": [
    "(!!) \"hello\" 4 "
   ]
  },
  {
   "cell_type": "code",
   "execution_count": 7,
   "metadata": {},
   "outputs": [
    {
     "ename": "",
     "evalue": "",
     "header": "MessageHeader {mhIdentifiers = [\"4f980de9-4153-4fff-af63-ac1f06f940b6\"], mhParentHeader = Just (MessageHeader {mhIdentifiers = [\"4f980de9-4153-4fff-af63-ac1f06f940b6\"], mhParentHeader = Nothing, mhMetadata = Metadata (fromList [(\"deletedCells\",Array [String \"512d5cdb-7a04-454d-9afb-e54a48926809\"]),(\"cellId\",String \"c1f78433-7170-454f-905a-6ebfc99102a4\")]), mhMessageId = UUID {uuidToString = \"e5251765-587e-4f22-b3a9-9ef15e2dedce\"}, mhSessionId = UUID {uuidToString = \"4f980de9-4153-4fff-af63-ac1f06f940b6\"}, mhUsername = \"\", mhMsgType = ExecuteRequestMessage}), mhMetadata = Metadata (fromList []), mhMessageId = UUID {uuidToString = \"80693f95-5eed-4d75-a3b7-7aa1baa24d03\"}, mhSessionId = UUID {uuidToString = \"4f980de9-4153-4fff-af63-ac1f06f940b6\"}, mhUsername = \"\", mhMsgType = ExecuteErrorMessage}",
     "output_type": "error",
     "traceback": [
      "<interactive>:1:6: error:\n    • Couldn't match expected type ‘Int’ with actual type ‘String’\n    • In the first argument of ‘take’, namely ‘\"4 lovely\"’\n      In the expression: take \"4 lovely\"\n      In an equation for ‘it’: it = take \"4 lovely\""
     ]
    }
   ],
   "source": [
    "take \"4 lovely\" "
   ]
  },
  {
   "cell_type": "code",
   "execution_count": 8,
   "metadata": {},
   "outputs": [
    {
     "data": {
      "text/plain": [
       "\"awe\""
      ]
     },
     "metadata": {},
     "output_type": "display_data"
    }
   ],
   "source": [
    "take 3 \"awesome\" "
   ]
  },
  {
   "cell_type": "markdown",
   "metadata": {},
   "source": [
    "---\n",
    "2"
   ]
  },
  {
   "cell_type": "code",
   "execution_count": 9,
   "metadata": {},
   "outputs": [
    {
     "data": {
      "text/plain": [
       "[6,12,18]"
      ]
     },
     "metadata": {},
     "output_type": "display_data"
    },
    {
     "data": {
      "text/plain": [
       "[6,12,18]"
      ]
     },
     "metadata": {},
     "output_type": "display_data"
    }
   ],
   "source": [
    "concat [[1 * 6], [2 * 6], [3 * 6]]\n",
    "[6,12,18]"
   ]
  },
  {
   "cell_type": "code",
   "execution_count": 10,
   "metadata": {},
   "outputs": [
    {
     "data": {
      "text/plain": [
       "\"rainbow\""
      ]
     },
     "metadata": {},
     "output_type": "display_data"
    },
    {
     "data": {
      "text/plain": [
       "\"rainbow\""
      ]
     },
     "metadata": {},
     "output_type": "display_data"
    }
   ],
   "source": [
    "\"rain\" ++ drop 2 \"elbow\"\n",
    "\"rainbow\""
   ]
  },
  {
   "cell_type": "code",
   "execution_count": 11,
   "metadata": {},
   "outputs": [
    {
     "data": {
      "text/plain": [
       "10"
      ]
     },
     "metadata": {},
     "output_type": "display_data"
    },
    {
     "data": {
      "text/plain": [
       "10"
      ]
     },
     "metadata": {},
     "output_type": "display_data"
    }
   ],
   "source": [
    "10 * head [1, 2, 3]\n",
    "10"
   ]
  },
  {
   "cell_type": "code",
   "execution_count": 12,
   "metadata": {},
   "outputs": [
    {
     "data": {
      "text/html": [
       "<style>/* Styles used for the Hoogle display in the pager */\n",
       ".hoogle-doc {\n",
       "display: block;\n",
       "padding-bottom: 1.3em;\n",
       "padding-left: 0.4em;\n",
       "}\n",
       ".hoogle-code {\n",
       "display: block;\n",
       "font-family: monospace;\n",
       "white-space: pre;\n",
       "}\n",
       ".hoogle-text {\n",
       "display: block;\n",
       "}\n",
       ".hoogle-name {\n",
       "color: green;\n",
       "font-weight: bold;\n",
       "}\n",
       ".hoogle-head {\n",
       "font-weight: bold;\n",
       "}\n",
       ".hoogle-sub {\n",
       "display: block;\n",
       "margin-left: 0.4em;\n",
       "}\n",
       ".hoogle-package {\n",
       "font-weight: bold;\n",
       "font-style: italic;\n",
       "}\n",
       ".hoogle-module {\n",
       "font-weight: bold;\n",
       "}\n",
       ".hoogle-class {\n",
       "font-weight: bold;\n",
       "}\n",
       ".get-type {\n",
       "color: green;\n",
       "font-weight: bold;\n",
       "font-family: monospace;\n",
       "display: block;\n",
       "white-space: pre-wrap;\n",
       "}\n",
       ".show-type {\n",
       "color: green;\n",
       "font-weight: bold;\n",
       "font-family: monospace;\n",
       "margin-left: 1em;\n",
       "}\n",
       ".mono {\n",
       "font-family: monospace;\n",
       "display: block;\n",
       "}\n",
       ".err-msg {\n",
       "color: red;\n",
       "font-style: italic;\n",
       "font-family: monospace;\n",
       "white-space: pre;\n",
       "display: block;\n",
       "}\n",
       "#unshowable {\n",
       "color: red;\n",
       "font-weight: bold;\n",
       "}\n",
       ".err-msg.in.collapse {\n",
       "padding-top: 0.7em;\n",
       "}\n",
       ".highlight-code {\n",
       "white-space: pre;\n",
       "font-family: monospace;\n",
       "}\n",
       ".suggestion-warning { \n",
       "font-weight: bold;\n",
       "color: rgb(200, 130, 0);\n",
       "}\n",
       ".suggestion-error { \n",
       "font-weight: bold;\n",
       "color: red;\n",
       "}\n",
       ".suggestion-name {\n",
       "font-weight: bold;\n",
       "}\n",
       "</style><div class=\"suggestion-name\" style=\"clear:both;\">Redundant bracket</div><div class=\"suggestion-row\" style=\"float: left;\"><div class=\"suggestion-warning\">Found:</div><div class=\"highlight-code\" id=\"haskell\">(take 3 \"Julie\") ++ (tail \"yes\")</div></div><div class=\"suggestion-row\" style=\"float: left;\"><div class=\"suggestion-warning\">Why Not:</div><div class=\"highlight-code\" id=\"haskell\">take 3 \"Julie\" ++ (tail \"yes\")</div></div><div class=\"suggestion-name\" style=\"clear:both;\">Redundant bracket</div><div class=\"suggestion-row\" style=\"float: left;\"><div class=\"suggestion-warning\">Found:</div><div class=\"highlight-code\" id=\"haskell\">(take 3 \"Julie\") ++ (tail \"yes\")</div></div><div class=\"suggestion-row\" style=\"float: left;\"><div class=\"suggestion-warning\">Why Not:</div><div class=\"highlight-code\" id=\"haskell\">(take 3 \"Julie\") ++ tail \"yes\"</div></div>"
      ],
      "text/plain": [
       "Line 1: Redundant bracket\n",
       "Found:\n",
       "(take 3 \"Julie\") ++ (tail \"yes\")\n",
       "Why not:\n",
       "take 3 \"Julie\" ++ (tail \"yes\")Line 1: Redundant bracket\n",
       "Found:\n",
       "(take 3 \"Julie\") ++ (tail \"yes\")\n",
       "Why not:\n",
       "(take 3 \"Julie\") ++ tail \"yes\""
      ]
     },
     "metadata": {},
     "output_type": "display_data"
    },
    {
     "data": {
      "text/plain": [
       "\"Jules\""
      ]
     },
     "metadata": {},
     "output_type": "display_data"
    },
    {
     "data": {
      "text/plain": [
       "\"Jules\""
      ]
     },
     "metadata": {},
     "output_type": "display_data"
    },
    {
     "data": {
      "text/plain": [
       "\"Jules\""
      ]
     },
     "metadata": {},
     "output_type": "display_data"
    }
   ],
   "source": [
    "(take 3 \"Julie\") ++ (tail \"yes\")\n",
    "take 3 \"Julie\" ++ tail \"yes\"\n",
    "\"Jules\" "
   ]
  },
  {
   "cell_type": "code",
   "execution_count": 13,
   "metadata": {},
   "outputs": [
    {
     "data": {
      "text/plain": [
       "[2,3,5,6,8,9]"
      ]
     },
     "metadata": {},
     "output_type": "display_data"
    },
    {
     "data": {
      "text/plain": [
       "[2,3,5,6,8,9]"
      ]
     },
     "metadata": {},
     "output_type": "display_data"
    }
   ],
   "source": [
    "concat [tail [1, 2, 3], tail [4, 5, 6], tail [7, 8, 9]]\n",
    "[2,3,5,6,8,9]"
   ]
  },
  {
   "cell_type": "markdown",
   "metadata": {},
   "source": [
    "## Building functions"
   ]
  },
  {
   "cell_type": "markdown",
   "metadata": {},
   "source": [
    "---\n",
    "1"
   ]
  },
  {
   "cell_type": "code",
   "execution_count": 25,
   "metadata": {},
   "outputs": [
    {
     "data": {
      "text/plain": [
       "\"Curry is awesome!\""
      ]
     },
     "metadata": {},
     "output_type": "display_data"
    },
    {
     "data": {
      "text/plain": [
       "\"Curry is awesome!\""
      ]
     },
     "metadata": {},
     "output_type": "display_data"
    }
   ],
   "source": [
    "-- Given \"Curry is awesome\"\n",
    "-- Return\n",
    "\"Curry is awesome!\" \n",
    "\"Curry is awesome\" ++ \"!\""
   ]
  },
  {
   "cell_type": "code",
   "execution_count": 26,
   "metadata": {},
   "outputs": [
    {
     "data": {
      "text/plain": [
       "\"y\""
      ]
     },
     "metadata": {},
     "output_type": "display_data"
    },
    {
     "data": {
      "text/plain": [
       "\"y\""
      ]
     },
     "metadata": {},
     "output_type": "display_data"
    }
   ],
   "source": [
    "-- Given \"Curry is awesome!\"\n",
    "-- Return\n",
    "\"y\" \n",
    "take 1 . drop 4 $ \"Curry is awesome!\""
   ]
  },
  {
   "cell_type": "code",
   "execution_count": 27,
   "metadata": {},
   "outputs": [
    {
     "data": {
      "text/plain": [
       "\"awesome!\""
      ]
     },
     "metadata": {},
     "output_type": "display_data"
    },
    {
     "data": {
      "text/plain": [
       "\"awesome!\""
      ]
     },
     "metadata": {},
     "output_type": "display_data"
    }
   ],
   "source": [
    "-- Given \"Curry is awesome!\"\n",
    "-- Return\n",
    "\"awesome!\"\n",
    "drop 9 \"Curry is awesome!\""
   ]
  },
  {
   "cell_type": "markdown",
   "metadata": {},
   "source": [
    "---\n",
    "2"
   ]
  },
  {
   "cell_type": "code",
   "execution_count": 17,
   "metadata": {},
   "outputs": [],
   "source": [
    "input = \"Curry is awesome\""
   ]
  },
  {
   "cell_type": "code",
   "execution_count": 18,
   "metadata": {},
   "outputs": [],
   "source": [
    "fn1 x = x ++ \"!\"\n",
    "fn2 = take 1. drop 4\n",
    "fn3 = drop 9"
   ]
  },
  {
   "cell_type": "code",
   "execution_count": 19,
   "metadata": {},
   "outputs": [
    {
     "data": {
      "text/plain": [
       "\"Curry is awesome!\""
      ]
     },
     "metadata": {},
     "output_type": "display_data"
    }
   ],
   "source": [
    "input2 = fn1 input\n",
    "input2"
   ]
  },
  {
   "cell_type": "code",
   "execution_count": 20,
   "metadata": {},
   "outputs": [
    {
     "data": {
      "text/plain": [
       "\"y\""
      ]
     },
     "metadata": {},
     "output_type": "display_data"
    },
    {
     "data": {
      "text/plain": [
       "\"awesome!\""
      ]
     },
     "metadata": {},
     "output_type": "display_data"
    }
   ],
   "source": [
    "fn2 input2\n",
    "fn3 input2"
   ]
  },
  {
   "cell_type": "markdown",
   "metadata": {},
   "source": [
    "---\n",
    "3"
   ]
  },
  {
   "cell_type": "code",
   "execution_count": 21,
   "metadata": {},
   "outputs": [
    {
     "data": {
      "text/html": [
       "<style>/* Styles used for the Hoogle display in the pager */\n",
       ".hoogle-doc {\n",
       "display: block;\n",
       "padding-bottom: 1.3em;\n",
       "padding-left: 0.4em;\n",
       "}\n",
       ".hoogle-code {\n",
       "display: block;\n",
       "font-family: monospace;\n",
       "white-space: pre;\n",
       "}\n",
       ".hoogle-text {\n",
       "display: block;\n",
       "}\n",
       ".hoogle-name {\n",
       "color: green;\n",
       "font-weight: bold;\n",
       "}\n",
       ".hoogle-head {\n",
       "font-weight: bold;\n",
       "}\n",
       ".hoogle-sub {\n",
       "display: block;\n",
       "margin-left: 0.4em;\n",
       "}\n",
       ".hoogle-package {\n",
       "font-weight: bold;\n",
       "font-style: italic;\n",
       "}\n",
       ".hoogle-module {\n",
       "font-weight: bold;\n",
       "}\n",
       ".hoogle-class {\n",
       "font-weight: bold;\n",
       "}\n",
       ".get-type {\n",
       "color: green;\n",
       "font-weight: bold;\n",
       "font-family: monospace;\n",
       "display: block;\n",
       "white-space: pre-wrap;\n",
       "}\n",
       ".show-type {\n",
       "color: green;\n",
       "font-weight: bold;\n",
       "font-family: monospace;\n",
       "margin-left: 1em;\n",
       "}\n",
       ".mono {\n",
       "font-family: monospace;\n",
       "display: block;\n",
       "}\n",
       ".err-msg {\n",
       "color: red;\n",
       "font-style: italic;\n",
       "font-family: monospace;\n",
       "white-space: pre;\n",
       "display: block;\n",
       "}\n",
       "#unshowable {\n",
       "color: red;\n",
       "font-weight: bold;\n",
       "}\n",
       ".err-msg.in.collapse {\n",
       "padding-top: 0.7em;\n",
       "}\n",
       ".highlight-code {\n",
       "white-space: pre;\n",
       "font-family: monospace;\n",
       "}\n",
       ".suggestion-warning { \n",
       "font-weight: bold;\n",
       "color: rgb(200, 130, 0);\n",
       "}\n",
       ".suggestion-error { \n",
       "font-weight: bold;\n",
       "color: red;\n",
       "}\n",
       ".suggestion-name {\n",
       "font-weight: bold;\n",
       "}\n",
       "</style><div class=\"suggestion-name\" style=\"clear:both;\">Eta reduce</div><div class=\"suggestion-row\" style=\"float: left;\"><div class=\"suggestion-warning\">Found:</div><div class=\"highlight-code\" id=\"haskell\">thirdLetter x = head . take 1 . drop 2 $ x</div></div><div class=\"suggestion-row\" style=\"float: left;\"><div class=\"suggestion-warning\">Why Not:</div><div class=\"highlight-code\" id=\"haskell\">thirdLetter = head . take 1 . drop 2</div></div>"
      ],
      "text/plain": [
       "Line 2: Eta reduce\n",
       "Found:\n",
       "thirdLetter x = head . take 1 . drop 2 $ x\n",
       "Why not:\n",
       "thirdLetter = head . take 1 . drop 2"
      ]
     },
     "metadata": {},
     "output_type": "display_data"
    },
    {
     "data": {
      "text/plain": [
       "'r'"
      ]
     },
     "metadata": {},
     "output_type": "display_data"
    },
    {
     "data": {
      "text/plain": [
       "'r'"
      ]
     },
     "metadata": {},
     "output_type": "display_data"
    }
   ],
   "source": [
    "thirdLetter :: String -> Char\n",
    "thirdLetter x = head . take 1 . drop 2 $ x\n",
    "\n",
    "thirdLetter \"Curry is awesome\"\n",
    "-- Return\n",
    "'r'"
   ]
  },
  {
   "cell_type": "code",
   "execution_count": 22,
   "metadata": {},
   "outputs": [
    {
     "data": {
      "text/plain": [
       "'r'"
      ]
     },
     "metadata": {},
     "output_type": "display_data"
    },
    {
     "data": {
      "text/plain": [
       "'r'"
      ]
     },
     "metadata": {},
     "output_type": "display_data"
    }
   ],
   "source": [
    "letterIndex :: Int -> Char\n",
    "letterIndex x = head . take 1 . drop x $ input\n",
    "    where input = \"Curry is awesome!\"\n",
    "\n",
    "letterIndex 3\n",
    "-- Return\n",
    "'r'"
   ]
  },
  {
   "cell_type": "code",
   "execution_count": 28,
   "metadata": {},
   "outputs": [
    {
     "data": {
      "text/plain": [
       "\"awesome is Curry\""
      ]
     },
     "metadata": {},
     "output_type": "display_data"
    },
    {
     "data": {
      "text/plain": [
       "\"awesome is Curry\""
      ]
     },
     "metadata": {},
     "output_type": "display_data"
    }
   ],
   "source": [
    "rvrs = drop 9 input ++ (take 1 . drop 8) input ++ (take 2 . drop 6) input ++ (take 1 . drop 5) input ++ take 5 input\n",
    "    where input = \"Curry is awesome\"\n",
    "rvrs\n",
    "\n",
    "-- Return\n",
    "\"awesome is Curry\""
   ]
  }
 ],
 "metadata": {
  "kernelspec": {
   "display_name": "Haskell",
   "language": "haskell",
   "name": "haskell"
  },
  "language_info": {
   "codemirror_mode": "ihaskell",
   "file_extension": ".hs",
   "name": "haskell",
   "pygments_lexer": "Haskell",
   "version": "8.6.5"
  }
 },
 "nbformat": 4,
 "nbformat_minor": 4
}

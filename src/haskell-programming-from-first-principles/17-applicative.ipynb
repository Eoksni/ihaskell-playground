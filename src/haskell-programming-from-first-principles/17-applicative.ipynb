{
 "cells": [
  {
   "cell_type": "markdown",
   "metadata": {},
   "source": [
    "# Chapter 17: Applicative"
   ]
  },
  {
   "cell_type": "code",
   "execution_count": 1,
   "metadata": {},
   "outputs": [],
   "source": [
    "import Control.Applicative"
   ]
  },
  {
   "cell_type": "code",
   "execution_count": 2,
   "metadata": {},
   "outputs": [
    {
     "data": {},
     "metadata": {},
     "output_type": "display_data"
    },
    {
     "data": {
      "text/html": [
       "<div style='background: rgb(247, 247, 247);'><form><textarea id='code'>class Functor f => Applicative (f :: * -> *) where\n",
       "  pure :: a -> f a\n",
       "  (<*>) :: f (a -> b) -> f a -> f b\n",
       "  liftA2 :: (a -> b -> c) -> f a -> f b -> f c\n",
       "  (*>) :: f a -> f b -> f b\n",
       "  (<*) :: f a -> f b -> f a\n",
       "  {-# MINIMAL pure, ((<*>) | liftA2) #-}\n",
       "  \t-- Defined in ‘GHC.Base’\n",
       "instance Monoid m => Applicative (Const m) -- Defined in ‘Data.Functor.Const’\n",
       "instance Applicative (Either e) -- Defined in ‘Data.Either’\n",
       "instance Applicative ZipList -- Defined in ‘Control.Applicative’\n",
       "instance Monad m => Applicative (WrappedMonad m) -- Defined in ‘Control.Applicative’\n",
       "instance Control.Arrow.Arrow a => Applicative (WrappedArrow a b) -- Defined in ‘Control.Applicative’\n",
       "instance Applicative [] -- Defined in ‘GHC.Base’\n",
       "instance Applicative Maybe -- Defined in ‘GHC.Base’\n",
       "instance Applicative IO -- Defined in ‘GHC.Base’\n",
       "instance Applicative ((->) a) -- Defined in ‘GHC.Base’\n",
       "instance Monoid a => Applicative ((,) a) -- Defined in ‘GHC.Base’\n",
       "</textarea></form></div><script>CodeMirror.fromTextArea(document.getElementById('code'), {mode: 'haskell', readOnly: 'nocursor'});</script>"
      ],
      "text/plain": [
       "class Functor f => Applicative (f :: * -> *) where\n",
       "  pure :: a -> f a\n",
       "  (<*>) :: f (a -> b) -> f a -> f b\n",
       "  liftA2 :: (a -> b -> c) -> f a -> f b -> f c\n",
       "  (*>) :: f a -> f b -> f b\n",
       "  (<*) :: f a -> f b -> f a\n",
       "  {-# MINIMAL pure, ((<*>) | liftA2) #-}\n",
       "  \t-- Defined in ‘GHC.Base’\n",
       "instance Monoid m => Applicative (Const m) -- Defined in ‘Data.Functor.Const’\n",
       "instance Applicative (Either e) -- Defined in ‘Data.Either’\n",
       "instance Applicative ZipList -- Defined in ‘Control.Applicative’\n",
       "instance Monad m => Applicative (WrappedMonad m) -- Defined in ‘Control.Applicative’\n",
       "instance Control.Arrow.Arrow a => Applicative (WrappedArrow a b) -- Defined in ‘Control.Applicative’\n",
       "instance Applicative [] -- Defined in ‘GHC.Base’\n",
       "instance Applicative Maybe -- Defined in ‘GHC.Base’\n",
       "instance Applicative IO -- Defined in ‘GHC.Base’\n",
       "instance Applicative ((->) a) -- Defined in ‘GHC.Base’\n",
       "instance Monoid a => Applicative ((,) a) -- Defined in ‘GHC.Base’"
      ]
     },
     "metadata": {},
     "output_type": "display_data"
    }
   ],
   "source": [
    ":info Applicative"
   ]
  },
  {
   "cell_type": "markdown",
   "metadata": {},
   "source": [
    "## Given a type, specialize the types of the methods"
   ]
  },
  {
   "cell_type": "code",
   "execution_count": 3,
   "metadata": {},
   "outputs": [
    {
     "data": {
      "text/plain": [
       "[]"
      ]
     },
     "metadata": {},
     "output_type": "display_data"
    },
    {
     "ename": "",
     "evalue": "",
     "header": "MessageHeader {mhIdentifiers = [\"bd7588aa-774e-418f-ad7a-4a7cacdc5016\"], mhParentHeader = Just (MessageHeader {mhIdentifiers = [\"bd7588aa-774e-418f-ad7a-4a7cacdc5016\"], mhParentHeader = Nothing, mhMetadata = Metadata (fromList [(\"deletedCells\",Array []),(\"cellId\",String \"7b6f0aa5-7263-4614-a7bc-225fd0201ee1\")]), mhMessageId = UUID {uuidToString = \"07ba2dc1-0ed0-4595-b418-d4f1d87cea3b\"}, mhSessionId = UUID {uuidToString = \"bd7588aa-774e-418f-ad7a-4a7cacdc5016\"}, mhUsername = \"\", mhMsgType = ExecuteRequestMessage}), mhMetadata = Metadata (fromList []), mhMessageId = UUID {uuidToString = \"e64d93b8-92e3-4b7d-b58a-a67dda63459c\"}, mhSessionId = UUID {uuidToString = \"bd7588aa-774e-418f-ad7a-4a7cacdc5016\"}, mhUsername = \"\", mhMsgType = ExecuteErrorMessage}",
     "output_type": "error",
     "traceback": [
      "<interactive>:2:1: error:\n    The type signature for ‘<*>’ lacks an accompanying binding\n      (The type signature must be given where ‘<*>’ is declared)\n<interactive>:1:1: error:\n    The type signature for ‘pure’ lacks an accompanying binding\n      (The type signature must be given where ‘pure’ is declared)"
     ]
    }
   ],
   "source": [
    "[]\n",
    "\n",
    "pure :: a -> [a]\n",
    "(<*>) :: [a -> b] -> [a] -> [b]"
   ]
  },
  {
   "cell_type": "code",
   "execution_count": 4,
   "metadata": {},
   "outputs": [
    {
     "ename": "",
     "evalue": "",
     "header": "MessageHeader {mhIdentifiers = [\"bd7588aa-774e-418f-ad7a-4a7cacdc5016\"], mhParentHeader = Just (MessageHeader {mhIdentifiers = [\"bd7588aa-774e-418f-ad7a-4a7cacdc5016\"], mhParentHeader = Nothing, mhMetadata = Metadata (fromList [(\"deletedCells\",Array []),(\"cellId\",String \"881dc368-24f4-46c8-bca9-d0f3506358ab\")]), mhMessageId = UUID {uuidToString = \"07899136-7f51-4de2-b628-5e13a13190b8\"}, mhSessionId = UUID {uuidToString = \"bd7588aa-774e-418f-ad7a-4a7cacdc5016\"}, mhUsername = \"\", mhMsgType = ExecuteRequestMessage}), mhMetadata = Metadata (fromList []), mhMessageId = UUID {uuidToString = \"906673f8-dd88-4d92-95a3-afe57dcc7066\"}, mhSessionId = UUID {uuidToString = \"bd7588aa-774e-418f-ad7a-4a7cacdc5016\"}, mhUsername = \"\", mhMsgType = ExecuteErrorMessage}",
     "output_type": "error",
     "traceback": [
      "<interactive>:1:1: error: Data constructor not in scope: IO"
     ]
    }
   ],
   "source": [
    "IO\n",
    "\n",
    "pure :: a -> IO a\n",
    "(<*>) :: IO (a -> b) -> IO a -> IO b"
   ]
  },
  {
   "cell_type": "code",
   "execution_count": 5,
   "metadata": {},
   "outputs": [
    {
     "ename": "",
     "evalue": "",
     "header": "MessageHeader {mhIdentifiers = [\"bd7588aa-774e-418f-ad7a-4a7cacdc5016\"], mhParentHeader = Just (MessageHeader {mhIdentifiers = [\"bd7588aa-774e-418f-ad7a-4a7cacdc5016\"], mhParentHeader = Nothing, mhMetadata = Metadata (fromList [(\"deletedCells\",Array []),(\"cellId\",String \"19b255c8-913f-4dd8-b0c7-d1d760c562a4\")]), mhMessageId = UUID {uuidToString = \"41995b4e-fb3c-4091-9701-42a541a65b8f\"}, mhSessionId = UUID {uuidToString = \"bd7588aa-774e-418f-ad7a-4a7cacdc5016\"}, mhUsername = \"\", mhMsgType = ExecuteRequestMessage}), mhMetadata = Metadata (fromList []), mhMessageId = UUID {uuidToString = \"b6dcdce9-3025-46a4-ab9f-eff6ae4bbe4c\"}, mhSessionId = UUID {uuidToString = \"bd7588aa-774e-418f-ad7a-4a7cacdc5016\"}, mhUsername = \"\", mhMsgType = ExecuteErrorMessage}",
     "output_type": "error",
     "traceback": [
      "<interactive>:1:5: error: Variable not in scope: b"
     ]
    }
   ],
   "source": [
    "(,) b\n",
    "\n",
    "pure :: a -> (b, a)\n",
    "(<*>) :: (b, a -> c) -> (b, a) -> (b, c)"
   ]
  },
  {
   "cell_type": "code",
   "execution_count": 6,
   "metadata": {},
   "outputs": [
    {
     "ename": "",
     "evalue": "",
     "header": "MessageHeader {mhIdentifiers = [\"bd7588aa-774e-418f-ad7a-4a7cacdc5016\"], mhParentHeader = Just (MessageHeader {mhIdentifiers = [\"bd7588aa-774e-418f-ad7a-4a7cacdc5016\"], mhParentHeader = Nothing, mhMetadata = Metadata (fromList [(\"deletedCells\",Array []),(\"cellId\",String \"7a1780fb-d45d-4454-a82a-99c75ffb98b4\")]), mhMessageId = UUID {uuidToString = \"e7dd0022-6a15-442b-b942-7c648e020dfa\"}, mhSessionId = UUID {uuidToString = \"bd7588aa-774e-418f-ad7a-4a7cacdc5016\"}, mhUsername = \"\", mhMsgType = ExecuteRequestMessage}), mhMetadata = Metadata (fromList []), mhMessageId = UUID {uuidToString = \"00889257-8c51-4485-8a15-36b85b10081b\"}, mhSessionId = UUID {uuidToString = \"bd7588aa-774e-418f-ad7a-4a7cacdc5016\"}, mhUsername = \"\", mhMsgType = ExecuteErrorMessage}",
     "output_type": "error",
     "traceback": [
      "Parse error (line 1, column 2): parse error on input ‘->’"
     ]
    }
   ],
   "source": [
    "(->) e\n",
    "\n",
    "pure :: a -> e -> a\n",
    "(<*>) :: (e -> a -> b) -> (e -> a) -> (e -> b)"
   ]
  },
  {
   "cell_type": "markdown",
   "metadata": {},
   "source": [
    "## Write applicative instances for the following datatypes"
   ]
  },
  {
   "cell_type": "code",
   "execution_count": 7,
   "metadata": {},
   "outputs": [],
   "source": [
    "data Pair a = Pair a a deriving Show\n",
    "\n",
    "instance Functor Pair where\n",
    "    fmap f (Pair x x') = Pair (f x) (f x')\n",
    "\n",
    "instance Applicative Pair where\n",
    "    pure x = Pair x x\n",
    "    (Pair f f') <*> (Pair x x') = Pair (f x) (f' x')"
   ]
  },
  {
   "cell_type": "code",
   "execution_count": 8,
   "metadata": {},
   "outputs": [],
   "source": [
    "data Two a b = Two a b\n",
    "\n",
    "instance Functor (Two a) where\n",
    "    fmap f (Two a x) = Two a (f x)\n",
    "    \n",
    "instance Monoid a => Applicative (Two a) where\n",
    "    pure = Two mempty\n",
    "    (Two a f) <*> (Two a' b') = Two (a <> a') (f b')"
   ]
  },
  {
   "cell_type": "code",
   "execution_count": 9,
   "metadata": {},
   "outputs": [],
   "source": [
    "data Three a b c = Three a b c\n",
    "\n",
    "instance Functor (Three a b) where\n",
    "    fmap f (Three a b x) = Three a b (f x)\n",
    "    \n",
    "instance (Monoid a, Monoid b) => Applicative (Three a b) where\n",
    "    pure = Three mempty mempty\n",
    "    (Three a b f) <*> (Three a' b' c') = Three (a <> a') (b <> b') (f c')"
   ]
  },
  {
   "cell_type": "code",
   "execution_count": 10,
   "metadata": {},
   "outputs": [],
   "source": [
    "data Three' a b = Three' a b b\n",
    "\n",
    "instance Functor (Three' a) where\n",
    "    fmap f (Three' a x x') = Three' a (f x) (f x')\n",
    "\n",
    "instance (Monoid a) => Applicative (Three' a) where\n",
    "    pure x = Three' mempty x x\n",
    "    (Three' a f g) <*> (Three' a' x' y') = Three' (a <> a') (f x') (g y')"
   ]
  },
  {
   "cell_type": "code",
   "execution_count": 11,
   "metadata": {},
   "outputs": [],
   "source": [
    "data Four a b c d = Four a b c d\n",
    "\n",
    "instance Functor (Four a b c) where\n",
    "    fmap f (Four a b c x) = Four a b c (f x)\n",
    "    \n",
    "instance (Monoid a, Monoid b, Monoid c) => Applicative (Four a b c) where\n",
    "    pure = Four mempty mempty mempty\n",
    "    (Four a b c f) <*> (Four a' b' c' x') = Four (a <> a') (b <> b') (c <> c') (f x')"
   ]
  },
  {
   "cell_type": "code",
   "execution_count": 12,
   "metadata": {},
   "outputs": [],
   "source": [
    "data Four' a b = Four' a a a b\n",
    "\n",
    "instance Functor (Four' a) where\n",
    "    fmap f (Four' a b c x) = Four' a b c (f x)\n",
    "    \n",
    "instance Monoid a => Applicative (Four' a) where\n",
    "    pure = Four' mempty mempty mempty\n",
    "    (Four' a b c f) <*> (Four' a' b' c' x') = Four' (a <> a') (b <> b') (c <> c') (f x')"
   ]
  },
  {
   "cell_type": "markdown",
   "metadata": {},
   "source": [
    "## Combinations"
   ]
  },
  {
   "cell_type": "code",
   "execution_count": 13,
   "metadata": {},
   "outputs": [
    {
     "data": {
      "text/plain": [
       "[(1,3,5),(1,3,6),(1,4,5),(1,4,6),(2,3,5),(2,3,6),(2,4,5),(2,4,6)]"
      ]
     },
     "metadata": {},
     "output_type": "display_data"
    }
   ],
   "source": [
    "import Control.Applicative (liftA3)\n",
    "\n",
    "stops :: String\n",
    "stops = \"pbtdkg\"\n",
    "\n",
    "vowels :: String\n",
    "vowels = \"aeiou\"\n",
    "\n",
    "combos :: [a] -> [b] -> [c] -> [(a, b, c)]\n",
    "combos = liftA3 (,,)\n",
    "\n",
    "combos [1, 2] [3, 4] [5, 6]"
   ]
  }
 ],
 "metadata": {
  "kernelspec": {
   "display_name": "Haskell",
   "language": "haskell",
   "name": "haskell"
  },
  "language_info": {
   "codemirror_mode": "ihaskell",
   "file_extension": ".hs",
   "name": "haskell",
   "pygments_lexer": "Haskell",
   "version": "8.6.5"
  }
 },
 "nbformat": 4,
 "nbformat_minor": 4
}

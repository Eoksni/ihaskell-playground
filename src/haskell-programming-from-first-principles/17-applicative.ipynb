{
 "cells": [
  {
   "cell_type": "markdown",
   "metadata": {},
   "source": [
    "# Chapter 17: Applicative"
   ]
  },
  {
   "cell_type": "code",
   "execution_count": 1,
   "metadata": {},
   "outputs": [],
   "source": [
    "import Control.Applicative"
   ]
  },
  {
   "cell_type": "code",
   "execution_count": 2,
   "metadata": {},
   "outputs": [
    {
     "data": {},
     "metadata": {},
     "output_type": "display_data"
    },
    {
     "data": {
      "text/html": [
       "<div style='background: rgb(247, 247, 247);'><form><textarea id='code'>class Functor f => Applicative (f :: * -> *) where\n",
       "  pure :: a -> f a\n",
       "  (<*>) :: f (a -> b) -> f a -> f b\n",
       "  liftA2 :: (a -> b -> c) -> f a -> f b -> f c\n",
       "  (*>) :: f a -> f b -> f b\n",
       "  (<*) :: f a -> f b -> f a\n",
       "  {-# MINIMAL pure, ((<*>) | liftA2) #-}\n",
       "  \t-- Defined in ‘GHC.Base’\n",
       "instance Monoid m => Applicative (Const m) -- Defined in ‘Data.Functor.Const’\n",
       "instance Applicative (Either e) -- Defined in ‘Data.Either’\n",
       "instance Applicative ZipList -- Defined in ‘Control.Applicative’\n",
       "instance Monad m => Applicative (WrappedMonad m) -- Defined in ‘Control.Applicative’\n",
       "instance Control.Arrow.Arrow a => Applicative (WrappedArrow a b) -- Defined in ‘Control.Applicative’\n",
       "instance Applicative [] -- Defined in ‘GHC.Base’\n",
       "instance Applicative Maybe -- Defined in ‘GHC.Base’\n",
       "instance Applicative IO -- Defined in ‘GHC.Base’\n",
       "instance Applicative ((->) a) -- Defined in ‘GHC.Base’\n",
       "instance Monoid a => Applicative ((,) a) -- Defined in ‘GHC.Base’\n",
       "</textarea></form></div><script>CodeMirror.fromTextArea(document.getElementById('code'), {mode: 'haskell', readOnly: 'nocursor'});</script>"
      ],
      "text/plain": [
       "class Functor f => Applicative (f :: * -> *) where\n",
       "  pure :: a -> f a\n",
       "  (<*>) :: f (a -> b) -> f a -> f b\n",
       "  liftA2 :: (a -> b -> c) -> f a -> f b -> f c\n",
       "  (*>) :: f a -> f b -> f b\n",
       "  (<*) :: f a -> f b -> f a\n",
       "  {-# MINIMAL pure, ((<*>) | liftA2) #-}\n",
       "  \t-- Defined in ‘GHC.Base’\n",
       "instance Monoid m => Applicative (Const m) -- Defined in ‘Data.Functor.Const’\n",
       "instance Applicative (Either e) -- Defined in ‘Data.Either’\n",
       "instance Applicative ZipList -- Defined in ‘Control.Applicative’\n",
       "instance Monad m => Applicative (WrappedMonad m) -- Defined in ‘Control.Applicative’\n",
       "instance Control.Arrow.Arrow a => Applicative (WrappedArrow a b) -- Defined in ‘Control.Applicative’\n",
       "instance Applicative [] -- Defined in ‘GHC.Base’\n",
       "instance Applicative Maybe -- Defined in ‘GHC.Base’\n",
       "instance Applicative IO -- Defined in ‘GHC.Base’\n",
       "instance Applicative ((->) a) -- Defined in ‘GHC.Base’\n",
       "instance Monoid a => Applicative ((,) a) -- Defined in ‘GHC.Base’"
      ]
     },
     "metadata": {},
     "output_type": "display_data"
    }
   ],
   "source": [
    ":info Applicative"
   ]
  },
  {
   "cell_type": "markdown",
   "metadata": {},
   "source": [
    "## Given a type, specialize the types of the methods"
   ]
  },
  {
   "cell_type": "code",
   "execution_count": 3,
   "metadata": {},
   "outputs": [
    {
     "data": {
      "text/plain": [
       "[]"
      ]
     },
     "metadata": {},
     "output_type": "display_data"
    },
    {
     "ename": "",
     "evalue": "",
     "header": "MessageHeader {mhIdentifiers = [\"d118783d-4afb-48a4-8dbe-763c2a300fd6\"], mhParentHeader = Just (MessageHeader {mhIdentifiers = [\"d118783d-4afb-48a4-8dbe-763c2a300fd6\"], mhParentHeader = Nothing, mhMetadata = Metadata (fromList [(\"deletedCells\",Array []),(\"cellId\",String \"f10cddf5-274d-4f40-b791-d13071ef9027\")]), mhMessageId = UUID {uuidToString = \"42c257c7-14fa-452c-b3e1-afe9ca44a898\"}, mhSessionId = UUID {uuidToString = \"d118783d-4afb-48a4-8dbe-763c2a300fd6\"}, mhUsername = \"\", mhMsgType = ExecuteRequestMessage}), mhMetadata = Metadata (fromList []), mhMessageId = UUID {uuidToString = \"3e73e162-c46e-4a7d-8100-bbb85ac08149\"}, mhSessionId = UUID {uuidToString = \"d118783d-4afb-48a4-8dbe-763c2a300fd6\"}, mhUsername = \"\", mhMsgType = ExecuteErrorMessage}",
     "output_type": "error",
     "traceback": [
      "<interactive>:2:1: error:\n    The type signature for ‘<*>’ lacks an accompanying binding\n      (The type signature must be given where ‘<*>’ is declared)\n<interactive>:1:1: error:\n    The type signature for ‘pure’ lacks an accompanying binding\n      (The type signature must be given where ‘pure’ is declared)"
     ]
    }
   ],
   "source": [
    "[]\n",
    "\n",
    "pure :: a -> [a]\n",
    "(<*>) :: [a -> b] -> [a] -> [b]"
   ]
  },
  {
   "cell_type": "code",
   "execution_count": 4,
   "metadata": {},
   "outputs": [
    {
     "ename": "",
     "evalue": "",
     "header": "MessageHeader {mhIdentifiers = [\"d118783d-4afb-48a4-8dbe-763c2a300fd6\"], mhParentHeader = Just (MessageHeader {mhIdentifiers = [\"d118783d-4afb-48a4-8dbe-763c2a300fd6\"], mhParentHeader = Nothing, mhMetadata = Metadata (fromList [(\"deletedCells\",Array []),(\"cellId\",String \"0e7f9d3a-2a2c-4a13-a0a3-a6f09ece593c\")]), mhMessageId = UUID {uuidToString = \"b1024712-1ba6-46af-aa23-7bfb3d959e41\"}, mhSessionId = UUID {uuidToString = \"d118783d-4afb-48a4-8dbe-763c2a300fd6\"}, mhUsername = \"\", mhMsgType = ExecuteRequestMessage}), mhMetadata = Metadata (fromList []), mhMessageId = UUID {uuidToString = \"e9bc2309-60d6-4f2a-8b66-a380e2c89fe1\"}, mhSessionId = UUID {uuidToString = \"d118783d-4afb-48a4-8dbe-763c2a300fd6\"}, mhUsername = \"\", mhMsgType = ExecuteErrorMessage}",
     "output_type": "error",
     "traceback": [
      "<interactive>:1:1: error: Data constructor not in scope: IO"
     ]
    }
   ],
   "source": [
    "IO\n",
    "\n",
    "pure :: a -> IO a\n",
    "(<*>) :: IO (a -> b) -> IO a -> IO b"
   ]
  },
  {
   "cell_type": "code",
   "execution_count": 5,
   "metadata": {},
   "outputs": [
    {
     "ename": "",
     "evalue": "",
     "header": "MessageHeader {mhIdentifiers = [\"d118783d-4afb-48a4-8dbe-763c2a300fd6\"], mhParentHeader = Just (MessageHeader {mhIdentifiers = [\"d118783d-4afb-48a4-8dbe-763c2a300fd6\"], mhParentHeader = Nothing, mhMetadata = Metadata (fromList [(\"deletedCells\",Array []),(\"cellId\",String \"ad00f2ec-27cf-438a-8c02-56bb22e2f5ee\")]), mhMessageId = UUID {uuidToString = \"3cbfe742-8be5-4b67-b0f3-2aa91dc4e041\"}, mhSessionId = UUID {uuidToString = \"d118783d-4afb-48a4-8dbe-763c2a300fd6\"}, mhUsername = \"\", mhMsgType = ExecuteRequestMessage}), mhMetadata = Metadata (fromList []), mhMessageId = UUID {uuidToString = \"509ab2fd-edde-4d21-9e74-e58bdde6dbd6\"}, mhSessionId = UUID {uuidToString = \"d118783d-4afb-48a4-8dbe-763c2a300fd6\"}, mhUsername = \"\", mhMsgType = ExecuteErrorMessage}",
     "output_type": "error",
     "traceback": [
      "<interactive>:1:5: error: Variable not in scope: b"
     ]
    }
   ],
   "source": [
    "(,) b\n",
    "\n",
    "pure :: a -> (b, a)\n",
    "(<*>) :: (b, a -> c) -> (b, a) -> (b, c)"
   ]
  },
  {
   "cell_type": "code",
   "execution_count": 6,
   "metadata": {},
   "outputs": [
    {
     "ename": "",
     "evalue": "",
     "header": "MessageHeader {mhIdentifiers = [\"d118783d-4afb-48a4-8dbe-763c2a300fd6\"], mhParentHeader = Just (MessageHeader {mhIdentifiers = [\"d118783d-4afb-48a4-8dbe-763c2a300fd6\"], mhParentHeader = Nothing, mhMetadata = Metadata (fromList [(\"deletedCells\",Array []),(\"cellId\",String \"7f441e8d-c115-48cc-9cdd-26bc7c1700ec\")]), mhMessageId = UUID {uuidToString = \"166684a1-4e8f-4b6e-88f6-6e03802de6c0\"}, mhSessionId = UUID {uuidToString = \"d118783d-4afb-48a4-8dbe-763c2a300fd6\"}, mhUsername = \"\", mhMsgType = ExecuteRequestMessage}), mhMetadata = Metadata (fromList []), mhMessageId = UUID {uuidToString = \"15e2e518-b7b0-43cd-aa2c-b692bb668dfa\"}, mhSessionId = UUID {uuidToString = \"d118783d-4afb-48a4-8dbe-763c2a300fd6\"}, mhUsername = \"\", mhMsgType = ExecuteErrorMessage}",
     "output_type": "error",
     "traceback": [
      "Parse error (line 1, column 2): parse error on input ‘->’"
     ]
    }
   ],
   "source": [
    "(->) e\n",
    "\n",
    "pure :: a -> e -> a\n",
    "(<*>) :: (e -> a -> b) -> (e -> a) -> (e -> b)"
   ]
  },
  {
   "cell_type": "markdown",
   "metadata": {},
   "source": [
    "## Write applicative instances for the following datatypes"
   ]
  },
  {
   "cell_type": "code",
   "execution_count": 7,
   "metadata": {},
   "outputs": [],
   "source": [
    "data Pair a = Pair a a deriving Show\n",
    "\n",
    "instance Functor Pair where\n",
    "    fmap f (Pair x x') = Pair (f x) (f x')\n",
    "\n",
    "instance Applicative Pair where\n",
    "    pure x = Pair x x\n",
    "    (Pair f f') <*> (Pair x x') = Pair (f x) (f' x')"
   ]
  },
  {
   "cell_type": "code",
   "execution_count": 8,
   "metadata": {},
   "outputs": [],
   "source": [
    "data Two a b = Two a b\n",
    "\n",
    "instance Functor (Two a) where\n",
    "    fmap f (Two a x) = Two a (f x)\n",
    "    \n",
    "instance Monoid a => Applicative (Two a) where\n",
    "    pure = Two mempty\n",
    "    (Two a f) <*> (Two a' b') = Two (a <> a') (f b')"
   ]
  },
  {
   "cell_type": "code",
   "execution_count": 9,
   "metadata": {},
   "outputs": [],
   "source": [
    "data Three a b c = Three a b c\n",
    "\n",
    "instance Functor (Three a b) where\n",
    "    fmap f (Three a b x) = Three a b (f x)\n",
    "    \n",
    "instance (Monoid a, Monoid b) => Applicative (Three a b) where\n",
    "    pure = Three mempty mempty\n",
    "    (Three a b f) <*> (Three a' b' c') = Three (a <> a') (b <> b') (f c')"
   ]
  },
  {
   "cell_type": "code",
   "execution_count": 10,
   "metadata": {},
   "outputs": [],
   "source": [
    "data Three' a b = Three' a b b\n",
    "\n",
    "instance Functor (Three' a) where\n",
    "    fmap f (Three' a x x') = Three' a (f x) (f x')\n",
    "\n",
    "instance (Monoid a) => Applicative (Three' a) where\n",
    "    pure x = Three' mempty x x\n",
    "    (Three' a f g) <*> (Three' a' x' y') = Three' (a <> a') (f x') (g y')"
   ]
  },
  {
   "cell_type": "code",
   "execution_count": 11,
   "metadata": {},
   "outputs": [],
   "source": [
    "data Four a b c d = Four a b c d\n",
    "\n",
    "instance Functor (Four a b c) where\n",
    "    fmap f (Four a b c x) = Four a b c (f x)\n",
    "    \n",
    "instance (Monoid a, Monoid b, Monoid c) => Applicative (Four a b c) where\n",
    "    pure = Four mempty mempty mempty\n",
    "    (Four a b c f) <*> (Four a' b' c' x') = Four (a <> a') (b <> b') (c <> c') (f x')"
   ]
  },
  {
   "cell_type": "code",
   "execution_count": 12,
   "metadata": {},
   "outputs": [],
   "source": [
    "data Four' a b = Four' a a a b\n",
    "\n",
    "instance Functor (Four' a) where\n",
    "    fmap f (Four' a b c x) = Four' a b c (f x)\n",
    "    \n",
    "instance Monoid a => Applicative (Four' a) where\n",
    "    pure = Four' mempty mempty mempty\n",
    "    (Four' a b c f) <*> (Four' a' b' c' x') = Four' (a <> a') (b <> b') (c <> c') (f x')"
   ]
  },
  {
   "cell_type": "markdown",
   "metadata": {},
   "source": [
    "## Combinations"
   ]
  },
  {
   "cell_type": "code",
   "execution_count": 13,
   "metadata": {},
   "outputs": [
    {
     "data": {
      "text/plain": [
       "[(1,3,5),(1,3,6),(1,4,5),(1,4,6),(2,3,5),(2,3,6),(2,4,5),(2,4,6)]"
      ]
     },
     "metadata": {},
     "output_type": "display_data"
    }
   ],
   "source": [
    "import Control.Applicative (liftA3)\n",
    "\n",
    "stops :: String\n",
    "stops = \"pbtdkg\"\n",
    "\n",
    "vowels :: String\n",
    "vowels = \"aeiou\"\n",
    "\n",
    "combos :: [a] -> [b] -> [c] -> [(a, b, c)]\n",
    "combos = liftA3 (,,)\n",
    "\n",
    "combos [1, 2] [3, 4] [5, 6]"
   ]
  }
 ],
 "metadata": {
  "kernelspec": {
   "display_name": "Haskell",
   "language": "haskell",
   "name": "haskell"
  },
  "language_info": {
   "codemirror_mode": "ihaskell",
   "file_extension": ".hs",
   "name": "haskell",
   "pygments_lexer": "Haskell",
   "version": "8.6.5"
  }
 },
 "nbformat": 4,
 "nbformat_minor": 4
}
